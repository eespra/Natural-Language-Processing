{
  "cells": [
    {
      "cell_type": "markdown",
      "metadata": {
        "id": "view-in-github",
        "colab_type": "text"
      },
      "source": [
        "<a href=\"https://colab.research.google.com/github/eespra/Natural-Language-Processing/blob/main/Feature%20Engineering/Pre-Processsing.ipynb\" target=\"_parent\"><img src=\"https://colab.research.google.com/assets/colab-badge.svg\" alt=\"Open In Colab\"/></a>"
      ]
    },
    {
      "cell_type": "markdown",
      "metadata": {
        "id": "3cfCXWzzuZKE"
      },
      "source": [
        "# <font color = 'indian red'> Pre-processing/Feature Engineering\n"
      ]
    },
    {
      "cell_type": "markdown",
      "metadata": {
        "id": "12773301-f940-4545-ac8e-8545ed6c964b"
      },
      "source": [
        "# <font color = 'indian red'> **Install/Import Modules**"
      ]
    },
    {
      "cell_type": "code",
      "execution_count": null,
      "metadata": {
        "execution": {
          "iopub.execute_input": "2022-09-25T17:30:11.718257Z",
          "iopub.status.busy": "2022-09-25T17:30:11.718037Z",
          "iopub.status.idle": "2022-09-25T17:30:11.723423Z",
          "shell.execute_reply": "2022-09-25T17:30:11.722953Z",
          "shell.execute_reply.started": "2022-09-25T17:30:11.718219Z"
        },
        "id": "15e47125-bc59-43e4-9265-efecb2a1c00f",
        "tags": [],
        "colab": {
          "base_uri": "https://localhost:8080/"
        },
        "outputId": "87905061-a9ff-47ef-874b-087489974376"
      },
      "outputs": [
        {
          "output_type": "stream",
          "name": "stdout",
          "text": [
            "Running on Colab\n"
          ]
        }
      ],
      "source": [
        "if 'google.colab' in str(get_ipython()):\n",
        "    print('Running on Colab')\n",
        "else:\n",
        "    print('Not Running on Colab')"
      ]
    },
    {
      "cell_type": "code",
      "execution_count": null,
      "metadata": {
        "execution": {
          "iopub.execute_input": "2022-09-25T17:30:13.094523Z",
          "iopub.status.busy": "2022-09-25T17:30:13.094325Z",
          "iopub.status.idle": "2022-09-25T17:30:13.097566Z",
          "shell.execute_reply": "2022-09-25T17:30:13.096998Z",
          "shell.execute_reply.started": "2022-09-25T17:30:13.094509Z"
        },
        "id": "96a03b3c-53a5-4478-b864-e8a735f1f614",
        "tags": [],
        "colab": {
          "base_uri": "https://localhost:8080/"
        },
        "outputId": "7d7bd3d3-6ea0-411d-dba1-955f55e16163"
      },
      "outputs": [
        {
          "output_type": "stream",
          "name": "stdout",
          "text": [
            "\u001b[?25l     \u001b[90m━━━━━━━━━━━━━━━━━━━━━━━━━━━━━━━━━━━━━━━━\u001b[0m \u001b[32m0.0/6.7 MB\u001b[0m \u001b[31m?\u001b[0m eta \u001b[36m-:--:--\u001b[0m\r\u001b[2K     \u001b[91m━━━━━━━━━━━━━━━━━━━━━\u001b[0m\u001b[91m╸\u001b[0m\u001b[90m━━━━━━━━━━━━━━━━━━\u001b[0m \u001b[32m3.6/6.7 MB\u001b[0m \u001b[31m108.7 MB/s\u001b[0m eta \u001b[36m0:00:01\u001b[0m\r\u001b[2K     \u001b[91m━━━━━━━━━━━━━━━━━━━━━━━━━━━━━━━\u001b[0m\u001b[90m╺\u001b[0m\u001b[90m━━━━━━━━\u001b[0m \u001b[32m5.2/6.7 MB\u001b[0m \u001b[31m126.3 MB/s\u001b[0m eta \u001b[36m0:00:01\u001b[0m\r\u001b[2K     \u001b[91m━━━━━━━━━━━━━━━━━━━━━━━━━━━━━━━━━━━━━━━\u001b[0m\u001b[91m╸\u001b[0m \u001b[32m6.7/6.7 MB\u001b[0m \u001b[31m71.4 MB/s\u001b[0m eta \u001b[36m0:00:01\u001b[0m\r\u001b[2K     \u001b[90m━━━━━━━━━━━━━━━━━━━━━━━━━━━━━━━━━━━━━━━━\u001b[0m \u001b[32m6.7/6.7 MB\u001b[0m \u001b[31m56.1 MB/s\u001b[0m eta \u001b[36m0:00:00\u001b[0m\n",
            "\u001b[?25h\u001b[31mERROR: pip's dependency resolver does not currently take into account all the packages that are installed. This behaviour is the source of the following dependency conflicts.\n",
            "en-core-web-sm 3.4.1 requires spacy<3.5.0,>=3.4.0, but you have spacy 3.5.0 which is incompatible.\u001b[0m\u001b[31m\n",
            "\u001b[0m"
          ]
        }
      ],
      "source": [
        "if 'google.colab' in str(get_ipython()):\n",
        "    !pip install  -U spacy  -q"
      ]
    },
    {
      "cell_type": "code",
      "execution_count": null,
      "metadata": {
        "execution": {
          "iopub.execute_input": "2022-09-25T17:30:19.802075Z",
          "iopub.status.busy": "2022-09-25T17:30:19.801789Z",
          "iopub.status.idle": "2022-09-25T17:30:19.804799Z",
          "shell.execute_reply": "2022-09-25T17:30:19.804440Z",
          "shell.execute_reply.started": "2022-09-25T17:30:19.802059Z"
        },
        "id": "7a9a863b-d87c-4df6-bdf3-b30aa695f846",
        "tags": [],
        "colab": {
          "base_uri": "https://localhost:8080/"
        },
        "outputId": "f4ce8eb7-77ce-4a6e-c42b-a40048901363"
      },
      "outputs": [
        {
          "output_type": "stream",
          "name": "stderr",
          "text": [
            "/usr/local/lib/python3.8/dist-packages/torch/cuda/__init__.py:497: UserWarning: Can't initialize NVML\n",
            "  warnings.warn(\"Can't initialize NVML\")\n"
          ]
        }
      ],
      "source": [
        "import spacy\n",
        "import pandas as pd\n",
        "from pathlib import Path\n",
        "import sys\n",
        "import re\n",
        "import joblib"
      ]
    },
    {
      "cell_type": "code",
      "execution_count": null,
      "metadata": {
        "execution": {
          "iopub.execute_input": "2022-09-25T17:30:21.096045Z",
          "iopub.status.busy": "2022-09-25T17:30:21.095846Z",
          "iopub.status.idle": "2022-09-25T17:30:21.102125Z",
          "shell.execute_reply": "2022-09-25T17:30:21.101793Z",
          "shell.execute_reply.started": "2022-09-25T17:30:21.096032Z"
        },
        "id": "drn3S9CriepX",
        "tags": [],
        "colab": {
          "base_uri": "https://localhost:8080/",
          "height": 35
        },
        "outputId": "a87b831c-cd67-4ac1-b0f2-9e082bb80b06"
      },
      "outputs": [
        {
          "output_type": "execute_result",
          "data": {
            "text/plain": [
              "'3.4.4'"
            ],
            "application/vnd.google.colaboratory.intrinsic+json": {
              "type": "string"
            }
          },
          "metadata": {},
          "execution_count": 5
        }
      ],
      "source": [
        "spacy.__version__"
      ]
    },
    {
      "cell_type": "code",
      "source": [
        "%load_ext autoreload\n",
        "%autoreload 2"
      ],
      "metadata": {
        "id": "fik0Nd3zo8oZ"
      },
      "execution_count": null,
      "outputs": []
    },
    {
      "cell_type": "markdown",
      "metadata": {
        "id": "a43e7e8e-42fb-48bb-92ee-7664bba37482"
      },
      "source": [
        "# <font color = 'indian red'>**Specify Project Folder Location**"
      ]
    },
    {
      "cell_type": "code",
      "execution_count": null,
      "metadata": {
        "colab": {
          "base_uri": "https://localhost:8080/"
        },
        "execution": {
          "iopub.execute_input": "2022-09-24T20:02:12.918185Z",
          "iopub.status.busy": "2022-09-24T20:02:12.917782Z",
          "iopub.status.idle": "2022-09-24T20:02:12.921469Z",
          "shell.execute_reply": "2022-09-24T20:02:12.920872Z",
          "shell.execute_reply.started": "2022-09-24T20:02:12.918148Z"
        },
        "id": "59e12d1e-f461-4178-8ece-9b95cf673570",
        "outputId": "fb1aa2e5-825e-46b6-e253-b6fcaa936917",
        "tags": []
      },
      "outputs": [
        {
          "output_type": "stream",
          "name": "stdout",
          "text": [
            "Mounted at /content/drive\n"
          ]
        }
      ],
      "source": [
        "if 'google.colab' in str(get_ipython()):\n",
        "    from google.colab import drive\n",
        "    drive.mount('/content/drive')"
      ]
    },
    {
      "cell_type": "code",
      "execution_count": null,
      "metadata": {
        "execution": {
          "iopub.execute_input": "2022-09-24T20:02:12.922684Z",
          "iopub.status.busy": "2022-09-24T20:02:12.922320Z",
          "iopub.status.idle": "2022-09-24T20:02:12.926124Z",
          "shell.execute_reply": "2022-09-24T20:02:12.925656Z",
          "shell.execute_reply.started": "2022-09-24T20:02:12.922664Z"
        },
        "id": "d371ec9d-8440-41fa-b535-ba2b028f477f",
        "tags": []
      },
      "outputs": [],
      "source": [
        "if 'google.colab' in str(get_ipython()):\n",
        "    base_folder = Path('/content/drive/MyDrive/data/')\n",
        "else:\n",
        "    base_folder = Path('/home/harpreet/Insync/google_drive_shaannoor/data/')"
      ]
    },
    {
      "cell_type": "code",
      "execution_count": null,
      "metadata": {
        "execution": {
          "iopub.execute_input": "2022-09-24T20:52:39.665944Z",
          "iopub.status.busy": "2022-09-24T20:52:39.665715Z",
          "iopub.status.idle": "2022-09-24T20:52:39.688510Z",
          "shell.execute_reply": "2022-09-24T20:52:39.687856Z",
          "shell.execute_reply.started": "2022-09-24T20:52:39.665930Z"
        },
        "id": "46473c1e-a70c-4f30-b0b4-baafcfc9dccf",
        "tags": []
      },
      "outputs": [],
      "source": [
        "data_folder = base_folder/'datasets/'\n",
        "archive_folder = base_folder/'archive'\n",
        "custom_function_folder = base_folder/'custom-functions'"
      ]
    },
    {
      "cell_type": "code",
      "execution_count": null,
      "metadata": {
        "execution": {
          "iopub.execute_input": "2022-09-24T20:02:12.930925Z",
          "iopub.status.busy": "2022-09-24T20:02:12.930555Z",
          "iopub.status.idle": "2022-09-24T20:02:12.935802Z",
          "shell.execute_reply": "2022-09-24T20:02:12.935459Z",
          "shell.execute_reply.started": "2022-09-24T20:02:12.930904Z"
        },
        "id": "b8604b77-87e5-443b-a124-ef0675c20e9c",
        "tags": []
      },
      "outputs": [],
      "source": [
        "sys.path.append(str(custom_function_folder))"
      ]
    },
    {
      "cell_type": "code",
      "execution_count": null,
      "metadata": {
        "execution": {
          "iopub.execute_input": "2022-09-24T20:02:12.936451Z",
          "iopub.status.busy": "2022-09-24T20:02:12.936311Z",
          "iopub.status.idle": "2022-09-24T20:02:12.939900Z",
          "shell.execute_reply": "2022-09-24T20:02:12.939328Z",
          "shell.execute_reply.started": "2022-09-24T20:02:12.936438Z"
        },
        "id": "b7e70234-a8a2-42eb-839f-0688b0509cf7",
        "tags": [],
        "colab": {
          "base_uri": "https://localhost:8080/"
        },
        "outputId": "69ec50f7-9dd4-4040-a080-34d024d73b91"
      },
      "outputs": [
        {
          "output_type": "execute_result",
          "data": {
            "text/plain": [
              "['/content',\n",
              " '/env/python',\n",
              " '/usr/lib/python38.zip',\n",
              " '/usr/lib/python3.8',\n",
              " '/usr/lib/python3.8/lib-dynload',\n",
              " '',\n",
              " '/usr/local/lib/python3.8/dist-packages',\n",
              " '/usr/lib/python3/dist-packages',\n",
              " '/usr/local/lib/python3.8/dist-packages/IPython/extensions',\n",
              " '/root/.ipython',\n",
              " '/content/drive/MyDrive/data/custom-functions']"
            ]
          },
          "metadata": {},
          "execution_count": 11
        }
      ],
      "source": [
        "sys.path"
      ]
    },
    {
      "cell_type": "code",
      "execution_count": null,
      "metadata": {
        "execution": {
          "iopub.execute_input": "2022-09-24T20:02:13.455887Z",
          "iopub.status.busy": "2022-09-24T20:02:13.455757Z",
          "iopub.status.idle": "2022-09-24T20:02:13.480330Z",
          "shell.execute_reply": "2022-09-24T20:02:13.479982Z",
          "shell.execute_reply.started": "2022-09-24T20:02:13.455875Z"
        },
        "id": "479018b0-b739-4a16-851d-d43178a2b2f8",
        "tags": [],
        "colab": {
          "base_uri": "https://localhost:8080/"
        },
        "outputId": "4c1dd1e2-cee8-4ecc-fddf-d1bc1795da80"
      },
      "outputs": [
        {
          "output_type": "stream",
          "name": "stdout",
          "text": [
            "/usr/local/lib/python3.8/dist-packages/torch/cuda/__init__.py:497: UserWarning: Can't initialize NVML\n",
            "  warnings.warn(\"Can't initialize NVML\")\n",
            "2023-02-13 03:53:38.051787: W tensorflow/compiler/xla/stream_executor/platform/default/dso_loader.cc:64] Could not load dynamic library 'libnvinfer.so.7'; dlerror: libnvinfer.so.7: cannot open shared object file: No such file or directory; LD_LIBRARY_PATH: /usr/local/nvidia/lib:/usr/local/nvidia/lib64\n",
            "2023-02-13 03:53:38.051867: W tensorflow/compiler/xla/stream_executor/platform/default/dso_loader.cc:64] Could not load dynamic library 'libnvinfer_plugin.so.7'; dlerror: libnvinfer_plugin.so.7: cannot open shared object file: No such file or directory; LD_LIBRARY_PATH: /usr/local/nvidia/lib:/usr/local/nvidia/lib64\n",
            "2023-02-13 03:53:38.051888: W tensorflow/compiler/tf2tensorrt/utils/py_utils.cc:38] TF-TRT Warning: Cannot dlopen some TensorRT libraries. If you would like to use Nvidia GPU with TensorRT, please make sure the missing libraries mentioned above are installed properly.\n",
            "2023-02-13 03:53:39.293542: E tensorflow/compiler/xla/stream_executor/cuda/cuda_driver.cc:267] failed call to cuInit: CUDA_ERROR_NO_DEVICE: no CUDA-capable device is detected\n",
            "Looking in indexes: https://pypi.org/simple, https://us-python.pkg.dev/colab-wheels/public/simple/\n",
            "Collecting en-core-web-sm==3.5.0\n",
            "  Downloading https://github.com/explosion/spacy-models/releases/download/en_core_web_sm-3.5.0/en_core_web_sm-3.5.0-py3-none-any.whl (12.8 MB)\n",
            "\u001b[2K     \u001b[90m━━━━━━━━━━━━━━━━━━━━━━━━━━━━━━━━━━━━━━━\u001b[0m \u001b[32m12.8/12.8 MB\u001b[0m \u001b[31m109.2 MB/s\u001b[0m eta \u001b[36m0:00:00\u001b[0m\n",
            "\u001b[?25hRequirement already satisfied: spacy<3.6.0,>=3.5.0 in /usr/local/lib/python3.8/dist-packages (from en-core-web-sm==3.5.0) (3.5.0)\n",
            "Requirement already satisfied: numpy>=1.15.0 in /usr/local/lib/python3.8/dist-packages (from spacy<3.6.0,>=3.5.0->en-core-web-sm==3.5.0) (1.21.6)\n",
            "Requirement already satisfied: catalogue<2.1.0,>=2.0.6 in /usr/local/lib/python3.8/dist-packages (from spacy<3.6.0,>=3.5.0->en-core-web-sm==3.5.0) (2.0.8)\n",
            "Requirement already satisfied: tqdm<5.0.0,>=4.38.0 in /usr/local/lib/python3.8/dist-packages (from spacy<3.6.0,>=3.5.0->en-core-web-sm==3.5.0) (4.64.1)\n",
            "Requirement already satisfied: pydantic!=1.8,!=1.8.1,<1.11.0,>=1.7.4 in /usr/local/lib/python3.8/dist-packages (from spacy<3.6.0,>=3.5.0->en-core-web-sm==3.5.0) (1.10.4)\n",
            "Requirement already satisfied: spacy-loggers<2.0.0,>=1.0.0 in /usr/local/lib/python3.8/dist-packages (from spacy<3.6.0,>=3.5.0->en-core-web-sm==3.5.0) (1.0.4)\n",
            "Requirement already satisfied: spacy-legacy<3.1.0,>=3.0.11 in /usr/local/lib/python3.8/dist-packages (from spacy<3.6.0,>=3.5.0->en-core-web-sm==3.5.0) (3.0.12)\n",
            "Requirement already satisfied: langcodes<4.0.0,>=3.2.0 in /usr/local/lib/python3.8/dist-packages (from spacy<3.6.0,>=3.5.0->en-core-web-sm==3.5.0) (3.3.0)\n",
            "Requirement already satisfied: cymem<2.1.0,>=2.0.2 in /usr/local/lib/python3.8/dist-packages (from spacy<3.6.0,>=3.5.0->en-core-web-sm==3.5.0) (2.0.7)\n",
            "Requirement already satisfied: srsly<3.0.0,>=2.4.3 in /usr/local/lib/python3.8/dist-packages (from spacy<3.6.0,>=3.5.0->en-core-web-sm==3.5.0) (2.4.5)\n",
            "Requirement already satisfied: setuptools in /usr/local/lib/python3.8/dist-packages (from spacy<3.6.0,>=3.5.0->en-core-web-sm==3.5.0) (57.4.0)\n",
            "Requirement already satisfied: pathy>=0.10.0 in /usr/local/lib/python3.8/dist-packages (from spacy<3.6.0,>=3.5.0->en-core-web-sm==3.5.0) (0.10.1)\n",
            "Requirement already satisfied: jinja2 in /usr/local/lib/python3.8/dist-packages (from spacy<3.6.0,>=3.5.0->en-core-web-sm==3.5.0) (2.11.3)\n",
            "Requirement already satisfied: packaging>=20.0 in /usr/local/lib/python3.8/dist-packages (from spacy<3.6.0,>=3.5.0->en-core-web-sm==3.5.0) (23.0)\n",
            "Requirement already satisfied: wasabi<1.2.0,>=0.9.1 in /usr/local/lib/python3.8/dist-packages (from spacy<3.6.0,>=3.5.0->en-core-web-sm==3.5.0) (0.10.1)\n",
            "Requirement already satisfied: requests<3.0.0,>=2.13.0 in /usr/local/lib/python3.8/dist-packages (from spacy<3.6.0,>=3.5.0->en-core-web-sm==3.5.0) (2.25.1)\n",
            "Requirement already satisfied: preshed<3.1.0,>=3.0.2 in /usr/local/lib/python3.8/dist-packages (from spacy<3.6.0,>=3.5.0->en-core-web-sm==3.5.0) (3.0.8)\n",
            "Requirement already satisfied: thinc<8.2.0,>=8.1.0 in /usr/local/lib/python3.8/dist-packages (from spacy<3.6.0,>=3.5.0->en-core-web-sm==3.5.0) (8.1.7)\n",
            "Requirement already satisfied: murmurhash<1.1.0,>=0.28.0 in /usr/local/lib/python3.8/dist-packages (from spacy<3.6.0,>=3.5.0->en-core-web-sm==3.5.0) (1.0.9)\n",
            "Requirement already satisfied: smart-open<7.0.0,>=5.2.1 in /usr/local/lib/python3.8/dist-packages (from spacy<3.6.0,>=3.5.0->en-core-web-sm==3.5.0) (6.3.0)\n",
            "Requirement already satisfied: typer<0.8.0,>=0.3.0 in /usr/local/lib/python3.8/dist-packages (from spacy<3.6.0,>=3.5.0->en-core-web-sm==3.5.0) (0.7.0)\n",
            "Requirement already satisfied: typing-extensions>=4.2.0 in /usr/local/lib/python3.8/dist-packages (from pydantic!=1.8,!=1.8.1,<1.11.0,>=1.7.4->spacy<3.6.0,>=3.5.0->en-core-web-sm==3.5.0) (4.4.0)\n",
            "Requirement already satisfied: urllib3<1.27,>=1.21.1 in /usr/local/lib/python3.8/dist-packages (from requests<3.0.0,>=2.13.0->spacy<3.6.0,>=3.5.0->en-core-web-sm==3.5.0) (1.24.3)\n",
            "Requirement already satisfied: idna<3,>=2.5 in /usr/local/lib/python3.8/dist-packages (from requests<3.0.0,>=2.13.0->spacy<3.6.0,>=3.5.0->en-core-web-sm==3.5.0) (2.10)\n",
            "Requirement already satisfied: chardet<5,>=3.0.2 in /usr/local/lib/python3.8/dist-packages (from requests<3.0.0,>=2.13.0->spacy<3.6.0,>=3.5.0->en-core-web-sm==3.5.0) (4.0.0)\n",
            "Requirement already satisfied: certifi>=2017.4.17 in /usr/local/lib/python3.8/dist-packages (from requests<3.0.0,>=2.13.0->spacy<3.6.0,>=3.5.0->en-core-web-sm==3.5.0) (2022.12.7)\n",
            "Requirement already satisfied: blis<0.8.0,>=0.7.8 in /usr/local/lib/python3.8/dist-packages (from thinc<8.2.0,>=8.1.0->spacy<3.6.0,>=3.5.0->en-core-web-sm==3.5.0) (0.7.9)\n",
            "Requirement already satisfied: confection<1.0.0,>=0.0.1 in /usr/local/lib/python3.8/dist-packages (from thinc<8.2.0,>=8.1.0->spacy<3.6.0,>=3.5.0->en-core-web-sm==3.5.0) (0.0.4)\n",
            "Requirement already satisfied: click<9.0.0,>=7.1.1 in /usr/local/lib/python3.8/dist-packages (from typer<0.8.0,>=0.3.0->spacy<3.6.0,>=3.5.0->en-core-web-sm==3.5.0) (7.1.2)\n",
            "Requirement already satisfied: MarkupSafe>=0.23 in /usr/local/lib/python3.8/dist-packages (from jinja2->spacy<3.6.0,>=3.5.0->en-core-web-sm==3.5.0) (2.0.1)\n",
            "Installing collected packages: en-core-web-sm\n",
            "  Attempting uninstall: en-core-web-sm\n",
            "    Found existing installation: en-core-web-sm 3.4.1\n",
            "    Uninstalling en-core-web-sm-3.4.1:\n",
            "      Successfully uninstalled en-core-web-sm-3.4.1\n",
            "Successfully installed en-core-web-sm-3.5.0\n",
            "\u001b[38;5;2m✔ Download and installation successful\u001b[0m\n",
            "You can now load the package via spacy.load('en_core_web_sm')\n"
          ]
        }
      ],
      "source": [
        "if 'google.colab' in str(get_ipython()):\n",
        "    !python -m spacy download en_core_web_sm"
      ]
    },
    {
      "cell_type": "markdown",
      "metadata": {
        "id": "rh2s542civAU"
      },
      "source": [
        "# <font color ='indian red'> ** Download data and combine data from multiple files into a single dataframe.**\n",
        "\n",
        "In this task you have to download the moview reviews from the following link:\n",
        "https://www.cs.cornell.edu/people/pabo/movie-review-data/scale_whole_review.tar.gz\n",
        "<br>\n",
        "\n",
        "**Instructions:** <br>\n",
        "\n",
        "- The data has movie reviews from four different reviewers:\n",
        "(1) Dennis+Schwartz,  (2) James+Berardinelli, (3) Scott+Renshaw and (4) Steve+Rhodes.\n",
        "\n",
        "- extract the reviews of  the four reviewers in a single dataframe.\n",
        "- The final dataframe should have two columns (1) Moview Review and (2) Reviewer Name.\n"
      ]
    },
    {
      "cell_type": "code",
      "source": [
        "file = archive_folder/'scale_whole_review.tar.gz'\n",
        "url = 'https://www.cs.cornell.edu/people/pabo/movie-review-data/scale_whole_review.tar.gz'\n",
        "!wget {url} -P {archive_folder} -O {file}"
      ],
      "metadata": {
        "colab": {
          "base_uri": "https://localhost:8080/"
        },
        "id": "4kPx15maiTjF",
        "outputId": "f737c33b-eb29-441d-8cd5-31147bddc59f"
      },
      "execution_count": null,
      "outputs": [
        {
          "output_type": "stream",
          "name": "stdout",
          "text": [
            "--2023-02-13 03:53:46--  https://www.cs.cornell.edu/people/pabo/movie-review-data/scale_whole_review.tar.gz\n",
            "Resolving www.cs.cornell.edu (www.cs.cornell.edu)... 132.236.207.36\n",
            "Connecting to www.cs.cornell.edu (www.cs.cornell.edu)|132.236.207.36|:443... connected.\n",
            "HTTP request sent, awaiting response... 200 OK\n",
            "Length: 8853204 (8.4M) [application/x-gzip]\n",
            "Saving to: ‘/content/drive/MyDrive/data/archive/scale_whole_review.tar.gz’\n",
            "\n",
            "scale_whole_review. 100%[===================>]   8.44M  9.83MB/s    in 0.9s    \n",
            "\n",
            "2023-02-13 03:53:47 (9.83 MB/s) - ‘/content/drive/MyDrive/data/archive/scale_whole_review.tar.gz’ saved [8853204/8853204]\n",
            "\n"
          ]
        }
      ]
    },
    {
      "cell_type": "code",
      "source": [
        "# list files of google drive where data was downloaded\n",
        "for entries in archive_folder.iterdir():\n",
        "  if 'tar' in entries.name:\n",
        "    print(entries.name)"
      ],
      "metadata": {
        "colab": {
          "base_uri": "https://localhost:8080/"
        },
        "id": "forrGby9ih2D",
        "outputId": "96574a4e-3398-4a97-aa0e-8110ba34a7c0"
      },
      "execution_count": null,
      "outputs": [
        {
          "output_type": "stream",
          "name": "stdout",
          "text": [
            "scale_whole_review.tar.gz\n"
          ]
        }
      ]
    },
    {
      "cell_type": "code",
      "source": [
        "# alternatively we can check directly if the file exists in the archive folder:\n",
        "(archive_folder/'scale_whole_review.tar.gz').exists()"
      ],
      "metadata": {
        "colab": {
          "base_uri": "https://localhost:8080/"
        },
        "id": "jlei6umIipQx",
        "outputId": "fb26c384-7cf4-4068-f15f-50cd5bfd770e"
      },
      "execution_count": null,
      "outputs": [
        {
          "output_type": "execute_result",
          "data": {
            "text/plain": [
              "True"
            ]
          },
          "metadata": {},
          "execution_count": 15
        }
      ]
    },
    {
      "cell_type": "code",
      "source": [
        "import zipfile\n",
        "import tarfile"
      ],
      "metadata": {
        "id": "a9NIzW9r3MvP"
      },
      "execution_count": null,
      "outputs": []
    },
    {
      "cell_type": "code",
      "source": [
        "#check the content of tar file\n",
        "file = archive_folder / 'scale_whole_review.tar.gz'\n",
        "with  tarfile.open(file, 'r') as tar:\n",
        "  tar_names = tar.getnames()"
      ],
      "metadata": {
        "id": "hzjRzCyOi2Jp"
      },
      "execution_count": null,
      "outputs": []
    },
    {
      "cell_type": "code",
      "source": [
        "tar_names[0:10]"
      ],
      "metadata": {
        "colab": {
          "base_uri": "https://localhost:8080/"
        },
        "id": "siiLuOSS3xw8",
        "outputId": "680a4bf1-c4e8-4785-922a-3ee3411604af"
      },
      "execution_count": null,
      "outputs": [
        {
          "output_type": "execute_result",
          "data": {
            "text/plain": [
              "['scaledata.README.1.0.txt',\n",
              " 'scale_whole_review/Dennis+Schwartz',\n",
              " 'scale_whole_review/Dennis+Schwartz/txt.parag',\n",
              " 'scale_whole_review/Dennis+Schwartz/txt.parag/16748.txt',\n",
              " 'scale_whole_review/Dennis+Schwartz/txt.parag/17108.txt',\n",
              " 'scale_whole_review/Dennis+Schwartz/txt.parag/17109.txt',\n",
              " 'scale_whole_review/Dennis+Schwartz/txt.parag/17110.txt',\n",
              " 'scale_whole_review/Dennis+Schwartz/txt.parag/17111.txt',\n",
              " 'scale_whole_review/Dennis+Schwartz/txt.parag/17116.txt',\n",
              " 'scale_whole_review/Dennis+Schwartz/txt.parag/17117.txt']"
            ]
          },
          "metadata": {},
          "execution_count": 18
        }
      ]
    },
    {
      "cell_type": "code",
      "source": [
        "file = archive_folder / 'scale_whole_review.tar.gz'\n",
        "with  tarfile.open(file, 'r') as tar:\n",
        "  tar.extractall(path = data_folder)"
      ],
      "metadata": {
        "id": "4NxRQm5p6hAc"
      },
      "execution_count": null,
      "outputs": []
    },
    {
      "cell_type": "code",
      "source": [
        "# check the content of the folder where files were extracted\n",
        "for entries in data_folder.iterdir():\n",
        "  if 'scale' in entries.name:\n",
        "    print(entries.name)"
      ],
      "metadata": {
        "colab": {
          "base_uri": "https://localhost:8080/"
        },
        "id": "u-nKqQPXhien",
        "outputId": "8735f51f-8aba-4815-ec14-1570a75790b8"
      },
      "execution_count": null,
      "outputs": [
        {
          "output_type": "stream",
          "name": "stdout",
          "text": [
            "scale_whole_review\n",
            "scaledata.README.1.0.txt\n"
          ]
        }
      ]
    },
    {
      "cell_type": "code",
      "source": [
        "for entries in (data_folder/'scale_whole_review').rglob('**'):\n",
        "  print(entries)"
      ],
      "metadata": {
        "colab": {
          "base_uri": "https://localhost:8080/"
        },
        "id": "gFllw5d6h80-",
        "outputId": "1462cb62-e359-4b61-b7a4-ce21a86eaf97"
      },
      "execution_count": null,
      "outputs": [
        {
          "output_type": "stream",
          "name": "stdout",
          "text": [
            "/content/drive/MyDrive/data/datasets/scale_whole_review\n",
            "/content/drive/MyDrive/data/datasets/scale_whole_review/Steve+Rhodes\n",
            "/content/drive/MyDrive/data/datasets/scale_whole_review/Steve+Rhodes/txt.parag\n",
            "/content/drive/MyDrive/data/datasets/scale_whole_review/Scott+Renshaw\n",
            "/content/drive/MyDrive/data/datasets/scale_whole_review/Scott+Renshaw/txt.parag\n",
            "/content/drive/MyDrive/data/datasets/scale_whole_review/James+Berardinelli\n",
            "/content/drive/MyDrive/data/datasets/scale_whole_review/James+Berardinelli/txt.parag\n",
            "/content/drive/MyDrive/data/datasets/scale_whole_review/Dennis+Schwartz\n",
            "/content/drive/MyDrive/data/datasets/scale_whole_review/Dennis+Schwartz/txt.parag\n"
          ]
        }
      ]
    },
    {
      "cell_type": "code",
      "source": [
        "(data_folder/'scale_whole_review').exists()"
      ],
      "metadata": {
        "colab": {
          "base_uri": "https://localhost:8080/"
        },
        "id": "XC6SR1rT7VLd",
        "outputId": "d34bb475-7b2c-4420-ad2e-c37706d2dbef"
      },
      "execution_count": null,
      "outputs": [
        {
          "output_type": "execute_result",
          "data": {
            "text/plain": [
              "True"
            ]
          },
          "metadata": {},
          "execution_count": 71
        }
      ]
    },
    {
      "cell_type": "code",
      "source": [
        "for entries in (data_folder/'scale_whole_review').iterdir():\n",
        "  print(entries.name)"
      ],
      "metadata": {
        "colab": {
          "base_uri": "https://localhost:8080/"
        },
        "id": "Zf_PvNj08n_2",
        "outputId": "c6189444-b74a-4310-fb99-9d3c5f87ee63"
      },
      "execution_count": null,
      "outputs": [
        {
          "output_type": "stream",
          "name": "stdout",
          "text": [
            "Steve+Rhodes\n",
            "Scott+Renshaw\n",
            "James+Berardinelli\n",
            "Dennis+Schwartz\n"
          ]
        }
      ]
    },
    {
      "cell_type": "code",
      "source": [
        "list((data_folder/'scale_whole_review').glob('*'))"
      ],
      "metadata": {
        "colab": {
          "base_uri": "https://localhost:8080/"
        },
        "id": "vNIHzsDL8voI",
        "outputId": "1e693b41-771e-4688-f002-4d2916ef571d"
      },
      "execution_count": null,
      "outputs": [
        {
          "output_type": "execute_result",
          "data": {
            "text/plain": [
              "[PosixPath('/content/drive/MyDrive/data/datasets/scale_whole_review/Steve+Rhodes'),\n",
              " PosixPath('/content/drive/MyDrive/data/datasets/scale_whole_review/Scott+Renshaw'),\n",
              " PosixPath('/content/drive/MyDrive/data/datasets/scale_whole_review/James+Berardinelli'),\n",
              " PosixPath('/content/drive/MyDrive/data/datasets/scale_whole_review/Dennis+Schwartz')]"
            ]
          },
          "metadata": {},
          "execution_count": 73
        }
      ]
    },
    {
      "cell_type": "code",
      "source": [
        "# Create an empty dataframe\n",
        "combined_reviews=pd.DataFrame()\n",
        "# Add path to folder\n",
        "path = data_folder / \"scale_whole_review\"\n",
        "# Iterate through the path\n",
        "for reviewers in path.iterdir():\n",
        "  # Create an empty list to add all reviews\n",
        "  reviews=[]\n",
        "  # Add txt.parag directory to existing path\n",
        "  file = reviewers /\"txt.parag\"\n",
        "  for text_file in file.iterdir():\n",
        "    # open, read the text file and append to reviews list\n",
        "    with open(text_file, 'r', encoding=\"ISO-8859-1\") as f:\n",
        "      reviews.append(f.read())\n",
        "  # Create an temporary dataframe for adding reviews of a particular reviewer\n",
        "  temp_df=pd.DataFrame()\n",
        "  # Add reviews to temporary dataframe\n",
        "  temp_df[\"Review\"]=reviews\n",
        "  temp_df[\"Reviewer\"] = [reviewers.name]*(len(reviews))\n",
        "  # Concatenate the temporary review dataframe with movie_reviews dataframe\n",
        "  combined_reviews=pd.concat([combined_reviews,temp_df], ignore_index=True)\n",
        "\n",
        "combined_reviews"
      ],
      "metadata": {
        "colab": {
          "base_uri": "https://localhost:8080/",
          "height": 142
        },
        "id": "LZGMTjqMmIcS",
        "outputId": "d9999d78-fbf8-4852-e820-0bf846ffdbc1"
      },
      "execution_count": null,
      "outputs": [
        {
          "output_type": "execute_result",
          "data": {
            "text/plain": [
              "                                                 Review         Reviewer\n",
              "0     RAN, for its 15th anniversary, is being re-rel...     Steve+Rhodes\n",
              "1     This is the first time that I've ever started ...     Steve+Rhodes\n",
              "2     Director Harold Ramis (ANALYZE THIS and GROUND...     Steve+Rhodes\n",
              "3     ROCK 'N' ROLL FRANKENSTEIN's writer and direct...     Steve+Rhodes\n",
              "4     Robert Altman's DR. T AND THE WOMEN is an exce...     Steve+Rhodes\n",
              "...                                                 ...              ...\n",
              "5001  COOKIE'S FORTUNE (director: Robert Altman; cas...  Dennis+Schwartz\n",
              "5002  AGANTUK (director: Satyajit Ray; cast: Depanka...  Dennis+Schwartz\n",
              "5003  IDIOTERNE (director: Lars von Trier; cast: Bod...  Dennis+Schwartz\n",
              "5004  LOVE IS THE DEVIL (director: John Maybury; Der...  Dennis+Schwartz\n",
              "5005  La Religieuse (director: Jacques Rivette; cast...  Dennis+Schwartz\n",
              "\n",
              "[5006 rows x 2 columns]"
            ],
            "text/html": [
              "\n",
              "  <div id=\"df-84c54035-5c6f-41e2-85d6-92ec0199497a\">\n",
              "    <div class=\"colab-df-container\">\n",
              "      <div>\n",
              "<style scoped>\n",
              "    .dataframe tbody tr th:only-of-type {\n",
              "        vertical-align: middle;\n",
              "    }\n",
              "\n",
              "    .dataframe tbody tr th {\n",
              "        vertical-align: top;\n",
              "    }\n",
              "\n",
              "    .dataframe thead th {\n",
              "        text-align: right;\n",
              "    }\n",
              "</style>\n",
              "<table border=\"1\" class=\"dataframe\">\n",
              "  <thead>\n",
              "    <tr style=\"text-align: right;\">\n",
              "      <th></th>\n",
              "      <th>Review</th>\n",
              "      <th>Reviewer</th>\n",
              "    </tr>\n",
              "  </thead>\n",
              "  <tbody>\n",
              "    <tr>\n",
              "      <th>0</th>\n",
              "      <td>RAN, for its 15th anniversary, is being re-rel...</td>\n",
              "      <td>Steve+Rhodes</td>\n",
              "    </tr>\n",
              "    <tr>\n",
              "      <th>1</th>\n",
              "      <td>This is the first time that I've ever started ...</td>\n",
              "      <td>Steve+Rhodes</td>\n",
              "    </tr>\n",
              "    <tr>\n",
              "      <th>2</th>\n",
              "      <td>Director Harold Ramis (ANALYZE THIS and GROUND...</td>\n",
              "      <td>Steve+Rhodes</td>\n",
              "    </tr>\n",
              "    <tr>\n",
              "      <th>3</th>\n",
              "      <td>ROCK 'N' ROLL FRANKENSTEIN's writer and direct...</td>\n",
              "      <td>Steve+Rhodes</td>\n",
              "    </tr>\n",
              "    <tr>\n",
              "      <th>4</th>\n",
              "      <td>Robert Altman's DR. T AND THE WOMEN is an exce...</td>\n",
              "      <td>Steve+Rhodes</td>\n",
              "    </tr>\n",
              "    <tr>\n",
              "      <th>...</th>\n",
              "      <td>...</td>\n",
              "      <td>...</td>\n",
              "    </tr>\n",
              "    <tr>\n",
              "      <th>5001</th>\n",
              "      <td>COOKIE'S FORTUNE (director: Robert Altman; cas...</td>\n",
              "      <td>Dennis+Schwartz</td>\n",
              "    </tr>\n",
              "    <tr>\n",
              "      <th>5002</th>\n",
              "      <td>AGANTUK (director: Satyajit Ray; cast: Depanka...</td>\n",
              "      <td>Dennis+Schwartz</td>\n",
              "    </tr>\n",
              "    <tr>\n",
              "      <th>5003</th>\n",
              "      <td>IDIOTERNE (director: Lars von Trier; cast: Bod...</td>\n",
              "      <td>Dennis+Schwartz</td>\n",
              "    </tr>\n",
              "    <tr>\n",
              "      <th>5004</th>\n",
              "      <td>LOVE IS THE DEVIL (director: John Maybury; Der...</td>\n",
              "      <td>Dennis+Schwartz</td>\n",
              "    </tr>\n",
              "    <tr>\n",
              "      <th>5005</th>\n",
              "      <td>La Religieuse (director: Jacques Rivette; cast...</td>\n",
              "      <td>Dennis+Schwartz</td>\n",
              "    </tr>\n",
              "  </tbody>\n",
              "</table>\n",
              "<p>5006 rows × 2 columns</p>\n",
              "</div>\n",
              "      <button class=\"colab-df-convert\" onclick=\"convertToInteractive('df-84c54035-5c6f-41e2-85d6-92ec0199497a')\"\n",
              "              title=\"Convert this dataframe to an interactive table.\"\n",
              "              style=\"display:none;\">\n",
              "        \n",
              "  <svg xmlns=\"http://www.w3.org/2000/svg\" height=\"24px\"viewBox=\"0 0 24 24\"\n",
              "       width=\"24px\">\n",
              "    <path d=\"M0 0h24v24H0V0z\" fill=\"none\"/>\n",
              "    <path d=\"M18.56 5.44l.94 2.06.94-2.06 2.06-.94-2.06-.94-.94-2.06-.94 2.06-2.06.94zm-11 1L8.5 8.5l.94-2.06 2.06-.94-2.06-.94L8.5 2.5l-.94 2.06-2.06.94zm10 10l.94 2.06.94-2.06 2.06-.94-2.06-.94-.94-2.06-.94 2.06-2.06.94z\"/><path d=\"M17.41 7.96l-1.37-1.37c-.4-.4-.92-.59-1.43-.59-.52 0-1.04.2-1.43.59L10.3 9.45l-7.72 7.72c-.78.78-.78 2.05 0 2.83L4 21.41c.39.39.9.59 1.41.59.51 0 1.02-.2 1.41-.59l7.78-7.78 2.81-2.81c.8-.78.8-2.07 0-2.86zM5.41 20L4 18.59l7.72-7.72 1.47 1.35L5.41 20z\"/>\n",
              "  </svg>\n",
              "      </button>\n",
              "      \n",
              "  <style>\n",
              "    .colab-df-container {\n",
              "      display:flex;\n",
              "      flex-wrap:wrap;\n",
              "      gap: 12px;\n",
              "    }\n",
              "\n",
              "    .colab-df-convert {\n",
              "      background-color: #E8F0FE;\n",
              "      border: none;\n",
              "      border-radius: 50%;\n",
              "      cursor: pointer;\n",
              "      display: none;\n",
              "      fill: #1967D2;\n",
              "      height: 32px;\n",
              "      padding: 0 0 0 0;\n",
              "      width: 32px;\n",
              "    }\n",
              "\n",
              "    .colab-df-convert:hover {\n",
              "      background-color: #E2EBFA;\n",
              "      box-shadow: 0px 1px 2px rgba(60, 64, 67, 0.3), 0px 1px 3px 1px rgba(60, 64, 67, 0.15);\n",
              "      fill: #174EA6;\n",
              "    }\n",
              "\n",
              "    [theme=dark] .colab-df-convert {\n",
              "      background-color: #3B4455;\n",
              "      fill: #D2E3FC;\n",
              "    }\n",
              "\n",
              "    [theme=dark] .colab-df-convert:hover {\n",
              "      background-color: #434B5C;\n",
              "      box-shadow: 0px 1px 3px 1px rgba(0, 0, 0, 0.15);\n",
              "      filter: drop-shadow(0px 1px 2px rgba(0, 0, 0, 0.3));\n",
              "      fill: #FFFFFF;\n",
              "    }\n",
              "  </style>\n",
              "\n",
              "      <script>\n",
              "        const buttonEl =\n",
              "          document.querySelector('#df-84c54035-5c6f-41e2-85d6-92ec0199497a button.colab-df-convert');\n",
              "        buttonEl.style.display =\n",
              "          google.colab.kernel.accessAllowed ? 'block' : 'none';\n",
              "\n",
              "        async function convertToInteractive(key) {\n",
              "          const element = document.querySelector('#df-84c54035-5c6f-41e2-85d6-92ec0199497a');\n",
              "          const dataTable =\n",
              "            await google.colab.kernel.invokeFunction('convertToInteractive',\n",
              "                                                     [key], {});\n",
              "          if (!dataTable) return;\n",
              "\n",
              "          const docLinkHtml = 'Like what you see? Visit the ' +\n",
              "            '<a target=\"_blank\" href=https://colab.research.google.com/notebooks/data_table.ipynb>data table notebook</a>'\n",
              "            + ' to learn more about interactive tables.';\n",
              "          element.innerHTML = '';\n",
              "          dataTable['output_type'] = 'display_data';\n",
              "          await google.colab.output.renderOutput(dataTable, element);\n",
              "          const docLink = document.createElement('div');\n",
              "          docLink.innerHTML = docLinkHtml;\n",
              "          element.appendChild(docLink);\n",
              "        }\n",
              "      </script>\n",
              "    </div>\n",
              "  </div>\n",
              "  "
            ]
          },
          "metadata": {},
          "execution_count": 74
        },
        {
          "output_type": "stream",
          "name": "stdout",
          "text": [
            "Error: Runtime no longer has a reference to this dataframe, please re-run this cell and try again.\n"
          ]
        }
      ]
    },
    {
      "cell_type": "markdown",
      "metadata": {
        "id": "UKiLpKKP8RSe"
      },
      "source": [
        "# <font color ='indian red'> Feature Engineering and Preprocessing IMDB\n",
        "\n",
        "\n",
        "- <font color = 'dodgerblue'> **PreProcessing**:</font>\n",
        "  1. Remove HTML tags and new line character (\\n)\n",
        "  2. Remove email, urls and punctuations\n",
        "\n",
        "\n",
        "- <font color = 'dodgerblue'> **Feature Engineering**\n",
        "\n",
        "  Use the `cleaned_text` column you created in the previous step and extract following features as new column.\n",
        "\n",
        "  1. number of words\n",
        "  2. number of characters\n",
        "  3. number of characters without space\n",
        "  4. average word length\n",
        "  5. count of numbers(37, 201, 20 etc.)\n",
        "\n",
        "You will use the imdb moview review dataset. The details of the data can be found from this link : https://ai.stanford.edu/~amaas/data/sentiment/.\n",
        "\n",
        "Description of the data from the above link :\n",
        "\"*This is a dataset for binary sentiment classification containing substantially more data than previous benchmark datasets. We provide a set of 25,000 highly polar movie reviews for training, and 25,000 for testing. There is additional unlabeled data for use as well. Raw text and already processed bag of words formats are provided. See the README file contained in the release for more details.*\".\n",
        "\n",
        "We extracted the data from text files and save  the train and test data as csv files. We further cleaned the dataset. <font size =4, color = 'dodgerblue'>**We will use train.csv file for this task.**</font>.\n"
      ]
    },
    {
      "cell_type": "code",
      "source": [
        "df = pd.read_csv(data_folder/ 'train.csv', index_col=0)"
      ],
      "metadata": {
        "id": "tEciDbqRC81S"
      },
      "execution_count": null,
      "outputs": []
    },
    {
      "cell_type": "code",
      "source": [
        "df.info()"
      ],
      "metadata": {
        "colab": {
          "base_uri": "https://localhost:8080/"
        },
        "id": "Kg9Qon5GDqDZ",
        "outputId": "f994d5a9-6e79-475a-c348-6d58ac8361c6"
      },
      "execution_count": null,
      "outputs": [
        {
          "output_type": "stream",
          "name": "stdout",
          "text": [
            "<class 'pandas.core.frame.DataFrame'>\n",
            "Int64Index: 25000 entries, 0 to 24999\n",
            "Data columns (total 2 columns):\n",
            " #   Column   Non-Null Count  Dtype \n",
            "---  ------   --------------  ----- \n",
            " 0   Reviews  25000 non-null  object\n",
            " 1   Labels   25000 non-null  int64 \n",
            "dtypes: int64(1), object(1)\n",
            "memory usage: 585.9+ KB\n"
          ]
        }
      ]
    },
    {
      "cell_type": "code",
      "source": [
        "df.head()"
      ],
      "metadata": {
        "colab": {
          "base_uri": "https://localhost:8080/",
          "height": 1198
        },
        "id": "zBZ0rrc3DuqJ",
        "outputId": "e582e629-9ba5-4276-ec27-05ec781acd5b"
      },
      "execution_count": null,
      "outputs": [
        {
          "output_type": "execute_result",
          "data": {
            "text/plain": [
              "                                             Reviews  Labels\n",
              "0  I think this movie would be more enjoyable if ...       1\n",
              "1  Timeless musical gem, with Gene Kelly in top f...       1\n",
              "2  I just found the IMDb and searched this film a...       1\n",
              "3  It's a short movie from David Lynch with just ...       1\n",
              "4  I dug out from my garage some old musicals and...       1"
            ],
            "text/html": [
              "\n",
              "  <div id=\"df-902debec-d6a3-4191-b6ab-c414e1aab368\">\n",
              "    <div class=\"colab-df-container\">\n",
              "      <div>\n",
              "<style scoped>\n",
              "    .dataframe tbody tr th:only-of-type {\n",
              "        vertical-align: middle;\n",
              "    }\n",
              "\n",
              "    .dataframe tbody tr th {\n",
              "        vertical-align: top;\n",
              "    }\n",
              "\n",
              "    .dataframe thead th {\n",
              "        text-align: right;\n",
              "    }\n",
              "</style>\n",
              "<table border=\"1\" class=\"dataframe\">\n",
              "  <thead>\n",
              "    <tr style=\"text-align: right;\">\n",
              "      <th></th>\n",
              "      <th>Reviews</th>\n",
              "      <th>Labels</th>\n",
              "    </tr>\n",
              "  </thead>\n",
              "  <tbody>\n",
              "    <tr>\n",
              "      <th>0</th>\n",
              "      <td>I think this movie would be more enjoyable if ...</td>\n",
              "      <td>1</td>\n",
              "    </tr>\n",
              "    <tr>\n",
              "      <th>1</th>\n",
              "      <td>Timeless musical gem, with Gene Kelly in top f...</td>\n",
              "      <td>1</td>\n",
              "    </tr>\n",
              "    <tr>\n",
              "      <th>2</th>\n",
              "      <td>I just found the IMDb and searched this film a...</td>\n",
              "      <td>1</td>\n",
              "    </tr>\n",
              "    <tr>\n",
              "      <th>3</th>\n",
              "      <td>It's a short movie from David Lynch with just ...</td>\n",
              "      <td>1</td>\n",
              "    </tr>\n",
              "    <tr>\n",
              "      <th>4</th>\n",
              "      <td>I dug out from my garage some old musicals and...</td>\n",
              "      <td>1</td>\n",
              "    </tr>\n",
              "  </tbody>\n",
              "</table>\n",
              "</div>\n",
              "      <button class=\"colab-df-convert\" onclick=\"convertToInteractive('df-902debec-d6a3-4191-b6ab-c414e1aab368')\"\n",
              "              title=\"Convert this dataframe to an interactive table.\"\n",
              "              style=\"display:none;\">\n",
              "        \n",
              "  <svg xmlns=\"http://www.w3.org/2000/svg\" height=\"24px\"viewBox=\"0 0 24 24\"\n",
              "       width=\"24px\">\n",
              "    <path d=\"M0 0h24v24H0V0z\" fill=\"none\"/>\n",
              "    <path d=\"M18.56 5.44l.94 2.06.94-2.06 2.06-.94-2.06-.94-.94-2.06-.94 2.06-2.06.94zm-11 1L8.5 8.5l.94-2.06 2.06-.94-2.06-.94L8.5 2.5l-.94 2.06-2.06.94zm10 10l.94 2.06.94-2.06 2.06-.94-2.06-.94-.94-2.06-.94 2.06-2.06.94z\"/><path d=\"M17.41 7.96l-1.37-1.37c-.4-.4-.92-.59-1.43-.59-.52 0-1.04.2-1.43.59L10.3 9.45l-7.72 7.72c-.78.78-.78 2.05 0 2.83L4 21.41c.39.39.9.59 1.41.59.51 0 1.02-.2 1.41-.59l7.78-7.78 2.81-2.81c.8-.78.8-2.07 0-2.86zM5.41 20L4 18.59l7.72-7.72 1.47 1.35L5.41 20z\"/>\n",
              "  </svg>\n",
              "      </button>\n",
              "      \n",
              "  <style>\n",
              "    .colab-df-container {\n",
              "      display:flex;\n",
              "      flex-wrap:wrap;\n",
              "      gap: 12px;\n",
              "    }\n",
              "\n",
              "    .colab-df-convert {\n",
              "      background-color: #E8F0FE;\n",
              "      border: none;\n",
              "      border-radius: 50%;\n",
              "      cursor: pointer;\n",
              "      display: none;\n",
              "      fill: #1967D2;\n",
              "      height: 32px;\n",
              "      padding: 0 0 0 0;\n",
              "      width: 32px;\n",
              "    }\n",
              "\n",
              "    .colab-df-convert:hover {\n",
              "      background-color: #E2EBFA;\n",
              "      box-shadow: 0px 1px 2px rgba(60, 64, 67, 0.3), 0px 1px 3px 1px rgba(60, 64, 67, 0.15);\n",
              "      fill: #174EA6;\n",
              "    }\n",
              "\n",
              "    [theme=dark] .colab-df-convert {\n",
              "      background-color: #3B4455;\n",
              "      fill: #D2E3FC;\n",
              "    }\n",
              "\n",
              "    [theme=dark] .colab-df-convert:hover {\n",
              "      background-color: #434B5C;\n",
              "      box-shadow: 0px 1px 3px 1px rgba(0, 0, 0, 0.15);\n",
              "      filter: drop-shadow(0px 1px 2px rgba(0, 0, 0, 0.3));\n",
              "      fill: #FFFFFF;\n",
              "    }\n",
              "  </style>\n",
              "\n",
              "      <script>\n",
              "        const buttonEl =\n",
              "          document.querySelector('#df-902debec-d6a3-4191-b6ab-c414e1aab368 button.colab-df-convert');\n",
              "        buttonEl.style.display =\n",
              "          google.colab.kernel.accessAllowed ? 'block' : 'none';\n",
              "\n",
              "        async function convertToInteractive(key) {\n",
              "          const element = document.querySelector('#df-902debec-d6a3-4191-b6ab-c414e1aab368');\n",
              "          const dataTable =\n",
              "            await google.colab.kernel.invokeFunction('convertToInteractive',\n",
              "                                                     [key], {});\n",
              "          if (!dataTable) return;\n",
              "\n",
              "          const docLinkHtml = 'Like what you see? Visit the ' +\n",
              "            '<a target=\"_blank\" href=https://colab.research.google.com/notebooks/data_table.ipynb>data table notebook</a>'\n",
              "            + ' to learn more about interactive tables.';\n",
              "          element.innerHTML = '';\n",
              "          dataTable['output_type'] = 'display_data';\n",
              "          await google.colab.output.renderOutput(dataTable, element);\n",
              "          const docLink = document.createElement('div');\n",
              "          docLink.innerHTML = docLinkHtml;\n",
              "          element.appendChild(docLink);\n",
              "        }\n",
              "      </script>\n",
              "    </div>\n",
              "  </div>\n",
              "  "
            ]
          },
          "metadata": {},
          "execution_count": 22
        },
        {
          "output_type": "stream",
          "name": "stdout",
          "text": [
            "Error: Runtime no longer has a reference to this dataframe, please re-run this cell and try again.\n"
          ]
        }
      ]
    },
    {
      "cell_type": "code",
      "source": [
        "#Remove HTML Tags and new line characters\n",
        "from bs4 import BeautifulSoup\n",
        "import re"
      ],
      "metadata": {
        "id": "n0udDVHJDxsV"
      },
      "execution_count": null,
      "outputs": []
    },
    {
      "cell_type": "code",
      "source": [
        "def basic_clean(text):\n",
        "  \"\"\"\n",
        "    This function performs basic text cleaning on an input string by removing HTML tags (if present)\n",
        "    and replacing newline and return characters with a space.\n",
        "\n",
        "    Parameters:\n",
        "    text (str): The input string to be cleaned\n",
        "\n",
        "    Returns:\n",
        "    str: The cleaned string\n",
        "    \"\"\"\n",
        "  soup = BeautifulSoup(text, 'html.parser')\n",
        "  if bool(soup.find()) == True:\n",
        "    text = soup.get_text()\n",
        "  return re.sub(r'[\\n\\r]',' ', text)"
      ],
      "metadata": {
        "id": "dsmBLYXq9oxs"
      },
      "execution_count": null,
      "outputs": []
    },
    {
      "cell_type": "code",
      "source": [
        "cleaned_text = basic_clean(str(df.Reviews))"
      ],
      "metadata": {
        "id": "Cdkf2f6G94nt"
      },
      "execution_count": null,
      "outputs": []
    },
    {
      "cell_type": "code",
      "source": [
        "df['cleaned_text'] = df.Reviews.apply(basic_clean)"
      ],
      "metadata": {
        "id": "4NavltKI-dsM"
      },
      "execution_count": null,
      "outputs": []
    },
    {
      "cell_type": "code",
      "source": [
        "df.head()"
      ],
      "metadata": {
        "colab": {
          "base_uri": "https://localhost:8080/",
          "height": 2365
        },
        "id": "p0hU5AYD-tTX",
        "outputId": "b68ee531-6d67-4142-ce3b-7ddd8aefc50d"
      },
      "execution_count": null,
      "outputs": [
        {
          "output_type": "execute_result",
          "data": {
            "text/plain": [
              "                                             Reviews  Labels  \\\n",
              "0  I think this movie would be more enjoyable if ...       1   \n",
              "1  Timeless musical gem, with Gene Kelly in top f...       1   \n",
              "2  I just found the IMDb and searched this film a...       1   \n",
              "3  It's a short movie from David Lynch with just ...       1   \n",
              "4  I dug out from my garage some old musicals and...       1   \n",
              "\n",
              "                                        cleaned_text  \n",
              "0  I think this movie would be more enjoyable if ...  \n",
              "1  Timeless musical gem, with Gene Kelly in top f...  \n",
              "2  I just found the IMDb and searched this film a...  \n",
              "3  It's a short movie from David Lynch with just ...  \n",
              "4  I dug out from my garage some old musicals and...  "
            ],
            "text/html": [
              "\n",
              "  <div id=\"df-6291f72c-4dd9-48b3-822c-05745ed43e37\">\n",
              "    <div class=\"colab-df-container\">\n",
              "      <div>\n",
              "<style scoped>\n",
              "    .dataframe tbody tr th:only-of-type {\n",
              "        vertical-align: middle;\n",
              "    }\n",
              "\n",
              "    .dataframe tbody tr th {\n",
              "        vertical-align: top;\n",
              "    }\n",
              "\n",
              "    .dataframe thead th {\n",
              "        text-align: right;\n",
              "    }\n",
              "</style>\n",
              "<table border=\"1\" class=\"dataframe\">\n",
              "  <thead>\n",
              "    <tr style=\"text-align: right;\">\n",
              "      <th></th>\n",
              "      <th>Reviews</th>\n",
              "      <th>Labels</th>\n",
              "      <th>cleaned_text</th>\n",
              "    </tr>\n",
              "  </thead>\n",
              "  <tbody>\n",
              "    <tr>\n",
              "      <th>0</th>\n",
              "      <td>I think this movie would be more enjoyable if ...</td>\n",
              "      <td>1</td>\n",
              "      <td>I think this movie would be more enjoyable if ...</td>\n",
              "    </tr>\n",
              "    <tr>\n",
              "      <th>1</th>\n",
              "      <td>Timeless musical gem, with Gene Kelly in top f...</td>\n",
              "      <td>1</td>\n",
              "      <td>Timeless musical gem, with Gene Kelly in top f...</td>\n",
              "    </tr>\n",
              "    <tr>\n",
              "      <th>2</th>\n",
              "      <td>I just found the IMDb and searched this film a...</td>\n",
              "      <td>1</td>\n",
              "      <td>I just found the IMDb and searched this film a...</td>\n",
              "    </tr>\n",
              "    <tr>\n",
              "      <th>3</th>\n",
              "      <td>It's a short movie from David Lynch with just ...</td>\n",
              "      <td>1</td>\n",
              "      <td>It's a short movie from David Lynch with just ...</td>\n",
              "    </tr>\n",
              "    <tr>\n",
              "      <th>4</th>\n",
              "      <td>I dug out from my garage some old musicals and...</td>\n",
              "      <td>1</td>\n",
              "      <td>I dug out from my garage some old musicals and...</td>\n",
              "    </tr>\n",
              "  </tbody>\n",
              "</table>\n",
              "</div>\n",
              "      <button class=\"colab-df-convert\" onclick=\"convertToInteractive('df-6291f72c-4dd9-48b3-822c-05745ed43e37')\"\n",
              "              title=\"Convert this dataframe to an interactive table.\"\n",
              "              style=\"display:none;\">\n",
              "        \n",
              "  <svg xmlns=\"http://www.w3.org/2000/svg\" height=\"24px\"viewBox=\"0 0 24 24\"\n",
              "       width=\"24px\">\n",
              "    <path d=\"M0 0h24v24H0V0z\" fill=\"none\"/>\n",
              "    <path d=\"M18.56 5.44l.94 2.06.94-2.06 2.06-.94-2.06-.94-.94-2.06-.94 2.06-2.06.94zm-11 1L8.5 8.5l.94-2.06 2.06-.94-2.06-.94L8.5 2.5l-.94 2.06-2.06.94zm10 10l.94 2.06.94-2.06 2.06-.94-2.06-.94-.94-2.06-.94 2.06-2.06.94z\"/><path d=\"M17.41 7.96l-1.37-1.37c-.4-.4-.92-.59-1.43-.59-.52 0-1.04.2-1.43.59L10.3 9.45l-7.72 7.72c-.78.78-.78 2.05 0 2.83L4 21.41c.39.39.9.59 1.41.59.51 0 1.02-.2 1.41-.59l7.78-7.78 2.81-2.81c.8-.78.8-2.07 0-2.86zM5.41 20L4 18.59l7.72-7.72 1.47 1.35L5.41 20z\"/>\n",
              "  </svg>\n",
              "      </button>\n",
              "      \n",
              "  <style>\n",
              "    .colab-df-container {\n",
              "      display:flex;\n",
              "      flex-wrap:wrap;\n",
              "      gap: 12px;\n",
              "    }\n",
              "\n",
              "    .colab-df-convert {\n",
              "      background-color: #E8F0FE;\n",
              "      border: none;\n",
              "      border-radius: 50%;\n",
              "      cursor: pointer;\n",
              "      display: none;\n",
              "      fill: #1967D2;\n",
              "      height: 32px;\n",
              "      padding: 0 0 0 0;\n",
              "      width: 32px;\n",
              "    }\n",
              "\n",
              "    .colab-df-convert:hover {\n",
              "      background-color: #E2EBFA;\n",
              "      box-shadow: 0px 1px 2px rgba(60, 64, 67, 0.3), 0px 1px 3px 1px rgba(60, 64, 67, 0.15);\n",
              "      fill: #174EA6;\n",
              "    }\n",
              "\n",
              "    [theme=dark] .colab-df-convert {\n",
              "      background-color: #3B4455;\n",
              "      fill: #D2E3FC;\n",
              "    }\n",
              "\n",
              "    [theme=dark] .colab-df-convert:hover {\n",
              "      background-color: #434B5C;\n",
              "      box-shadow: 0px 1px 3px 1px rgba(0, 0, 0, 0.15);\n",
              "      filter: drop-shadow(0px 1px 2px rgba(0, 0, 0, 0.3));\n",
              "      fill: #FFFFFF;\n",
              "    }\n",
              "  </style>\n",
              "\n",
              "      <script>\n",
              "        const buttonEl =\n",
              "          document.querySelector('#df-6291f72c-4dd9-48b3-822c-05745ed43e37 button.colab-df-convert');\n",
              "        buttonEl.style.display =\n",
              "          google.colab.kernel.accessAllowed ? 'block' : 'none';\n",
              "\n",
              "        async function convertToInteractive(key) {\n",
              "          const element = document.querySelector('#df-6291f72c-4dd9-48b3-822c-05745ed43e37');\n",
              "          const dataTable =\n",
              "            await google.colab.kernel.invokeFunction('convertToInteractive',\n",
              "                                                     [key], {});\n",
              "          if (!dataTable) return;\n",
              "\n",
              "          const docLinkHtml = 'Like what you see? Visit the ' +\n",
              "            '<a target=\"_blank\" href=https://colab.research.google.com/notebooks/data_table.ipynb>data table notebook</a>'\n",
              "            + ' to learn more about interactive tables.';\n",
              "          element.innerHTML = '';\n",
              "          dataTable['output_type'] = 'display_data';\n",
              "          await google.colab.output.renderOutput(dataTable, element);\n",
              "          const docLink = document.createElement('div');\n",
              "          docLink.innerHTML = docLinkHtml;\n",
              "          element.appendChild(docLink);\n",
              "        }\n",
              "      </script>\n",
              "    </div>\n",
              "  </div>\n",
              "  "
            ]
          },
          "metadata": {},
          "execution_count": 37
        },
        {
          "output_type": "stream",
          "name": "stdout",
          "text": [
            "Error: Runtime no longer has a reference to this dataframe, please re-run this cell and try again.\n",
            "Error: Runtime no longer has a reference to this dataframe, please re-run this cell and try again.\n",
            "Error: Runtime no longer has a reference to this dataframe, please re-run this cell and try again.\n",
            "Error: Runtime no longer has a reference to this dataframe, please re-run this cell and try again.\n",
            "Error: Runtime no longer has a reference to this dataframe, please re-run this cell and try again.\n",
            "Error: Runtime no longer has a reference to this dataframe, please re-run this cell and try again.\n",
            "Error: Runtime no longer has a reference to this dataframe, please re-run this cell and try again.\n",
            "Error: Runtime no longer has a reference to this dataframe, please re-run this cell and try again.\n"
          ]
        }
      ]
    },
    {
      "cell_type": "code",
      "source": [
        "#remove emails, punctuations and urls\n",
        "def adv_clean(text, spacy_model):\n",
        "  nlp = spacy.load(spacy_model)\n",
        "  disabled = nlp.select_pipes(disable=['tok2vec', 'tagger', 'parser', 'attribute_ruler', 'lemmatizer', 'ner'])\n",
        "  cleaned_text = []\n",
        "  for doc in nlp.pipe(text, batch_size=1000, n_process=-1):\n",
        "      cleaned_doc = \" \".join([token.text for token in doc if not (token.is_punct or token.like_email or token.like_url) ] )\n",
        "      cleaned_text.append(cleaned_doc)\n",
        "  return cleaned_text\n",
        "\n",
        ""
      ],
      "metadata": {
        "id": "h0uskeQY-8Pd"
      },
      "execution_count": null,
      "outputs": []
    },
    {
      "cell_type": "code",
      "source": [
        "df['cleaned_text'] = adv_clean(df.cleaned_text.values, 'en_core_web_sm')"
      ],
      "metadata": {
        "colab": {
          "base_uri": "https://localhost:8080/"
        },
        "id": "t3thjPrB_3Y0",
        "outputId": "5c049ba9-8338-4f59-f0fc-4e091521955d"
      },
      "execution_count": null,
      "outputs": [
        {
          "output_type": "stream",
          "name": "stderr",
          "text": [
            "/usr/local/lib/python3.8/dist-packages/spacy/util.py:877: UserWarning: [W095] Model 'en_core_web_sm' (3.5.0) was trained with spaCy v3.5 and may not be 100% compatible with the current version (3.4.4). If you see errors or degraded performance, download a newer compatible model or retrain your custom model with the current spaCy version. For more details and available updates, run: python -m spacy validate\n",
            "  warnings.warn(warn_msg)\n"
          ]
        }
      ]
    },
    {
      "cell_type": "code",
      "source": [
        "df.head()"
      ],
      "metadata": {
        "colab": {
          "base_uri": "https://localhost:8080/",
          "height": 2149
        },
        "id": "o67bhsweAYz5",
        "outputId": "ff482f41-5820-4129-b6aa-76f8008ce180"
      },
      "execution_count": null,
      "outputs": [
        {
          "output_type": "execute_result",
          "data": {
            "text/plain": [
              "                                             Reviews  Labels  \\\n",
              "0  I think this movie would be more enjoyable if ...       1   \n",
              "1  Timeless musical gem, with Gene Kelly in top f...       1   \n",
              "2  I just found the IMDb and searched this film a...       1   \n",
              "3  It's a short movie from David Lynch with just ...       1   \n",
              "4  I dug out from my garage some old musicals and...       1   \n",
              "\n",
              "                                        cleaned_text  \n",
              "0  I think this movie would be more enjoyable if ...  \n",
              "1  Timeless musical gem with Gene Kelly in top fo...  \n",
              "2  I just found the IMDb and searched this film a...  \n",
              "3  It 's a short movie from David Lynch with just...  \n",
              "4  I dug out from my garage some old musicals and...  "
            ],
            "text/html": [
              "\n",
              "  <div id=\"df-beb87a4a-0213-4e53-b7fa-65d9b663314a\">\n",
              "    <div class=\"colab-df-container\">\n",
              "      <div>\n",
              "<style scoped>\n",
              "    .dataframe tbody tr th:only-of-type {\n",
              "        vertical-align: middle;\n",
              "    }\n",
              "\n",
              "    .dataframe tbody tr th {\n",
              "        vertical-align: top;\n",
              "    }\n",
              "\n",
              "    .dataframe thead th {\n",
              "        text-align: right;\n",
              "    }\n",
              "</style>\n",
              "<table border=\"1\" class=\"dataframe\">\n",
              "  <thead>\n",
              "    <tr style=\"text-align: right;\">\n",
              "      <th></th>\n",
              "      <th>Reviews</th>\n",
              "      <th>Labels</th>\n",
              "      <th>cleaned_text</th>\n",
              "    </tr>\n",
              "  </thead>\n",
              "  <tbody>\n",
              "    <tr>\n",
              "      <th>0</th>\n",
              "      <td>I think this movie would be more enjoyable if ...</td>\n",
              "      <td>1</td>\n",
              "      <td>I think this movie would be more enjoyable if ...</td>\n",
              "    </tr>\n",
              "    <tr>\n",
              "      <th>1</th>\n",
              "      <td>Timeless musical gem, with Gene Kelly in top f...</td>\n",
              "      <td>1</td>\n",
              "      <td>Timeless musical gem with Gene Kelly in top fo...</td>\n",
              "    </tr>\n",
              "    <tr>\n",
              "      <th>2</th>\n",
              "      <td>I just found the IMDb and searched this film a...</td>\n",
              "      <td>1</td>\n",
              "      <td>I just found the IMDb and searched this film a...</td>\n",
              "    </tr>\n",
              "    <tr>\n",
              "      <th>3</th>\n",
              "      <td>It's a short movie from David Lynch with just ...</td>\n",
              "      <td>1</td>\n",
              "      <td>It 's a short movie from David Lynch with just...</td>\n",
              "    </tr>\n",
              "    <tr>\n",
              "      <th>4</th>\n",
              "      <td>I dug out from my garage some old musicals and...</td>\n",
              "      <td>1</td>\n",
              "      <td>I dug out from my garage some old musicals and...</td>\n",
              "    </tr>\n",
              "  </tbody>\n",
              "</table>\n",
              "</div>\n",
              "      <button class=\"colab-df-convert\" onclick=\"convertToInteractive('df-beb87a4a-0213-4e53-b7fa-65d9b663314a')\"\n",
              "              title=\"Convert this dataframe to an interactive table.\"\n",
              "              style=\"display:none;\">\n",
              "        \n",
              "  <svg xmlns=\"http://www.w3.org/2000/svg\" height=\"24px\"viewBox=\"0 0 24 24\"\n",
              "       width=\"24px\">\n",
              "    <path d=\"M0 0h24v24H0V0z\" fill=\"none\"/>\n",
              "    <path d=\"M18.56 5.44l.94 2.06.94-2.06 2.06-.94-2.06-.94-.94-2.06-.94 2.06-2.06.94zm-11 1L8.5 8.5l.94-2.06 2.06-.94-2.06-.94L8.5 2.5l-.94 2.06-2.06.94zm10 10l.94 2.06.94-2.06 2.06-.94-2.06-.94-.94-2.06-.94 2.06-2.06.94z\"/><path d=\"M17.41 7.96l-1.37-1.37c-.4-.4-.92-.59-1.43-.59-.52 0-1.04.2-1.43.59L10.3 9.45l-7.72 7.72c-.78.78-.78 2.05 0 2.83L4 21.41c.39.39.9.59 1.41.59.51 0 1.02-.2 1.41-.59l7.78-7.78 2.81-2.81c.8-.78.8-2.07 0-2.86zM5.41 20L4 18.59l7.72-7.72 1.47 1.35L5.41 20z\"/>\n",
              "  </svg>\n",
              "      </button>\n",
              "      \n",
              "  <style>\n",
              "    .colab-df-container {\n",
              "      display:flex;\n",
              "      flex-wrap:wrap;\n",
              "      gap: 12px;\n",
              "    }\n",
              "\n",
              "    .colab-df-convert {\n",
              "      background-color: #E8F0FE;\n",
              "      border: none;\n",
              "      border-radius: 50%;\n",
              "      cursor: pointer;\n",
              "      display: none;\n",
              "      fill: #1967D2;\n",
              "      height: 32px;\n",
              "      padding: 0 0 0 0;\n",
              "      width: 32px;\n",
              "    }\n",
              "\n",
              "    .colab-df-convert:hover {\n",
              "      background-color: #E2EBFA;\n",
              "      box-shadow: 0px 1px 2px rgba(60, 64, 67, 0.3), 0px 1px 3px 1px rgba(60, 64, 67, 0.15);\n",
              "      fill: #174EA6;\n",
              "    }\n",
              "\n",
              "    [theme=dark] .colab-df-convert {\n",
              "      background-color: #3B4455;\n",
              "      fill: #D2E3FC;\n",
              "    }\n",
              "\n",
              "    [theme=dark] .colab-df-convert:hover {\n",
              "      background-color: #434B5C;\n",
              "      box-shadow: 0px 1px 3px 1px rgba(0, 0, 0, 0.15);\n",
              "      filter: drop-shadow(0px 1px 2px rgba(0, 0, 0, 0.3));\n",
              "      fill: #FFFFFF;\n",
              "    }\n",
              "  </style>\n",
              "\n",
              "      <script>\n",
              "        const buttonEl =\n",
              "          document.querySelector('#df-beb87a4a-0213-4e53-b7fa-65d9b663314a button.colab-df-convert');\n",
              "        buttonEl.style.display =\n",
              "          google.colab.kernel.accessAllowed ? 'block' : 'none';\n",
              "\n",
              "        async function convertToInteractive(key) {\n",
              "          const element = document.querySelector('#df-beb87a4a-0213-4e53-b7fa-65d9b663314a');\n",
              "          const dataTable =\n",
              "            await google.colab.kernel.invokeFunction('convertToInteractive',\n",
              "                                                     [key], {});\n",
              "          if (!dataTable) return;\n",
              "\n",
              "          const docLinkHtml = 'Like what you see? Visit the ' +\n",
              "            '<a target=\"_blank\" href=https://colab.research.google.com/notebooks/data_table.ipynb>data table notebook</a>'\n",
              "            + ' to learn more about interactive tables.';\n",
              "          element.innerHTML = '';\n",
              "          dataTable['output_type'] = 'display_data';\n",
              "          await google.colab.output.renderOutput(dataTable, element);\n",
              "          const docLink = document.createElement('div');\n",
              "          docLink.innerHTML = docLinkHtml;\n",
              "          element.appendChild(docLink);\n",
              "        }\n",
              "      </script>\n",
              "    </div>\n",
              "  </div>\n",
              "  "
            ]
          },
          "metadata": {},
          "execution_count": 40
        }
      ]
    },
    {
      "cell_type": "code",
      "source": [
        "import numpy as np\n"
      ],
      "metadata": {
        "id": "iT15-EAbEO2M"
      },
      "execution_count": null,
      "outputs": []
    },
    {
      "cell_type": "code",
      "source": [
        "\n",
        "def extract_features(cleaned_text):\n",
        "    num_of_words =[]\n",
        "    num_of_characters =[]\n",
        "    num_of_no_space =[]\n",
        "    avg_wordlength=[]\n",
        "    numbers_count=[]\n",
        "    for sent in cleaned_text:\n",
        "        words = re.sub(r'\\b\\d+\\b','',sent)\n",
        "        numbers = re.findall(r'\\b\\d+\\b', sent)\n",
        "\n",
        "        feature1_w = len(words.split())\n",
        "        feature2_c = len(words)\n",
        "        feature3_n = len(''.join(words.split()))\n",
        "        feature4_a = feature3_n/feature1_w\n",
        "        feature5_nc = len(numbers)\n",
        "\n",
        "\n",
        "        num_of_words.append(feature1_w)\n",
        "        num_of_characters.append(feature2_c)\n",
        "        num_of_no_space.append(feature3_n)\n",
        "        avg_wordlength.append(feature4_a)\n",
        "        numbers_count.append(feature5_nc)\n",
        "\n",
        "    count_features = np.vstack((num_of_words, num_of_characters,\n",
        "                              num_of_no_space, avg_wordlength,\n",
        "                              numbers_count ))\n",
        "    return np.transpose(count_features)\n",
        ""
      ],
      "metadata": {
        "id": "XWVAB4L0AouF"
      },
      "execution_count": null,
      "outputs": []
    },
    {
      "cell_type": "code",
      "source": [
        "count_features = extract_features(df.cleaned_text.values)"
      ],
      "metadata": {
        "id": "yZZlijgXFIu3"
      },
      "execution_count": null,
      "outputs": []
    },
    {
      "cell_type": "code",
      "source": [
        "features = pd.DataFrame(count_features, columns = ['num_of_words', 'num_of_characters',\n",
        "                              'num_of_no_space_characters', 'avg_wordlength','numbers_count'])\n",
        "features"
      ],
      "metadata": {
        "colab": {
          "base_uri": "https://localhost:8080/",
          "height": 488
        },
        "id": "LZ47vtjyEn7w",
        "outputId": "33e802c0-b5c5-4a97-91ce-765ecdf184db"
      },
      "execution_count": null,
      "outputs": [
        {
          "output_type": "execute_result",
          "data": {
            "text/plain": [
              "       num_of_words  num_of_characters  num_of_no_space_characters  \\\n",
              "0             160.0              804.0                       643.0   \n",
              "1              87.0              494.0                       407.0   \n",
              "2             146.0              670.0                       523.0   \n",
              "3             172.0              934.0                       753.0   \n",
              "4             143.0              776.0                       633.0   \n",
              "...             ...                ...                         ...   \n",
              "24995         201.0             1007.0                       807.0   \n",
              "24996         533.0             3060.0                      2525.0   \n",
              "24997         147.0              736.0                       589.0   \n",
              "24998         562.0             2906.0                      2340.0   \n",
              "24999         287.0             1524.0                      1238.0   \n",
              "\n",
              "       avg_wordlength  numbers_count  \n",
              "0            4.018750            2.0  \n",
              "1            4.678161            1.0  \n",
              "2            3.582192            2.0  \n",
              "3            4.377907            1.0  \n",
              "4            4.426573            3.0  \n",
              "...               ...            ...  \n",
              "24995        4.014925            0.0  \n",
              "24996        4.737336            0.0  \n",
              "24997        4.006803            1.0  \n",
              "24998        4.163701            5.0  \n",
              "24999        4.313589            0.0  \n",
              "\n",
              "[25000 rows x 5 columns]"
            ],
            "text/html": [
              "\n",
              "  <div id=\"df-d67f0e82-36fa-49f9-bef4-6c0acd8dc880\">\n",
              "    <div class=\"colab-df-container\">\n",
              "      <div>\n",
              "<style scoped>\n",
              "    .dataframe tbody tr th:only-of-type {\n",
              "        vertical-align: middle;\n",
              "    }\n",
              "\n",
              "    .dataframe tbody tr th {\n",
              "        vertical-align: top;\n",
              "    }\n",
              "\n",
              "    .dataframe thead th {\n",
              "        text-align: right;\n",
              "    }\n",
              "</style>\n",
              "<table border=\"1\" class=\"dataframe\">\n",
              "  <thead>\n",
              "    <tr style=\"text-align: right;\">\n",
              "      <th></th>\n",
              "      <th>num_of_words</th>\n",
              "      <th>num_of_characters</th>\n",
              "      <th>num_of_no_space_characters</th>\n",
              "      <th>avg_wordlength</th>\n",
              "      <th>numbers_count</th>\n",
              "    </tr>\n",
              "  </thead>\n",
              "  <tbody>\n",
              "    <tr>\n",
              "      <th>0</th>\n",
              "      <td>160.0</td>\n",
              "      <td>804.0</td>\n",
              "      <td>643.0</td>\n",
              "      <td>4.018750</td>\n",
              "      <td>2.0</td>\n",
              "    </tr>\n",
              "    <tr>\n",
              "      <th>1</th>\n",
              "      <td>87.0</td>\n",
              "      <td>494.0</td>\n",
              "      <td>407.0</td>\n",
              "      <td>4.678161</td>\n",
              "      <td>1.0</td>\n",
              "    </tr>\n",
              "    <tr>\n",
              "      <th>2</th>\n",
              "      <td>146.0</td>\n",
              "      <td>670.0</td>\n",
              "      <td>523.0</td>\n",
              "      <td>3.582192</td>\n",
              "      <td>2.0</td>\n",
              "    </tr>\n",
              "    <tr>\n",
              "      <th>3</th>\n",
              "      <td>172.0</td>\n",
              "      <td>934.0</td>\n",
              "      <td>753.0</td>\n",
              "      <td>4.377907</td>\n",
              "      <td>1.0</td>\n",
              "    </tr>\n",
              "    <tr>\n",
              "      <th>4</th>\n",
              "      <td>143.0</td>\n",
              "      <td>776.0</td>\n",
              "      <td>633.0</td>\n",
              "      <td>4.426573</td>\n",
              "      <td>3.0</td>\n",
              "    </tr>\n",
              "    <tr>\n",
              "      <th>...</th>\n",
              "      <td>...</td>\n",
              "      <td>...</td>\n",
              "      <td>...</td>\n",
              "      <td>...</td>\n",
              "      <td>...</td>\n",
              "    </tr>\n",
              "    <tr>\n",
              "      <th>24995</th>\n",
              "      <td>201.0</td>\n",
              "      <td>1007.0</td>\n",
              "      <td>807.0</td>\n",
              "      <td>4.014925</td>\n",
              "      <td>0.0</td>\n",
              "    </tr>\n",
              "    <tr>\n",
              "      <th>24996</th>\n",
              "      <td>533.0</td>\n",
              "      <td>3060.0</td>\n",
              "      <td>2525.0</td>\n",
              "      <td>4.737336</td>\n",
              "      <td>0.0</td>\n",
              "    </tr>\n",
              "    <tr>\n",
              "      <th>24997</th>\n",
              "      <td>147.0</td>\n",
              "      <td>736.0</td>\n",
              "      <td>589.0</td>\n",
              "      <td>4.006803</td>\n",
              "      <td>1.0</td>\n",
              "    </tr>\n",
              "    <tr>\n",
              "      <th>24998</th>\n",
              "      <td>562.0</td>\n",
              "      <td>2906.0</td>\n",
              "      <td>2340.0</td>\n",
              "      <td>4.163701</td>\n",
              "      <td>5.0</td>\n",
              "    </tr>\n",
              "    <tr>\n",
              "      <th>24999</th>\n",
              "      <td>287.0</td>\n",
              "      <td>1524.0</td>\n",
              "      <td>1238.0</td>\n",
              "      <td>4.313589</td>\n",
              "      <td>0.0</td>\n",
              "    </tr>\n",
              "  </tbody>\n",
              "</table>\n",
              "<p>25000 rows × 5 columns</p>\n",
              "</div>\n",
              "      <button class=\"colab-df-convert\" onclick=\"convertToInteractive('df-d67f0e82-36fa-49f9-bef4-6c0acd8dc880')\"\n",
              "              title=\"Convert this dataframe to an interactive table.\"\n",
              "              style=\"display:none;\">\n",
              "        \n",
              "  <svg xmlns=\"http://www.w3.org/2000/svg\" height=\"24px\"viewBox=\"0 0 24 24\"\n",
              "       width=\"24px\">\n",
              "    <path d=\"M0 0h24v24H0V0z\" fill=\"none\"/>\n",
              "    <path d=\"M18.56 5.44l.94 2.06.94-2.06 2.06-.94-2.06-.94-.94-2.06-.94 2.06-2.06.94zm-11 1L8.5 8.5l.94-2.06 2.06-.94-2.06-.94L8.5 2.5l-.94 2.06-2.06.94zm10 10l.94 2.06.94-2.06 2.06-.94-2.06-.94-.94-2.06-.94 2.06-2.06.94z\"/><path d=\"M17.41 7.96l-1.37-1.37c-.4-.4-.92-.59-1.43-.59-.52 0-1.04.2-1.43.59L10.3 9.45l-7.72 7.72c-.78.78-.78 2.05 0 2.83L4 21.41c.39.39.9.59 1.41.59.51 0 1.02-.2 1.41-.59l7.78-7.78 2.81-2.81c.8-.78.8-2.07 0-2.86zM5.41 20L4 18.59l7.72-7.72 1.47 1.35L5.41 20z\"/>\n",
              "  </svg>\n",
              "      </button>\n",
              "      \n",
              "  <style>\n",
              "    .colab-df-container {\n",
              "      display:flex;\n",
              "      flex-wrap:wrap;\n",
              "      gap: 12px;\n",
              "    }\n",
              "\n",
              "    .colab-df-convert {\n",
              "      background-color: #E8F0FE;\n",
              "      border: none;\n",
              "      border-radius: 50%;\n",
              "      cursor: pointer;\n",
              "      display: none;\n",
              "      fill: #1967D2;\n",
              "      height: 32px;\n",
              "      padding: 0 0 0 0;\n",
              "      width: 32px;\n",
              "    }\n",
              "\n",
              "    .colab-df-convert:hover {\n",
              "      background-color: #E2EBFA;\n",
              "      box-shadow: 0px 1px 2px rgba(60, 64, 67, 0.3), 0px 1px 3px 1px rgba(60, 64, 67, 0.15);\n",
              "      fill: #174EA6;\n",
              "    }\n",
              "\n",
              "    [theme=dark] .colab-df-convert {\n",
              "      background-color: #3B4455;\n",
              "      fill: #D2E3FC;\n",
              "    }\n",
              "\n",
              "    [theme=dark] .colab-df-convert:hover {\n",
              "      background-color: #434B5C;\n",
              "      box-shadow: 0px 1px 3px 1px rgba(0, 0, 0, 0.15);\n",
              "      filter: drop-shadow(0px 1px 2px rgba(0, 0, 0, 0.3));\n",
              "      fill: #FFFFFF;\n",
              "    }\n",
              "  </style>\n",
              "\n",
              "      <script>\n",
              "        const buttonEl =\n",
              "          document.querySelector('#df-d67f0e82-36fa-49f9-bef4-6c0acd8dc880 button.colab-df-convert');\n",
              "        buttonEl.style.display =\n",
              "          google.colab.kernel.accessAllowed ? 'block' : 'none';\n",
              "\n",
              "        async function convertToInteractive(key) {\n",
              "          const element = document.querySelector('#df-d67f0e82-36fa-49f9-bef4-6c0acd8dc880');\n",
              "          const dataTable =\n",
              "            await google.colab.kernel.invokeFunction('convertToInteractive',\n",
              "                                                     [key], {});\n",
              "          if (!dataTable) return;\n",
              "\n",
              "          const docLinkHtml = 'Like what you see? Visit the ' +\n",
              "            '<a target=\"_blank\" href=https://colab.research.google.com/notebooks/data_table.ipynb>data table notebook</a>'\n",
              "            + ' to learn more about interactive tables.';\n",
              "          element.innerHTML = '';\n",
              "          dataTable['output_type'] = 'display_data';\n",
              "          await google.colab.output.renderOutput(dataTable, element);\n",
              "          const docLink = document.createElement('div');\n",
              "          docLink.innerHTML = docLinkHtml;\n",
              "          element.appendChild(docLink);\n",
              "        }\n",
              "      </script>\n",
              "    </div>\n",
              "  </div>\n",
              "  "
            ]
          },
          "metadata": {},
          "execution_count": 46
        }
      ]
    },
    {
      "cell_type": "code",
      "source": [
        "df = pd.concat((df, features), axis =1)"
      ],
      "metadata": {
        "id": "HQ80bPyeFez3"
      },
      "execution_count": null,
      "outputs": []
    },
    {
      "cell_type": "code",
      "source": [
        "df.head()"
      ],
      "metadata": {
        "colab": {
          "base_uri": "https://localhost:8080/",
          "height": 774
        },
        "id": "D1oZz2esF5iC",
        "outputId": "a80f13e8-002d-4d83-b049-b56576596009"
      },
      "execution_count": null,
      "outputs": [
        {
          "output_type": "execute_result",
          "data": {
            "text/plain": [
              "                                             Reviews  Labels  \\\n",
              "0  I think this movie would be more enjoyable if ...       1   \n",
              "1  Timeless musical gem, with Gene Kelly in top f...       1   \n",
              "2  I just found the IMDb and searched this film a...       1   \n",
              "3  It's a short movie from David Lynch with just ...       1   \n",
              "4  I dug out from my garage some old musicals and...       1   \n",
              "\n",
              "                                        cleaned_text  num_of_words  \\\n",
              "0  I think this movie would be more enjoyable if ...         160.0   \n",
              "1  Timeless musical gem with Gene Kelly in top fo...          87.0   \n",
              "2  I just found the IMDb and searched this film a...         146.0   \n",
              "3  It 's a short movie from David Lynch with just...         172.0   \n",
              "4  I dug out from my garage some old musicals and...         143.0   \n",
              "\n",
              "   num_of_characters  num_of_no_space_characters  avg_wordlength  \\\n",
              "0              804.0                       643.0        4.018750   \n",
              "1              494.0                       407.0        4.678161   \n",
              "2              670.0                       523.0        3.582192   \n",
              "3              934.0                       753.0        4.377907   \n",
              "4              776.0                       633.0        4.426573   \n",
              "\n",
              "   numbers_count  \n",
              "0            2.0  \n",
              "1            1.0  \n",
              "2            2.0  \n",
              "3            1.0  \n",
              "4            3.0  "
            ],
            "text/html": [
              "\n",
              "  <div id=\"df-c55bca7b-ad3a-46e1-a078-c402a6cb43f2\">\n",
              "    <div class=\"colab-df-container\">\n",
              "      <div>\n",
              "<style scoped>\n",
              "    .dataframe tbody tr th:only-of-type {\n",
              "        vertical-align: middle;\n",
              "    }\n",
              "\n",
              "    .dataframe tbody tr th {\n",
              "        vertical-align: top;\n",
              "    }\n",
              "\n",
              "    .dataframe thead th {\n",
              "        text-align: right;\n",
              "    }\n",
              "</style>\n",
              "<table border=\"1\" class=\"dataframe\">\n",
              "  <thead>\n",
              "    <tr style=\"text-align: right;\">\n",
              "      <th></th>\n",
              "      <th>Reviews</th>\n",
              "      <th>Labels</th>\n",
              "      <th>cleaned_text</th>\n",
              "      <th>num_of_words</th>\n",
              "      <th>num_of_characters</th>\n",
              "      <th>num_of_no_space_characters</th>\n",
              "      <th>avg_wordlength</th>\n",
              "      <th>numbers_count</th>\n",
              "    </tr>\n",
              "  </thead>\n",
              "  <tbody>\n",
              "    <tr>\n",
              "      <th>0</th>\n",
              "      <td>I think this movie would be more enjoyable if ...</td>\n",
              "      <td>1</td>\n",
              "      <td>I think this movie would be more enjoyable if ...</td>\n",
              "      <td>160.0</td>\n",
              "      <td>804.0</td>\n",
              "      <td>643.0</td>\n",
              "      <td>4.018750</td>\n",
              "      <td>2.0</td>\n",
              "    </tr>\n",
              "    <tr>\n",
              "      <th>1</th>\n",
              "      <td>Timeless musical gem, with Gene Kelly in top f...</td>\n",
              "      <td>1</td>\n",
              "      <td>Timeless musical gem with Gene Kelly in top fo...</td>\n",
              "      <td>87.0</td>\n",
              "      <td>494.0</td>\n",
              "      <td>407.0</td>\n",
              "      <td>4.678161</td>\n",
              "      <td>1.0</td>\n",
              "    </tr>\n",
              "    <tr>\n",
              "      <th>2</th>\n",
              "      <td>I just found the IMDb and searched this film a...</td>\n",
              "      <td>1</td>\n",
              "      <td>I just found the IMDb and searched this film a...</td>\n",
              "      <td>146.0</td>\n",
              "      <td>670.0</td>\n",
              "      <td>523.0</td>\n",
              "      <td>3.582192</td>\n",
              "      <td>2.0</td>\n",
              "    </tr>\n",
              "    <tr>\n",
              "      <th>3</th>\n",
              "      <td>It's a short movie from David Lynch with just ...</td>\n",
              "      <td>1</td>\n",
              "      <td>It 's a short movie from David Lynch with just...</td>\n",
              "      <td>172.0</td>\n",
              "      <td>934.0</td>\n",
              "      <td>753.0</td>\n",
              "      <td>4.377907</td>\n",
              "      <td>1.0</td>\n",
              "    </tr>\n",
              "    <tr>\n",
              "      <th>4</th>\n",
              "      <td>I dug out from my garage some old musicals and...</td>\n",
              "      <td>1</td>\n",
              "      <td>I dug out from my garage some old musicals and...</td>\n",
              "      <td>143.0</td>\n",
              "      <td>776.0</td>\n",
              "      <td>633.0</td>\n",
              "      <td>4.426573</td>\n",
              "      <td>3.0</td>\n",
              "    </tr>\n",
              "  </tbody>\n",
              "</table>\n",
              "</div>\n",
              "      <button class=\"colab-df-convert\" onclick=\"convertToInteractive('df-c55bca7b-ad3a-46e1-a078-c402a6cb43f2')\"\n",
              "              title=\"Convert this dataframe to an interactive table.\"\n",
              "              style=\"display:none;\">\n",
              "        \n",
              "  <svg xmlns=\"http://www.w3.org/2000/svg\" height=\"24px\"viewBox=\"0 0 24 24\"\n",
              "       width=\"24px\">\n",
              "    <path d=\"M0 0h24v24H0V0z\" fill=\"none\"/>\n",
              "    <path d=\"M18.56 5.44l.94 2.06.94-2.06 2.06-.94-2.06-.94-.94-2.06-.94 2.06-2.06.94zm-11 1L8.5 8.5l.94-2.06 2.06-.94-2.06-.94L8.5 2.5l-.94 2.06-2.06.94zm10 10l.94 2.06.94-2.06 2.06-.94-2.06-.94-.94-2.06-.94 2.06-2.06.94z\"/><path d=\"M17.41 7.96l-1.37-1.37c-.4-.4-.92-.59-1.43-.59-.52 0-1.04.2-1.43.59L10.3 9.45l-7.72 7.72c-.78.78-.78 2.05 0 2.83L4 21.41c.39.39.9.59 1.41.59.51 0 1.02-.2 1.41-.59l7.78-7.78 2.81-2.81c.8-.78.8-2.07 0-2.86zM5.41 20L4 18.59l7.72-7.72 1.47 1.35L5.41 20z\"/>\n",
              "  </svg>\n",
              "      </button>\n",
              "      \n",
              "  <style>\n",
              "    .colab-df-container {\n",
              "      display:flex;\n",
              "      flex-wrap:wrap;\n",
              "      gap: 12px;\n",
              "    }\n",
              "\n",
              "    .colab-df-convert {\n",
              "      background-color: #E8F0FE;\n",
              "      border: none;\n",
              "      border-radius: 50%;\n",
              "      cursor: pointer;\n",
              "      display: none;\n",
              "      fill: #1967D2;\n",
              "      height: 32px;\n",
              "      padding: 0 0 0 0;\n",
              "      width: 32px;\n",
              "    }\n",
              "\n",
              "    .colab-df-convert:hover {\n",
              "      background-color: #E2EBFA;\n",
              "      box-shadow: 0px 1px 2px rgba(60, 64, 67, 0.3), 0px 1px 3px 1px rgba(60, 64, 67, 0.15);\n",
              "      fill: #174EA6;\n",
              "    }\n",
              "\n",
              "    [theme=dark] .colab-df-convert {\n",
              "      background-color: #3B4455;\n",
              "      fill: #D2E3FC;\n",
              "    }\n",
              "\n",
              "    [theme=dark] .colab-df-convert:hover {\n",
              "      background-color: #434B5C;\n",
              "      box-shadow: 0px 1px 3px 1px rgba(0, 0, 0, 0.15);\n",
              "      filter: drop-shadow(0px 1px 2px rgba(0, 0, 0, 0.3));\n",
              "      fill: #FFFFFF;\n",
              "    }\n",
              "  </style>\n",
              "\n",
              "      <script>\n",
              "        const buttonEl =\n",
              "          document.querySelector('#df-c55bca7b-ad3a-46e1-a078-c402a6cb43f2 button.colab-df-convert');\n",
              "        buttonEl.style.display =\n",
              "          google.colab.kernel.accessAllowed ? 'block' : 'none';\n",
              "\n",
              "        async function convertToInteractive(key) {\n",
              "          const element = document.querySelector('#df-c55bca7b-ad3a-46e1-a078-c402a6cb43f2');\n",
              "          const dataTable =\n",
              "            await google.colab.kernel.invokeFunction('convertToInteractive',\n",
              "                                                     [key], {});\n",
              "          if (!dataTable) return;\n",
              "\n",
              "          const docLinkHtml = 'Like what you see? Visit the ' +\n",
              "            '<a target=\"_blank\" href=https://colab.research.google.com/notebooks/data_table.ipynb>data table notebook</a>'\n",
              "            + ' to learn more about interactive tables.';\n",
              "          element.innerHTML = '';\n",
              "          dataTable['output_type'] = 'display_data';\n",
              "          await google.colab.output.renderOutput(dataTable, element);\n",
              "          const docLink = document.createElement('div');\n",
              "          docLink.innerHTML = docLinkHtml;\n",
              "          element.appendChild(docLink);\n",
              "        }\n",
              "      </script>\n",
              "    </div>\n",
              "  </div>\n",
              "  "
            ]
          },
          "metadata": {},
          "execution_count": 48
        }
      ]
    },
    {
      "cell_type": "markdown",
      "metadata": {
        "id": "a1108bd5-bc73-4d00-8784-4a62d220894c"
      },
      "source": [
        "# <font color ='indian red'> Rule Based Matching"
      ]
    },
    {
      "cell_type": "markdown",
      "metadata": {
        "execution": {
          "iopub.execute_input": "2022-09-21T21:48:35.843292Z",
          "iopub.status.busy": "2022-09-21T21:48:35.843080Z",
          "iopub.status.idle": "2022-09-21T21:48:35.845899Z",
          "shell.execute_reply": "2022-09-21T21:48:35.845576Z",
          "shell.execute_reply.started": "2022-09-21T21:48:35.843278Z"
        },
        "id": "34dd0b69-5f69-4405-814c-e7aff8adcd49"
      },
      "source": [
        "## <font color = 'dodgerblue'> **Get Data**\n",
        "we wil use a subset of United Nations General Debate Corpus.\n",
        "    \n",
        "Reference: Jankin Mikhaylov, Slava; Baturo, Alexander; Dasandi, Niheer, 2017, \"United Nations General Debate Corpus\", https://doi.org/10.7910/DVN/0TJX8Y, Harvard Dataverse, V6\n",
        "    \n",
        "**Data Description from [here](https://dataverse.harvard.edu/dataset.xhtml?persistentId=doi:10.7910/DVN/0TJX8Y)**\n",
        "\"*Every year since 1946, representatives of the UN member states gather at the annual sessions of the United Nations General Assembly. The centrepiece of each session is the General Debate. This is a forum at which leaders and other senior officials deliver statements that present their government’s perspective on the major issues in world politics.*\"\n",
        "    \n",
        "You can download the individual text files form here <font color = 'indianred'> UNGDC_1970-2020.tar.gz </font> from this [link](https://dataverse.harvard.edu/dataset.xhtml?persistentId=doi:10.7910/DVN/0TJX8Y).\n",
        "    "
      ]
    },
    {
      "cell_type": "code",
      "execution_count": null,
      "metadata": {
        "execution": {
          "iopub.execute_input": "2022-09-24T20:02:13.481007Z",
          "iopub.status.busy": "2022-09-24T20:02:13.480822Z",
          "iopub.status.idle": "2022-09-24T20:02:13.788614Z",
          "shell.execute_reply": "2022-09-24T20:02:13.788199Z",
          "shell.execute_reply.started": "2022-09-24T20:02:13.480995Z"
        },
        "id": "0fdfb984-fa5e-4ca7-9ac0-3155850641a8",
        "tags": []
      },
      "outputs": [],
      "source": [
        "# change the path to where you have downloaded the file - 'ungdc_cleaned_df.joblib'\n",
        "df = joblib.load(data_folder/'ungdc_cleaned_df.joblib')"
      ]
    },
    {
      "cell_type": "code",
      "execution_count": null,
      "metadata": {
        "execution": {
          "iopub.execute_input": "2022-09-24T20:02:13.789329Z",
          "iopub.status.busy": "2022-09-24T20:02:13.789169Z",
          "iopub.status.idle": "2022-09-24T20:02:13.816728Z",
          "shell.execute_reply": "2022-09-24T20:02:13.816359Z",
          "shell.execute_reply.started": "2022-09-24T20:02:13.789317Z"
        },
        "id": "a23adafd-4a6a-42d8-9b53-fc9677828ffd",
        "outputId": "3f1a3e4e-7c8d-43e5-d527-94830bc0a0c1",
        "colab": {
          "base_uri": "https://localhost:8080/",
          "height": 565
        }
      },
      "outputs": [
        {
          "output_type": "execute_result",
          "data": {
            "text/plain": [
              "   Unnamed: 0  years countries  sessions  \\\n",
              "0           0   1970       ALB        25   \n",
              "1           1   1970       ARG        25   \n",
              "2           2   1970       AUS        25   \n",
              "3           3   1970       AUT        25   \n",
              "4           4   1970       BEL        25   \n",
              "\n",
              "                                            speeches  \\\n",
              "0  33: May I first convey to our President the co...   \n",
              "1  177.\\t : It is a fortunate coincidence that pr...   \n",
              "2  100.\\t  It is a pleasure for me to extend to y...   \n",
              "3  155.\\t  May I begin by expressing to Ambassado...   \n",
              "4  176. No doubt each of us, before coming up to ...   \n",
              "\n",
              "                                    cleaned_speeches  \n",
              "0  33: May I first convey to our President the co...  \n",
              "1   : It is a fortunate coincidence that precisel...  \n",
              "2    It is a pleasure for me to extend to you, Mr...  \n",
              "3    May I begin by expressing to Ambassador Hamb...  \n",
              "4  176. No doubt each of us, before coming up to ...  "
            ],
            "text/html": [
              "\n",
              "  <div id=\"df-61c7b39a-d339-4d49-83f3-44d474391109\">\n",
              "    <div class=\"colab-df-container\">\n",
              "      <div>\n",
              "<style scoped>\n",
              "    .dataframe tbody tr th:only-of-type {\n",
              "        vertical-align: middle;\n",
              "    }\n",
              "\n",
              "    .dataframe tbody tr th {\n",
              "        vertical-align: top;\n",
              "    }\n",
              "\n",
              "    .dataframe thead th {\n",
              "        text-align: right;\n",
              "    }\n",
              "</style>\n",
              "<table border=\"1\" class=\"dataframe\">\n",
              "  <thead>\n",
              "    <tr style=\"text-align: right;\">\n",
              "      <th></th>\n",
              "      <th>Unnamed: 0</th>\n",
              "      <th>years</th>\n",
              "      <th>countries</th>\n",
              "      <th>sessions</th>\n",
              "      <th>speeches</th>\n",
              "      <th>cleaned_speeches</th>\n",
              "    </tr>\n",
              "  </thead>\n",
              "  <tbody>\n",
              "    <tr>\n",
              "      <th>0</th>\n",
              "      <td>0</td>\n",
              "      <td>1970</td>\n",
              "      <td>ALB</td>\n",
              "      <td>25</td>\n",
              "      <td>33: May I first convey to our President the co...</td>\n",
              "      <td>33: May I first convey to our President the co...</td>\n",
              "    </tr>\n",
              "    <tr>\n",
              "      <th>1</th>\n",
              "      <td>1</td>\n",
              "      <td>1970</td>\n",
              "      <td>ARG</td>\n",
              "      <td>25</td>\n",
              "      <td>177.\\t : It is a fortunate coincidence that pr...</td>\n",
              "      <td>: It is a fortunate coincidence that precisel...</td>\n",
              "    </tr>\n",
              "    <tr>\n",
              "      <th>2</th>\n",
              "      <td>2</td>\n",
              "      <td>1970</td>\n",
              "      <td>AUS</td>\n",
              "      <td>25</td>\n",
              "      <td>100.\\t  It is a pleasure for me to extend to y...</td>\n",
              "      <td>It is a pleasure for me to extend to you, Mr...</td>\n",
              "    </tr>\n",
              "    <tr>\n",
              "      <th>3</th>\n",
              "      <td>3</td>\n",
              "      <td>1970</td>\n",
              "      <td>AUT</td>\n",
              "      <td>25</td>\n",
              "      <td>155.\\t  May I begin by expressing to Ambassado...</td>\n",
              "      <td>May I begin by expressing to Ambassador Hamb...</td>\n",
              "    </tr>\n",
              "    <tr>\n",
              "      <th>4</th>\n",
              "      <td>4</td>\n",
              "      <td>1970</td>\n",
              "      <td>BEL</td>\n",
              "      <td>25</td>\n",
              "      <td>176. No doubt each of us, before coming up to ...</td>\n",
              "      <td>176. No doubt each of us, before coming up to ...</td>\n",
              "    </tr>\n",
              "  </tbody>\n",
              "</table>\n",
              "</div>\n",
              "      <button class=\"colab-df-convert\" onclick=\"convertToInteractive('df-61c7b39a-d339-4d49-83f3-44d474391109')\"\n",
              "              title=\"Convert this dataframe to an interactive table.\"\n",
              "              style=\"display:none;\">\n",
              "        \n",
              "  <svg xmlns=\"http://www.w3.org/2000/svg\" height=\"24px\"viewBox=\"0 0 24 24\"\n",
              "       width=\"24px\">\n",
              "    <path d=\"M0 0h24v24H0V0z\" fill=\"none\"/>\n",
              "    <path d=\"M18.56 5.44l.94 2.06.94-2.06 2.06-.94-2.06-.94-.94-2.06-.94 2.06-2.06.94zm-11 1L8.5 8.5l.94-2.06 2.06-.94-2.06-.94L8.5 2.5l-.94 2.06-2.06.94zm10 10l.94 2.06.94-2.06 2.06-.94-2.06-.94-.94-2.06-.94 2.06-2.06.94z\"/><path d=\"M17.41 7.96l-1.37-1.37c-.4-.4-.92-.59-1.43-.59-.52 0-1.04.2-1.43.59L10.3 9.45l-7.72 7.72c-.78.78-.78 2.05 0 2.83L4 21.41c.39.39.9.59 1.41.59.51 0 1.02-.2 1.41-.59l7.78-7.78 2.81-2.81c.8-.78.8-2.07 0-2.86zM5.41 20L4 18.59l7.72-7.72 1.47 1.35L5.41 20z\"/>\n",
              "  </svg>\n",
              "      </button>\n",
              "      \n",
              "  <style>\n",
              "    .colab-df-container {\n",
              "      display:flex;\n",
              "      flex-wrap:wrap;\n",
              "      gap: 12px;\n",
              "    }\n",
              "\n",
              "    .colab-df-convert {\n",
              "      background-color: #E8F0FE;\n",
              "      border: none;\n",
              "      border-radius: 50%;\n",
              "      cursor: pointer;\n",
              "      display: none;\n",
              "      fill: #1967D2;\n",
              "      height: 32px;\n",
              "      padding: 0 0 0 0;\n",
              "      width: 32px;\n",
              "    }\n",
              "\n",
              "    .colab-df-convert:hover {\n",
              "      background-color: #E2EBFA;\n",
              "      box-shadow: 0px 1px 2px rgba(60, 64, 67, 0.3), 0px 1px 3px 1px rgba(60, 64, 67, 0.15);\n",
              "      fill: #174EA6;\n",
              "    }\n",
              "\n",
              "    [theme=dark] .colab-df-convert {\n",
              "      background-color: #3B4455;\n",
              "      fill: #D2E3FC;\n",
              "    }\n",
              "\n",
              "    [theme=dark] .colab-df-convert:hover {\n",
              "      background-color: #434B5C;\n",
              "      box-shadow: 0px 1px 3px 1px rgba(0, 0, 0, 0.15);\n",
              "      filter: drop-shadow(0px 1px 2px rgba(0, 0, 0, 0.3));\n",
              "      fill: #FFFFFF;\n",
              "    }\n",
              "  </style>\n",
              "\n",
              "      <script>\n",
              "        const buttonEl =\n",
              "          document.querySelector('#df-61c7b39a-d339-4d49-83f3-44d474391109 button.colab-df-convert');\n",
              "        buttonEl.style.display =\n",
              "          google.colab.kernel.accessAllowed ? 'block' : 'none';\n",
              "\n",
              "        async function convertToInteractive(key) {\n",
              "          const element = document.querySelector('#df-61c7b39a-d339-4d49-83f3-44d474391109');\n",
              "          const dataTable =\n",
              "            await google.colab.kernel.invokeFunction('convertToInteractive',\n",
              "                                                     [key], {});\n",
              "          if (!dataTable) return;\n",
              "\n",
              "          const docLinkHtml = 'Like what you see? Visit the ' +\n",
              "            '<a target=\"_blank\" href=https://colab.research.google.com/notebooks/data_table.ipynb>data table notebook</a>'\n",
              "            + ' to learn more about interactive tables.';\n",
              "          element.innerHTML = '';\n",
              "          dataTable['output_type'] = 'display_data';\n",
              "          await google.colab.output.renderOutput(dataTable, element);\n",
              "          const docLink = document.createElement('div');\n",
              "          docLink.innerHTML = docLinkHtml;\n",
              "          element.appendChild(docLink);\n",
              "        }\n",
              "      </script>\n",
              "    </div>\n",
              "  </div>\n",
              "  "
            ]
          },
          "metadata": {},
          "execution_count": 52
        }
      ],
      "source": [
        "df.head()"
      ]
    },
    {
      "cell_type": "code",
      "source": [
        "df['countries'].value_counts()"
      ],
      "metadata": {
        "colab": {
          "base_uri": "https://localhost:8080/"
        },
        "id": "iPCuZitfS2VH",
        "outputId": "bef4eb38-2f79-4205-a6f4-f556426564c8"
      },
      "execution_count": null,
      "outputs": [
        {
          "output_type": "execute_result",
          "data": {
            "text/plain": [
              "ALB    51\n",
              "IND    51\n",
              "IRQ    51\n",
              "ISL    51\n",
              "ISR    51\n",
              "       ..\n",
              "MNE    15\n",
              "SRB    15\n",
              "EU     10\n",
              "SSD     9\n",
              "POR     1\n",
              "Name: countries, Length: 201, dtype: int64"
            ]
          },
          "metadata": {},
          "execution_count": 53
        }
      ]
    },
    {
      "cell_type": "markdown",
      "source": [],
      "metadata": {
        "id": "Rsfng3n7D7MH"
      }
    },
    {
      "cell_type": "markdown",
      "source": [
        "## <font color = 'dodgerblue'> **Get Subset of Data**\n",
        "\n",
        "For the HW we will use subset of data. We will extract data for USA and India. The Country codes are \"USA\" and \"IND\"."
      ],
      "metadata": {
        "id": "hWlQJ50hECSR"
      }
    },
    {
      "cell_type": "code",
      "source": [
        "df_subset = df[(df['countries']=='USA') | (df['countries']=='IND')].copy()"
      ],
      "metadata": {
        "id": "X5tn0Vz1SeB-"
      },
      "execution_count": null,
      "outputs": []
    },
    {
      "cell_type": "code",
      "source": [
        "df_subset['countries'].value_counts()"
      ],
      "metadata": {
        "colab": {
          "base_uri": "https://localhost:8080/"
        },
        "id": "_c_nbRu-TBKV",
        "outputId": "ceea0532-224d-469f-a526-85a87f2809c2"
      },
      "execution_count": null,
      "outputs": [
        {
          "output_type": "execute_result",
          "data": {
            "text/plain": [
              "IND    51\n",
              "USA    51\n",
              "Name: countries, dtype: int64"
            ]
          },
          "metadata": {},
          "execution_count": 55
        }
      ]
    },
    {
      "cell_type": "code",
      "source": [
        "df_subset.head()"
      ],
      "metadata": {
        "colab": {
          "base_uri": "https://localhost:8080/",
          "height": 652
        },
        "id": "FgeSJNMgZuFT",
        "outputId": "59903b5a-bbdb-4014-e86d-4f8b6c36b5df"
      },
      "execution_count": null,
      "outputs": [
        {
          "output_type": "execute_result",
          "data": {
            "text/plain": [
              "     Unnamed: 0  years countries  sessions  \\\n",
              "26           26   1970       IND        25   \n",
              "65           65   1970       USA        25   \n",
              "114         114   1971       IND        26   \n",
              "179         179   1971       USA        26   \n",
              "238         238   1972       IND        27   \n",
              "\n",
              "                                              speeches  \\\n",
              "26   40.\\t Mr. President, I offer you our congratul...   \n",
              "65   1.\\t It is my privilege to extend to you once ...   \n",
              "114  38.\\tMr. President, on behalf of the people of...   \n",
              "179   Mr. President, I should like first of all to ...   \n",
              "238  Mr. President, I offer you on behalf of India ...   \n",
              "\n",
              "                                      cleaned_speeches  \n",
              "26    Mr. President, I offer you our congratulation...  \n",
              "65    It is my privilege to extend to you once agai...  \n",
              "114  Mr. President, on behalf of the people of Indi...  \n",
              "179   Mr. President, I should like first of all to ...  \n",
              "238  Mr. President, I offer you on behalf of India ...  "
            ],
            "text/html": [
              "\n",
              "  <div id=\"df-5e96f88b-2693-41ce-8352-a297e969c6b5\">\n",
              "    <div class=\"colab-df-container\">\n",
              "      <div>\n",
              "<style scoped>\n",
              "    .dataframe tbody tr th:only-of-type {\n",
              "        vertical-align: middle;\n",
              "    }\n",
              "\n",
              "    .dataframe tbody tr th {\n",
              "        vertical-align: top;\n",
              "    }\n",
              "\n",
              "    .dataframe thead th {\n",
              "        text-align: right;\n",
              "    }\n",
              "</style>\n",
              "<table border=\"1\" class=\"dataframe\">\n",
              "  <thead>\n",
              "    <tr style=\"text-align: right;\">\n",
              "      <th></th>\n",
              "      <th>Unnamed: 0</th>\n",
              "      <th>years</th>\n",
              "      <th>countries</th>\n",
              "      <th>sessions</th>\n",
              "      <th>speeches</th>\n",
              "      <th>cleaned_speeches</th>\n",
              "    </tr>\n",
              "  </thead>\n",
              "  <tbody>\n",
              "    <tr>\n",
              "      <th>26</th>\n",
              "      <td>26</td>\n",
              "      <td>1970</td>\n",
              "      <td>IND</td>\n",
              "      <td>25</td>\n",
              "      <td>40.\\t Mr. President, I offer you our congratul...</td>\n",
              "      <td>Mr. President, I offer you our congratulation...</td>\n",
              "    </tr>\n",
              "    <tr>\n",
              "      <th>65</th>\n",
              "      <td>65</td>\n",
              "      <td>1970</td>\n",
              "      <td>USA</td>\n",
              "      <td>25</td>\n",
              "      <td>1.\\t It is my privilege to extend to you once ...</td>\n",
              "      <td>It is my privilege to extend to you once agai...</td>\n",
              "    </tr>\n",
              "    <tr>\n",
              "      <th>114</th>\n",
              "      <td>114</td>\n",
              "      <td>1971</td>\n",
              "      <td>IND</td>\n",
              "      <td>26</td>\n",
              "      <td>38.\\tMr. President, on behalf of the people of...</td>\n",
              "      <td>Mr. President, on behalf of the people of Indi...</td>\n",
              "    </tr>\n",
              "    <tr>\n",
              "      <th>179</th>\n",
              "      <td>179</td>\n",
              "      <td>1971</td>\n",
              "      <td>USA</td>\n",
              "      <td>26</td>\n",
              "      <td>Mr. President, I should like first of all to ...</td>\n",
              "      <td>Mr. President, I should like first of all to ...</td>\n",
              "    </tr>\n",
              "    <tr>\n",
              "      <th>238</th>\n",
              "      <td>238</td>\n",
              "      <td>1972</td>\n",
              "      <td>IND</td>\n",
              "      <td>27</td>\n",
              "      <td>Mr. President, I offer you on behalf of India ...</td>\n",
              "      <td>Mr. President, I offer you on behalf of India ...</td>\n",
              "    </tr>\n",
              "  </tbody>\n",
              "</table>\n",
              "</div>\n",
              "      <button class=\"colab-df-convert\" onclick=\"convertToInteractive('df-5e96f88b-2693-41ce-8352-a297e969c6b5')\"\n",
              "              title=\"Convert this dataframe to an interactive table.\"\n",
              "              style=\"display:none;\">\n",
              "        \n",
              "  <svg xmlns=\"http://www.w3.org/2000/svg\" height=\"24px\"viewBox=\"0 0 24 24\"\n",
              "       width=\"24px\">\n",
              "    <path d=\"M0 0h24v24H0V0z\" fill=\"none\"/>\n",
              "    <path d=\"M18.56 5.44l.94 2.06.94-2.06 2.06-.94-2.06-.94-.94-2.06-.94 2.06-2.06.94zm-11 1L8.5 8.5l.94-2.06 2.06-.94-2.06-.94L8.5 2.5l-.94 2.06-2.06.94zm10 10l.94 2.06.94-2.06 2.06-.94-2.06-.94-.94-2.06-.94 2.06-2.06.94z\"/><path d=\"M17.41 7.96l-1.37-1.37c-.4-.4-.92-.59-1.43-.59-.52 0-1.04.2-1.43.59L10.3 9.45l-7.72 7.72c-.78.78-.78 2.05 0 2.83L4 21.41c.39.39.9.59 1.41.59.51 0 1.02-.2 1.41-.59l7.78-7.78 2.81-2.81c.8-.78.8-2.07 0-2.86zM5.41 20L4 18.59l7.72-7.72 1.47 1.35L5.41 20z\"/>\n",
              "  </svg>\n",
              "      </button>\n",
              "      \n",
              "  <style>\n",
              "    .colab-df-container {\n",
              "      display:flex;\n",
              "      flex-wrap:wrap;\n",
              "      gap: 12px;\n",
              "    }\n",
              "\n",
              "    .colab-df-convert {\n",
              "      background-color: #E8F0FE;\n",
              "      border: none;\n",
              "      border-radius: 50%;\n",
              "      cursor: pointer;\n",
              "      display: none;\n",
              "      fill: #1967D2;\n",
              "      height: 32px;\n",
              "      padding: 0 0 0 0;\n",
              "      width: 32px;\n",
              "    }\n",
              "\n",
              "    .colab-df-convert:hover {\n",
              "      background-color: #E2EBFA;\n",
              "      box-shadow: 0px 1px 2px rgba(60, 64, 67, 0.3), 0px 1px 3px 1px rgba(60, 64, 67, 0.15);\n",
              "      fill: #174EA6;\n",
              "    }\n",
              "\n",
              "    [theme=dark] .colab-df-convert {\n",
              "      background-color: #3B4455;\n",
              "      fill: #D2E3FC;\n",
              "    }\n",
              "\n",
              "    [theme=dark] .colab-df-convert:hover {\n",
              "      background-color: #434B5C;\n",
              "      box-shadow: 0px 1px 3px 1px rgba(0, 0, 0, 0.15);\n",
              "      filter: drop-shadow(0px 1px 2px rgba(0, 0, 0, 0.3));\n",
              "      fill: #FFFFFF;\n",
              "    }\n",
              "  </style>\n",
              "\n",
              "      <script>\n",
              "        const buttonEl =\n",
              "          document.querySelector('#df-5e96f88b-2693-41ce-8352-a297e969c6b5 button.colab-df-convert');\n",
              "        buttonEl.style.display =\n",
              "          google.colab.kernel.accessAllowed ? 'block' : 'none';\n",
              "\n",
              "        async function convertToInteractive(key) {\n",
              "          const element = document.querySelector('#df-5e96f88b-2693-41ce-8352-a297e969c6b5');\n",
              "          const dataTable =\n",
              "            await google.colab.kernel.invokeFunction('convertToInteractive',\n",
              "                                                     [key], {});\n",
              "          if (!dataTable) return;\n",
              "\n",
              "          const docLinkHtml = 'Like what you see? Visit the ' +\n",
              "            '<a target=\"_blank\" href=https://colab.research.google.com/notebooks/data_table.ipynb>data table notebook</a>'\n",
              "            + ' to learn more about interactive tables.';\n",
              "          element.innerHTML = '';\n",
              "          dataTable['output_type'] = 'display_data';\n",
              "          await google.colab.output.renderOutput(dataTable, element);\n",
              "          const docLink = document.createElement('div');\n",
              "          docLink.innerHTML = docLinkHtml;\n",
              "          element.appendChild(docLink);\n",
              "        }\n",
              "      </script>\n",
              "    </div>\n",
              "  </div>\n",
              "  "
            ]
          },
          "metadata": {},
          "execution_count": 56
        }
      ]
    },
    {
      "cell_type": "markdown",
      "source": [
        "## <font color = 'dodgerblue'>  **Task Description**\n",
        "\n",
        "For the task you will use the subset of data related to speeches of India and USA only. We have extracted this subset above.\n",
        "\n",
        "In this task you will have to extract top ten (based on frequency) initiatives mentioned in speeches from USA and India. The initiatives are defined based on follwing set\n",
        "\n",
        "```\n",
        "initiative_list = ['programme','scheme',\n",
        "                 'initiative','campaign',\n",
        "                 'agreement','conference',\n",
        "                 'alliance','plan']\n",
        "```\n",
        "\n",
        "Some examples of initiatives will be - (1) United Nations International Drug Control Programme (2) Global Peace Operations Initiative (3) Global Alliance.\n",
        "\n",
        "Negative exaples -- (1) good plan, (2) excellent initiative etc.\n",
        "\n",
        "- The initiatives can be two or more tokens. The last token will be the token from the list above.\n",
        "- You have to extract the unique initiatives from each speech (Hint : convert list of matches to set)\n",
        "- Finally, you have to provide the top ten initiatives in speeches across the years for USA and India.\n"
      ],
      "metadata": {
        "id": "Njk4k48LTs6d"
      }
    },
    {
      "cell_type": "markdown",
      "metadata": {
        "id": "65e13abb-5a91-496a-ab6e-e6490a230fa7"
      },
      "source": [
        "## <font color = 'dodgerblue'>**Understanding Structure of initiatives/plans/schemes**"
      ]
    },
    {
      "cell_type": "code",
      "execution_count": null,
      "metadata": {
        "execution": {
          "iopub.execute_input": "2022-09-24T20:02:13.817478Z",
          "iopub.status.busy": "2022-09-24T20:02:13.817257Z",
          "iopub.status.idle": "2022-09-24T20:02:14.203647Z",
          "shell.execute_reply": "2022-09-24T20:02:14.203075Z",
          "shell.execute_reply.started": "2022-09-24T20:02:13.817466Z"
        },
        "id": "082cfa16-f466-4291-bf48-117cfc4ead7e",
        "tags": [],
        "colab": {
          "base_uri": "https://localhost:8080/"
        },
        "outputId": "534ba596-0436-4b25-d9ac-5ae3f6b01268"
      },
      "outputs": [
        {
          "output_type": "stream",
          "name": "stderr",
          "text": [
            "/usr/local/lib/python3.8/dist-packages/spacy/util.py:877: UserWarning: [W095] Model 'en_core_web_sm' (3.5.0) was trained with spaCy v3.5 and may not be 100% compatible with the current version (3.4.4). If you see errors or degraded performance, download a newer compatible model or retrain your custom model with the current spaCy version. For more details and available updates, run: python -m spacy validate\n",
            "  warnings.warn(warn_msg)\n"
          ]
        }
      ],
      "source": [
        "nlp = spacy.load('en_core_web_sm')"
      ]
    },
    {
      "cell_type": "code",
      "execution_count": null,
      "metadata": {
        "execution": {
          "iopub.execute_input": "2022-09-24T20:02:14.204338Z",
          "iopub.status.busy": "2022-09-24T20:02:14.204213Z",
          "iopub.status.idle": "2022-09-24T20:02:14.226646Z",
          "shell.execute_reply": "2022-09-24T20:02:14.226172Z",
          "shell.execute_reply.started": "2022-09-24T20:02:14.204326Z"
        },
        "id": "0f27e27e-7cb4-4ba8-943a-a3b63b1475c2",
        "tags": []
      },
      "outputs": [],
      "source": [
        "sample = '''The United States will continue its strong efforts to advance the United Nations plan for Namibia.The United States and Italy have proposed a Global Peace Operations Initiative\n",
        "For 35 years, United Nations International Drug Control Programme has helped. This scheme was good. It was a great plan'''"
      ]
    },
    {
      "cell_type": "code",
      "execution_count": null,
      "metadata": {
        "execution": {
          "iopub.execute_input": "2022-09-24T20:02:14.227286Z",
          "iopub.status.busy": "2022-09-24T20:02:14.227120Z",
          "iopub.status.idle": "2022-09-24T20:02:14.259478Z",
          "shell.execute_reply": "2022-09-24T20:02:14.259011Z",
          "shell.execute_reply.started": "2022-09-24T20:02:14.227273Z"
        },
        "id": "5ff1a9ec-3387-4d3c-81a5-aa9f8d75b16b",
        "outputId": "6bceb342-134d-4726-9682-939358610ea9",
        "tags": [],
        "colab": {
          "base_uri": "https://localhost:8080/"
        }
      },
      "outputs": [
        {
          "output_type": "stream",
          "name": "stdout",
          "text": [
            "token.text      -> token.pos_ -> token.dep_\n",
            "The             -> DET        -> det       \n",
            "United          -> PROPN      -> compound  \n",
            "States          -> PROPN      -> nsubj     \n",
            "will            -> AUX        -> aux       \n",
            "continue        -> VERB       -> ROOT      \n",
            "its             -> PRON       -> poss      \n",
            "strong          -> ADJ        -> amod      \n",
            "efforts         -> NOUN       -> dobj      \n",
            "to              -> PART       -> aux       \n",
            "advance         -> VERB       -> acl       \n",
            "the             -> DET        -> det       \n",
            "United          -> PROPN      -> compound  \n",
            "Nations         -> PROPN      -> compound  \n",
            "plan            -> NOUN       -> dobj      \n",
            "for             -> ADP        -> prep      \n",
            "Namibia         -> PROPN      -> pobj      \n",
            ".               -> PUNCT      -> punct     \n",
            "The             -> DET        -> det       \n",
            "United          -> PROPN      -> compound  \n",
            "States          -> PROPN      -> nsubj     \n",
            "and             -> CCONJ      -> cc        \n",
            "Italy           -> PROPN      -> conj      \n",
            "have            -> AUX        -> aux       \n",
            "proposed        -> VERB       -> ROOT      \n",
            "a               -> DET        -> det       \n",
            "Global          -> PROPN      -> compound  \n",
            "Peace           -> PROPN      -> compound  \n",
            "Operations      -> PROPN      -> compound  \n",
            "Initiative      -> PROPN      -> dobj      \n",
            "\n",
            "               -> SPACE      -> dep       \n",
            "For             -> ADP        -> prep      \n",
            "35              -> NUM        -> nummod    \n",
            "years           -> NOUN       -> pobj      \n",
            ",               -> PUNCT      -> punct     \n",
            "United          -> PROPN      -> compound  \n",
            "Nations         -> PROPN      -> compound  \n",
            "International   -> PROPN      -> compound  \n",
            "Drug            -> PROPN      -> compound  \n",
            "Control         -> PROPN      -> compound  \n",
            "Programme       -> PROPN      -> nsubj     \n",
            "has             -> AUX        -> aux       \n",
            "helped          -> VERB       -> conj      \n",
            ".               -> PUNCT      -> punct     \n",
            "This            -> DET        -> det       \n",
            "scheme          -> NOUN       -> nsubj     \n",
            "was             -> AUX        -> ROOT      \n",
            "good            -> ADJ        -> acomp     \n",
            ".               -> PUNCT      -> punct     \n",
            "It              -> PRON       -> nsubj     \n",
            "was             -> AUX        -> ROOT      \n",
            "a               -> DET        -> det       \n",
            "great           -> ADJ        -> amod      \n",
            "plan            -> NOUN       -> attr      \n"
          ]
        }
      ],
      "source": [
        "doc = nlp(sample)\n",
        "print(f\"{'token.text':<15} -> {'token.pos_':<10} -> {'token.dep_':<10}\")\n",
        "for token in doc:\n",
        "    print(f'{token.text:<15} -> {token.pos_:<10} -> {token.dep_:<10}')"
      ]
    },
    {
      "cell_type": "markdown",
      "metadata": {
        "id": "47768899-ff7f-455a-88db-e422ba64bc1e"
      },
      "source": [
        "## <font color = 'dodgerblue'> **Get Initiatives**"
      ]
    },
    {
      "cell_type": "code",
      "execution_count": null,
      "metadata": {
        "execution": {
          "iopub.execute_input": "2022-09-24T20:02:14.260067Z",
          "iopub.status.busy": "2022-09-24T20:02:14.259930Z",
          "iopub.status.idle": "2022-09-24T20:02:14.283563Z",
          "shell.execute_reply": "2022-09-24T20:02:14.283163Z",
          "shell.execute_reply.started": "2022-09-24T20:02:14.260054Z"
        },
        "id": "bb085804-ce54-4c13-9a05-be2fe2de2660",
        "tags": []
      },
      "outputs": [],
      "source": [
        "initiative_list = ['programme','scheme',\n",
        "                 'initiative','campaign',\n",
        "                 'agreement','conference',\n",
        "                 'alliance','plan']"
      ]
    },
    {
      "cell_type": "code",
      "execution_count": null,
      "metadata": {
        "execution": {
          "iopub.execute_input": "2022-09-24T20:02:14.284432Z",
          "iopub.status.busy": "2022-09-24T20:02:14.284121Z",
          "iopub.status.idle": "2022-09-24T20:02:14.307473Z",
          "shell.execute_reply": "2022-09-24T20:02:14.306988Z",
          "shell.execute_reply.started": "2022-09-24T20:02:14.284414Z"
        },
        "id": "45f5fc6c-5949-432a-b368-d057bc2d8fdc",
        "tags": []
      },
      "outputs": [],
      "source": [
        "from spacy.matcher import Matcher"
      ]
    },
    {
      "cell_type": "code",
      "execution_count": null,
      "metadata": {
        "execution": {
          "iopub.execute_input": "2022-09-24T20:02:14.308365Z",
          "iopub.status.busy": "2022-09-24T20:02:14.308023Z",
          "iopub.status.idle": "2022-09-24T20:02:14.340046Z",
          "shell.execute_reply": "2022-09-24T20:02:14.339597Z",
          "shell.execute_reply.started": "2022-09-24T20:02:14.308346Z"
        },
        "id": "6480c71a-cfdb-4982-aa01-06e503d8f958",
        "tags": [],
        "colab": {
          "base_uri": "https://localhost:8080/"
        },
        "outputId": "6b3457cb-1695-46fe-f436-ff82a02e1c1a"
      },
      "outputs": [
        {
          "output_type": "stream",
          "name": "stdout",
          "text": [
            "United Nations International Drug Control Programme\n",
            "Global Peace Operations Initiative\n",
            "United Nations plan\n"
          ]
        }
      ],
      "source": [
        "matcher = Matcher(nlp.vocab)\n",
        "doc = nlp(sample)\n",
        "pattern1 =[{\"POS\": \"PROPN\",\"OP\":\"+\"},\n",
        "              {\"LOWER\": {\"IN\": initiative_list}}]\n",
        " # code here\n",
        "matcher.add(\"Initiative\",[pattern1], greedy=\"LONGEST\")\n",
        "\n",
        "#matcher.add(\"Initiatives\" , [pattern1])# code here)\n",
        "matches = matcher(doc)\n",
        "for match_id, start, end in matches:\n",
        "  print(doc[start:end].text)"
      ]
    },
    {
      "cell_type": "code",
      "execution_count": null,
      "metadata": {
        "execution": {
          "iopub.execute_input": "2022-09-24T20:02:14.340974Z",
          "iopub.status.busy": "2022-09-24T20:02:14.340728Z",
          "iopub.status.idle": "2022-09-24T20:02:14.364105Z",
          "shell.execute_reply": "2022-09-24T20:02:14.363646Z",
          "shell.execute_reply.started": "2022-09-24T20:02:14.340955Z"
        },
        "id": "70c8272d-48da-44ac-b706-84d34d22ec8d",
        "tags": []
      },
      "outputs": [],
      "source": [
        "def get_initiatives(text):\n",
        "    nlp = spacy.load('en_core_web_sm')\n",
        "    initiative_list = ['programme','scheme',\n",
        "                 'initiative','campaign',\n",
        "                 'agreement','conference',\n",
        "                 'alliance','plan']\n",
        "\n",
        "    pattern1 = [{\"POS\": \"PROPN\",\"OP\":\"+\"},\n",
        "              {\"LOWER\": {\"IN\": initiative_list}}] # code here\n",
        "    matcher = Matcher(nlp.vocab)\n",
        "    matcher.add(\"Initiative\", [pattern1],greedy=\"LONGEST\")# code here)\n",
        "\n",
        "    initiatives =[]\n",
        "    for doc in nlp.pipe(text, batch_size=20, n_process=8):\n",
        "        matches = matcher(doc)\n",
        "        initiative_doc = [doc[start:end].text.strip() for match_id, start, end in matches]# code here\n",
        "        initiatives.append(initiative_doc)\n",
        "    return initiatives"
      ]
    },
    {
      "cell_type": "code",
      "source": [
        "# if your pattern is correct, running this cell should give you the same result as result below\n",
        "get_initiatives([sample])"
      ],
      "metadata": {
        "id": "kDd6I8dteyuO",
        "colab": {
          "base_uri": "https://localhost:8080/"
        },
        "outputId": "a30723a1-d010-4216-b8d4-5a3709cc25cb"
      },
      "execution_count": null,
      "outputs": [
        {
          "output_type": "stream",
          "name": "stderr",
          "text": [
            "/usr/local/lib/python3.8/dist-packages/spacy/util.py:877: UserWarning: [W095] Model 'en_core_web_sm' (3.5.0) was trained with spaCy v3.5 and may not be 100% compatible with the current version (3.4.4). If you see errors or degraded performance, download a newer compatible model or retrain your custom model with the current spaCy version. For more details and available updates, run: python -m spacy validate\n",
            "  warnings.warn(warn_msg)\n"
          ]
        },
        {
          "output_type": "execute_result",
          "data": {
            "text/plain": [
              "[['United Nations International Drug Control Programme',\n",
              "  'Global Peace Operations Initiative',\n",
              "  'United Nations plan']]"
            ]
          },
          "metadata": {},
          "execution_count": 78
        }
      ]
    },
    {
      "cell_type": "code",
      "execution_count": null,
      "metadata": {
        "execution": {
          "iopub.execute_input": "2022-09-24T20:02:14.364881Z",
          "iopub.status.busy": "2022-09-24T20:02:14.364681Z",
          "iopub.status.idle": "2022-09-24T20:02:14.488589Z",
          "shell.execute_reply": "2022-09-24T20:02:14.487897Z",
          "shell.execute_reply.started": "2022-09-24T20:02:14.364863Z"
        },
        "id": "e7c58928-ad4c-40dc-ba8f-16dee7aa912d",
        "outputId": "5c75af04-6c4b-4b5c-a477-8dda320c45e6",
        "tags": [],
        "colab": {
          "base_uri": "https://localhost:8080/"
        }
      },
      "outputs": [
        {
          "output_type": "execute_result",
          "data": {
            "text/plain": [
              "[['United Nations plan',\n",
              "  'Global Peace Operations Initiative',\n",
              "  'United Nations International Drug Control Programme']]"
            ]
          },
          "metadata": {},
          "execution_count": 34
        }
      ],
      "source": [
        "# DO NOT RUN THIS CELL"
      ]
    },
    {
      "cell_type": "code",
      "source": [
        "# if your pattern is correct, running this cell should give you the same result as result below\n",
        "get_initiatives([df_subset.loc[114,'cleaned_speeches']])"
      ],
      "metadata": {
        "id": "Hzh_b7F-fAXd",
        "colab": {
          "base_uri": "https://localhost:8080/"
        },
        "outputId": "5eeb5f2b-22aa-4e9e-9b68-0f8e2c400d1c"
      },
      "execution_count": null,
      "outputs": [
        {
          "output_type": "execute_result",
          "data": {
            "text/plain": [
              "[['Fourth International Conference',\n",
              "  'Quadripartite Agreement',\n",
              "  'General Agreement']]"
            ]
          },
          "metadata": {},
          "execution_count": 79
        }
      ]
    },
    {
      "cell_type": "code",
      "execution_count": null,
      "metadata": {
        "execution": {
          "iopub.execute_input": "2022-09-24T20:02:14.489920Z",
          "iopub.status.busy": "2022-09-24T20:02:14.489625Z",
          "iopub.status.idle": "2022-09-24T20:02:15.192042Z",
          "shell.execute_reply": "2022-09-24T20:02:15.191463Z",
          "shell.execute_reply.started": "2022-09-24T20:02:14.489898Z"
        },
        "id": "92c29e1a-b7b8-4a52-a4c7-b48a817f1810",
        "outputId": "0deae4e2-8790-44c3-8983-12061c6ec2d1",
        "tags": [],
        "colab": {
          "base_uri": "https://localhost:8080/"
        }
      },
      "outputs": [
        {
          "output_type": "execute_result",
          "data": {
            "text/plain": [
              "[['General Agreement',\n",
              "  'Quadripartite Agreement',\n",
              "  'Fourth International Conference']]"
            ]
          },
          "metadata": {},
          "execution_count": 35
        }
      ],
      "source": [
        "# DO NOT RUN THIS CELL"
      ]
    },
    {
      "cell_type": "code",
      "execution_count": null,
      "metadata": {
        "execution": {
          "iopub.execute_input": "2022-09-24T20:02:36.371014Z",
          "iopub.status.busy": "2022-09-24T20:02:36.370802Z",
          "iopub.status.idle": "2022-09-24T20:07:45.577063Z",
          "shell.execute_reply": "2022-09-24T20:07:45.576313Z",
          "shell.execute_reply.started": "2022-09-24T20:02:36.371000Z"
        },
        "id": "e6fa0982-b473-49fa-8bc2-61f7f487f5c0",
        "tags": []
      },
      "outputs": [],
      "source": [
        "initiatives = get_initiatives(df_subset['cleaned_speeches'].values)"
      ]
    },
    {
      "cell_type": "code",
      "execution_count": null,
      "metadata": {
        "execution": {
          "iopub.execute_input": "2022-09-24T20:08:15.715811Z",
          "iopub.status.busy": "2022-09-24T20:08:15.715597Z",
          "iopub.status.idle": "2022-09-24T20:08:15.741489Z",
          "shell.execute_reply": "2022-09-24T20:08:15.741116Z",
          "shell.execute_reply.started": "2022-09-24T20:08:15.715797Z"
        },
        "id": "5e288308-2595-4ae6-964b-bac941b7bc2a"
      },
      "outputs": [],
      "source": [
        "df_subset['initiatives'] = initiatives"
      ]
    },
    {
      "cell_type": "code",
      "source": [
        "# if your pattern is correct, running this cell should give you the same result as result below\n",
        "df_subset.head()"
      ],
      "metadata": {
        "id": "gd7tiYGRfMpx",
        "colab": {
          "base_uri": "https://localhost:8080/",
          "height": 354
        },
        "outputId": "66e92fde-9639-4bf4-b10e-1a33fd5770a5"
      },
      "execution_count": null,
      "outputs": [
        {
          "output_type": "execute_result",
          "data": {
            "text/plain": [
              "     Unnamed: 0  years countries  sessions  \\\n",
              "26           26   1970       IND        25   \n",
              "65           65   1970       USA        25   \n",
              "114         114   1971       IND        26   \n",
              "179         179   1971       USA        26   \n",
              "238         238   1972       IND        27   \n",
              "\n",
              "                                              speeches  \\\n",
              "26   40.\\t Mr. President, I offer you our congratul...   \n",
              "65   1.\\t It is my privilege to extend to you once ...   \n",
              "114  38.\\tMr. President, on behalf of the people of...   \n",
              "179   Mr. President, I should like first of all to ...   \n",
              "238  Mr. President, I offer you on behalf of India ...   \n",
              "\n",
              "                                      cleaned_speeches  \\\n",
              "26    Mr. President, I offer you our congratulation...   \n",
              "65    It is my privilege to extend to you once agai...   \n",
              "114  Mr. President, on behalf of the people of Indi...   \n",
              "179   Mr. President, I should like first of all to ...   \n",
              "238  Mr. President, I offer you on behalf of India ...   \n",
              "\n",
              "                                           initiatives  \n",
              "26                         [United Nations Conference]  \n",
              "65   [United States initiative, United Nations Conf...  \n",
              "114  [Fourth International Conference, Quadripartit...  \n",
              "179  [Suez Canal agreement, Suez Canal agreement, B...  \n",
              "238  [United Nations Conference, Simla Agreement, S...  "
            ],
            "text/html": [
              "\n",
              "  <div id=\"df-63421cf8-042c-404f-b1d5-4841d574c758\">\n",
              "    <div class=\"colab-df-container\">\n",
              "      <div>\n",
              "<style scoped>\n",
              "    .dataframe tbody tr th:only-of-type {\n",
              "        vertical-align: middle;\n",
              "    }\n",
              "\n",
              "    .dataframe tbody tr th {\n",
              "        vertical-align: top;\n",
              "    }\n",
              "\n",
              "    .dataframe thead th {\n",
              "        text-align: right;\n",
              "    }\n",
              "</style>\n",
              "<table border=\"1\" class=\"dataframe\">\n",
              "  <thead>\n",
              "    <tr style=\"text-align: right;\">\n",
              "      <th></th>\n",
              "      <th>Unnamed: 0</th>\n",
              "      <th>years</th>\n",
              "      <th>countries</th>\n",
              "      <th>sessions</th>\n",
              "      <th>speeches</th>\n",
              "      <th>cleaned_speeches</th>\n",
              "      <th>initiatives</th>\n",
              "    </tr>\n",
              "  </thead>\n",
              "  <tbody>\n",
              "    <tr>\n",
              "      <th>26</th>\n",
              "      <td>26</td>\n",
              "      <td>1970</td>\n",
              "      <td>IND</td>\n",
              "      <td>25</td>\n",
              "      <td>40.\\t Mr. President, I offer you our congratul...</td>\n",
              "      <td>Mr. President, I offer you our congratulation...</td>\n",
              "      <td>[United Nations Conference]</td>\n",
              "    </tr>\n",
              "    <tr>\n",
              "      <th>65</th>\n",
              "      <td>65</td>\n",
              "      <td>1970</td>\n",
              "      <td>USA</td>\n",
              "      <td>25</td>\n",
              "      <td>1.\\t It is my privilege to extend to you once ...</td>\n",
              "      <td>It is my privilege to extend to you once agai...</td>\n",
              "      <td>[United States initiative, United Nations Conf...</td>\n",
              "    </tr>\n",
              "    <tr>\n",
              "      <th>114</th>\n",
              "      <td>114</td>\n",
              "      <td>1971</td>\n",
              "      <td>IND</td>\n",
              "      <td>26</td>\n",
              "      <td>38.\\tMr. President, on behalf of the people of...</td>\n",
              "      <td>Mr. President, on behalf of the people of Indi...</td>\n",
              "      <td>[Fourth International Conference, Quadripartit...</td>\n",
              "    </tr>\n",
              "    <tr>\n",
              "      <th>179</th>\n",
              "      <td>179</td>\n",
              "      <td>1971</td>\n",
              "      <td>USA</td>\n",
              "      <td>26</td>\n",
              "      <td>Mr. President, I should like first of all to ...</td>\n",
              "      <td>Mr. President, I should like first of all to ...</td>\n",
              "      <td>[Suez Canal agreement, Suez Canal agreement, B...</td>\n",
              "    </tr>\n",
              "    <tr>\n",
              "      <th>238</th>\n",
              "      <td>238</td>\n",
              "      <td>1972</td>\n",
              "      <td>IND</td>\n",
              "      <td>27</td>\n",
              "      <td>Mr. President, I offer you on behalf of India ...</td>\n",
              "      <td>Mr. President, I offer you on behalf of India ...</td>\n",
              "      <td>[United Nations Conference, Simla Agreement, S...</td>\n",
              "    </tr>\n",
              "  </tbody>\n",
              "</table>\n",
              "</div>\n",
              "      <button class=\"colab-df-convert\" onclick=\"convertToInteractive('df-63421cf8-042c-404f-b1d5-4841d574c758')\"\n",
              "              title=\"Convert this dataframe to an interactive table.\"\n",
              "              style=\"display:none;\">\n",
              "        \n",
              "  <svg xmlns=\"http://www.w3.org/2000/svg\" height=\"24px\"viewBox=\"0 0 24 24\"\n",
              "       width=\"24px\">\n",
              "    <path d=\"M0 0h24v24H0V0z\" fill=\"none\"/>\n",
              "    <path d=\"M18.56 5.44l.94 2.06.94-2.06 2.06-.94-2.06-.94-.94-2.06-.94 2.06-2.06.94zm-11 1L8.5 8.5l.94-2.06 2.06-.94-2.06-.94L8.5 2.5l-.94 2.06-2.06.94zm10 10l.94 2.06.94-2.06 2.06-.94-2.06-.94-.94-2.06-.94 2.06-2.06.94z\"/><path d=\"M17.41 7.96l-1.37-1.37c-.4-.4-.92-.59-1.43-.59-.52 0-1.04.2-1.43.59L10.3 9.45l-7.72 7.72c-.78.78-.78 2.05 0 2.83L4 21.41c.39.39.9.59 1.41.59.51 0 1.02-.2 1.41-.59l7.78-7.78 2.81-2.81c.8-.78.8-2.07 0-2.86zM5.41 20L4 18.59l7.72-7.72 1.47 1.35L5.41 20z\"/>\n",
              "  </svg>\n",
              "      </button>\n",
              "      \n",
              "  <style>\n",
              "    .colab-df-container {\n",
              "      display:flex;\n",
              "      flex-wrap:wrap;\n",
              "      gap: 12px;\n",
              "    }\n",
              "\n",
              "    .colab-df-convert {\n",
              "      background-color: #E8F0FE;\n",
              "      border: none;\n",
              "      border-radius: 50%;\n",
              "      cursor: pointer;\n",
              "      display: none;\n",
              "      fill: #1967D2;\n",
              "      height: 32px;\n",
              "      padding: 0 0 0 0;\n",
              "      width: 32px;\n",
              "    }\n",
              "\n",
              "    .colab-df-convert:hover {\n",
              "      background-color: #E2EBFA;\n",
              "      box-shadow: 0px 1px 2px rgba(60, 64, 67, 0.3), 0px 1px 3px 1px rgba(60, 64, 67, 0.15);\n",
              "      fill: #174EA6;\n",
              "    }\n",
              "\n",
              "    [theme=dark] .colab-df-convert {\n",
              "      background-color: #3B4455;\n",
              "      fill: #D2E3FC;\n",
              "    }\n",
              "\n",
              "    [theme=dark] .colab-df-convert:hover {\n",
              "      background-color: #434B5C;\n",
              "      box-shadow: 0px 1px 3px 1px rgba(0, 0, 0, 0.15);\n",
              "      filter: drop-shadow(0px 1px 2px rgba(0, 0, 0, 0.3));\n",
              "      fill: #FFFFFF;\n",
              "    }\n",
              "  </style>\n",
              "\n",
              "      <script>\n",
              "        const buttonEl =\n",
              "          document.querySelector('#df-63421cf8-042c-404f-b1d5-4841d574c758 button.colab-df-convert');\n",
              "        buttonEl.style.display =\n",
              "          google.colab.kernel.accessAllowed ? 'block' : 'none';\n",
              "\n",
              "        async function convertToInteractive(key) {\n",
              "          const element = document.querySelector('#df-63421cf8-042c-404f-b1d5-4841d574c758');\n",
              "          const dataTable =\n",
              "            await google.colab.kernel.invokeFunction('convertToInteractive',\n",
              "                                                     [key], {});\n",
              "          if (!dataTable) return;\n",
              "\n",
              "          const docLinkHtml = 'Like what you see? Visit the ' +\n",
              "            '<a target=\"_blank\" href=https://colab.research.google.com/notebooks/data_table.ipynb>data table notebook</a>'\n",
              "            + ' to learn more about interactive tables.';\n",
              "          element.innerHTML = '';\n",
              "          dataTable['output_type'] = 'display_data';\n",
              "          await google.colab.output.renderOutput(dataTable, element);\n",
              "          const docLink = document.createElement('div');\n",
              "          docLink.innerHTML = docLinkHtml;\n",
              "          element.appendChild(docLink);\n",
              "        }\n",
              "      </script>\n",
              "    </div>\n",
              "  </div>\n",
              "  "
            ]
          },
          "metadata": {},
          "execution_count": 82
        }
      ]
    },
    {
      "cell_type": "code",
      "execution_count": null,
      "metadata": {
        "execution": {
          "iopub.execute_input": "2022-09-24T20:08:19.878301Z",
          "iopub.status.busy": "2022-09-24T20:08:19.878096Z",
          "iopub.status.idle": "2022-09-24T20:08:19.906338Z",
          "shell.execute_reply": "2022-09-24T20:08:19.905948Z",
          "shell.execute_reply.started": "2022-09-24T20:08:19.878288Z"
        },
        "id": "bf4a281e-3362-4d5c-a5ff-ee9e46f6d98f",
        "outputId": "15229334-2a97-4e90-8a2c-1019a4a62244",
        "colab": {
          "base_uri": "https://localhost:8080/",
          "height": 354
        }
      },
      "outputs": [
        {
          "output_type": "execute_result",
          "data": {
            "text/plain": [
              "     Unnamed: 0  years countries  sessions  \\\n",
              "26           26   1970       IND        25   \n",
              "65           65   1970       USA        25   \n",
              "114         114   1971       IND        26   \n",
              "179         179   1971       USA        26   \n",
              "238         238   1972       IND        27   \n",
              "\n",
              "                                              speeches  \\\n",
              "26   40.\\t Mr. President, I offer you our congratul...   \n",
              "65   1.\\t It is my privilege to extend to you once ...   \n",
              "114  38.\\tMr. President, on behalf of the people of...   \n",
              "179   Mr. President, I should like first of all to ...   \n",
              "238  Mr. President, I offer you on behalf of India ...   \n",
              "\n",
              "                                      cleaned_speeches  \\\n",
              "26    Mr. President, I offer you our congratulation...   \n",
              "65    It is my privilege to extend to you once agai...   \n",
              "114  Mr. President, on behalf of the people of Indi...   \n",
              "179   Mr. President, I should like first of all to ...   \n",
              "238  Mr. President, I offer you on behalf of India ...   \n",
              "\n",
              "                                           initiatives  \n",
              "26                         [United Nations Conference]  \n",
              "65   [United Nations Conference, United States init...  \n",
              "114  [General Agreement, Quadripartite Agreement, F...  \n",
              "179           [Suez Canal agreement, Berlin agreement]  \n",
              "238  [Simla Agreement, United Nations Conference, S...  "
            ],
            "text/html": [
              "\n",
              "  <div id=\"df-1b50fd82-b4e4-4cd4-9acb-9e7072584d05\">\n",
              "    <div class=\"colab-df-container\">\n",
              "      <div>\n",
              "<style scoped>\n",
              "    .dataframe tbody tr th:only-of-type {\n",
              "        vertical-align: middle;\n",
              "    }\n",
              "\n",
              "    .dataframe tbody tr th {\n",
              "        vertical-align: top;\n",
              "    }\n",
              "\n",
              "    .dataframe thead th {\n",
              "        text-align: right;\n",
              "    }\n",
              "</style>\n",
              "<table border=\"1\" class=\"dataframe\">\n",
              "  <thead>\n",
              "    <tr style=\"text-align: right;\">\n",
              "      <th></th>\n",
              "      <th>Unnamed: 0</th>\n",
              "      <th>years</th>\n",
              "      <th>countries</th>\n",
              "      <th>sessions</th>\n",
              "      <th>speeches</th>\n",
              "      <th>cleaned_speeches</th>\n",
              "      <th>initiatives</th>\n",
              "    </tr>\n",
              "  </thead>\n",
              "  <tbody>\n",
              "    <tr>\n",
              "      <th>26</th>\n",
              "      <td>26</td>\n",
              "      <td>1970</td>\n",
              "      <td>IND</td>\n",
              "      <td>25</td>\n",
              "      <td>40.\\t Mr. President, I offer you our congratul...</td>\n",
              "      <td>Mr. President, I offer you our congratulation...</td>\n",
              "      <td>[United Nations Conference]</td>\n",
              "    </tr>\n",
              "    <tr>\n",
              "      <th>65</th>\n",
              "      <td>65</td>\n",
              "      <td>1970</td>\n",
              "      <td>USA</td>\n",
              "      <td>25</td>\n",
              "      <td>1.\\t It is my privilege to extend to you once ...</td>\n",
              "      <td>It is my privilege to extend to you once agai...</td>\n",
              "      <td>[United Nations Conference, United States init...</td>\n",
              "    </tr>\n",
              "    <tr>\n",
              "      <th>114</th>\n",
              "      <td>114</td>\n",
              "      <td>1971</td>\n",
              "      <td>IND</td>\n",
              "      <td>26</td>\n",
              "      <td>38.\\tMr. President, on behalf of the people of...</td>\n",
              "      <td>Mr. President, on behalf of the people of Indi...</td>\n",
              "      <td>[General Agreement, Quadripartite Agreement, F...</td>\n",
              "    </tr>\n",
              "    <tr>\n",
              "      <th>179</th>\n",
              "      <td>179</td>\n",
              "      <td>1971</td>\n",
              "      <td>USA</td>\n",
              "      <td>26</td>\n",
              "      <td>Mr. President, I should like first of all to ...</td>\n",
              "      <td>Mr. President, I should like first of all to ...</td>\n",
              "      <td>[Suez Canal agreement, Berlin agreement]</td>\n",
              "    </tr>\n",
              "    <tr>\n",
              "      <th>238</th>\n",
              "      <td>238</td>\n",
              "      <td>1972</td>\n",
              "      <td>IND</td>\n",
              "      <td>27</td>\n",
              "      <td>Mr. President, I offer you on behalf of India ...</td>\n",
              "      <td>Mr. President, I offer you on behalf of India ...</td>\n",
              "      <td>[Simla Agreement, United Nations Conference, S...</td>\n",
              "    </tr>\n",
              "  </tbody>\n",
              "</table>\n",
              "</div>\n",
              "      <button class=\"colab-df-convert\" onclick=\"convertToInteractive('df-1b50fd82-b4e4-4cd4-9acb-9e7072584d05')\"\n",
              "              title=\"Convert this dataframe to an interactive table.\"\n",
              "              style=\"display:none;\">\n",
              "        \n",
              "  <svg xmlns=\"http://www.w3.org/2000/svg\" height=\"24px\"viewBox=\"0 0 24 24\"\n",
              "       width=\"24px\">\n",
              "    <path d=\"M0 0h24v24H0V0z\" fill=\"none\"/>\n",
              "    <path d=\"M18.56 5.44l.94 2.06.94-2.06 2.06-.94-2.06-.94-.94-2.06-.94 2.06-2.06.94zm-11 1L8.5 8.5l.94-2.06 2.06-.94-2.06-.94L8.5 2.5l-.94 2.06-2.06.94zm10 10l.94 2.06.94-2.06 2.06-.94-2.06-.94-.94-2.06-.94 2.06-2.06.94z\"/><path d=\"M17.41 7.96l-1.37-1.37c-.4-.4-.92-.59-1.43-.59-.52 0-1.04.2-1.43.59L10.3 9.45l-7.72 7.72c-.78.78-.78 2.05 0 2.83L4 21.41c.39.39.9.59 1.41.59.51 0 1.02-.2 1.41-.59l7.78-7.78 2.81-2.81c.8-.78.8-2.07 0-2.86zM5.41 20L4 18.59l7.72-7.72 1.47 1.35L5.41 20z\"/>\n",
              "  </svg>\n",
              "      </button>\n",
              "      \n",
              "  <style>\n",
              "    .colab-df-container {\n",
              "      display:flex;\n",
              "      flex-wrap:wrap;\n",
              "      gap: 12px;\n",
              "    }\n",
              "\n",
              "    .colab-df-convert {\n",
              "      background-color: #E8F0FE;\n",
              "      border: none;\n",
              "      border-radius: 50%;\n",
              "      cursor: pointer;\n",
              "      display: none;\n",
              "      fill: #1967D2;\n",
              "      height: 32px;\n",
              "      padding: 0 0 0 0;\n",
              "      width: 32px;\n",
              "    }\n",
              "\n",
              "    .colab-df-convert:hover {\n",
              "      background-color: #E2EBFA;\n",
              "      box-shadow: 0px 1px 2px rgba(60, 64, 67, 0.3), 0px 1px 3px 1px rgba(60, 64, 67, 0.15);\n",
              "      fill: #174EA6;\n",
              "    }\n",
              "\n",
              "    [theme=dark] .colab-df-convert {\n",
              "      background-color: #3B4455;\n",
              "      fill: #D2E3FC;\n",
              "    }\n",
              "\n",
              "    [theme=dark] .colab-df-convert:hover {\n",
              "      background-color: #434B5C;\n",
              "      box-shadow: 0px 1px 3px 1px rgba(0, 0, 0, 0.15);\n",
              "      filter: drop-shadow(0px 1px 2px rgba(0, 0, 0, 0.3));\n",
              "      fill: #FFFFFF;\n",
              "    }\n",
              "  </style>\n",
              "\n",
              "      <script>\n",
              "        const buttonEl =\n",
              "          document.querySelector('#df-1b50fd82-b4e4-4cd4-9acb-9e7072584d05 button.colab-df-convert');\n",
              "        buttonEl.style.display =\n",
              "          google.colab.kernel.accessAllowed ? 'block' : 'none';\n",
              "\n",
              "        async function convertToInteractive(key) {\n",
              "          const element = document.querySelector('#df-1b50fd82-b4e4-4cd4-9acb-9e7072584d05');\n",
              "          const dataTable =\n",
              "            await google.colab.kernel.invokeFunction('convertToInteractive',\n",
              "                                                     [key], {});\n",
              "          if (!dataTable) return;\n",
              "\n",
              "          const docLinkHtml = 'Like what you see? Visit the ' +\n",
              "            '<a target=\"_blank\" href=https://colab.research.google.com/notebooks/data_table.ipynb>data table notebook</a>'\n",
              "            + ' to learn more about interactive tables.';\n",
              "          element.innerHTML = '';\n",
              "          dataTable['output_type'] = 'display_data';\n",
              "          await google.colab.output.renderOutput(dataTable, element);\n",
              "          const docLink = document.createElement('div');\n",
              "          docLink.innerHTML = docLinkHtml;\n",
              "          element.appendChild(docLink);\n",
              "        }\n",
              "      </script>\n",
              "    </div>\n",
              "  </div>\n",
              "  "
            ]
          },
          "metadata": {},
          "execution_count": 38
        }
      ],
      "source": [
        "# DO NOT RUN THIS CELL"
      ]
    },
    {
      "cell_type": "markdown",
      "metadata": {
        "id": "8ec05e26-2639-4fbb-8d28-d42e7b113f4d"
      },
      "source": [
        "## <font color = 'dodgerblue'> **Compare Initiatves of USA and India**"
      ]
    },
    {
      "cell_type": "code",
      "execution_count": null,
      "metadata": {
        "execution": {
          "iopub.execute_input": "2022-09-24T20:16:53.446346Z",
          "iopub.status.busy": "2022-09-24T20:16:53.446090Z",
          "iopub.status.idle": "2022-09-24T20:16:53.480482Z",
          "shell.execute_reply": "2022-09-24T20:16:53.479817Z",
          "shell.execute_reply.started": "2022-09-24T20:16:53.446327Z"
        },
        "id": "e2ef54e6-da69-4fa3-85af-ed75fbc999e3"
      },
      "outputs": [],
      "source": [
        "from collections import Counter"
      ]
    },
    {
      "cell_type": "code",
      "execution_count": null,
      "metadata": {
        "execution": {
          "iopub.execute_input": "2022-09-24T20:31:00.309188Z",
          "iopub.status.busy": "2022-09-24T20:31:00.308980Z",
          "iopub.status.idle": "2022-09-24T20:31:00.331133Z",
          "shell.execute_reply": "2022-09-24T20:31:00.330698Z",
          "shell.execute_reply.started": "2022-09-24T20:31:00.309174Z"
        },
        "id": "86474550-dc8a-4f98-9eb5-c09ecaf7bb6d",
        "tags": []
      },
      "outputs": [],
      "source": [
        "# Write a function that takes country as an input and gives the counter object for that\n",
        "# country as output.\n",
        "# Hint:Start with an empty list. You will have to iterate over the initiative column\n",
        "# for the specific country # and extract all the initiatives in one list\n",
        "# (see append vs extend for python list). You will then pass the list to Counter Object.\n",
        "def get_initiative_country(country: str):\n",
        "    all_initiatives =[]\n",
        "    for index, row in df_subset.iterrows():\n",
        "        if row['countries'] == country:\n",
        "            all_initiatives+=(row['initiatives'])\n",
        "\n",
        "    # code here\n",
        "    return Counter(all_initiatives)"
      ]
    },
    {
      "cell_type": "code",
      "execution_count": null,
      "metadata": {
        "execution": {
          "iopub.execute_input": "2022-09-24T20:31:00.942661Z",
          "iopub.status.busy": "2022-09-24T20:31:00.942485Z",
          "iopub.status.idle": "2022-09-24T20:31:00.966292Z",
          "shell.execute_reply": "2022-09-24T20:31:00.965842Z",
          "shell.execute_reply.started": "2022-09-24T20:31:00.942647Z"
        },
        "id": "bf0de091-1d12-46fc-9e56-970bda955f85",
        "tags": []
      },
      "outputs": [],
      "source": [
        "initiatives_usa = get_initiative_country('USA')"
      ]
    },
    {
      "cell_type": "code",
      "execution_count": null,
      "metadata": {
        "execution": {
          "iopub.execute_input": "2022-09-24T20:31:18.606993Z",
          "iopub.status.busy": "2022-09-24T20:31:18.606786Z",
          "iopub.status.idle": "2022-09-24T20:31:18.638004Z",
          "shell.execute_reply": "2022-09-24T20:31:18.637038Z",
          "shell.execute_reply.started": "2022-09-24T20:31:18.606980Z"
        },
        "id": "93f45afd-9a63-4f88-bcd9-4404f24f745e",
        "tags": []
      },
      "outputs": [],
      "source": [
        "initiatives_india = get_initiative_country('IND')"
      ]
    },
    {
      "cell_type": "code",
      "source": [
        "# If your function is correct, running this cell should give you the similar result as result below\n",
        "# The results need not be exactly the same.\n",
        "initiatives_usa.most_common(10)"
      ],
      "metadata": {
        "id": "Vx_TzYj8fgmy",
        "colab": {
          "base_uri": "https://localhost:8080/"
        },
        "outputId": "fa56b647-f39a-4964-94fd-fe62bf92c6a9"
      },
      "execution_count": null,
      "outputs": [
        {
          "output_type": "execute_result",
          "data": {
            "text/plain": [
              "[('United Nations Conference', 7),\n",
              " ('Armistice Agreement', 7),\n",
              " ('General Agreement', 5),\n",
              " ('World Food Conference', 4),\n",
              " ('Geneva Conference', 4),\n",
              " ('Marshall Plan', 4),\n",
              " ('San Francisco Conference', 4),\n",
              " ('North American Free Trade Agreement', 4),\n",
              " ('Suez Canal agreement', 3),\n",
              " ('Sinai agreement', 3)]"
            ]
          },
          "metadata": {},
          "execution_count": 87
        }
      ]
    },
    {
      "cell_type": "code",
      "execution_count": null,
      "metadata": {
        "execution": {
          "iopub.execute_input": "2022-09-24T20:31:33.483041Z",
          "iopub.status.busy": "2022-09-24T20:31:33.482464Z",
          "iopub.status.idle": "2022-09-24T20:31:33.506184Z",
          "shell.execute_reply": "2022-09-24T20:31:33.505627Z",
          "shell.execute_reply.started": "2022-09-24T20:31:33.483026Z"
        },
        "id": "8ffa6f08-a2cb-48af-9441-e69ef2226f7d",
        "outputId": "58ee1b71-37e0-4a19-e9a4-8c452dbe500d",
        "tags": [],
        "colab": {
          "base_uri": "https://localhost:8080/"
        }
      },
      "outputs": [
        {
          "output_type": "execute_result",
          "data": {
            "text/plain": [
              "[('United Nations Conference', 6),\n",
              " ('General Agreement', 5),\n",
              " ('San Francisco Conference', 4),\n",
              " ('North American Free Trade Agreement', 4),\n",
              " ('Geneva Conference', 3),\n",
              " ('Marshall Plan', 3),\n",
              " ('Emergency Plan', 3),\n",
              " ('Stockholm Conference', 2),\n",
              " ('Suez Canal agreement', 2),\n",
              " ('World Food Conference', 2)]"
            ]
          },
          "metadata": {},
          "execution_count": 45
        }
      ],
      "source": [
        "# DO NOT RUN THIS CELL"
      ]
    },
    {
      "cell_type": "code",
      "source": [
        "# If your function is correct, running this cell should give you the similar result as result below\n",
        "# The results need not be exactly the same.\n",
        "initiatives_india.most_common(10)"
      ],
      "metadata": {
        "id": "TMYVMU4Mfi00",
        "colab": {
          "base_uri": "https://localhost:8080/"
        },
        "outputId": "863e7685-70af-4c4b-888f-cdfb7977207b"
      },
      "execution_count": null,
      "outputs": [
        {
          "output_type": "execute_result",
          "data": {
            "text/plain": [
              "[('United Nations Conference', 20),\n",
              " ('Simla Agreement', 17),\n",
              " ('International Conference', 8),\n",
              " ('Paris Agreement', 6),\n",
              " ('United Nations plan', 6),\n",
              " ('New Delhi Conference', 5),\n",
              " ('Third United Nations Conference', 4),\n",
              " ('Colombo Conference', 4),\n",
              " ('Seventh Conference', 4),\n",
              " ('International Solar Alliance', 4)]"
            ]
          },
          "metadata": {},
          "execution_count": 88
        }
      ]
    },
    {
      "cell_type": "code",
      "execution_count": null,
      "metadata": {
        "execution": {
          "iopub.execute_input": "2022-09-24T20:31:45.708030Z",
          "iopub.status.busy": "2022-09-24T20:31:45.707228Z",
          "iopub.status.idle": "2022-09-24T20:31:45.733155Z",
          "shell.execute_reply": "2022-09-24T20:31:45.731831Z",
          "shell.execute_reply.started": "2022-09-24T20:31:45.708014Z"
        },
        "id": "3484063c-54a0-4c04-87ca-1d6defee0001",
        "outputId": "b50a23d4-6aaa-49f6-f3be-0131ac3a3b18",
        "tags": [],
        "colab": {
          "base_uri": "https://localhost:8080/"
        }
      },
      "outputs": [
        {
          "output_type": "execute_result",
          "data": {
            "text/plain": [
              "[('United Nations Conference', 18),\n",
              " ('Simla Agreement', 8),\n",
              " ('International Conference', 7),\n",
              " ('United Nations plan', 5),\n",
              " ('Paris Agreement', 4),\n",
              " ('Third United Nations Conference', 4),\n",
              " ('International Solar Alliance', 4),\n",
              " ('General Agreement', 3),\n",
              " ('Seventh Conference', 3),\n",
              " ('United Nations Environment Programme', 2)]"
            ]
          },
          "metadata": {},
          "execution_count": 46
        }
      ],
      "source": [
        "# DO NOT RUN THIS CELL"
      ]
    }
  ],
  "metadata": {
    "colab": {
      "machine_shape": "hm",
      "provenance": [],
      "toc_visible": true,
      "include_colab_link": true
    },
    "gpuClass": "standard",
    "kernelspec": {
      "display_name": "Python 3 (ipykernel)",
      "language": "python",
      "name": "python3"
    },
    "language_info": {
      "codemirror_mode": {
        "name": "ipython",
        "version": 3
      },
      "file_extension": ".py",
      "mimetype": "text/x-python",
      "name": "python",
      "nbconvert_exporter": "python",
      "pygments_lexer": "ipython3",
      "version": "3.10.6"
    }
  },
  "nbformat": 4,
  "nbformat_minor": 0
}