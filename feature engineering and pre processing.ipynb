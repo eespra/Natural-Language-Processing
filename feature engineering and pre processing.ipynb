{
  "cells": [
    {
      "cell_type": "markdown",
      "metadata": {
        "id": "3cfCXWzzuZKE"
      },
      "source": [
        "# <font color = 'pickle'>**Pre-processing/Feature Engineering  **\n"
      ]
    },
    {
      "cell_type": "markdown",
      "metadata": {
        "id": "3xB7FNlVw-cV"
      },
      "source": [
        "#<font color = 'pickle'>**Installing/Importing libraries**"
      ]
    },
    {
      "cell_type": "code",
      "execution_count": null,
      "metadata": {
        "collapsed": true,
        "execution": {
          "iopub.execute_input": "2022-02-09T01:09:27.576657Z",
          "iopub.status.busy": "2022-02-09T01:09:27.576490Z",
          "iopub.status.idle": "2022-02-09T01:09:29.494578Z",
          "shell.execute_reply": "2022-02-09T01:09:29.494076Z",
          "shell.execute_reply.started": "2022-02-09T01:09:27.576617Z"
        },
        "id": "ZdqzJ2JNJ1cF",
        "jupyter": {
          "outputs_hidden": true
        },
        "tags": [],
        "colab": {
          "base_uri": "https://localhost:8080/"
        },
        "outputId": "7a58080d-a665-44b1-f5c0-0332b3dd5c83"
      },
      "outputs": [
        {
          "output_type": "stream",
          "name": "stdout",
          "text": [
            "Looking in indexes: https://pypi.org/simple, https://us-python.pkg.dev/colab-wheels/public/simple/\n",
            "Requirement already satisfied: spacy in /usr/local/lib/python3.8/dist-packages (3.4.4)\n",
            "Collecting spacy\n",
            "  Downloading spacy-3.5.0-cp38-cp38-manylinux_2_17_x86_64.manylinux2014_x86_64.whl (6.7 MB)\n",
            "\u001b[2K     \u001b[90m━━━━━━━━━━━━━━━━━━━━━━━━━━━━━━━━━━━━━━━━\u001b[0m \u001b[32m6.7/6.7 MB\u001b[0m \u001b[31m34.9 MB/s\u001b[0m eta \u001b[36m0:00:00\u001b[0m\n",
            "\u001b[?25hRequirement already satisfied: srsly<3.0.0,>=2.4.3 in /usr/local/lib/python3.8/dist-packages (from spacy) (2.4.5)\n",
            "Requirement already satisfied: pathy>=0.10.0 in /usr/local/lib/python3.8/dist-packages (from spacy) (0.10.1)\n",
            "Requirement already satisfied: numpy>=1.15.0 in /usr/local/lib/python3.8/dist-packages (from spacy) (1.21.6)\n",
            "Requirement already satisfied: wasabi<1.2.0,>=0.9.1 in /usr/local/lib/python3.8/dist-packages (from spacy) (0.10.1)\n",
            "Requirement already satisfied: spacy-legacy<3.1.0,>=3.0.11 in /usr/local/lib/python3.8/dist-packages (from spacy) (3.0.12)\n",
            "Requirement already satisfied: requests<3.0.0,>=2.13.0 in /usr/local/lib/python3.8/dist-packages (from spacy) (2.25.1)\n",
            "Requirement already satisfied: cymem<2.1.0,>=2.0.2 in /usr/local/lib/python3.8/dist-packages (from spacy) (2.0.7)\n",
            "Requirement already satisfied: catalogue<2.1.0,>=2.0.6 in /usr/local/lib/python3.8/dist-packages (from spacy) (2.0.8)\n",
            "Requirement already satisfied: preshed<3.1.0,>=3.0.2 in /usr/local/lib/python3.8/dist-packages (from spacy) (3.0.8)\n",
            "Requirement already satisfied: setuptools in /usr/local/lib/python3.8/dist-packages (from spacy) (57.4.0)\n",
            "Requirement already satisfied: langcodes<4.0.0,>=3.2.0 in /usr/local/lib/python3.8/dist-packages (from spacy) (3.3.0)\n",
            "Requirement already satisfied: packaging>=20.0 in /usr/local/lib/python3.8/dist-packages (from spacy) (23.0)\n",
            "Requirement already satisfied: murmurhash<1.1.0,>=0.28.0 in /usr/local/lib/python3.8/dist-packages (from spacy) (1.0.9)\n",
            "Requirement already satisfied: typer<0.8.0,>=0.3.0 in /usr/local/lib/python3.8/dist-packages (from spacy) (0.7.0)\n",
            "Requirement already satisfied: spacy-loggers<2.0.0,>=1.0.0 in /usr/local/lib/python3.8/dist-packages (from spacy) (1.0.4)\n",
            "Requirement already satisfied: pydantic!=1.8,!=1.8.1,<1.11.0,>=1.7.4 in /usr/local/lib/python3.8/dist-packages (from spacy) (1.10.4)\n",
            "Requirement already satisfied: jinja2 in /usr/local/lib/python3.8/dist-packages (from spacy) (2.11.3)\n",
            "Requirement already satisfied: smart-open<7.0.0,>=5.2.1 in /usr/local/lib/python3.8/dist-packages (from spacy) (6.3.0)\n",
            "Requirement already satisfied: tqdm<5.0.0,>=4.38.0 in /usr/local/lib/python3.8/dist-packages (from spacy) (4.64.1)\n",
            "Requirement already satisfied: thinc<8.2.0,>=8.1.0 in /usr/local/lib/python3.8/dist-packages (from spacy) (8.1.7)\n",
            "Requirement already satisfied: typing-extensions>=4.2.0 in /usr/local/lib/python3.8/dist-packages (from pydantic!=1.8,!=1.8.1,<1.11.0,>=1.7.4->spacy) (4.4.0)\n",
            "Requirement already satisfied: idna<3,>=2.5 in /usr/local/lib/python3.8/dist-packages (from requests<3.0.0,>=2.13.0->spacy) (2.10)\n",
            "Requirement already satisfied: urllib3<1.27,>=1.21.1 in /usr/local/lib/python3.8/dist-packages (from requests<3.0.0,>=2.13.0->spacy) (1.24.3)\n",
            "Requirement already satisfied: chardet<5,>=3.0.2 in /usr/local/lib/python3.8/dist-packages (from requests<3.0.0,>=2.13.0->spacy) (4.0.0)\n",
            "Requirement already satisfied: certifi>=2017.4.17 in /usr/local/lib/python3.8/dist-packages (from requests<3.0.0,>=2.13.0->spacy) (2022.12.7)\n",
            "Requirement already satisfied: confection<1.0.0,>=0.0.1 in /usr/local/lib/python3.8/dist-packages (from thinc<8.2.0,>=8.1.0->spacy) (0.0.4)\n",
            "Requirement already satisfied: blis<0.8.0,>=0.7.8 in /usr/local/lib/python3.8/dist-packages (from thinc<8.2.0,>=8.1.0->spacy) (0.7.9)\n",
            "Requirement already satisfied: click<9.0.0,>=7.1.1 in /usr/local/lib/python3.8/dist-packages (from typer<0.8.0,>=0.3.0->spacy) (7.1.2)\n",
            "Requirement already satisfied: MarkupSafe>=0.23 in /usr/local/lib/python3.8/dist-packages (from jinja2->spacy) (2.0.1)\n",
            "Installing collected packages: spacy\n",
            "  Attempting uninstall: spacy\n",
            "    Found existing installation: spacy 3.4.4\n",
            "    Uninstalling spacy-3.4.4:\n",
            "      Successfully uninstalled spacy-3.4.4\n",
            "\u001b[31mERROR: pip's dependency resolver does not currently take into account all the packages that are installed. This behaviour is the source of the following dependency conflicts.\n",
            "en-core-web-sm 3.4.1 requires spacy<3.5.0,>=3.4.0, but you have spacy 3.5.0 which is incompatible.\u001b[0m\u001b[31m\n",
            "\u001b[0mSuccessfully installed spacy-3.5.0\n"
          ]
        }
      ],
      "source": [
        "!pip install -U spacy"
      ]
    },
    {
      "cell_type": "code",
      "execution_count": null,
      "metadata": {
        "execution": {
          "iopub.execute_input": "2022-02-16T00:57:41.475211Z",
          "iopub.status.busy": "2022-02-16T00:57:41.475049Z",
          "iopub.status.idle": "2022-02-16T00:57:41.477670Z",
          "shell.execute_reply": "2022-02-16T00:57:41.477205Z",
          "shell.execute_reply.started": "2022-02-16T00:57:41.475197Z"
        },
        "id": "du0SiStFg-hm",
        "tags": [],
        "colab": {
          "base_uri": "https://localhost:8080/"
        },
        "outputId": "3d9ad76a-9a2b-4d0b-9edf-5a00c998b233"
      },
      "outputs": [
        {
          "output_type": "stream",
          "name": "stderr",
          "text": [
            "/usr/local/lib/python3.8/dist-packages/torch/cuda/__init__.py:497: UserWarning: Can't initialize NVML\n",
            "  warnings.warn(\"Can't initialize NVML\")\n"
          ]
        }
      ],
      "source": [
        "# Import libraries\n",
        "import pandas as pd\n",
        "import spacy\n",
        "import re\n",
        "from bs4 import BeautifulSoup\n",
        "from pathlib import Path\n",
        "import tarfile\n",
        "import random\n",
        "import numpy as np"
      ]
    },
    {
      "cell_type": "code",
      "execution_count": null,
      "metadata": {
        "colab": {
          "base_uri": "https://localhost:8080/"
        },
        "execution": {
          "iopub.execute_input": "2022-02-16T00:57:42.117095Z",
          "iopub.status.busy": "2022-02-16T00:57:42.116971Z",
          "iopub.status.idle": "2022-02-16T00:57:42.120002Z",
          "shell.execute_reply": "2022-02-16T00:57:42.119656Z",
          "shell.execute_reply.started": "2022-02-16T00:57:42.117082Z"
        },
        "id": "P4xtTA7pZd1y",
        "outputId": "b5556b11-a01f-42d5-ccff-8ea89d92d39c",
        "tags": []
      },
      "outputs": [
        {
          "output_type": "stream",
          "name": "stdout",
          "text": [
            "3.5.0\n"
          ]
        }
      ],
      "source": [
        "# check the version of spacy\n",
        "# your spacy version should be 3.1.2\n",
        "print(spacy.__version__)"
      ]
    },
    {
      "cell_type": "code",
      "execution_count": null,
      "metadata": {
        "colab": {
          "base_uri": "https://localhost:8080/"
        },
        "execution": {
          "iopub.execute_input": "2022-02-16T00:57:42.681462Z",
          "iopub.status.busy": "2022-02-16T00:57:42.681300Z",
          "iopub.status.idle": "2022-02-16T00:57:42.688896Z",
          "shell.execute_reply": "2022-02-16T00:57:42.688482Z",
          "shell.execute_reply.started": "2022-02-16T00:57:42.681448Z"
        },
        "id": "M-Nin8FUZs7S",
        "outputId": "216fa64f-5b57-4cdd-957b-a2b18eecefea",
        "tags": []
      },
      "outputs": [
        {
          "output_type": "stream",
          "name": "stdout",
          "text": [
            "Mounted at /content/drive\n"
          ]
        }
      ],
      "source": [
        "from google.colab import drive\n",
        "drive.mount('/content/drive')"
      ]
    },
    {
      "cell_type": "code",
      "source": [
        "# download spacy model\n",
        "!python -m spacy download en_core_web_sm"
      ],
      "metadata": {
        "id": "Gg5s09tx8MNS",
        "colab": {
          "base_uri": "https://localhost:8080/"
        },
        "outputId": "412be3e2-0f28-41eb-99e4-f8ddd061f3b9"
      },
      "execution_count": null,
      "outputs": [
        {
          "output_type": "stream",
          "name": "stdout",
          "text": [
            "/usr/local/lib/python3.8/dist-packages/torch/cuda/__init__.py:497: UserWarning: Can't initialize NVML\n",
            "  warnings.warn(\"Can't initialize NVML\")\n",
            "2023-02-13 03:51:22.143403: W tensorflow/compiler/xla/stream_executor/platform/default/dso_loader.cc:64] Could not load dynamic library 'libnvinfer.so.7'; dlerror: libnvinfer.so.7: cannot open shared object file: No such file or directory; LD_LIBRARY_PATH: /usr/local/nvidia/lib:/usr/local/nvidia/lib64\n",
            "2023-02-13 03:51:22.143510: W tensorflow/compiler/xla/stream_executor/platform/default/dso_loader.cc:64] Could not load dynamic library 'libnvinfer_plugin.so.7'; dlerror: libnvinfer_plugin.so.7: cannot open shared object file: No such file or directory; LD_LIBRARY_PATH: /usr/local/nvidia/lib:/usr/local/nvidia/lib64\n",
            "2023-02-13 03:51:22.143528: W tensorflow/compiler/tf2tensorrt/utils/py_utils.cc:38] TF-TRT Warning: Cannot dlopen some TensorRT libraries. If you would like to use Nvidia GPU with TensorRT, please make sure the missing libraries mentioned above are installed properly.\n",
            "2023-02-13 03:51:23.770456: E tensorflow/compiler/xla/stream_executor/cuda/cuda_driver.cc:267] failed call to cuInit: CUDA_ERROR_NO_DEVICE: no CUDA-capable device is detected\n",
            "Looking in indexes: https://pypi.org/simple, https://us-python.pkg.dev/colab-wheels/public/simple/\n",
            "Collecting en-core-web-sm==3.5.0\n",
            "  Downloading https://github.com/explosion/spacy-models/releases/download/en_core_web_sm-3.5.0/en_core_web_sm-3.5.0-py3-none-any.whl (12.8 MB)\n",
            "\u001b[2K     \u001b[90m━━━━━━━━━━━━━━━━━━━━━━━━━━━━━━━━━━━━━━━━\u001b[0m \u001b[32m12.8/12.8 MB\u001b[0m \u001b[31m68.3 MB/s\u001b[0m eta \u001b[36m0:00:00\u001b[0m\n",
            "\u001b[?25hRequirement already satisfied: spacy<3.6.0,>=3.5.0 in /usr/local/lib/python3.8/dist-packages (from en-core-web-sm==3.5.0) (3.5.0)\n",
            "Requirement already satisfied: murmurhash<1.1.0,>=0.28.0 in /usr/local/lib/python3.8/dist-packages (from spacy<3.6.0,>=3.5.0->en-core-web-sm==3.5.0) (1.0.9)\n",
            "Requirement already satisfied: tqdm<5.0.0,>=4.38.0 in /usr/local/lib/python3.8/dist-packages (from spacy<3.6.0,>=3.5.0->en-core-web-sm==3.5.0) (4.64.1)\n",
            "Requirement already satisfied: jinja2 in /usr/local/lib/python3.8/dist-packages (from spacy<3.6.0,>=3.5.0->en-core-web-sm==3.5.0) (2.11.3)\n",
            "Requirement already satisfied: requests<3.0.0,>=2.13.0 in /usr/local/lib/python3.8/dist-packages (from spacy<3.6.0,>=3.5.0->en-core-web-sm==3.5.0) (2.25.1)\n",
            "Requirement already satisfied: setuptools in /usr/local/lib/python3.8/dist-packages (from spacy<3.6.0,>=3.5.0->en-core-web-sm==3.5.0) (57.4.0)\n",
            "Requirement already satisfied: thinc<8.2.0,>=8.1.0 in /usr/local/lib/python3.8/dist-packages (from spacy<3.6.0,>=3.5.0->en-core-web-sm==3.5.0) (8.1.7)\n",
            "Requirement already satisfied: srsly<3.0.0,>=2.4.3 in /usr/local/lib/python3.8/dist-packages (from spacy<3.6.0,>=3.5.0->en-core-web-sm==3.5.0) (2.4.5)\n",
            "Requirement already satisfied: smart-open<7.0.0,>=5.2.1 in /usr/local/lib/python3.8/dist-packages (from spacy<3.6.0,>=3.5.0->en-core-web-sm==3.5.0) (6.3.0)\n",
            "Requirement already satisfied: langcodes<4.0.0,>=3.2.0 in /usr/local/lib/python3.8/dist-packages (from spacy<3.6.0,>=3.5.0->en-core-web-sm==3.5.0) (3.3.0)\n",
            "Requirement already satisfied: pydantic!=1.8,!=1.8.1,<1.11.0,>=1.7.4 in /usr/local/lib/python3.8/dist-packages (from spacy<3.6.0,>=3.5.0->en-core-web-sm==3.5.0) (1.10.4)\n",
            "Requirement already satisfied: preshed<3.1.0,>=3.0.2 in /usr/local/lib/python3.8/dist-packages (from spacy<3.6.0,>=3.5.0->en-core-web-sm==3.5.0) (3.0.8)\n",
            "Requirement already satisfied: numpy>=1.15.0 in /usr/local/lib/python3.8/dist-packages (from spacy<3.6.0,>=3.5.0->en-core-web-sm==3.5.0) (1.21.6)\n",
            "Requirement already satisfied: cymem<2.1.0,>=2.0.2 in /usr/local/lib/python3.8/dist-packages (from spacy<3.6.0,>=3.5.0->en-core-web-sm==3.5.0) (2.0.7)\n",
            "Requirement already satisfied: wasabi<1.2.0,>=0.9.1 in /usr/local/lib/python3.8/dist-packages (from spacy<3.6.0,>=3.5.0->en-core-web-sm==3.5.0) (0.10.1)\n",
            "Requirement already satisfied: typer<0.8.0,>=0.3.0 in /usr/local/lib/python3.8/dist-packages (from spacy<3.6.0,>=3.5.0->en-core-web-sm==3.5.0) (0.7.0)\n",
            "Requirement already satisfied: catalogue<2.1.0,>=2.0.6 in /usr/local/lib/python3.8/dist-packages (from spacy<3.6.0,>=3.5.0->en-core-web-sm==3.5.0) (2.0.8)\n",
            "Requirement already satisfied: pathy>=0.10.0 in /usr/local/lib/python3.8/dist-packages (from spacy<3.6.0,>=3.5.0->en-core-web-sm==3.5.0) (0.10.1)\n",
            "Requirement already satisfied: spacy-legacy<3.1.0,>=3.0.11 in /usr/local/lib/python3.8/dist-packages (from spacy<3.6.0,>=3.5.0->en-core-web-sm==3.5.0) (3.0.12)\n",
            "Requirement already satisfied: spacy-loggers<2.0.0,>=1.0.0 in /usr/local/lib/python3.8/dist-packages (from spacy<3.6.0,>=3.5.0->en-core-web-sm==3.5.0) (1.0.4)\n",
            "Requirement already satisfied: packaging>=20.0 in /usr/local/lib/python3.8/dist-packages (from spacy<3.6.0,>=3.5.0->en-core-web-sm==3.5.0) (23.0)\n",
            "Requirement already satisfied: typing-extensions>=4.2.0 in /usr/local/lib/python3.8/dist-packages (from pydantic!=1.8,!=1.8.1,<1.11.0,>=1.7.4->spacy<3.6.0,>=3.5.0->en-core-web-sm==3.5.0) (4.4.0)\n",
            "Requirement already satisfied: chardet<5,>=3.0.2 in /usr/local/lib/python3.8/dist-packages (from requests<3.0.0,>=2.13.0->spacy<3.6.0,>=3.5.0->en-core-web-sm==3.5.0) (4.0.0)\n",
            "Requirement already satisfied: certifi>=2017.4.17 in /usr/local/lib/python3.8/dist-packages (from requests<3.0.0,>=2.13.0->spacy<3.6.0,>=3.5.0->en-core-web-sm==3.5.0) (2022.12.7)\n",
            "Requirement already satisfied: urllib3<1.27,>=1.21.1 in /usr/local/lib/python3.8/dist-packages (from requests<3.0.0,>=2.13.0->spacy<3.6.0,>=3.5.0->en-core-web-sm==3.5.0) (1.24.3)\n",
            "Requirement already satisfied: idna<3,>=2.5 in /usr/local/lib/python3.8/dist-packages (from requests<3.0.0,>=2.13.0->spacy<3.6.0,>=3.5.0->en-core-web-sm==3.5.0) (2.10)\n",
            "Requirement already satisfied: confection<1.0.0,>=0.0.1 in /usr/local/lib/python3.8/dist-packages (from thinc<8.2.0,>=8.1.0->spacy<3.6.0,>=3.5.0->en-core-web-sm==3.5.0) (0.0.4)\n",
            "Requirement already satisfied: blis<0.8.0,>=0.7.8 in /usr/local/lib/python3.8/dist-packages (from thinc<8.2.0,>=8.1.0->spacy<3.6.0,>=3.5.0->en-core-web-sm==3.5.0) (0.7.9)\n",
            "Requirement already satisfied: click<9.0.0,>=7.1.1 in /usr/local/lib/python3.8/dist-packages (from typer<0.8.0,>=0.3.0->spacy<3.6.0,>=3.5.0->en-core-web-sm==3.5.0) (7.1.2)\n",
            "Requirement already satisfied: MarkupSafe>=0.23 in /usr/local/lib/python3.8/dist-packages (from jinja2->spacy<3.6.0,>=3.5.0->en-core-web-sm==3.5.0) (2.0.1)\n",
            "Installing collected packages: en-core-web-sm\n",
            "  Attempting uninstall: en-core-web-sm\n",
            "    Found existing installation: en-core-web-sm 3.4.1\n",
            "    Uninstalling en-core-web-sm-3.4.1:\n",
            "      Successfully uninstalled en-core-web-sm-3.4.1\n",
            "Successfully installed en-core-web-sm-3.5.0\n",
            "\u001b[38;5;2m✔ Download and installation successful\u001b[0m\n",
            "You can now load the package via spacy.load('en_core_web_sm')\n"
          ]
        }
      ]
    },
    {
      "cell_type": "code",
      "source": [
        "# spcify folder path for data download\n",
        "base_folder = Path('/content/drive/MyDrive/data')"
      ],
      "metadata": {
        "id": "9-WfWZSal1xC"
      },
      "execution_count": null,
      "outputs": []
    },
    {
      "cell_type": "code",
      "source": [
        "data_folder = base_folder/'datasets'\n",
        "archive_folder = base_folder/'archive'"
      ],
      "metadata": {
        "id": "UQu7VbrfmOIU"
      },
      "execution_count": null,
      "outputs": []
    },
    {
      "cell_type": "markdown",
      "metadata": {
        "id": "rh2s542civAU"
      },
      "source": [
        "# <font color ='pickle'> ** Download data and combine data from multiple files into a single dataframe.**\n",
        "\n",
        "download the moview reviews from the following link:\n",
        "https://www.cs.cornell.edu/people/pabo/movie-review-data/scale_whole_review.tar.gz\n",
        "<br>\n",
        "\n",
        "**Instructions:** <br>\n",
        "\n",
        "- The data has movie reviews from four different reviewers:\n",
        "(1) Dennis+Schwartz,  (2) James+Berardinelli, (3) Scott+Renshaw and (4) Steve+Rhodes.\n",
        "\n",
        "- extract the reviews of  the four reviewers in a single dataframe.\n",
        "- The final dataframe should have two columns (1) Moview Review and (2) Reviewer Name.\n"
      ]
    },
    {
      "cell_type": "markdown",
      "metadata": {
        "id": "ftIqcStM08XR"
      },
      "source": [
        "##  <font color ='pickle'>**Solution Task 1 Steps**\n",
        "\n",
        "- Step1: use !wget to download data files from URl\n",
        "- Step2: check content of folder where data was downloaded\n",
        "- Step3: Check content of zipped/tar folder\n",
        "- Step 4: unzip/untar files\n",
        "- Step 4a: Understand the structure of unzipped folder/files (only required if data is stored in multiple folders and files).\n",
        "- Step 5: Check content of the main file using !head command.\n",
        "- Step 6a: combine data from multiple files ( if data is stored in multiple files).\n",
        "- Step6: Create a dataframe"
      ]
    },
    {
      "cell_type": "markdown",
      "metadata": {
        "id": "kSQgGWLj7P2Q"
      },
      "source": [
        "## <font color ='pickle'>**Step1: use wget to download data files from URl**"
      ]
    },
    {
      "cell_type": "code",
      "metadata": {
        "colab": {
          "base_uri": "https://localhost:8080/"
        },
        "id": "_SAjbkYPx3sY",
        "outputId": "18bd3b10-a01b-49d6-ed93-ccd54193de6d"
      },
      "source": [
        "# Download a  file to the filesystem from a url using the wget commmand\n",
        "# syntax  !wget {url} -P {path_to_save_file}\n",
        "# if we do not specify -P , files will be saved in current direcory\n",
        "file = archive_folder/'scale_whole_review.tar.gz'\n",
        "url = 'https://www.cs.cornell.edu/people/pabo/movie-review-data/scale_whole_review.tar.gz'\n",
        "!wget {url} -P {archive_folder} -O {file}"
      ],
      "execution_count": null,
      "outputs": [
        {
          "output_type": "stream",
          "name": "stdout",
          "text": [
            "--2023-02-13 03:51:31--  https://www.cs.cornell.edu/people/pabo/movie-review-data/scale_whole_review.tar.gz\n",
            "Resolving www.cs.cornell.edu (www.cs.cornell.edu)... 132.236.207.36\n",
            "Connecting to www.cs.cornell.edu (www.cs.cornell.edu)|132.236.207.36|:443... connected.\n",
            "HTTP request sent, awaiting response... 200 OK\n",
            "Length: 8853204 (8.4M) [application/x-gzip]\n",
            "Saving to: ‘/content/drive/MyDrive/data/archive/scale_whole_review.tar.gz’\n",
            "\n",
            "scale_whole_review. 100%[===================>]   8.44M  28.1MB/s    in 0.3s    \n",
            "\n",
            "2023-02-13 03:51:32 (28.1 MB/s) - ‘/content/drive/MyDrive/data/archive/scale_whole_review.tar.gz’ saved [8853204/8853204]\n",
            "\n"
          ]
        }
      ]
    },
    {
      "cell_type": "markdown",
      "metadata": {
        "id": "AaDs7Iy24FVl"
      },
      "source": [
        "## <font color ='pickle'>**Step2: check content of folder where data was downloaded**"
      ]
    },
    {
      "cell_type": "code",
      "metadata": {
        "colab": {
          "base_uri": "https://localhost:8080/"
        },
        "id": "NtAlHT61Syx_",
        "outputId": "b5e57b92-ddca-462e-ab49-6e465285438c"
      },
      "source": [
        "# list files of google drive where data was downloaded\n",
        "for entries in archive_folder.iterdir():\n",
        "  if 'tar' in entries.name:\n",
        "    print(entries.name)"
      ],
      "execution_count": null,
      "outputs": [
        {
          "output_type": "stream",
          "name": "stdout",
          "text": [
            "scale_whole_review.tar.gz\n"
          ]
        }
      ]
    },
    {
      "cell_type": "markdown",
      "metadata": {
        "id": "0bCCXRVITYRE"
      },
      "source": [
        "Since this is a tar file, we will use tarfile module to read the file\n",
        "```python\n",
        "with  tarfile.open(tar_file, 'r') as tar:\n",
        "  print(tar.getnames())\n",
        "```\n",
        "Here tar_fileis is the compressed file. We first open this file in read mode and then use file.getnames to list the content of the file"
      ]
    },
    {
      "cell_type": "markdown",
      "metadata": {
        "id": "tD5-iYBQ2YLN"
      },
      "source": [
        "## <font color ='pickle'>**Step3: Check content of zipped/tar folder**"
      ]
    },
    {
      "cell_type": "code",
      "metadata": {
        "id": "soY6u82_4adm"
      },
      "source": [
        "## check the content of tar file\n",
        "file = archive_folder / 'scale_whole_review.tar.gz'\n",
        "with  tarfile.open(file, 'r') as tar:\n",
        "  file_names = tar.getnames()"
      ],
      "execution_count": null,
      "outputs": []
    },
    {
      "cell_type": "code",
      "source": [
        "# check total files in compressed file\n",
        "len(file_names)"
      ],
      "metadata": {
        "colab": {
          "base_uri": "https://localhost:8080/"
        },
        "id": "XwxKNaRGn7AF",
        "outputId": "5bb2bbe0-3ff9-433b-ce77-0bc17738adc4"
      },
      "execution_count": null,
      "outputs": [
        {
          "output_type": "execute_result",
          "data": {
            "text/plain": [
              "5015"
            ]
          },
          "metadata": {},
          "execution_count": 12
        }
      ]
    },
    {
      "cell_type": "code",
      "source": [
        "i = 0\n",
        "for file_name in file_names:\n",
        "  print(file_name)\n",
        "  i += 1\n",
        "  if i > 10:\n",
        "    break"
      ],
      "metadata": {
        "colab": {
          "base_uri": "https://localhost:8080/"
        },
        "id": "JFaHwc05nTDM",
        "outputId": "88830019-5312-4515-fcb1-fcab76afdc13"
      },
      "execution_count": null,
      "outputs": [
        {
          "output_type": "stream",
          "name": "stdout",
          "text": [
            "scaledata.README.1.0.txt\n",
            "scale_whole_review/Dennis+Schwartz\n",
            "scale_whole_review/Dennis+Schwartz/txt.parag\n",
            "scale_whole_review/Dennis+Schwartz/txt.parag/16748.txt\n",
            "scale_whole_review/Dennis+Schwartz/txt.parag/17108.txt\n",
            "scale_whole_review/Dennis+Schwartz/txt.parag/17109.txt\n",
            "scale_whole_review/Dennis+Schwartz/txt.parag/17110.txt\n",
            "scale_whole_review/Dennis+Schwartz/txt.parag/17111.txt\n",
            "scale_whole_review/Dennis+Schwartz/txt.parag/17116.txt\n",
            "scale_whole_review/Dennis+Schwartz/txt.parag/17117.txt\n",
            "scale_whole_review/Dennis+Schwartz/txt.parag/17118.txt\n"
          ]
        }
      ]
    },
    {
      "cell_type": "markdown",
      "metadata": {
        "id": "0y-PElF-7ulo"
      },
      "source": [
        "## <font color ='pickle'>**Step 4: unzip/untar files**\n"
      ]
    },
    {
      "cell_type": "markdown",
      "metadata": {
        "id": "OFQkZZLlUIIh"
      },
      "source": [
        "We will now open the tar file in read mode and then use file.extractall to extract all the files\n",
        "```python\n",
        "with  tarfile.open(file, 'r') as tar:\n",
        "  tar.extractall(path = folder)\n",
        "```\n",
        "path is the location where we want to save the extracted files."
      ]
    },
    {
      "cell_type": "code",
      "metadata": {
        "id": "XJ9hV7AXGLq2",
        "colab": {
          "base_uri": "https://localhost:8080/",
          "height": 353
        },
        "outputId": "df1628b6-40e3-4745-cf5e-cfe0b6fa315c"
      },
      "source": [
        "# Let us extract the files from the tar file using the command below\n",
        "file = archive_folder/'scale_whole_review.tar.gz'\n",
        "with  tarfile.open(file, 'r') as tar:\n",
        "  tar.extractall(path = data_folder)"
      ],
      "execution_count": null,
      "outputs": [
        {
          "output_type": "error",
          "ename": "KeyboardInterrupt",
          "evalue": "ignored",
          "traceback": [
            "\u001b[0;31m---------------------------------------------------------------------------\u001b[0m",
            "\u001b[0;31mKeyboardInterrupt\u001b[0m                         Traceback (most recent call last)",
            "\u001b[0;32m<ipython-input-14-30e46d4cc21d>\u001b[0m in \u001b[0;36m<module>\u001b[0;34m\u001b[0m\n\u001b[1;32m      2\u001b[0m \u001b[0mfile\u001b[0m \u001b[0;34m=\u001b[0m \u001b[0marchive_folder\u001b[0m\u001b[0;34m/\u001b[0m\u001b[0;34m'scale_whole_review.tar.gz'\u001b[0m\u001b[0;34m\u001b[0m\u001b[0;34m\u001b[0m\u001b[0m\n\u001b[1;32m      3\u001b[0m \u001b[0;32mwith\u001b[0m  \u001b[0mtarfile\u001b[0m\u001b[0;34m.\u001b[0m\u001b[0mopen\u001b[0m\u001b[0;34m(\u001b[0m\u001b[0mfile\u001b[0m\u001b[0;34m,\u001b[0m \u001b[0;34m'r'\u001b[0m\u001b[0;34m)\u001b[0m \u001b[0;32mas\u001b[0m \u001b[0mtar\u001b[0m\u001b[0;34m:\u001b[0m\u001b[0;34m\u001b[0m\u001b[0;34m\u001b[0m\u001b[0m\n\u001b[0;32m----> 4\u001b[0;31m   \u001b[0mtar\u001b[0m\u001b[0;34m.\u001b[0m\u001b[0mextractall\u001b[0m\u001b[0;34m(\u001b[0m\u001b[0mpath\u001b[0m \u001b[0;34m=\u001b[0m \u001b[0mdata_folder\u001b[0m\u001b[0;34m)\u001b[0m\u001b[0;34m\u001b[0m\u001b[0;34m\u001b[0m\u001b[0m\n\u001b[0m",
            "\u001b[0;32m/usr/lib/python3.8/tarfile.py\u001b[0m in \u001b[0;36mextractall\u001b[0;34m(self, path, members, numeric_owner)\u001b[0m\n\u001b[1;32m   2026\u001b[0m                 \u001b[0mtarinfo\u001b[0m\u001b[0;34m.\u001b[0m\u001b[0mmode\u001b[0m \u001b[0;34m=\u001b[0m \u001b[0;36m0o700\u001b[0m\u001b[0;34m\u001b[0m\u001b[0;34m\u001b[0m\u001b[0m\n\u001b[1;32m   2027\u001b[0m             \u001b[0;31m# Do not set_attrs directories, as we will do that further down\u001b[0m\u001b[0;34m\u001b[0m\u001b[0;34m\u001b[0m\u001b[0;34m\u001b[0m\u001b[0m\n\u001b[0;32m-> 2028\u001b[0;31m             self.extract(tarinfo, path, set_attrs=not tarinfo.isdir(),\n\u001b[0m\u001b[1;32m   2029\u001b[0m                          numeric_owner=numeric_owner)\n\u001b[1;32m   2030\u001b[0m \u001b[0;34m\u001b[0m\u001b[0m\n",
            "\u001b[0;32m/usr/lib/python3.8/tarfile.py\u001b[0m in \u001b[0;36mextract\u001b[0;34m(self, member, path, set_attrs, numeric_owner)\u001b[0m\n\u001b[1;32m   2067\u001b[0m \u001b[0;34m\u001b[0m\u001b[0m\n\u001b[1;32m   2068\u001b[0m         \u001b[0;32mtry\u001b[0m\u001b[0;34m:\u001b[0m\u001b[0;34m\u001b[0m\u001b[0;34m\u001b[0m\u001b[0m\n\u001b[0;32m-> 2069\u001b[0;31m             self._extract_member(tarinfo, os.path.join(path, tarinfo.name),\n\u001b[0m\u001b[1;32m   2070\u001b[0m                                  \u001b[0mset_attrs\u001b[0m\u001b[0;34m=\u001b[0m\u001b[0mset_attrs\u001b[0m\u001b[0;34m,\u001b[0m\u001b[0;34m\u001b[0m\u001b[0;34m\u001b[0m\u001b[0m\n\u001b[1;32m   2071\u001b[0m                                  numeric_owner=numeric_owner)\n",
            "\u001b[0;32m/usr/lib/python3.8/tarfile.py\u001b[0m in \u001b[0;36m_extract_member\u001b[0;34m(self, tarinfo, targetpath, set_attrs, numeric_owner)\u001b[0m\n\u001b[1;32m   2139\u001b[0m \u001b[0;34m\u001b[0m\u001b[0m\n\u001b[1;32m   2140\u001b[0m         \u001b[0;32mif\u001b[0m \u001b[0mtarinfo\u001b[0m\u001b[0;34m.\u001b[0m\u001b[0misreg\u001b[0m\u001b[0;34m(\u001b[0m\u001b[0;34m)\u001b[0m\u001b[0;34m:\u001b[0m\u001b[0;34m\u001b[0m\u001b[0;34m\u001b[0m\u001b[0m\n\u001b[0;32m-> 2141\u001b[0;31m             \u001b[0mself\u001b[0m\u001b[0;34m.\u001b[0m\u001b[0mmakefile\u001b[0m\u001b[0;34m(\u001b[0m\u001b[0mtarinfo\u001b[0m\u001b[0;34m,\u001b[0m \u001b[0mtargetpath\u001b[0m\u001b[0;34m)\u001b[0m\u001b[0;34m\u001b[0m\u001b[0;34m\u001b[0m\u001b[0m\n\u001b[0m\u001b[1;32m   2142\u001b[0m         \u001b[0;32melif\u001b[0m \u001b[0mtarinfo\u001b[0m\u001b[0;34m.\u001b[0m\u001b[0misdir\u001b[0m\u001b[0;34m(\u001b[0m\u001b[0;34m)\u001b[0m\u001b[0;34m:\u001b[0m\u001b[0;34m\u001b[0m\u001b[0;34m\u001b[0m\u001b[0m\n\u001b[1;32m   2143\u001b[0m             \u001b[0mself\u001b[0m\u001b[0;34m.\u001b[0m\u001b[0mmakedir\u001b[0m\u001b[0;34m(\u001b[0m\u001b[0mtarinfo\u001b[0m\u001b[0;34m,\u001b[0m \u001b[0mtargetpath\u001b[0m\u001b[0;34m)\u001b[0m\u001b[0;34m\u001b[0m\u001b[0;34m\u001b[0m\u001b[0m\n",
            "\u001b[0;32m/usr/lib/python3.8/tarfile.py\u001b[0m in \u001b[0;36mmakefile\u001b[0;34m(self, tarinfo, targetpath)\u001b[0m\n\u001b[1;32m   2180\u001b[0m         \u001b[0msource\u001b[0m\u001b[0;34m.\u001b[0m\u001b[0mseek\u001b[0m\u001b[0;34m(\u001b[0m\u001b[0mtarinfo\u001b[0m\u001b[0;34m.\u001b[0m\u001b[0moffset_data\u001b[0m\u001b[0;34m)\u001b[0m\u001b[0;34m\u001b[0m\u001b[0;34m\u001b[0m\u001b[0m\n\u001b[1;32m   2181\u001b[0m         \u001b[0mbufsize\u001b[0m \u001b[0;34m=\u001b[0m \u001b[0mself\u001b[0m\u001b[0;34m.\u001b[0m\u001b[0mcopybufsize\u001b[0m\u001b[0;34m\u001b[0m\u001b[0;34m\u001b[0m\u001b[0m\n\u001b[0;32m-> 2182\u001b[0;31m         \u001b[0;32mwith\u001b[0m \u001b[0mbltn_open\u001b[0m\u001b[0;34m(\u001b[0m\u001b[0mtargetpath\u001b[0m\u001b[0;34m,\u001b[0m \u001b[0;34m\"wb\"\u001b[0m\u001b[0;34m)\u001b[0m \u001b[0;32mas\u001b[0m \u001b[0mtarget\u001b[0m\u001b[0;34m:\u001b[0m\u001b[0;34m\u001b[0m\u001b[0;34m\u001b[0m\u001b[0m\n\u001b[0m\u001b[1;32m   2183\u001b[0m             \u001b[0;32mif\u001b[0m \u001b[0mtarinfo\u001b[0m\u001b[0;34m.\u001b[0m\u001b[0msparse\u001b[0m \u001b[0;32mis\u001b[0m \u001b[0;32mnot\u001b[0m \u001b[0;32mNone\u001b[0m\u001b[0;34m:\u001b[0m\u001b[0;34m\u001b[0m\u001b[0;34m\u001b[0m\u001b[0m\n\u001b[1;32m   2184\u001b[0m                 \u001b[0;32mfor\u001b[0m \u001b[0moffset\u001b[0m\u001b[0;34m,\u001b[0m \u001b[0msize\u001b[0m \u001b[0;32min\u001b[0m \u001b[0mtarinfo\u001b[0m\u001b[0;34m.\u001b[0m\u001b[0msparse\u001b[0m\u001b[0;34m:\u001b[0m\u001b[0;34m\u001b[0m\u001b[0;34m\u001b[0m\u001b[0m\n",
            "\u001b[0;31mKeyboardInterrupt\u001b[0m: "
          ]
        }
      ]
    },
    {
      "cell_type": "markdown",
      "metadata": {
        "id": "1AR4H0Qm75L9"
      },
      "source": [
        "## <font color = 'pickle'>**Step 4a: Understand the structure of unzipped folder/files**\n"
      ]
    },
    {
      "cell_type": "code",
      "metadata": {
        "id": "IsduV6nSx30R"
      },
      "source": [
        "# check the content of the folder where files were extracted\n",
        "for entries in data_folder.iterdir():\n",
        "  if 'scale' in entries.name:\n",
        "    print(entries.name)"
      ],
      "execution_count": null,
      "outputs": []
    },
    {
      "cell_type": "code",
      "metadata": {
        "id": "KhHWkaI9HrT1"
      },
      "source": [
        "# Look in the new directory named 'scale_whole_review'\n",
        "\n",
        "# we will use rglob which will help us to specify the pattern to search\n",
        "# ** - Recursively matches zero or more directories that fall under the current directory.\n",
        "\n",
        "for entries in (data_folder/'scale_whole_review').rglob('**'):\n",
        "  print(entries)"
      ],
      "execution_count": null,
      "outputs": []
    },
    {
      "cell_type": "markdown",
      "metadata": {
        "id": "YLqskP6V8C7Z"
      },
      "source": [
        "## <font color = 'pickle'> **Step 6: Combine all text files and create Pandas Dataframe**"
      ]
    },
    {
      "cell_type": "code",
      "metadata": {
        "id": "qQTynvd38tQF"
      },
      "source": [
        "# Create an empty dataframe\n",
        "movie_reviews=pd.DataFrame()\n",
        "# Add path to folder\n",
        "path = data_folder / \"scale_whole_review\"\n",
        "# Iterate through the path\n",
        "for reviewers in path.iterdir():\n",
        "  # Create an empty list to add all reviews\n",
        "  reviews=[]\n",
        "  # Add txt.parag directory to existing path\n",
        "  file = reviewers /\"txt.parag\"\n",
        "  for text_file in file.iterdir():\n",
        "    # open, read the text file and append to reviews list\n",
        "    with open(text_file, 'r', encoding=\"ISO-8859-1\") as f:\n",
        "      reviews.append(f.read())\n",
        "  # Create an temporary dataframe for adding reviews of a particular reviewer\n",
        "  temp_df=pd.DataFrame()\n",
        "  # Add reviews to temporary dataframe\n",
        "  temp_df[\"Review\"]=reviews\n",
        "  temp_df[\"Reviewer\"] = [reviewers.name]*(len(reviews))\n",
        "  # Concatenate the temporary review dataframe with movie_reviews dataframe\n",
        "  movie_reviews=pd.concat([movie_reviews,temp_df], ignore_index=True)\n",
        "\n",
        "movie_reviews"
      ],
      "execution_count": null,
      "outputs": []
    },
    {
      "cell_type": "code",
      "metadata": {
        "id": "TdVjVWoMEi3u"
      },
      "source": [
        "# select 20 random rows from dataframe\n",
        "indices = random.choices(range(0, len(movie_reviews)),k=20)\n",
        "print(indices)\n",
        "movie_reviews.iloc[indices,:]"
      ],
      "execution_count": null,
      "outputs": []
    },
    {
      "cell_type": "markdown",
      "source": [
        "# <font color ='pickle'> ** Feature Engineering and Preprocessing IMDB **\n",
        "\n",
        "\n",
        "- <font color = 'dodgerblue'> **PreProcessing**:</font>\n",
        "  1. Remove HTML tags and new line character (\\n)\n",
        "  2. Remove email, urls and punctuations\n",
        "\n",
        "- <font color = 'dodgerblue'> **Feature Engineering**\n",
        "\n",
        "  1. number of words\n",
        "  2. number of characters\n",
        "  3. number of characters without space\n",
        "  4. average word length\n",
        "  5. count of numbers(37, 201, 20 etc.)\n",
        "\n",
        "You will use the imdb moview review dataset. The details of the data can be found from this link : https://ai.stanford.edu/~amaas/data/sentiment/.\n",
        "\n",
        "Description of the data from the above link :\n",
        "\"*This is a dataset for binary sentiment classification containing substantially more data than previous benchmark datasets. We provide a set of 25,000 highly polar movie reviews for training, and 25,000 for testing. There is additional unlabeled data for use as well. Raw text and already processed bag of words formats are provided. See the README file contained in the release for more details.*\".\n",
        "\n",
        "We extracted the data from text files and save  the train and test data as csv files. We further cleaned the dataset. <font size =4, color = 'dodgerblue'>**We will use train.csv file for this task.**</font>.\n"
      ],
      "metadata": {
        "id": "UKiLpKKP8RSe"
      }
    },
    {
      "cell_type": "markdown",
      "metadata": {
        "id": "ZcXr0zQXxVu9"
      },
      "source": [
        "## <font color = 'pickle'>**Import Data**\n",
        "\n"
      ]
    },
    {
      "cell_type": "code",
      "source": [
        "df = pd.read_csv(data_folder/'train.csv')\n"
      ],
      "metadata": {
        "id": "_Pnd5msK2VIm"
      },
      "execution_count": null,
      "outputs": []
    },
    {
      "cell_type": "code",
      "execution_count": null,
      "metadata": {
        "colab": {
          "base_uri": "https://localhost:8080/"
        },
        "execution": {
          "iopub.execute_input": "2022-02-16T00:57:50.305602Z",
          "iopub.status.busy": "2022-02-16T00:57:50.305465Z",
          "iopub.status.idle": "2022-02-16T00:57:50.317161Z",
          "shell.execute_reply": "2022-02-16T00:57:50.316834Z",
          "shell.execute_reply.started": "2022-02-16T00:57:50.305583Z"
        },
        "id": "IccGIyLq5Ekl",
        "outputId": "3120cf16-23d6-4cee-a33b-51772e4db78e",
        "tags": []
      },
      "outputs": [
        {
          "output_type": "stream",
          "name": "stdout",
          "text": [
            "<class 'pandas.core.frame.DataFrame'>\n",
            "RangeIndex: 25000 entries, 0 to 24999\n",
            "Data columns (total 3 columns):\n",
            " #   Column      Non-Null Count  Dtype \n",
            "---  ------      --------------  ----- \n",
            " 0   Unnamed: 0  25000 non-null  int64 \n",
            " 1   Reviews     25000 non-null  object\n",
            " 2   Labels      25000 non-null  int64 \n",
            "dtypes: int64(2), object(1)\n",
            "memory usage: 586.1+ KB\n"
          ]
        }
      ],
      "source": [
        "df.info()"
      ]
    },
    {
      "cell_type": "code",
      "execution_count": null,
      "metadata": {
        "colab": {
          "base_uri": "https://localhost:8080/",
          "height": 206
        },
        "execution": {
          "iopub.execute_input": "2022-02-16T00:57:50.832352Z",
          "iopub.status.busy": "2022-02-16T00:57:50.831826Z",
          "iopub.status.idle": "2022-02-16T00:57:50.838208Z",
          "shell.execute_reply": "2022-02-16T00:57:50.837710Z",
          "shell.execute_reply.started": "2022-02-16T00:57:50.832321Z"
        },
        "id": "IEoSbgNQ5H5e",
        "outputId": "a179c81f-c067-499b-f514-e48dd743a851",
        "tags": []
      },
      "outputs": [
        {
          "output_type": "execute_result",
          "data": {
            "text/plain": [
              "   Unnamed: 0                                            Reviews  Labels\n",
              "0           0  Ever wanted to know just how much Hollywood co...       1\n",
              "1           1  The movie itself was ok for the kids. But I go...       1\n",
              "2           2  You could stage a version of Charles Dickens' ...       1\n",
              "3           3  this was a fantastic episode. i saw a clip fro...       1\n",
              "4           4  and laugh out loud funny in many scenes.<br />...       1"
            ],
            "text/html": [
              "\n",
              "  <div id=\"df-685449a0-c293-4574-b4e2-9dfdc00116a2\">\n",
              "    <div class=\"colab-df-container\">\n",
              "      <div>\n",
              "<style scoped>\n",
              "    .dataframe tbody tr th:only-of-type {\n",
              "        vertical-align: middle;\n",
              "    }\n",
              "\n",
              "    .dataframe tbody tr th {\n",
              "        vertical-align: top;\n",
              "    }\n",
              "\n",
              "    .dataframe thead th {\n",
              "        text-align: right;\n",
              "    }\n",
              "</style>\n",
              "<table border=\"1\" class=\"dataframe\">\n",
              "  <thead>\n",
              "    <tr style=\"text-align: right;\">\n",
              "      <th></th>\n",
              "      <th>Unnamed: 0</th>\n",
              "      <th>Reviews</th>\n",
              "      <th>Labels</th>\n",
              "    </tr>\n",
              "  </thead>\n",
              "  <tbody>\n",
              "    <tr>\n",
              "      <th>0</th>\n",
              "      <td>0</td>\n",
              "      <td>Ever wanted to know just how much Hollywood co...</td>\n",
              "      <td>1</td>\n",
              "    </tr>\n",
              "    <tr>\n",
              "      <th>1</th>\n",
              "      <td>1</td>\n",
              "      <td>The movie itself was ok for the kids. But I go...</td>\n",
              "      <td>1</td>\n",
              "    </tr>\n",
              "    <tr>\n",
              "      <th>2</th>\n",
              "      <td>2</td>\n",
              "      <td>You could stage a version of Charles Dickens' ...</td>\n",
              "      <td>1</td>\n",
              "    </tr>\n",
              "    <tr>\n",
              "      <th>3</th>\n",
              "      <td>3</td>\n",
              "      <td>this was a fantastic episode. i saw a clip fro...</td>\n",
              "      <td>1</td>\n",
              "    </tr>\n",
              "    <tr>\n",
              "      <th>4</th>\n",
              "      <td>4</td>\n",
              "      <td>and laugh out loud funny in many scenes.&lt;br /&gt;...</td>\n",
              "      <td>1</td>\n",
              "    </tr>\n",
              "  </tbody>\n",
              "</table>\n",
              "</div>\n",
              "      <button class=\"colab-df-convert\" onclick=\"convertToInteractive('df-685449a0-c293-4574-b4e2-9dfdc00116a2')\"\n",
              "              title=\"Convert this dataframe to an interactive table.\"\n",
              "              style=\"display:none;\">\n",
              "        \n",
              "  <svg xmlns=\"http://www.w3.org/2000/svg\" height=\"24px\"viewBox=\"0 0 24 24\"\n",
              "       width=\"24px\">\n",
              "    <path d=\"M0 0h24v24H0V0z\" fill=\"none\"/>\n",
              "    <path d=\"M18.56 5.44l.94 2.06.94-2.06 2.06-.94-2.06-.94-.94-2.06-.94 2.06-2.06.94zm-11 1L8.5 8.5l.94-2.06 2.06-.94-2.06-.94L8.5 2.5l-.94 2.06-2.06.94zm10 10l.94 2.06.94-2.06 2.06-.94-2.06-.94-.94-2.06-.94 2.06-2.06.94z\"/><path d=\"M17.41 7.96l-1.37-1.37c-.4-.4-.92-.59-1.43-.59-.52 0-1.04.2-1.43.59L10.3 9.45l-7.72 7.72c-.78.78-.78 2.05 0 2.83L4 21.41c.39.39.9.59 1.41.59.51 0 1.02-.2 1.41-.59l7.78-7.78 2.81-2.81c.8-.78.8-2.07 0-2.86zM5.41 20L4 18.59l7.72-7.72 1.47 1.35L5.41 20z\"/>\n",
              "  </svg>\n",
              "      </button>\n",
              "      \n",
              "  <style>\n",
              "    .colab-df-container {\n",
              "      display:flex;\n",
              "      flex-wrap:wrap;\n",
              "      gap: 12px;\n",
              "    }\n",
              "\n",
              "    .colab-df-convert {\n",
              "      background-color: #E8F0FE;\n",
              "      border: none;\n",
              "      border-radius: 50%;\n",
              "      cursor: pointer;\n",
              "      display: none;\n",
              "      fill: #1967D2;\n",
              "      height: 32px;\n",
              "      padding: 0 0 0 0;\n",
              "      width: 32px;\n",
              "    }\n",
              "\n",
              "    .colab-df-convert:hover {\n",
              "      background-color: #E2EBFA;\n",
              "      box-shadow: 0px 1px 2px rgba(60, 64, 67, 0.3), 0px 1px 3px 1px rgba(60, 64, 67, 0.15);\n",
              "      fill: #174EA6;\n",
              "    }\n",
              "\n",
              "    [theme=dark] .colab-df-convert {\n",
              "      background-color: #3B4455;\n",
              "      fill: #D2E3FC;\n",
              "    }\n",
              "\n",
              "    [theme=dark] .colab-df-convert:hover {\n",
              "      background-color: #434B5C;\n",
              "      box-shadow: 0px 1px 3px 1px rgba(0, 0, 0, 0.15);\n",
              "      filter: drop-shadow(0px 1px 2px rgba(0, 0, 0, 0.3));\n",
              "      fill: #FFFFFF;\n",
              "    }\n",
              "  </style>\n",
              "\n",
              "      <script>\n",
              "        const buttonEl =\n",
              "          document.querySelector('#df-685449a0-c293-4574-b4e2-9dfdc00116a2 button.colab-df-convert');\n",
              "        buttonEl.style.display =\n",
              "          google.colab.kernel.accessAllowed ? 'block' : 'none';\n",
              "\n",
              "        async function convertToInteractive(key) {\n",
              "          const element = document.querySelector('#df-685449a0-c293-4574-b4e2-9dfdc00116a2');\n",
              "          const dataTable =\n",
              "            await google.colab.kernel.invokeFunction('convertToInteractive',\n",
              "                                                     [key], {});\n",
              "          if (!dataTable) return;\n",
              "\n",
              "          const docLinkHtml = 'Like what you see? Visit the ' +\n",
              "            '<a target=\"_blank\" href=https://colab.research.google.com/notebooks/data_table.ipynb>data table notebook</a>'\n",
              "            + ' to learn more about interactive tables.';\n",
              "          element.innerHTML = '';\n",
              "          dataTable['output_type'] = 'display_data';\n",
              "          await google.colab.output.renderOutput(dataTable, element);\n",
              "          const docLink = document.createElement('div');\n",
              "          docLink.innerHTML = docLinkHtml;\n",
              "          element.appendChild(docLink);\n",
              "        }\n",
              "      </script>\n",
              "    </div>\n",
              "  </div>\n",
              "  "
            ]
          },
          "metadata": {},
          "execution_count": 21
        }
      ],
      "source": [
        "df.head()"
      ]
    },
    {
      "cell_type": "code",
      "execution_count": null,
      "metadata": {
        "colab": {
          "base_uri": "https://localhost:8080/",
          "height": 423
        },
        "execution": {
          "iopub.execute_input": "2022-02-16T00:57:51.431617Z",
          "iopub.status.busy": "2022-02-16T00:57:51.431136Z",
          "iopub.status.idle": "2022-02-16T00:57:51.441318Z",
          "shell.execute_reply": "2022-02-16T00:57:51.441005Z",
          "shell.execute_reply.started": "2022-02-16T00:57:51.431584Z"
        },
        "id": "Q95hbP_yRuVb",
        "outputId": "6fba67ec-91bf-4642-f7c0-3309513a0280",
        "tags": []
      },
      "outputs": [
        {
          "output_type": "execute_result",
          "data": {
            "text/plain": [
              "                                                 Reviews  Labels\n",
              "0      Ever wanted to know just how much Hollywood co...       1\n",
              "1      The movie itself was ok for the kids. But I go...       1\n",
              "2      You could stage a version of Charles Dickens' ...       1\n",
              "3      this was a fantastic episode. i saw a clip fro...       1\n",
              "4      and laugh out loud funny in many scenes.<br />...       1\n",
              "...                                                  ...     ...\n",
              "24995  I really felt cheated after seeing this pictur...       0\n",
              "24996  Ok,so.....guy gets bitten by a bat and then tu...       0\n",
              "24997  I am generally more willing to be open minded ...       0\n",
              "24998  What a load of rubbish.. I can't even begin to...       0\n",
              "24999  Well, this movie started out funny but quickly...       0\n",
              "\n",
              "[25000 rows x 2 columns]"
            ],
            "text/html": [
              "\n",
              "  <div id=\"df-d25b32e6-dbd0-44d6-a51f-3cfd5f9ae849\">\n",
              "    <div class=\"colab-df-container\">\n",
              "      <div>\n",
              "<style scoped>\n",
              "    .dataframe tbody tr th:only-of-type {\n",
              "        vertical-align: middle;\n",
              "    }\n",
              "\n",
              "    .dataframe tbody tr th {\n",
              "        vertical-align: top;\n",
              "    }\n",
              "\n",
              "    .dataframe thead th {\n",
              "        text-align: right;\n",
              "    }\n",
              "</style>\n",
              "<table border=\"1\" class=\"dataframe\">\n",
              "  <thead>\n",
              "    <tr style=\"text-align: right;\">\n",
              "      <th></th>\n",
              "      <th>Reviews</th>\n",
              "      <th>Labels</th>\n",
              "    </tr>\n",
              "  </thead>\n",
              "  <tbody>\n",
              "    <tr>\n",
              "      <th>0</th>\n",
              "      <td>Ever wanted to know just how much Hollywood co...</td>\n",
              "      <td>1</td>\n",
              "    </tr>\n",
              "    <tr>\n",
              "      <th>1</th>\n",
              "      <td>The movie itself was ok for the kids. But I go...</td>\n",
              "      <td>1</td>\n",
              "    </tr>\n",
              "    <tr>\n",
              "      <th>2</th>\n",
              "      <td>You could stage a version of Charles Dickens' ...</td>\n",
              "      <td>1</td>\n",
              "    </tr>\n",
              "    <tr>\n",
              "      <th>3</th>\n",
              "      <td>this was a fantastic episode. i saw a clip fro...</td>\n",
              "      <td>1</td>\n",
              "    </tr>\n",
              "    <tr>\n",
              "      <th>4</th>\n",
              "      <td>and laugh out loud funny in many scenes.&lt;br /&gt;...</td>\n",
              "      <td>1</td>\n",
              "    </tr>\n",
              "    <tr>\n",
              "      <th>...</th>\n",
              "      <td>...</td>\n",
              "      <td>...</td>\n",
              "    </tr>\n",
              "    <tr>\n",
              "      <th>24995</th>\n",
              "      <td>I really felt cheated after seeing this pictur...</td>\n",
              "      <td>0</td>\n",
              "    </tr>\n",
              "    <tr>\n",
              "      <th>24996</th>\n",
              "      <td>Ok,so.....guy gets bitten by a bat and then tu...</td>\n",
              "      <td>0</td>\n",
              "    </tr>\n",
              "    <tr>\n",
              "      <th>24997</th>\n",
              "      <td>I am generally more willing to be open minded ...</td>\n",
              "      <td>0</td>\n",
              "    </tr>\n",
              "    <tr>\n",
              "      <th>24998</th>\n",
              "      <td>What a load of rubbish.. I can't even begin to...</td>\n",
              "      <td>0</td>\n",
              "    </tr>\n",
              "    <tr>\n",
              "      <th>24999</th>\n",
              "      <td>Well, this movie started out funny but quickly...</td>\n",
              "      <td>0</td>\n",
              "    </tr>\n",
              "  </tbody>\n",
              "</table>\n",
              "<p>25000 rows × 2 columns</p>\n",
              "</div>\n",
              "      <button class=\"colab-df-convert\" onclick=\"convertToInteractive('df-d25b32e6-dbd0-44d6-a51f-3cfd5f9ae849')\"\n",
              "              title=\"Convert this dataframe to an interactive table.\"\n",
              "              style=\"display:none;\">\n",
              "        \n",
              "  <svg xmlns=\"http://www.w3.org/2000/svg\" height=\"24px\"viewBox=\"0 0 24 24\"\n",
              "       width=\"24px\">\n",
              "    <path d=\"M0 0h24v24H0V0z\" fill=\"none\"/>\n",
              "    <path d=\"M18.56 5.44l.94 2.06.94-2.06 2.06-.94-2.06-.94-.94-2.06-.94 2.06-2.06.94zm-11 1L8.5 8.5l.94-2.06 2.06-.94-2.06-.94L8.5 2.5l-.94 2.06-2.06.94zm10 10l.94 2.06.94-2.06 2.06-.94-2.06-.94-.94-2.06-.94 2.06-2.06.94z\"/><path d=\"M17.41 7.96l-1.37-1.37c-.4-.4-.92-.59-1.43-.59-.52 0-1.04.2-1.43.59L10.3 9.45l-7.72 7.72c-.78.78-.78 2.05 0 2.83L4 21.41c.39.39.9.59 1.41.59.51 0 1.02-.2 1.41-.59l7.78-7.78 2.81-2.81c.8-.78.8-2.07 0-2.86zM5.41 20L4 18.59l7.72-7.72 1.47 1.35L5.41 20z\"/>\n",
              "  </svg>\n",
              "      </button>\n",
              "      \n",
              "  <style>\n",
              "    .colab-df-container {\n",
              "      display:flex;\n",
              "      flex-wrap:wrap;\n",
              "      gap: 12px;\n",
              "    }\n",
              "\n",
              "    .colab-df-convert {\n",
              "      background-color: #E8F0FE;\n",
              "      border: none;\n",
              "      border-radius: 50%;\n",
              "      cursor: pointer;\n",
              "      display: none;\n",
              "      fill: #1967D2;\n",
              "      height: 32px;\n",
              "      padding: 0 0 0 0;\n",
              "      width: 32px;\n",
              "    }\n",
              "\n",
              "    .colab-df-convert:hover {\n",
              "      background-color: #E2EBFA;\n",
              "      box-shadow: 0px 1px 2px rgba(60, 64, 67, 0.3), 0px 1px 3px 1px rgba(60, 64, 67, 0.15);\n",
              "      fill: #174EA6;\n",
              "    }\n",
              "\n",
              "    [theme=dark] .colab-df-convert {\n",
              "      background-color: #3B4455;\n",
              "      fill: #D2E3FC;\n",
              "    }\n",
              "\n",
              "    [theme=dark] .colab-df-convert:hover {\n",
              "      background-color: #434B5C;\n",
              "      box-shadow: 0px 1px 3px 1px rgba(0, 0, 0, 0.15);\n",
              "      filter: drop-shadow(0px 1px 2px rgba(0, 0, 0, 0.3));\n",
              "      fill: #FFFFFF;\n",
              "    }\n",
              "  </style>\n",
              "\n",
              "      <script>\n",
              "        const buttonEl =\n",
              "          document.querySelector('#df-d25b32e6-dbd0-44d6-a51f-3cfd5f9ae849 button.colab-df-convert');\n",
              "        buttonEl.style.display =\n",
              "          google.colab.kernel.accessAllowed ? 'block' : 'none';\n",
              "\n",
              "        async function convertToInteractive(key) {\n",
              "          const element = document.querySelector('#df-d25b32e6-dbd0-44d6-a51f-3cfd5f9ae849');\n",
              "          const dataTable =\n",
              "            await google.colab.kernel.invokeFunction('convertToInteractive',\n",
              "                                                     [key], {});\n",
              "          if (!dataTable) return;\n",
              "\n",
              "          const docLinkHtml = 'Like what you see? Visit the ' +\n",
              "            '<a target=\"_blank\" href=https://colab.research.google.com/notebooks/data_table.ipynb>data table notebook</a>'\n",
              "            + ' to learn more about interactive tables.';\n",
              "          element.innerHTML = '';\n",
              "          dataTable['output_type'] = 'display_data';\n",
              "          await google.colab.output.renderOutput(dataTable, element);\n",
              "          const docLink = document.createElement('div');\n",
              "          docLink.innerHTML = docLinkHtml;\n",
              "          element.appendChild(docLink);\n",
              "        }\n",
              "      </script>\n",
              "    </div>\n",
              "  </div>\n",
              "  "
            ]
          },
          "metadata": {},
          "execution_count": 22
        }
      ],
      "source": [
        "df = df.drop(['Unnamed: 0'], axis=1)\n",
        "df"
      ]
    },
    {
      "cell_type": "markdown",
      "source": [
        "## <font color = 'pickle'> **Pre-processing**"
      ],
      "metadata": {
        "id": "8eS0Zw2xzd3f"
      }
    },
    {
      "cell_type": "markdown",
      "source": [
        "### <font color = 'pickle'>**Remove HTML Tags and new line characters**"
      ],
      "metadata": {
        "id": "xJC95r-o0bjy"
      }
    },
    {
      "cell_type": "code",
      "source": [
        "def basic_clean(text):\n",
        "  soup = BeautifulSoup(text, 'html.parser')\n",
        "  if bool(soup.find()) == True:\n",
        "    text = soup.get_text()\n",
        "  return re.sub(r'[\\n\\r]',' ', text)"
      ],
      "metadata": {
        "id": "B3Oj319Q0lzf"
      },
      "execution_count": null,
      "outputs": []
    },
    {
      "cell_type": "code",
      "source": [
        "# take a small sample to try our function\n",
        "sample = df.Reviews[6][700:750]"
      ],
      "metadata": {
        "id": "WAn3k_1XAIFP"
      },
      "execution_count": null,
      "outputs": []
    },
    {
      "cell_type": "code",
      "source": [
        "sample"
      ],
      "metadata": {
        "colab": {
          "base_uri": "https://localhost:8080/",
          "height": 35
        },
        "id": "XuCRJ_XzAPP1",
        "outputId": "18cfc760-496b-4476-d227-498342e24dc8"
      },
      "execution_count": null,
      "outputs": [
        {
          "output_type": "execute_result",
          "data": {
            "text/plain": [
              "'funny.<br /><br />A toxic spill accident in a nucl'"
            ],
            "application/vnd.google.colaboratory.intrinsic+json": {
              "type": "string"
            }
          },
          "metadata": {},
          "execution_count": 25
        }
      ]
    },
    {
      "cell_type": "code",
      "source": [
        "# apply the function to sample\n",
        "cleaned_sample = basic_clean(str(sample))"
      ],
      "metadata": {
        "id": "od6pyyfVDvVp"
      },
      "execution_count": null,
      "outputs": []
    },
    {
      "cell_type": "code",
      "source": [
        "cleaned_sample"
      ],
      "metadata": {
        "colab": {
          "base_uri": "https://localhost:8080/",
          "height": 35
        },
        "id": "oLAqThzxD0gG",
        "outputId": "66f84385-5155-4399-82d1-a3e7e377f38b"
      },
      "execution_count": null,
      "outputs": [
        {
          "output_type": "execute_result",
          "data": {
            "text/plain": [
              "'funny.A toxic spill accident in a nucl'"
            ],
            "application/vnd.google.colaboratory.intrinsic+json": {
              "type": "string"
            }
          },
          "metadata": {},
          "execution_count": 27
        }
      ]
    },
    {
      "cell_type": "code",
      "source": [
        "df['text_basic_clean'] = df.Reviews.apply(basic_clean)"
      ],
      "metadata": {
        "id": "NPWZjEEVE9Sa"
      },
      "execution_count": null,
      "outputs": []
    },
    {
      "cell_type": "code",
      "source": [
        "df.head()"
      ],
      "metadata": {
        "colab": {
          "base_uri": "https://localhost:8080/",
          "height": 206
        },
        "id": "c1RcMAAxGJDO",
        "outputId": "3280246b-cc2f-48f8-ffd1-ef3279346f01"
      },
      "execution_count": null,
      "outputs": [
        {
          "output_type": "execute_result",
          "data": {
            "text/plain": [
              "                                             Reviews  Labels  \\\n",
              "0  Ever wanted to know just how much Hollywood co...       1   \n",
              "1  The movie itself was ok for the kids. But I go...       1   \n",
              "2  You could stage a version of Charles Dickens' ...       1   \n",
              "3  this was a fantastic episode. i saw a clip fro...       1   \n",
              "4  and laugh out loud funny in many scenes.<br />...       1   \n",
              "\n",
              "                                    text_basic_clean  \n",
              "0  Ever wanted to know just how much Hollywood co...  \n",
              "1  The movie itself was ok for the kids. But I go...  \n",
              "2  You could stage a version of Charles Dickens' ...  \n",
              "3  this was a fantastic episode. i saw a clip fro...  \n",
              "4  and laugh out loud funny in many scenes.The mo...  "
            ],
            "text/html": [
              "\n",
              "  <div id=\"df-371cf22d-a0d9-417e-ae33-67353a1a04d7\">\n",
              "    <div class=\"colab-df-container\">\n",
              "      <div>\n",
              "<style scoped>\n",
              "    .dataframe tbody tr th:only-of-type {\n",
              "        vertical-align: middle;\n",
              "    }\n",
              "\n",
              "    .dataframe tbody tr th {\n",
              "        vertical-align: top;\n",
              "    }\n",
              "\n",
              "    .dataframe thead th {\n",
              "        text-align: right;\n",
              "    }\n",
              "</style>\n",
              "<table border=\"1\" class=\"dataframe\">\n",
              "  <thead>\n",
              "    <tr style=\"text-align: right;\">\n",
              "      <th></th>\n",
              "      <th>Reviews</th>\n",
              "      <th>Labels</th>\n",
              "      <th>text_basic_clean</th>\n",
              "    </tr>\n",
              "  </thead>\n",
              "  <tbody>\n",
              "    <tr>\n",
              "      <th>0</th>\n",
              "      <td>Ever wanted to know just how much Hollywood co...</td>\n",
              "      <td>1</td>\n",
              "      <td>Ever wanted to know just how much Hollywood co...</td>\n",
              "    </tr>\n",
              "    <tr>\n",
              "      <th>1</th>\n",
              "      <td>The movie itself was ok for the kids. But I go...</td>\n",
              "      <td>1</td>\n",
              "      <td>The movie itself was ok for the kids. But I go...</td>\n",
              "    </tr>\n",
              "    <tr>\n",
              "      <th>2</th>\n",
              "      <td>You could stage a version of Charles Dickens' ...</td>\n",
              "      <td>1</td>\n",
              "      <td>You could stage a version of Charles Dickens' ...</td>\n",
              "    </tr>\n",
              "    <tr>\n",
              "      <th>3</th>\n",
              "      <td>this was a fantastic episode. i saw a clip fro...</td>\n",
              "      <td>1</td>\n",
              "      <td>this was a fantastic episode. i saw a clip fro...</td>\n",
              "    </tr>\n",
              "    <tr>\n",
              "      <th>4</th>\n",
              "      <td>and laugh out loud funny in many scenes.&lt;br /&gt;...</td>\n",
              "      <td>1</td>\n",
              "      <td>and laugh out loud funny in many scenes.The mo...</td>\n",
              "    </tr>\n",
              "  </tbody>\n",
              "</table>\n",
              "</div>\n",
              "      <button class=\"colab-df-convert\" onclick=\"convertToInteractive('df-371cf22d-a0d9-417e-ae33-67353a1a04d7')\"\n",
              "              title=\"Convert this dataframe to an interactive table.\"\n",
              "              style=\"display:none;\">\n",
              "        \n",
              "  <svg xmlns=\"http://www.w3.org/2000/svg\" height=\"24px\"viewBox=\"0 0 24 24\"\n",
              "       width=\"24px\">\n",
              "    <path d=\"M0 0h24v24H0V0z\" fill=\"none\"/>\n",
              "    <path d=\"M18.56 5.44l.94 2.06.94-2.06 2.06-.94-2.06-.94-.94-2.06-.94 2.06-2.06.94zm-11 1L8.5 8.5l.94-2.06 2.06-.94-2.06-.94L8.5 2.5l-.94 2.06-2.06.94zm10 10l.94 2.06.94-2.06 2.06-.94-2.06-.94-.94-2.06-.94 2.06-2.06.94z\"/><path d=\"M17.41 7.96l-1.37-1.37c-.4-.4-.92-.59-1.43-.59-.52 0-1.04.2-1.43.59L10.3 9.45l-7.72 7.72c-.78.78-.78 2.05 0 2.83L4 21.41c.39.39.9.59 1.41.59.51 0 1.02-.2 1.41-.59l7.78-7.78 2.81-2.81c.8-.78.8-2.07 0-2.86zM5.41 20L4 18.59l7.72-7.72 1.47 1.35L5.41 20z\"/>\n",
              "  </svg>\n",
              "      </button>\n",
              "      \n",
              "  <style>\n",
              "    .colab-df-container {\n",
              "      display:flex;\n",
              "      flex-wrap:wrap;\n",
              "      gap: 12px;\n",
              "    }\n",
              "\n",
              "    .colab-df-convert {\n",
              "      background-color: #E8F0FE;\n",
              "      border: none;\n",
              "      border-radius: 50%;\n",
              "      cursor: pointer;\n",
              "      display: none;\n",
              "      fill: #1967D2;\n",
              "      height: 32px;\n",
              "      padding: 0 0 0 0;\n",
              "      width: 32px;\n",
              "    }\n",
              "\n",
              "    .colab-df-convert:hover {\n",
              "      background-color: #E2EBFA;\n",
              "      box-shadow: 0px 1px 2px rgba(60, 64, 67, 0.3), 0px 1px 3px 1px rgba(60, 64, 67, 0.15);\n",
              "      fill: #174EA6;\n",
              "    }\n",
              "\n",
              "    [theme=dark] .colab-df-convert {\n",
              "      background-color: #3B4455;\n",
              "      fill: #D2E3FC;\n",
              "    }\n",
              "\n",
              "    [theme=dark] .colab-df-convert:hover {\n",
              "      background-color: #434B5C;\n",
              "      box-shadow: 0px 1px 3px 1px rgba(0, 0, 0, 0.15);\n",
              "      filter: drop-shadow(0px 1px 2px rgba(0, 0, 0, 0.3));\n",
              "      fill: #FFFFFF;\n",
              "    }\n",
              "  </style>\n",
              "\n",
              "      <script>\n",
              "        const buttonEl =\n",
              "          document.querySelector('#df-371cf22d-a0d9-417e-ae33-67353a1a04d7 button.colab-df-convert');\n",
              "        buttonEl.style.display =\n",
              "          google.colab.kernel.accessAllowed ? 'block' : 'none';\n",
              "\n",
              "        async function convertToInteractive(key) {\n",
              "          const element = document.querySelector('#df-371cf22d-a0d9-417e-ae33-67353a1a04d7');\n",
              "          const dataTable =\n",
              "            await google.colab.kernel.invokeFunction('convertToInteractive',\n",
              "                                                     [key], {});\n",
              "          if (!dataTable) return;\n",
              "\n",
              "          const docLinkHtml = 'Like what you see? Visit the ' +\n",
              "            '<a target=\"_blank\" href=https://colab.research.google.com/notebooks/data_table.ipynb>data table notebook</a>'\n",
              "            + ' to learn more about interactive tables.';\n",
              "          element.innerHTML = '';\n",
              "          dataTable['output_type'] = 'display_data';\n",
              "          await google.colab.output.renderOutput(dataTable, element);\n",
              "          const docLink = document.createElement('div');\n",
              "          docLink.innerHTML = docLinkHtml;\n",
              "          element.appendChild(docLink);\n",
              "        }\n",
              "      </script>\n",
              "    </div>\n",
              "  </div>\n",
              "  "
            ]
          },
          "metadata": {},
          "execution_count": 29
        }
      ]
    },
    {
      "cell_type": "code",
      "source": [
        "df.iloc[2, 0][450:550]"
      ],
      "metadata": {
        "colab": {
          "base_uri": "https://localhost:8080/",
          "height": 35
        },
        "id": "q1JTolSiGUHe",
        "outputId": "715a9e95-02e7-46a5-a624-25bfee9ff546"
      },
      "execution_count": null,
      "outputs": [
        {
          "output_type": "execute_result",
          "data": {
            "text/plain": [
              "'evitably are this time of year.<br /><br />What makes this version really stand out is the somber gr'"
            ],
            "application/vnd.google.colaboratory.intrinsic+json": {
              "type": "string"
            }
          },
          "metadata": {},
          "execution_count": 30
        }
      ]
    },
    {
      "cell_type": "code",
      "source": [
        "df.iloc[2, 2][450:550]"
      ],
      "metadata": {
        "colab": {
          "base_uri": "https://localhost:8080/",
          "height": 35
        },
        "id": "xJhXL1MHHmbd",
        "outputId": "c761c9f8-f915-4635-a560-bf93aaa36d34"
      },
      "execution_count": null,
      "outputs": [
        {
          "output_type": "execute_result",
          "data": {
            "text/plain": [
              "'evitably are this time of year.What makes this version really stand out is the somber gravitas that '"
            ],
            "application/vnd.google.colaboratory.intrinsic+json": {
              "type": "string"
            }
          },
          "metadata": {},
          "execution_count": 31
        }
      ]
    },
    {
      "cell_type": "markdown",
      "source": [
        "### <font color = 'pickle'>**Remove Punctuations, emails and urls**"
      ],
      "metadata": {
        "id": "26IMajU7Ixqm"
      }
    },
    {
      "cell_type": "code",
      "source": [
        "def clean_text(text, spacy_model):\n",
        "  '''\n",
        "  text : array of text\n",
        "  spacy model: spacy model like en_core_web_sm\n",
        "  '''\n",
        "  nlp = spacy.load(spacy_model)\n",
        "  disabled = nlp.select_pipes(disable=['tok2vec', 'tagger', 'parser', 'attribute_ruler', 'lemmatizer', 'ner'])\n",
        "  cleaned_text = []\n",
        "  for doc in nlp.pipe(text, batch_size=1000, n_process=-1):\n",
        "      cleaned_doc = \" \".join([token.text for token in doc if not (token.is_punct or token.like_email or token.like_url) ] )\n",
        "      cleaned_text.append(cleaned_doc)\n",
        "  return cleaned_text\n",
        "\n",
        ""
      ],
      "metadata": {
        "id": "UEeTBjLVJcb-"
      },
      "execution_count": null,
      "outputs": []
    },
    {
      "cell_type": "code",
      "source": [
        "sample_df = pd.DataFrame({'text' :['a25 is ranked 36. urls is a24.com', 'what is your name? Are you in U.S.A.?', 'my email is xyz.com']})"
      ],
      "metadata": {
        "id": "dLf85O_8Mfhu"
      },
      "execution_count": null,
      "outputs": []
    },
    {
      "cell_type": "code",
      "source": [
        "sample_df"
      ],
      "metadata": {
        "colab": {
          "base_uri": "https://localhost:8080/",
          "height": 143
        },
        "id": "26BTMSxrM_Vo",
        "outputId": "e73ce3f0-4c38-426d-b6c1-e7d29879fb12"
      },
      "execution_count": null,
      "outputs": [
        {
          "output_type": "execute_result",
          "data": {
            "text/plain": [
              "                                    text\n",
              "0      a25 is ranked 36. urls is a24.com\n",
              "1  what is your name? Are you in U.S.A.?\n",
              "2                    my email is xyz.com"
            ],
            "text/html": [
              "\n",
              "  <div id=\"df-a4611652-bce8-4242-8f4c-f15cb10a6cd5\">\n",
              "    <div class=\"colab-df-container\">\n",
              "      <div>\n",
              "<style scoped>\n",
              "    .dataframe tbody tr th:only-of-type {\n",
              "        vertical-align: middle;\n",
              "    }\n",
              "\n",
              "    .dataframe tbody tr th {\n",
              "        vertical-align: top;\n",
              "    }\n",
              "\n",
              "    .dataframe thead th {\n",
              "        text-align: right;\n",
              "    }\n",
              "</style>\n",
              "<table border=\"1\" class=\"dataframe\">\n",
              "  <thead>\n",
              "    <tr style=\"text-align: right;\">\n",
              "      <th></th>\n",
              "      <th>text</th>\n",
              "    </tr>\n",
              "  </thead>\n",
              "  <tbody>\n",
              "    <tr>\n",
              "      <th>0</th>\n",
              "      <td>a25 is ranked 36. urls is a24.com</td>\n",
              "    </tr>\n",
              "    <tr>\n",
              "      <th>1</th>\n",
              "      <td>what is your name? Are you in U.S.A.?</td>\n",
              "    </tr>\n",
              "    <tr>\n",
              "      <th>2</th>\n",
              "      <td>my email is xyz.com</td>\n",
              "    </tr>\n",
              "  </tbody>\n",
              "</table>\n",
              "</div>\n",
              "      <button class=\"colab-df-convert\" onclick=\"convertToInteractive('df-a4611652-bce8-4242-8f4c-f15cb10a6cd5')\"\n",
              "              title=\"Convert this dataframe to an interactive table.\"\n",
              "              style=\"display:none;\">\n",
              "        \n",
              "  <svg xmlns=\"http://www.w3.org/2000/svg\" height=\"24px\"viewBox=\"0 0 24 24\"\n",
              "       width=\"24px\">\n",
              "    <path d=\"M0 0h24v24H0V0z\" fill=\"none\"/>\n",
              "    <path d=\"M18.56 5.44l.94 2.06.94-2.06 2.06-.94-2.06-.94-.94-2.06-.94 2.06-2.06.94zm-11 1L8.5 8.5l.94-2.06 2.06-.94-2.06-.94L8.5 2.5l-.94 2.06-2.06.94zm10 10l.94 2.06.94-2.06 2.06-.94-2.06-.94-.94-2.06-.94 2.06-2.06.94z\"/><path d=\"M17.41 7.96l-1.37-1.37c-.4-.4-.92-.59-1.43-.59-.52 0-1.04.2-1.43.59L10.3 9.45l-7.72 7.72c-.78.78-.78 2.05 0 2.83L4 21.41c.39.39.9.59 1.41.59.51 0 1.02-.2 1.41-.59l7.78-7.78 2.81-2.81c.8-.78.8-2.07 0-2.86zM5.41 20L4 18.59l7.72-7.72 1.47 1.35L5.41 20z\"/>\n",
              "  </svg>\n",
              "      </button>\n",
              "      \n",
              "  <style>\n",
              "    .colab-df-container {\n",
              "      display:flex;\n",
              "      flex-wrap:wrap;\n",
              "      gap: 12px;\n",
              "    }\n",
              "\n",
              "    .colab-df-convert {\n",
              "      background-color: #E8F0FE;\n",
              "      border: none;\n",
              "      border-radius: 50%;\n",
              "      cursor: pointer;\n",
              "      display: none;\n",
              "      fill: #1967D2;\n",
              "      height: 32px;\n",
              "      padding: 0 0 0 0;\n",
              "      width: 32px;\n",
              "    }\n",
              "\n",
              "    .colab-df-convert:hover {\n",
              "      background-color: #E2EBFA;\n",
              "      box-shadow: 0px 1px 2px rgba(60, 64, 67, 0.3), 0px 1px 3px 1px rgba(60, 64, 67, 0.15);\n",
              "      fill: #174EA6;\n",
              "    }\n",
              "\n",
              "    [theme=dark] .colab-df-convert {\n",
              "      background-color: #3B4455;\n",
              "      fill: #D2E3FC;\n",
              "    }\n",
              "\n",
              "    [theme=dark] .colab-df-convert:hover {\n",
              "      background-color: #434B5C;\n",
              "      box-shadow: 0px 1px 3px 1px rgba(0, 0, 0, 0.15);\n",
              "      filter: drop-shadow(0px 1px 2px rgba(0, 0, 0, 0.3));\n",
              "      fill: #FFFFFF;\n",
              "    }\n",
              "  </style>\n",
              "\n",
              "      <script>\n",
              "        const buttonEl =\n",
              "          document.querySelector('#df-a4611652-bce8-4242-8f4c-f15cb10a6cd5 button.colab-df-convert');\n",
              "        buttonEl.style.display =\n",
              "          google.colab.kernel.accessAllowed ? 'block' : 'none';\n",
              "\n",
              "        async function convertToInteractive(key) {\n",
              "          const element = document.querySelector('#df-a4611652-bce8-4242-8f4c-f15cb10a6cd5');\n",
              "          const dataTable =\n",
              "            await google.colab.kernel.invokeFunction('convertToInteractive',\n",
              "                                                     [key], {});\n",
              "          if (!dataTable) return;\n",
              "\n",
              "          const docLinkHtml = 'Like what you see? Visit the ' +\n",
              "            '<a target=\"_blank\" href=https://colab.research.google.com/notebooks/data_table.ipynb>data table notebook</a>'\n",
              "            + ' to learn more about interactive tables.';\n",
              "          element.innerHTML = '';\n",
              "          dataTable['output_type'] = 'display_data';\n",
              "          await google.colab.output.renderOutput(dataTable, element);\n",
              "          const docLink = document.createElement('div');\n",
              "          docLink.innerHTML = docLinkHtml;\n",
              "          element.appendChild(docLink);\n",
              "        }\n",
              "      </script>\n",
              "    </div>\n",
              "  </div>\n",
              "  "
            ]
          },
          "metadata": {},
          "execution_count": 34
        }
      ]
    },
    {
      "cell_type": "code",
      "source": [
        "cleaned_text = clean_text(sample_df.text.values, 'en_core_web_sm')"
      ],
      "metadata": {
        "id": "nnPM30fwNEdc"
      },
      "execution_count": null,
      "outputs": []
    },
    {
      "cell_type": "code",
      "source": [
        "cleaned_text"
      ],
      "metadata": {
        "colab": {
          "base_uri": "https://localhost:8080/"
        },
        "id": "paydJF8ANzGS",
        "outputId": "b48fbab7-57a5-4b3b-c6b7-f7ca5904cc6c"
      },
      "execution_count": null,
      "outputs": [
        {
          "output_type": "execute_result",
          "data": {
            "text/plain": [
              "['a25 is ranked 36 urls is',\n",
              " 'what is your name Are you in U.S.A.',\n",
              " 'my email is']"
            ]
          },
          "metadata": {},
          "execution_count": 36
        }
      ]
    },
    {
      "cell_type": "code",
      "source": [
        "sample_df['cleaned_text'] = cleaned_text\n",
        "sample_df"
      ],
      "metadata": {
        "colab": {
          "base_uri": "https://localhost:8080/",
          "height": 143
        },
        "id": "5rdzJhKdOUY9",
        "outputId": "e1bdd53d-554b-4f5a-81e8-83314453d53d"
      },
      "execution_count": null,
      "outputs": [
        {
          "output_type": "execute_result",
          "data": {
            "text/plain": [
              "                                    text                         cleaned_text\n",
              "0      a25 is ranked 36. urls is a24.com             a25 is ranked 36 urls is\n",
              "1  what is your name? Are you in U.S.A.?  what is your name Are you in U.S.A.\n",
              "2                    my email is xyz.com                          my email is"
            ],
            "text/html": [
              "\n",
              "  <div id=\"df-1f309a8b-200b-44a6-924c-b6e2586a698f\">\n",
              "    <div class=\"colab-df-container\">\n",
              "      <div>\n",
              "<style scoped>\n",
              "    .dataframe tbody tr th:only-of-type {\n",
              "        vertical-align: middle;\n",
              "    }\n",
              "\n",
              "    .dataframe tbody tr th {\n",
              "        vertical-align: top;\n",
              "    }\n",
              "\n",
              "    .dataframe thead th {\n",
              "        text-align: right;\n",
              "    }\n",
              "</style>\n",
              "<table border=\"1\" class=\"dataframe\">\n",
              "  <thead>\n",
              "    <tr style=\"text-align: right;\">\n",
              "      <th></th>\n",
              "      <th>text</th>\n",
              "      <th>cleaned_text</th>\n",
              "    </tr>\n",
              "  </thead>\n",
              "  <tbody>\n",
              "    <tr>\n",
              "      <th>0</th>\n",
              "      <td>a25 is ranked 36. urls is a24.com</td>\n",
              "      <td>a25 is ranked 36 urls is</td>\n",
              "    </tr>\n",
              "    <tr>\n",
              "      <th>1</th>\n",
              "      <td>what is your name? Are you in U.S.A.?</td>\n",
              "      <td>what is your name Are you in U.S.A.</td>\n",
              "    </tr>\n",
              "    <tr>\n",
              "      <th>2</th>\n",
              "      <td>my email is xyz.com</td>\n",
              "      <td>my email is</td>\n",
              "    </tr>\n",
              "  </tbody>\n",
              "</table>\n",
              "</div>\n",
              "      <button class=\"colab-df-convert\" onclick=\"convertToInteractive('df-1f309a8b-200b-44a6-924c-b6e2586a698f')\"\n",
              "              title=\"Convert this dataframe to an interactive table.\"\n",
              "              style=\"display:none;\">\n",
              "        \n",
              "  <svg xmlns=\"http://www.w3.org/2000/svg\" height=\"24px\"viewBox=\"0 0 24 24\"\n",
              "       width=\"24px\">\n",
              "    <path d=\"M0 0h24v24H0V0z\" fill=\"none\"/>\n",
              "    <path d=\"M18.56 5.44l.94 2.06.94-2.06 2.06-.94-2.06-.94-.94-2.06-.94 2.06-2.06.94zm-11 1L8.5 8.5l.94-2.06 2.06-.94-2.06-.94L8.5 2.5l-.94 2.06-2.06.94zm10 10l.94 2.06.94-2.06 2.06-.94-2.06-.94-.94-2.06-.94 2.06-2.06.94z\"/><path d=\"M17.41 7.96l-1.37-1.37c-.4-.4-.92-.59-1.43-.59-.52 0-1.04.2-1.43.59L10.3 9.45l-7.72 7.72c-.78.78-.78 2.05 0 2.83L4 21.41c.39.39.9.59 1.41.59.51 0 1.02-.2 1.41-.59l7.78-7.78 2.81-2.81c.8-.78.8-2.07 0-2.86zM5.41 20L4 18.59l7.72-7.72 1.47 1.35L5.41 20z\"/>\n",
              "  </svg>\n",
              "      </button>\n",
              "      \n",
              "  <style>\n",
              "    .colab-df-container {\n",
              "      display:flex;\n",
              "      flex-wrap:wrap;\n",
              "      gap: 12px;\n",
              "    }\n",
              "\n",
              "    .colab-df-convert {\n",
              "      background-color: #E8F0FE;\n",
              "      border: none;\n",
              "      border-radius: 50%;\n",
              "      cursor: pointer;\n",
              "      display: none;\n",
              "      fill: #1967D2;\n",
              "      height: 32px;\n",
              "      padding: 0 0 0 0;\n",
              "      width: 32px;\n",
              "    }\n",
              "\n",
              "    .colab-df-convert:hover {\n",
              "      background-color: #E2EBFA;\n",
              "      box-shadow: 0px 1px 2px rgba(60, 64, 67, 0.3), 0px 1px 3px 1px rgba(60, 64, 67, 0.15);\n",
              "      fill: #174EA6;\n",
              "    }\n",
              "\n",
              "    [theme=dark] .colab-df-convert {\n",
              "      background-color: #3B4455;\n",
              "      fill: #D2E3FC;\n",
              "    }\n",
              "\n",
              "    [theme=dark] .colab-df-convert:hover {\n",
              "      background-color: #434B5C;\n",
              "      box-shadow: 0px 1px 3px 1px rgba(0, 0, 0, 0.15);\n",
              "      filter: drop-shadow(0px 1px 2px rgba(0, 0, 0, 0.3));\n",
              "      fill: #FFFFFF;\n",
              "    }\n",
              "  </style>\n",
              "\n",
              "      <script>\n",
              "        const buttonEl =\n",
              "          document.querySelector('#df-1f309a8b-200b-44a6-924c-b6e2586a698f button.colab-df-convert');\n",
              "        buttonEl.style.display =\n",
              "          google.colab.kernel.accessAllowed ? 'block' : 'none';\n",
              "\n",
              "        async function convertToInteractive(key) {\n",
              "          const element = document.querySelector('#df-1f309a8b-200b-44a6-924c-b6e2586a698f');\n",
              "          const dataTable =\n",
              "            await google.colab.kernel.invokeFunction('convertToInteractive',\n",
              "                                                     [key], {});\n",
              "          if (!dataTable) return;\n",
              "\n",
              "          const docLinkHtml = 'Like what you see? Visit the ' +\n",
              "            '<a target=\"_blank\" href=https://colab.research.google.com/notebooks/data_table.ipynb>data table notebook</a>'\n",
              "            + ' to learn more about interactive tables.';\n",
              "          element.innerHTML = '';\n",
              "          dataTable['output_type'] = 'display_data';\n",
              "          await google.colab.output.renderOutput(dataTable, element);\n",
              "          const docLink = document.createElement('div');\n",
              "          docLink.innerHTML = docLinkHtml;\n",
              "          element.appendChild(docLink);\n",
              "        }\n",
              "      </script>\n",
              "    </div>\n",
              "  </div>\n",
              "  "
            ]
          },
          "metadata": {},
          "execution_count": 37
        }
      ]
    },
    {
      "cell_type": "code",
      "source": [
        "df['cleaned_text'] = clean_text(df.text_basic_clean.values, 'en_core_web_sm')"
      ],
      "metadata": {
        "id": "LbfGr7-9Orbm"
      },
      "execution_count": null,
      "outputs": []
    },
    {
      "cell_type": "code",
      "source": [
        "df"
      ],
      "metadata": {
        "colab": {
          "base_uri": "https://localhost:8080/",
          "height": 641
        },
        "id": "RclQeKmyPu2h",
        "outputId": "b88e3065-957b-466d-d5d6-1dfc00b5a753"
      },
      "execution_count": null,
      "outputs": [
        {
          "output_type": "execute_result",
          "data": {
            "text/plain": [
              "                                                 Reviews  Labels  \\\n",
              "0      Ever wanted to know just how much Hollywood co...       1   \n",
              "1      The movie itself was ok for the kids. But I go...       1   \n",
              "2      You could stage a version of Charles Dickens' ...       1   \n",
              "3      this was a fantastic episode. i saw a clip fro...       1   \n",
              "4      and laugh out loud funny in many scenes.<br />...       1   \n",
              "...                                                  ...     ...   \n",
              "24995  I really felt cheated after seeing this pictur...       0   \n",
              "24996  Ok,so.....guy gets bitten by a bat and then tu...       0   \n",
              "24997  I am generally more willing to be open minded ...       0   \n",
              "24998  What a load of rubbish.. I can't even begin to...       0   \n",
              "24999  Well, this movie started out funny but quickly...       0   \n",
              "\n",
              "                                        text_basic_clean  \\\n",
              "0      Ever wanted to know just how much Hollywood co...   \n",
              "1      The movie itself was ok for the kids. But I go...   \n",
              "2      You could stage a version of Charles Dickens' ...   \n",
              "3      this was a fantastic episode. i saw a clip fro...   \n",
              "4      and laugh out loud funny in many scenes.The mo...   \n",
              "...                                                  ...   \n",
              "24995  I really felt cheated after seeing this pictur...   \n",
              "24996  Ok,so.....guy gets bitten by a bat and then tu...   \n",
              "24997  I am generally more willing to be open minded ...   \n",
              "24998  What a load of rubbish.. I can't even begin to...   \n",
              "24999  Well, this movie started out funny but quickly...   \n",
              "\n",
              "                                            cleaned_text  \n",
              "0      Ever wanted to know just how much Hollywood co...  \n",
              "1      The movie itself was ok for the kids But I got...  \n",
              "2      You could stage a version of Charles Dickens A...  \n",
              "3      this was a fantastic episode i saw a clip from...  \n",
              "4      and laugh out loud funny in many scenes The mo...  \n",
              "...                                                  ...  \n",
              "24995  I really felt cheated after seeing this pictur...  \n",
              "24996  Ok so guy gets bitten by a bat and then turns ...  \n",
              "24997  I am generally more willing to be open minded ...  \n",
              "24998  What a load of rubbish I ca n't even begin to ...  \n",
              "24999  Well this movie started out funny but quickly ...  \n",
              "\n",
              "[25000 rows x 4 columns]"
            ],
            "text/html": [
              "\n",
              "  <div id=\"df-243e616e-aa1f-4673-8492-fab9ab4cc53c\">\n",
              "    <div class=\"colab-df-container\">\n",
              "      <div>\n",
              "<style scoped>\n",
              "    .dataframe tbody tr th:only-of-type {\n",
              "        vertical-align: middle;\n",
              "    }\n",
              "\n",
              "    .dataframe tbody tr th {\n",
              "        vertical-align: top;\n",
              "    }\n",
              "\n",
              "    .dataframe thead th {\n",
              "        text-align: right;\n",
              "    }\n",
              "</style>\n",
              "<table border=\"1\" class=\"dataframe\">\n",
              "  <thead>\n",
              "    <tr style=\"text-align: right;\">\n",
              "      <th></th>\n",
              "      <th>Reviews</th>\n",
              "      <th>Labels</th>\n",
              "      <th>text_basic_clean</th>\n",
              "      <th>cleaned_text</th>\n",
              "    </tr>\n",
              "  </thead>\n",
              "  <tbody>\n",
              "    <tr>\n",
              "      <th>0</th>\n",
              "      <td>Ever wanted to know just how much Hollywood co...</td>\n",
              "      <td>1</td>\n",
              "      <td>Ever wanted to know just how much Hollywood co...</td>\n",
              "      <td>Ever wanted to know just how much Hollywood co...</td>\n",
              "    </tr>\n",
              "    <tr>\n",
              "      <th>1</th>\n",
              "      <td>The movie itself was ok for the kids. But I go...</td>\n",
              "      <td>1</td>\n",
              "      <td>The movie itself was ok for the kids. But I go...</td>\n",
              "      <td>The movie itself was ok for the kids But I got...</td>\n",
              "    </tr>\n",
              "    <tr>\n",
              "      <th>2</th>\n",
              "      <td>You could stage a version of Charles Dickens' ...</td>\n",
              "      <td>1</td>\n",
              "      <td>You could stage a version of Charles Dickens' ...</td>\n",
              "      <td>You could stage a version of Charles Dickens A...</td>\n",
              "    </tr>\n",
              "    <tr>\n",
              "      <th>3</th>\n",
              "      <td>this was a fantastic episode. i saw a clip fro...</td>\n",
              "      <td>1</td>\n",
              "      <td>this was a fantastic episode. i saw a clip fro...</td>\n",
              "      <td>this was a fantastic episode i saw a clip from...</td>\n",
              "    </tr>\n",
              "    <tr>\n",
              "      <th>4</th>\n",
              "      <td>and laugh out loud funny in many scenes.&lt;br /&gt;...</td>\n",
              "      <td>1</td>\n",
              "      <td>and laugh out loud funny in many scenes.The mo...</td>\n",
              "      <td>and laugh out loud funny in many scenes The mo...</td>\n",
              "    </tr>\n",
              "    <tr>\n",
              "      <th>...</th>\n",
              "      <td>...</td>\n",
              "      <td>...</td>\n",
              "      <td>...</td>\n",
              "      <td>...</td>\n",
              "    </tr>\n",
              "    <tr>\n",
              "      <th>24995</th>\n",
              "      <td>I really felt cheated after seeing this pictur...</td>\n",
              "      <td>0</td>\n",
              "      <td>I really felt cheated after seeing this pictur...</td>\n",
              "      <td>I really felt cheated after seeing this pictur...</td>\n",
              "    </tr>\n",
              "    <tr>\n",
              "      <th>24996</th>\n",
              "      <td>Ok,so.....guy gets bitten by a bat and then tu...</td>\n",
              "      <td>0</td>\n",
              "      <td>Ok,so.....guy gets bitten by a bat and then tu...</td>\n",
              "      <td>Ok so guy gets bitten by a bat and then turns ...</td>\n",
              "    </tr>\n",
              "    <tr>\n",
              "      <th>24997</th>\n",
              "      <td>I am generally more willing to be open minded ...</td>\n",
              "      <td>0</td>\n",
              "      <td>I am generally more willing to be open minded ...</td>\n",
              "      <td>I am generally more willing to be open minded ...</td>\n",
              "    </tr>\n",
              "    <tr>\n",
              "      <th>24998</th>\n",
              "      <td>What a load of rubbish.. I can't even begin to...</td>\n",
              "      <td>0</td>\n",
              "      <td>What a load of rubbish.. I can't even begin to...</td>\n",
              "      <td>What a load of rubbish I ca n't even begin to ...</td>\n",
              "    </tr>\n",
              "    <tr>\n",
              "      <th>24999</th>\n",
              "      <td>Well, this movie started out funny but quickly...</td>\n",
              "      <td>0</td>\n",
              "      <td>Well, this movie started out funny but quickly...</td>\n",
              "      <td>Well this movie started out funny but quickly ...</td>\n",
              "    </tr>\n",
              "  </tbody>\n",
              "</table>\n",
              "<p>25000 rows × 4 columns</p>\n",
              "</div>\n",
              "      <button class=\"colab-df-convert\" onclick=\"convertToInteractive('df-243e616e-aa1f-4673-8492-fab9ab4cc53c')\"\n",
              "              title=\"Convert this dataframe to an interactive table.\"\n",
              "              style=\"display:none;\">\n",
              "        \n",
              "  <svg xmlns=\"http://www.w3.org/2000/svg\" height=\"24px\"viewBox=\"0 0 24 24\"\n",
              "       width=\"24px\">\n",
              "    <path d=\"M0 0h24v24H0V0z\" fill=\"none\"/>\n",
              "    <path d=\"M18.56 5.44l.94 2.06.94-2.06 2.06-.94-2.06-.94-.94-2.06-.94 2.06-2.06.94zm-11 1L8.5 8.5l.94-2.06 2.06-.94-2.06-.94L8.5 2.5l-.94 2.06-2.06.94zm10 10l.94 2.06.94-2.06 2.06-.94-2.06-.94-.94-2.06-.94 2.06-2.06.94z\"/><path d=\"M17.41 7.96l-1.37-1.37c-.4-.4-.92-.59-1.43-.59-.52 0-1.04.2-1.43.59L10.3 9.45l-7.72 7.72c-.78.78-.78 2.05 0 2.83L4 21.41c.39.39.9.59 1.41.59.51 0 1.02-.2 1.41-.59l7.78-7.78 2.81-2.81c.8-.78.8-2.07 0-2.86zM5.41 20L4 18.59l7.72-7.72 1.47 1.35L5.41 20z\"/>\n",
              "  </svg>\n",
              "      </button>\n",
              "      \n",
              "  <style>\n",
              "    .colab-df-container {\n",
              "      display:flex;\n",
              "      flex-wrap:wrap;\n",
              "      gap: 12px;\n",
              "    }\n",
              "\n",
              "    .colab-df-convert {\n",
              "      background-color: #E8F0FE;\n",
              "      border: none;\n",
              "      border-radius: 50%;\n",
              "      cursor: pointer;\n",
              "      display: none;\n",
              "      fill: #1967D2;\n",
              "      height: 32px;\n",
              "      padding: 0 0 0 0;\n",
              "      width: 32px;\n",
              "    }\n",
              "\n",
              "    .colab-df-convert:hover {\n",
              "      background-color: #E2EBFA;\n",
              "      box-shadow: 0px 1px 2px rgba(60, 64, 67, 0.3), 0px 1px 3px 1px rgba(60, 64, 67, 0.15);\n",
              "      fill: #174EA6;\n",
              "    }\n",
              "\n",
              "    [theme=dark] .colab-df-convert {\n",
              "      background-color: #3B4455;\n",
              "      fill: #D2E3FC;\n",
              "    }\n",
              "\n",
              "    [theme=dark] .colab-df-convert:hover {\n",
              "      background-color: #434B5C;\n",
              "      box-shadow: 0px 1px 3px 1px rgba(0, 0, 0, 0.15);\n",
              "      filter: drop-shadow(0px 1px 2px rgba(0, 0, 0, 0.3));\n",
              "      fill: #FFFFFF;\n",
              "    }\n",
              "  </style>\n",
              "\n",
              "      <script>\n",
              "        const buttonEl =\n",
              "          document.querySelector('#df-243e616e-aa1f-4673-8492-fab9ab4cc53c button.colab-df-convert');\n",
              "        buttonEl.style.display =\n",
              "          google.colab.kernel.accessAllowed ? 'block' : 'none';\n",
              "\n",
              "        async function convertToInteractive(key) {\n",
              "          const element = document.querySelector('#df-243e616e-aa1f-4673-8492-fab9ab4cc53c');\n",
              "          const dataTable =\n",
              "            await google.colab.kernel.invokeFunction('convertToInteractive',\n",
              "                                                     [key], {});\n",
              "          if (!dataTable) return;\n",
              "\n",
              "          const docLinkHtml = 'Like what you see? Visit the ' +\n",
              "            '<a target=\"_blank\" href=https://colab.research.google.com/notebooks/data_table.ipynb>data table notebook</a>'\n",
              "            + ' to learn more about interactive tables.';\n",
              "          element.innerHTML = '';\n",
              "          dataTable['output_type'] = 'display_data';\n",
              "          await google.colab.output.renderOutput(dataTable, element);\n",
              "          const docLink = document.createElement('div');\n",
              "          docLink.innerHTML = docLinkHtml;\n",
              "          element.appendChild(docLink);\n",
              "        }\n",
              "      </script>\n",
              "    </div>\n",
              "  </div>\n",
              "  "
            ]
          },
          "metadata": {},
          "execution_count": 39
        }
      ]
    },
    {
      "cell_type": "code",
      "source": [
        "df.iloc[2, 0][450:550]"
      ],
      "metadata": {
        "colab": {
          "base_uri": "https://localhost:8080/",
          "height": 35
        },
        "id": "FF6a9iLkPv5Q",
        "outputId": "e6c056e4-b1c7-4e17-e899-162620af97d7"
      },
      "execution_count": null,
      "outputs": [
        {
          "output_type": "execute_result",
          "data": {
            "text/plain": [
              "'evitably are this time of year.<br /><br />What makes this version really stand out is the somber gr'"
            ],
            "application/vnd.google.colaboratory.intrinsic+json": {
              "type": "string"
            }
          },
          "metadata": {},
          "execution_count": 40
        }
      ]
    },
    {
      "cell_type": "code",
      "source": [
        "df.iloc[2, 3][450:550]"
      ],
      "metadata": {
        "colab": {
          "base_uri": "https://localhost:8080/",
          "height": 35
        },
        "id": "_BiTzArDQBPs",
        "outputId": "1b39c2df-eccb-4ca7-fcf6-c37f6b95b859"
      },
      "execution_count": null,
      "outputs": [
        {
          "output_type": "execute_result",
          "data": {
            "text/plain": [
              "'ly are this time of year What makes this version really stand out is the somber gravitas that the ca'"
            ],
            "application/vnd.google.colaboratory.intrinsic+json": {
              "type": "string"
            }
          },
          "metadata": {},
          "execution_count": 41
        }
      ]
    },
    {
      "cell_type": "markdown",
      "source": [
        "##<font color = 'pickle'> **Extract Features**"
      ],
      "metadata": {
        "id": "ZGtTHphEQjI8"
      }
    },
    {
      "cell_type": "code",
      "execution_count": null,
      "metadata": {
        "colab": {
          "base_uri": "https://localhost:8080/"
        },
        "execution": {
          "iopub.execute_input": "2022-02-16T00:57:59.828214Z",
          "iopub.status.busy": "2022-02-16T00:57:59.828065Z",
          "iopub.status.idle": "2022-02-16T00:57:59.833301Z",
          "shell.execute_reply": "2022-02-16T00:57:59.832914Z",
          "shell.execute_reply.started": "2022-02-16T00:57:59.828201Z"
        },
        "id": "Ug7IZ5QgRzVT",
        "outputId": "1b5b72ee-ec86-4866-9ccc-7b7adb5781cc",
        "tags": []
      },
      "outputs": [
        {
          "output_type": "stream",
          "name": "stdout",
          "text": [
            "a25 is ranked  urls is\n",
            "['36']\n",
            "what is your name Are you in U.S.A.\n",
            "[]\n",
            "my email is\n",
            "[]\n"
          ]
        }
      ],
      "source": [
        "list_count_words =[]\n",
        "list_count_characters =[]\n",
        "list_count_characters_no_space =[]\n",
        "list_avg_word_length=[]\n",
        "list_count_numbers=[]\n",
        "\n",
        "for sent in cleaned_text:\n",
        "    words = re.sub(r'\\b\\d+\\b','',sent)\n",
        "    numbers = re.findall(r'\\b\\d+\\b', sent)\n",
        "    print(words)\n",
        "    print(numbers)\n",
        "\n",
        "    count_word = int(len(words.split()))\n",
        "    count_char = int(len(words))\n",
        "    count_char_no_space = int(len(''.join(words.split())))\n",
        "    avg_word_length = count_char_no_space/count_word\n",
        "    count_numbers = int(len(numbers))\n",
        "\n",
        "\n",
        "    list_count_words.append(count_word)\n",
        "    list_count_characters.append(count_char)\n",
        "    list_count_characters_no_space.append(count_char_no_space)\n",
        "    list_avg_word_length.append(avg_word_length)\n",
        "    list_count_numbers.append(count_numbers)\n",
        ""
      ]
    },
    {
      "cell_type": "code",
      "execution_count": null,
      "metadata": {
        "colab": {
          "base_uri": "https://localhost:8080/"
        },
        "execution": {
          "iopub.execute_input": "2022-02-15T20:01:43.835695Z",
          "iopub.status.busy": "2022-02-15T20:01:43.835572Z",
          "iopub.status.idle": "2022-02-15T20:01:43.839566Z",
          "shell.execute_reply": "2022-02-15T20:01:43.839176Z",
          "shell.execute_reply.started": "2022-02-15T20:01:43.835681Z"
        },
        "id": "MNAuHpQ7RzVT",
        "outputId": "c269f944-2467-43b5-b255-9e879e983fdc",
        "tags": []
      },
      "outputs": [
        {
          "output_type": "stream",
          "name": "stdout",
          "text": [
            "words: [5, 8, 3]\n",
            "characters: [22, 35, 11]\n",
            "characters_no_spaces: [17, 28, 9]\n",
            "avg_word_length: [3.4, 3.5, 3.0]\n",
            "numbers [1, 0, 0]\n"
          ]
        }
      ],
      "source": [
        "print('words:', list_count_words)\n",
        "print('characters:',list_count_characters)\n",
        "print('characters_no_spaces:', list_count_characters_no_space)\n",
        "print('avg_word_length:', list_avg_word_length)\n",
        "print('numbers', list_count_numbers)\n",
        ""
      ]
    },
    {
      "cell_type": "code",
      "execution_count": null,
      "metadata": {
        "execution": {
          "iopub.execute_input": "2022-02-15T20:01:50.887052Z",
          "iopub.status.busy": "2022-02-15T20:01:50.886932Z",
          "iopub.status.idle": "2022-02-15T20:01:50.891323Z",
          "shell.execute_reply": "2022-02-15T20:01:50.890858Z",
          "shell.execute_reply.started": "2022-02-15T20:01:50.887039Z"
        },
        "tags": [],
        "id": "crMOPMyVxyLJ"
      },
      "outputs": [],
      "source": [
        "def get_count_features(cleaned_text):\n",
        "    list_count_words =[]\n",
        "    list_count_characters =[]\n",
        "    list_count_characters_no_space =[]\n",
        "    list_avg_word_length=[]\n",
        "    list_count_numbers=[]\n",
        "    for sent in cleaned_text:\n",
        "        words = re.sub(r'\\b\\d+\\b','',sent)\n",
        "        numbers = re.findall(r'\\b\\d+\\b', sent)\n",
        "        #print(words)\n",
        "        #print(numbers)\n",
        "\n",
        "        count_word = len(words.split())\n",
        "        count_char = len(words)\n",
        "        count_char_no_space = len(''.join(words.split()))\n",
        "        avg_word_length = count_char_no_space/count_word\n",
        "        count_numbers = len(numbers)\n",
        "\n",
        "\n",
        "        list_count_words.append(count_word)\n",
        "        list_count_characters.append(count_char)\n",
        "        list_count_characters_no_space.append(count_char_no_space)\n",
        "        list_avg_word_length.append(avg_word_length)\n",
        "        list_count_numbers.append(count_numbers)\n",
        "\n",
        "    count_features = np.vstack((list_count_words, list_count_characters,\n",
        "                              list_count_characters_no_space, list_avg_word_length,\n",
        "                              list_count_numbers ))\n",
        "    return np.transpose(count_features)\n",
        ""
      ]
    },
    {
      "cell_type": "code",
      "execution_count": null,
      "metadata": {
        "execution": {
          "iopub.execute_input": "2022-02-16T01:02:07.535883Z",
          "iopub.status.busy": "2022-02-16T01:02:07.535729Z",
          "iopub.status.idle": "2022-02-16T01:02:07.539826Z",
          "shell.execute_reply": "2022-02-16T01:02:07.539369Z",
          "shell.execute_reply.started": "2022-02-16T01:02:07.535868Z"
        },
        "id": "MqOV5HKzxyLJ",
        "outputId": "b1ad4793-b3b0-4fa4-a166-596311fa9f23",
        "colab": {
          "base_uri": "https://localhost:8080/"
        }
      },
      "outputs": [
        {
          "output_type": "execute_result",
          "data": {
            "text/plain": [
              "array([[ 5. , 22. , 17. ,  3.4,  1. ],\n",
              "       [ 8. , 35. , 28. ,  3.5,  0. ],\n",
              "       [ 3. , 11. ,  9. ,  3. ,  0. ]])"
            ]
          },
          "metadata": {},
          "execution_count": 45
        }
      ],
      "source": [
        "get_count_features(sample_df.cleaned_text.values)"
      ]
    },
    {
      "cell_type": "code",
      "execution_count": null,
      "metadata": {
        "execution": {
          "iopub.execute_input": "2022-02-15T20:02:50.500786Z",
          "iopub.status.busy": "2022-02-15T20:02:50.500672Z",
          "iopub.status.idle": "2022-02-15T20:02:51.608429Z",
          "shell.execute_reply": "2022-02-15T20:02:51.607944Z",
          "shell.execute_reply.started": "2022-02-15T20:02:50.500774Z"
        },
        "tags": [],
        "id": "g1pYBGxWxyLK"
      },
      "outputs": [],
      "source": [
        "count_features = get_count_features(df.cleaned_text.values)"
      ]
    },
    {
      "cell_type": "code",
      "execution_count": null,
      "metadata": {
        "execution": {
          "iopub.execute_input": "2022-02-15T20:02:51.609226Z",
          "iopub.status.busy": "2022-02-15T20:02:51.609132Z",
          "iopub.status.idle": "2022-02-15T20:02:51.612243Z",
          "shell.execute_reply": "2022-02-15T20:02:51.611950Z",
          "shell.execute_reply.started": "2022-02-15T20:02:51.609214Z"
        },
        "tags": [],
        "id": "TQDmZDNjxyLK",
        "outputId": "cf92aac1-dda5-4b24-a316-a5e033e11151",
        "colab": {
          "base_uri": "https://localhost:8080/"
        }
      },
      "outputs": [
        {
          "output_type": "execute_result",
          "data": {
            "text/plain": [
              "(25000, 5)"
            ]
          },
          "metadata": {},
          "execution_count": 47
        }
      ],
      "source": [
        "count_features.shape"
      ]
    },
    {
      "cell_type": "code",
      "execution_count": null,
      "metadata": {
        "execution": {
          "iopub.execute_input": "2022-02-15T20:02:51.612887Z",
          "iopub.status.busy": "2022-02-15T20:02:51.612747Z",
          "iopub.status.idle": "2022-02-15T20:02:51.616150Z",
          "shell.execute_reply": "2022-02-15T20:02:51.615890Z",
          "shell.execute_reply.started": "2022-02-15T20:02:51.612874Z"
        },
        "id": "ua4HGdcrRzVU",
        "tags": []
      },
      "outputs": [],
      "source": [
        "df_count_features = pd.DataFrame(count_features, columns = ['count_words', 'count_characters',\n",
        "                              'count_characters_no_space', 'avg_word_length','count_numbers'])"
      ]
    },
    {
      "cell_type": "code",
      "execution_count": null,
      "metadata": {
        "execution": {
          "iopub.execute_input": "2022-02-15T20:02:51.616734Z",
          "iopub.status.busy": "2022-02-15T20:02:51.616601Z",
          "iopub.status.idle": "2022-02-15T20:02:51.626399Z",
          "shell.execute_reply": "2022-02-15T20:02:51.626030Z",
          "shell.execute_reply.started": "2022-02-15T20:02:51.616720Z"
        },
        "tags": [],
        "id": "617k5wC5xyLK",
        "outputId": "00ce460e-d407-4406-b907-5100af894e92",
        "colab": {
          "base_uri": "https://localhost:8080/",
          "height": 423
        }
      },
      "outputs": [
        {
          "output_type": "execute_result",
          "data": {
            "text/plain": [
              "       count_words  count_characters  count_characters_no_space  \\\n",
              "0            241.0            1287.0                     1046.0   \n",
              "1             57.0             281.0                      225.0   \n",
              "2            848.0            4669.0                     3821.0   \n",
              "3            131.0             636.0                      506.0   \n",
              "4            105.0             545.0                      441.0   \n",
              "...            ...               ...                        ...   \n",
              "24995        282.0            1438.0                     1152.0   \n",
              "24996         44.0             208.0                      165.0   \n",
              "24997        357.0            1873.0                     1516.0   \n",
              "24998        270.0            1426.0                     1154.0   \n",
              "24999        143.0             747.0                      605.0   \n",
              "\n",
              "       avg_word_length  count_numbers  \n",
              "0             4.340249            1.0  \n",
              "1             3.947368            0.0  \n",
              "2             4.505896            1.0  \n",
              "3             3.862595            0.0  \n",
              "4             4.200000            0.0  \n",
              "...                ...            ...  \n",
              "24995         4.085106            5.0  \n",
              "24996         3.750000            0.0  \n",
              "24997         4.246499            1.0  \n",
              "24998         4.274074            3.0  \n",
              "24999         4.230769            0.0  \n",
              "\n",
              "[25000 rows x 5 columns]"
            ],
            "text/html": [
              "\n",
              "  <div id=\"df-ea9eec4d-8d4c-46be-96da-a157f0727493\">\n",
              "    <div class=\"colab-df-container\">\n",
              "      <div>\n",
              "<style scoped>\n",
              "    .dataframe tbody tr th:only-of-type {\n",
              "        vertical-align: middle;\n",
              "    }\n",
              "\n",
              "    .dataframe tbody tr th {\n",
              "        vertical-align: top;\n",
              "    }\n",
              "\n",
              "    .dataframe thead th {\n",
              "        text-align: right;\n",
              "    }\n",
              "</style>\n",
              "<table border=\"1\" class=\"dataframe\">\n",
              "  <thead>\n",
              "    <tr style=\"text-align: right;\">\n",
              "      <th></th>\n",
              "      <th>count_words</th>\n",
              "      <th>count_characters</th>\n",
              "      <th>count_characters_no_space</th>\n",
              "      <th>avg_word_length</th>\n",
              "      <th>count_numbers</th>\n",
              "    </tr>\n",
              "  </thead>\n",
              "  <tbody>\n",
              "    <tr>\n",
              "      <th>0</th>\n",
              "      <td>241.0</td>\n",
              "      <td>1287.0</td>\n",
              "      <td>1046.0</td>\n",
              "      <td>4.340249</td>\n",
              "      <td>1.0</td>\n",
              "    </tr>\n",
              "    <tr>\n",
              "      <th>1</th>\n",
              "      <td>57.0</td>\n",
              "      <td>281.0</td>\n",
              "      <td>225.0</td>\n",
              "      <td>3.947368</td>\n",
              "      <td>0.0</td>\n",
              "    </tr>\n",
              "    <tr>\n",
              "      <th>2</th>\n",
              "      <td>848.0</td>\n",
              "      <td>4669.0</td>\n",
              "      <td>3821.0</td>\n",
              "      <td>4.505896</td>\n",
              "      <td>1.0</td>\n",
              "    </tr>\n",
              "    <tr>\n",
              "      <th>3</th>\n",
              "      <td>131.0</td>\n",
              "      <td>636.0</td>\n",
              "      <td>506.0</td>\n",
              "      <td>3.862595</td>\n",
              "      <td>0.0</td>\n",
              "    </tr>\n",
              "    <tr>\n",
              "      <th>4</th>\n",
              "      <td>105.0</td>\n",
              "      <td>545.0</td>\n",
              "      <td>441.0</td>\n",
              "      <td>4.200000</td>\n",
              "      <td>0.0</td>\n",
              "    </tr>\n",
              "    <tr>\n",
              "      <th>...</th>\n",
              "      <td>...</td>\n",
              "      <td>...</td>\n",
              "      <td>...</td>\n",
              "      <td>...</td>\n",
              "      <td>...</td>\n",
              "    </tr>\n",
              "    <tr>\n",
              "      <th>24995</th>\n",
              "      <td>282.0</td>\n",
              "      <td>1438.0</td>\n",
              "      <td>1152.0</td>\n",
              "      <td>4.085106</td>\n",
              "      <td>5.0</td>\n",
              "    </tr>\n",
              "    <tr>\n",
              "      <th>24996</th>\n",
              "      <td>44.0</td>\n",
              "      <td>208.0</td>\n",
              "      <td>165.0</td>\n",
              "      <td>3.750000</td>\n",
              "      <td>0.0</td>\n",
              "    </tr>\n",
              "    <tr>\n",
              "      <th>24997</th>\n",
              "      <td>357.0</td>\n",
              "      <td>1873.0</td>\n",
              "      <td>1516.0</td>\n",
              "      <td>4.246499</td>\n",
              "      <td>1.0</td>\n",
              "    </tr>\n",
              "    <tr>\n",
              "      <th>24998</th>\n",
              "      <td>270.0</td>\n",
              "      <td>1426.0</td>\n",
              "      <td>1154.0</td>\n",
              "      <td>4.274074</td>\n",
              "      <td>3.0</td>\n",
              "    </tr>\n",
              "    <tr>\n",
              "      <th>24999</th>\n",
              "      <td>143.0</td>\n",
              "      <td>747.0</td>\n",
              "      <td>605.0</td>\n",
              "      <td>4.230769</td>\n",
              "      <td>0.0</td>\n",
              "    </tr>\n",
              "  </tbody>\n",
              "</table>\n",
              "<p>25000 rows × 5 columns</p>\n",
              "</div>\n",
              "      <button class=\"colab-df-convert\" onclick=\"convertToInteractive('df-ea9eec4d-8d4c-46be-96da-a157f0727493')\"\n",
              "              title=\"Convert this dataframe to an interactive table.\"\n",
              "              style=\"display:none;\">\n",
              "        \n",
              "  <svg xmlns=\"http://www.w3.org/2000/svg\" height=\"24px\"viewBox=\"0 0 24 24\"\n",
              "       width=\"24px\">\n",
              "    <path d=\"M0 0h24v24H0V0z\" fill=\"none\"/>\n",
              "    <path d=\"M18.56 5.44l.94 2.06.94-2.06 2.06-.94-2.06-.94-.94-2.06-.94 2.06-2.06.94zm-11 1L8.5 8.5l.94-2.06 2.06-.94-2.06-.94L8.5 2.5l-.94 2.06-2.06.94zm10 10l.94 2.06.94-2.06 2.06-.94-2.06-.94-.94-2.06-.94 2.06-2.06.94z\"/><path d=\"M17.41 7.96l-1.37-1.37c-.4-.4-.92-.59-1.43-.59-.52 0-1.04.2-1.43.59L10.3 9.45l-7.72 7.72c-.78.78-.78 2.05 0 2.83L4 21.41c.39.39.9.59 1.41.59.51 0 1.02-.2 1.41-.59l7.78-7.78 2.81-2.81c.8-.78.8-2.07 0-2.86zM5.41 20L4 18.59l7.72-7.72 1.47 1.35L5.41 20z\"/>\n",
              "  </svg>\n",
              "      </button>\n",
              "      \n",
              "  <style>\n",
              "    .colab-df-container {\n",
              "      display:flex;\n",
              "      flex-wrap:wrap;\n",
              "      gap: 12px;\n",
              "    }\n",
              "\n",
              "    .colab-df-convert {\n",
              "      background-color: #E8F0FE;\n",
              "      border: none;\n",
              "      border-radius: 50%;\n",
              "      cursor: pointer;\n",
              "      display: none;\n",
              "      fill: #1967D2;\n",
              "      height: 32px;\n",
              "      padding: 0 0 0 0;\n",
              "      width: 32px;\n",
              "    }\n",
              "\n",
              "    .colab-df-convert:hover {\n",
              "      background-color: #E2EBFA;\n",
              "      box-shadow: 0px 1px 2px rgba(60, 64, 67, 0.3), 0px 1px 3px 1px rgba(60, 64, 67, 0.15);\n",
              "      fill: #174EA6;\n",
              "    }\n",
              "\n",
              "    [theme=dark] .colab-df-convert {\n",
              "      background-color: #3B4455;\n",
              "      fill: #D2E3FC;\n",
              "    }\n",
              "\n",
              "    [theme=dark] .colab-df-convert:hover {\n",
              "      background-color: #434B5C;\n",
              "      box-shadow: 0px 1px 3px 1px rgba(0, 0, 0, 0.15);\n",
              "      filter: drop-shadow(0px 1px 2px rgba(0, 0, 0, 0.3));\n",
              "      fill: #FFFFFF;\n",
              "    }\n",
              "  </style>\n",
              "\n",
              "      <script>\n",
              "        const buttonEl =\n",
              "          document.querySelector('#df-ea9eec4d-8d4c-46be-96da-a157f0727493 button.colab-df-convert');\n",
              "        buttonEl.style.display =\n",
              "          google.colab.kernel.accessAllowed ? 'block' : 'none';\n",
              "\n",
              "        async function convertToInteractive(key) {\n",
              "          const element = document.querySelector('#df-ea9eec4d-8d4c-46be-96da-a157f0727493');\n",
              "          const dataTable =\n",
              "            await google.colab.kernel.invokeFunction('convertToInteractive',\n",
              "                                                     [key], {});\n",
              "          if (!dataTable) return;\n",
              "\n",
              "          const docLinkHtml = 'Like what you see? Visit the ' +\n",
              "            '<a target=\"_blank\" href=https://colab.research.google.com/notebooks/data_table.ipynb>data table notebook</a>'\n",
              "            + ' to learn more about interactive tables.';\n",
              "          element.innerHTML = '';\n",
              "          dataTable['output_type'] = 'display_data';\n",
              "          await google.colab.output.renderOutput(dataTable, element);\n",
              "          const docLink = document.createElement('div');\n",
              "          docLink.innerHTML = docLinkHtml;\n",
              "          element.appendChild(docLink);\n",
              "        }\n",
              "      </script>\n",
              "    </div>\n",
              "  </div>\n",
              "  "
            ]
          },
          "metadata": {},
          "execution_count": 49
        }
      ],
      "source": [
        "df_count_features"
      ]
    },
    {
      "cell_type": "code",
      "execution_count": null,
      "metadata": {
        "execution": {
          "iopub.execute_input": "2022-02-15T20:02:51.627115Z",
          "iopub.status.busy": "2022-02-15T20:02:51.626969Z",
          "iopub.status.idle": "2022-02-15T20:02:51.631082Z",
          "shell.execute_reply": "2022-02-15T20:02:51.630778Z",
          "shell.execute_reply.started": "2022-02-15T20:02:51.627101Z"
        },
        "tags": [],
        "id": "-_QASCaixyLK"
      },
      "outputs": [],
      "source": [
        "df_final = pd.concat((df, df_count_features), axis =1)"
      ]
    },
    {
      "cell_type": "code",
      "execution_count": null,
      "metadata": {
        "execution": {
          "iopub.execute_input": "2022-02-15T20:02:51.631632Z",
          "iopub.status.busy": "2022-02-15T20:02:51.631510Z",
          "iopub.status.idle": "2022-02-15T20:02:51.641365Z",
          "shell.execute_reply": "2022-02-15T20:02:51.640928Z",
          "shell.execute_reply.started": "2022-02-15T20:02:51.631619Z"
        },
        "tags": [],
        "id": "qDQLBEDAxyLK",
        "outputId": "0e3de34e-9f97-4bcb-cad0-930018f36899",
        "colab": {
          "base_uri": "https://localhost:8080/",
          "height": 686
        }
      },
      "outputs": [
        {
          "output_type": "execute_result",
          "data": {
            "text/plain": [
              "                                             Reviews  Labels  \\\n",
              "0  Ever wanted to know just how much Hollywood co...       1   \n",
              "1  The movie itself was ok for the kids. But I go...       1   \n",
              "2  You could stage a version of Charles Dickens' ...       1   \n",
              "3  this was a fantastic episode. i saw a clip fro...       1   \n",
              "4  and laugh out loud funny in many scenes.<br />...       1   \n",
              "\n",
              "                                    text_basic_clean  \\\n",
              "0  Ever wanted to know just how much Hollywood co...   \n",
              "1  The movie itself was ok for the kids. But I go...   \n",
              "2  You could stage a version of Charles Dickens' ...   \n",
              "3  this was a fantastic episode. i saw a clip fro...   \n",
              "4  and laugh out loud funny in many scenes.The mo...   \n",
              "\n",
              "                                        cleaned_text  count_words  \\\n",
              "0  Ever wanted to know just how much Hollywood co...        241.0   \n",
              "1  The movie itself was ok for the kids But I got...         57.0   \n",
              "2  You could stage a version of Charles Dickens A...        848.0   \n",
              "3  this was a fantastic episode i saw a clip from...        131.0   \n",
              "4  and laugh out loud funny in many scenes The mo...        105.0   \n",
              "\n",
              "   count_characters  count_characters_no_space  avg_word_length  count_numbers  \n",
              "0            1287.0                     1046.0         4.340249            1.0  \n",
              "1             281.0                      225.0         3.947368            0.0  \n",
              "2            4669.0                     3821.0         4.505896            1.0  \n",
              "3             636.0                      506.0         3.862595            0.0  \n",
              "4             545.0                      441.0         4.200000            0.0  "
            ],
            "text/html": [
              "\n",
              "  <div id=\"df-84a333dc-a19e-4513-86d3-6b37bc58f615\">\n",
              "    <div class=\"colab-df-container\">\n",
              "      <div>\n",
              "<style scoped>\n",
              "    .dataframe tbody tr th:only-of-type {\n",
              "        vertical-align: middle;\n",
              "    }\n",
              "\n",
              "    .dataframe tbody tr th {\n",
              "        vertical-align: top;\n",
              "    }\n",
              "\n",
              "    .dataframe thead th {\n",
              "        text-align: right;\n",
              "    }\n",
              "</style>\n",
              "<table border=\"1\" class=\"dataframe\">\n",
              "  <thead>\n",
              "    <tr style=\"text-align: right;\">\n",
              "      <th></th>\n",
              "      <th>Reviews</th>\n",
              "      <th>Labels</th>\n",
              "      <th>text_basic_clean</th>\n",
              "      <th>cleaned_text</th>\n",
              "      <th>count_words</th>\n",
              "      <th>count_characters</th>\n",
              "      <th>count_characters_no_space</th>\n",
              "      <th>avg_word_length</th>\n",
              "      <th>count_numbers</th>\n",
              "    </tr>\n",
              "  </thead>\n",
              "  <tbody>\n",
              "    <tr>\n",
              "      <th>0</th>\n",
              "      <td>Ever wanted to know just how much Hollywood co...</td>\n",
              "      <td>1</td>\n",
              "      <td>Ever wanted to know just how much Hollywood co...</td>\n",
              "      <td>Ever wanted to know just how much Hollywood co...</td>\n",
              "      <td>241.0</td>\n",
              "      <td>1287.0</td>\n",
              "      <td>1046.0</td>\n",
              "      <td>4.340249</td>\n",
              "      <td>1.0</td>\n",
              "    </tr>\n",
              "    <tr>\n",
              "      <th>1</th>\n",
              "      <td>The movie itself was ok for the kids. But I go...</td>\n",
              "      <td>1</td>\n",
              "      <td>The movie itself was ok for the kids. But I go...</td>\n",
              "      <td>The movie itself was ok for the kids But I got...</td>\n",
              "      <td>57.0</td>\n",
              "      <td>281.0</td>\n",
              "      <td>225.0</td>\n",
              "      <td>3.947368</td>\n",
              "      <td>0.0</td>\n",
              "    </tr>\n",
              "    <tr>\n",
              "      <th>2</th>\n",
              "      <td>You could stage a version of Charles Dickens' ...</td>\n",
              "      <td>1</td>\n",
              "      <td>You could stage a version of Charles Dickens' ...</td>\n",
              "      <td>You could stage a version of Charles Dickens A...</td>\n",
              "      <td>848.0</td>\n",
              "      <td>4669.0</td>\n",
              "      <td>3821.0</td>\n",
              "      <td>4.505896</td>\n",
              "      <td>1.0</td>\n",
              "    </tr>\n",
              "    <tr>\n",
              "      <th>3</th>\n",
              "      <td>this was a fantastic episode. i saw a clip fro...</td>\n",
              "      <td>1</td>\n",
              "      <td>this was a fantastic episode. i saw a clip fro...</td>\n",
              "      <td>this was a fantastic episode i saw a clip from...</td>\n",
              "      <td>131.0</td>\n",
              "      <td>636.0</td>\n",
              "      <td>506.0</td>\n",
              "      <td>3.862595</td>\n",
              "      <td>0.0</td>\n",
              "    </tr>\n",
              "    <tr>\n",
              "      <th>4</th>\n",
              "      <td>and laugh out loud funny in many scenes.&lt;br /&gt;...</td>\n",
              "      <td>1</td>\n",
              "      <td>and laugh out loud funny in many scenes.The mo...</td>\n",
              "      <td>and laugh out loud funny in many scenes The mo...</td>\n",
              "      <td>105.0</td>\n",
              "      <td>545.0</td>\n",
              "      <td>441.0</td>\n",
              "      <td>4.200000</td>\n",
              "      <td>0.0</td>\n",
              "    </tr>\n",
              "  </tbody>\n",
              "</table>\n",
              "</div>\n",
              "      <button class=\"colab-df-convert\" onclick=\"convertToInteractive('df-84a333dc-a19e-4513-86d3-6b37bc58f615')\"\n",
              "              title=\"Convert this dataframe to an interactive table.\"\n",
              "              style=\"display:none;\">\n",
              "        \n",
              "  <svg xmlns=\"http://www.w3.org/2000/svg\" height=\"24px\"viewBox=\"0 0 24 24\"\n",
              "       width=\"24px\">\n",
              "    <path d=\"M0 0h24v24H0V0z\" fill=\"none\"/>\n",
              "    <path d=\"M18.56 5.44l.94 2.06.94-2.06 2.06-.94-2.06-.94-.94-2.06-.94 2.06-2.06.94zm-11 1L8.5 8.5l.94-2.06 2.06-.94-2.06-.94L8.5 2.5l-.94 2.06-2.06.94zm10 10l.94 2.06.94-2.06 2.06-.94-2.06-.94-.94-2.06-.94 2.06-2.06.94z\"/><path d=\"M17.41 7.96l-1.37-1.37c-.4-.4-.92-.59-1.43-.59-.52 0-1.04.2-1.43.59L10.3 9.45l-7.72 7.72c-.78.78-.78 2.05 0 2.83L4 21.41c.39.39.9.59 1.41.59.51 0 1.02-.2 1.41-.59l7.78-7.78 2.81-2.81c.8-.78.8-2.07 0-2.86zM5.41 20L4 18.59l7.72-7.72 1.47 1.35L5.41 20z\"/>\n",
              "  </svg>\n",
              "      </button>\n",
              "      \n",
              "  <style>\n",
              "    .colab-df-container {\n",
              "      display:flex;\n",
              "      flex-wrap:wrap;\n",
              "      gap: 12px;\n",
              "    }\n",
              "\n",
              "    .colab-df-convert {\n",
              "      background-color: #E8F0FE;\n",
              "      border: none;\n",
              "      border-radius: 50%;\n",
              "      cursor: pointer;\n",
              "      display: none;\n",
              "      fill: #1967D2;\n",
              "      height: 32px;\n",
              "      padding: 0 0 0 0;\n",
              "      width: 32px;\n",
              "    }\n",
              "\n",
              "    .colab-df-convert:hover {\n",
              "      background-color: #E2EBFA;\n",
              "      box-shadow: 0px 1px 2px rgba(60, 64, 67, 0.3), 0px 1px 3px 1px rgba(60, 64, 67, 0.15);\n",
              "      fill: #174EA6;\n",
              "    }\n",
              "\n",
              "    [theme=dark] .colab-df-convert {\n",
              "      background-color: #3B4455;\n",
              "      fill: #D2E3FC;\n",
              "    }\n",
              "\n",
              "    [theme=dark] .colab-df-convert:hover {\n",
              "      background-color: #434B5C;\n",
              "      box-shadow: 0px 1px 3px 1px rgba(0, 0, 0, 0.15);\n",
              "      filter: drop-shadow(0px 1px 2px rgba(0, 0, 0, 0.3));\n",
              "      fill: #FFFFFF;\n",
              "    }\n",
              "  </style>\n",
              "\n",
              "      <script>\n",
              "        const buttonEl =\n",
              "          document.querySelector('#df-84a333dc-a19e-4513-86d3-6b37bc58f615 button.colab-df-convert');\n",
              "        buttonEl.style.display =\n",
              "          google.colab.kernel.accessAllowed ? 'block' : 'none';\n",
              "\n",
              "        async function convertToInteractive(key) {\n",
              "          const element = document.querySelector('#df-84a333dc-a19e-4513-86d3-6b37bc58f615');\n",
              "          const dataTable =\n",
              "            await google.colab.kernel.invokeFunction('convertToInteractive',\n",
              "                                                     [key], {});\n",
              "          if (!dataTable) return;\n",
              "\n",
              "          const docLinkHtml = 'Like what you see? Visit the ' +\n",
              "            '<a target=\"_blank\" href=https://colab.research.google.com/notebooks/data_table.ipynb>data table notebook</a>'\n",
              "            + ' to learn more about interactive tables.';\n",
              "          element.innerHTML = '';\n",
              "          dataTable['output_type'] = 'display_data';\n",
              "          await google.colab.output.renderOutput(dataTable, element);\n",
              "          const docLink = document.createElement('div');\n",
              "          docLink.innerHTML = docLinkHtml;\n",
              "          element.appendChild(docLink);\n",
              "        }\n",
              "      </script>\n",
              "    </div>\n",
              "  </div>\n",
              "  "
            ]
          },
          "metadata": {},
          "execution_count": 51
        }
      ],
      "source": [
        "df_final.head()"
      ]
    },
    {
      "cell_type": "code",
      "execution_count": null,
      "metadata": {
        "execution": {
          "iopub.execute_input": "2022-02-15T20:03:25.247554Z",
          "iopub.status.busy": "2022-02-15T20:03:25.247431Z",
          "iopub.status.idle": "2022-02-15T20:03:25.250882Z",
          "shell.execute_reply": "2022-02-15T20:03:25.250515Z",
          "shell.execute_reply.started": "2022-02-15T20:03:25.247541Z"
        },
        "id": "XtdX0ffORzVV",
        "outputId": "2b3ed06b-d28f-4ad1-d25e-4bb79ca6f5c3",
        "tags": [],
        "colab": {
          "base_uri": "https://localhost:8080/"
        }
      },
      "outputs": [
        {
          "output_type": "execute_result",
          "data": {
            "text/plain": [
              "['count_words',\n",
              " 'count_characters',\n",
              " 'count_characters_no_space',\n",
              " 'avg_word_length',\n",
              " 'count_numbers']"
            ]
          },
          "metadata": {},
          "execution_count": 52
        }
      ],
      "source": [
        "columns = list(set(df_final.columns)-set(['Reviews', 'cleaned_text', 'Labels', 'text_basic_clean']))\n",
        "columns"
      ]
    },
    {
      "cell_type": "code",
      "execution_count": null,
      "metadata": {
        "execution": {
          "iopub.execute_input": "2022-02-15T20:03:53.223337Z",
          "iopub.status.busy": "2022-02-15T20:03:53.223219Z",
          "iopub.status.idle": "2022-02-15T20:03:53.241607Z",
          "shell.execute_reply": "2022-02-15T20:03:53.241237Z",
          "shell.execute_reply.started": "2022-02-15T20:03:53.223324Z"
        },
        "id": "xcf0T1mLRzVW",
        "outputId": "d922cb83-1742-44d6-e1b9-d8a2dfe316b0",
        "tags": [],
        "colab": {
          "base_uri": "https://localhost:8080/",
          "height": 112
        }
      },
      "outputs": [
        {
          "output_type": "execute_result",
          "data": {
            "text/plain": [
              "   Labels  count_words  count_characters  count_characters_no_space  \\\n",
              "0       0       233.65           1247.69                    1013.88   \n",
              "1       1       239.15           1292.98                    1053.75   \n",
              "\n",
              "   avg_word_length  count_numbers  \n",
              "0             4.32           1.45  \n",
              "1             4.37           1.35  "
            ],
            "text/html": [
              "\n",
              "  <div id=\"df-dc8e4ff1-f375-427d-a42d-84f9670badbe\">\n",
              "    <div class=\"colab-df-container\">\n",
              "      <div>\n",
              "<style scoped>\n",
              "    .dataframe tbody tr th:only-of-type {\n",
              "        vertical-align: middle;\n",
              "    }\n",
              "\n",
              "    .dataframe tbody tr th {\n",
              "        vertical-align: top;\n",
              "    }\n",
              "\n",
              "    .dataframe thead th {\n",
              "        text-align: right;\n",
              "    }\n",
              "</style>\n",
              "<table border=\"1\" class=\"dataframe\">\n",
              "  <thead>\n",
              "    <tr style=\"text-align: right;\">\n",
              "      <th></th>\n",
              "      <th>Labels</th>\n",
              "      <th>count_words</th>\n",
              "      <th>count_characters</th>\n",
              "      <th>count_characters_no_space</th>\n",
              "      <th>avg_word_length</th>\n",
              "      <th>count_numbers</th>\n",
              "    </tr>\n",
              "  </thead>\n",
              "  <tbody>\n",
              "    <tr>\n",
              "      <th>0</th>\n",
              "      <td>0</td>\n",
              "      <td>233.65</td>\n",
              "      <td>1247.69</td>\n",
              "      <td>1013.88</td>\n",
              "      <td>4.32</td>\n",
              "      <td>1.45</td>\n",
              "    </tr>\n",
              "    <tr>\n",
              "      <th>1</th>\n",
              "      <td>1</td>\n",
              "      <td>239.15</td>\n",
              "      <td>1292.98</td>\n",
              "      <td>1053.75</td>\n",
              "      <td>4.37</td>\n",
              "      <td>1.35</td>\n",
              "    </tr>\n",
              "  </tbody>\n",
              "</table>\n",
              "</div>\n",
              "      <button class=\"colab-df-convert\" onclick=\"convertToInteractive('df-dc8e4ff1-f375-427d-a42d-84f9670badbe')\"\n",
              "              title=\"Convert this dataframe to an interactive table.\"\n",
              "              style=\"display:none;\">\n",
              "        \n",
              "  <svg xmlns=\"http://www.w3.org/2000/svg\" height=\"24px\"viewBox=\"0 0 24 24\"\n",
              "       width=\"24px\">\n",
              "    <path d=\"M0 0h24v24H0V0z\" fill=\"none\"/>\n",
              "    <path d=\"M18.56 5.44l.94 2.06.94-2.06 2.06-.94-2.06-.94-.94-2.06-.94 2.06-2.06.94zm-11 1L8.5 8.5l.94-2.06 2.06-.94-2.06-.94L8.5 2.5l-.94 2.06-2.06.94zm10 10l.94 2.06.94-2.06 2.06-.94-2.06-.94-.94-2.06-.94 2.06-2.06.94z\"/><path d=\"M17.41 7.96l-1.37-1.37c-.4-.4-.92-.59-1.43-.59-.52 0-1.04.2-1.43.59L10.3 9.45l-7.72 7.72c-.78.78-.78 2.05 0 2.83L4 21.41c.39.39.9.59 1.41.59.51 0 1.02-.2 1.41-.59l7.78-7.78 2.81-2.81c.8-.78.8-2.07 0-2.86zM5.41 20L4 18.59l7.72-7.72 1.47 1.35L5.41 20z\"/>\n",
              "  </svg>\n",
              "      </button>\n",
              "      \n",
              "  <style>\n",
              "    .colab-df-container {\n",
              "      display:flex;\n",
              "      flex-wrap:wrap;\n",
              "      gap: 12px;\n",
              "    }\n",
              "\n",
              "    .colab-df-convert {\n",
              "      background-color: #E8F0FE;\n",
              "      border: none;\n",
              "      border-radius: 50%;\n",
              "      cursor: pointer;\n",
              "      display: none;\n",
              "      fill: #1967D2;\n",
              "      height: 32px;\n",
              "      padding: 0 0 0 0;\n",
              "      width: 32px;\n",
              "    }\n",
              "\n",
              "    .colab-df-convert:hover {\n",
              "      background-color: #E2EBFA;\n",
              "      box-shadow: 0px 1px 2px rgba(60, 64, 67, 0.3), 0px 1px 3px 1px rgba(60, 64, 67, 0.15);\n",
              "      fill: #174EA6;\n",
              "    }\n",
              "\n",
              "    [theme=dark] .colab-df-convert {\n",
              "      background-color: #3B4455;\n",
              "      fill: #D2E3FC;\n",
              "    }\n",
              "\n",
              "    [theme=dark] .colab-df-convert:hover {\n",
              "      background-color: #434B5C;\n",
              "      box-shadow: 0px 1px 3px 1px rgba(0, 0, 0, 0.15);\n",
              "      filter: drop-shadow(0px 1px 2px rgba(0, 0, 0, 0.3));\n",
              "      fill: #FFFFFF;\n",
              "    }\n",
              "  </style>\n",
              "\n",
              "      <script>\n",
              "        const buttonEl =\n",
              "          document.querySelector('#df-dc8e4ff1-f375-427d-a42d-84f9670badbe button.colab-df-convert');\n",
              "        buttonEl.style.display =\n",
              "          google.colab.kernel.accessAllowed ? 'block' : 'none';\n",
              "\n",
              "        async function convertToInteractive(key) {\n",
              "          const element = document.querySelector('#df-dc8e4ff1-f375-427d-a42d-84f9670badbe');\n",
              "          const dataTable =\n",
              "            await google.colab.kernel.invokeFunction('convertToInteractive',\n",
              "                                                     [key], {});\n",
              "          if (!dataTable) return;\n",
              "\n",
              "          const docLinkHtml = 'Like what you see? Visit the ' +\n",
              "            '<a target=\"_blank\" href=https://colab.research.google.com/notebooks/data_table.ipynb>data table notebook</a>'\n",
              "            + ' to learn more about interactive tables.';\n",
              "          element.innerHTML = '';\n",
              "          dataTable['output_type'] = 'display_data';\n",
              "          await google.colab.output.renderOutput(dataTable, element);\n",
              "          const docLink = document.createElement('div');\n",
              "          docLink.innerHTML = docLinkHtml;\n",
              "          element.appendChild(docLink);\n",
              "        }\n",
              "      </script>\n",
              "    </div>\n",
              "  </div>\n",
              "  "
            ]
          },
          "metadata": {},
          "execution_count": 53
        }
      ],
      "source": [
        "df_summary= df_final.groupby(\"Labels\")[columns].mean().round(2).reset_index()\n",
        "df_summary"
      ]
    }
  ],
  "metadata": {
    "colab": {
      "provenance": [],
      "machine_shape": "hm",
      "toc_visible": true
    },
    "kernelspec": {
      "display_name": "Python 3 (ipykernel)",
      "language": "python",
      "name": "python3"
    },
    "language_info": {
      "codemirror_mode": {
        "name": "ipython",
        "version": 3
      },
      "file_extension": ".py",
      "mimetype": "text/x-python",
      "name": "python",
      "nbconvert_exporter": "python",
      "pygments_lexer": "ipython3",
      "version": "3.8.12"
    },
    "gpuClass": "standard"
  },
  "nbformat": 4,
  "nbformat_minor": 0
}