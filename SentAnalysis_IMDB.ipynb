{
  "cells": [
    {
      "cell_type": "markdown",
      "metadata": {
        "id": "sExLEBZvdIAS"
      },
      "source": [
        "<h1 align='center'><u><font color ='pickle'>Sentiment Analysis on IMDB dataset</u></h1></font>\n"
      ]
    },
    {
      "cell_type": "markdown",
      "metadata": {
        "id": "j4Cj05MqgWBc"
      },
      "source": [
        "# <font color ='pickle'>**Notebook Overview**\n",
        "* Data processing, Featurization such as CountVectorizer, TFIDFVectorizer, and Feature Engineering.\n",
        "* lets use all these techniques and create a classification pipeline for it.\n",
        "* We will create 3 pipelines:\n",
        "    1. Data Preprocessing + Sparse Embeddings (TF-IDF) + ML Model pipeline\n",
        "    2. Feature Engineering + ML Model pipeline\n",
        "    3. Feature Engineering + Data Preprocessing + Sparse Embeddings(TF-IDF) + ML Model pipeline."
      ]
    },
    {
      "cell_type": "markdown",
      "metadata": {
        "id": "1yhUfE6uOJDZ"
      },
      "source": [
        "# <font color ='pickle'>**Installing/Importing libraries**"
      ]
    },
    {
      "cell_type": "code",
      "execution_count": 1,
      "metadata": {
        "execution": {
          "iopub.execute_input": "2023-02-13T10:04:41.882405Z",
          "iopub.status.busy": "2023-02-13T10:04:41.882114Z",
          "iopub.status.idle": "2023-02-13T10:04:42.258621Z",
          "shell.execute_reply": "2023-02-13T10:04:42.258268Z",
          "shell.execute_reply.started": "2023-02-13T10:04:41.882319Z"
        },
        "tags": [],
        "id": "KvaI5nkmZfli"
      },
      "outputs": [],
      "source": [
        "# Import necessary libraries\n",
        "import pandas as pd\n",
        "from pathlib import Path\n",
        "\n",
        "# Import the joblib library for saving and loading models\n",
        "import joblib\n",
        "\n",
        "# Import scikit-learn classes for building models\n",
        "from sklearn.linear_model import LogisticRegression\n",
        "from sklearn.feature_extraction.text import TfidfVectorizer\n",
        "from sklearn.model_selection import GridSearchCV\n",
        "from sklearn.metrics import classification_report\n",
        "from sklearn.pipeline import Pipeline\n",
        "from sklearn.compose import ColumnTransformer\n",
        "from sklearn.base import TransformerMixin, BaseEstimator\n",
        "\n",
        "# Import the scipy library for working with sparse matrices\n",
        "from scipy.sparse import csr_matrix"
      ]
    },
    {
      "cell_type": "code",
      "execution_count": 2,
      "metadata": {
        "execution": {
          "iopub.execute_input": "2023-02-13T10:04:43.681262Z",
          "iopub.status.busy": "2023-02-13T10:04:43.681165Z",
          "iopub.status.idle": "2023-02-13T10:04:43.694104Z",
          "shell.execute_reply": "2023-02-13T10:04:43.693860Z",
          "shell.execute_reply.started": "2023-02-13T10:04:43.681252Z"
        },
        "id": "USm99h309WJ4",
        "tags": []
      },
      "outputs": [],
      "source": [
        "%load_ext autoreload\n",
        "%autoreload 2"
      ]
    },
    {
      "cell_type": "code",
      "execution_count": 3,
      "metadata": {
        "execution": {
          "iopub.execute_input": "2023-02-13T10:04:50.402763Z",
          "iopub.status.busy": "2023-02-13T10:04:50.402545Z",
          "iopub.status.idle": "2023-02-13T10:04:50.423484Z",
          "shell.execute_reply": "2023-02-13T10:04:50.422922Z",
          "shell.execute_reply.started": "2023-02-13T10:04:50.402738Z"
        },
        "id": "U9P3ByOmtcUN",
        "tags": [],
        "colab": {
          "base_uri": "https://localhost:8080/"
        },
        "outputId": "13e728b9-39b2-4f1c-d089-fa4a43b181d4"
      },
      "outputs": [
        {
          "output_type": "stream",
          "name": "stdout",
          "text": [
            "Mounted at /content/drive\n",
            "2023-09-14 16:32:40.762224: I tensorflow/core/platform/cpu_feature_guard.cc:182] This TensorFlow binary is optimized to use available CPU instructions in performance-critical operations.\n",
            "To enable the following instructions: AVX2 FMA, in other operations, rebuild TensorFlow with the appropriate compiler flags.\n",
            "2023-09-14 16:32:42.384147: W tensorflow/compiler/tf2tensorrt/utils/py_utils.cc:38] TF-TRT Warning: Could not find TensorRT\n",
            "\u001b[2K     \u001b[90m━━━━━━━━━━━━━━━━━━━━━━━━━━━━━━━━━━━━━━━━\u001b[0m \u001b[32m12.8/12.8 MB\u001b[0m \u001b[31m53.3 MB/s\u001b[0m eta \u001b[36m0:00:00\u001b[0m\n",
            "\u001b[?25h\u001b[38;5;2m✔ Download and installation successful\u001b[0m\n",
            "You can now load the package via spacy.load('en_core_web_sm')\n"
          ]
        }
      ],
      "source": [
        "import sys\n",
        "if 'google.colab' in str(get_ipython()):\n",
        "  from google.colab import drive\n",
        "  drive.mount('/content/drive')\n",
        "\n",
        "  !pip install -U nltk -qq\n",
        "  !pip install -U spacy -qq\n",
        "  !python -m spacy download en_core_web_sm -qq\n",
        "\n",
        "  basepath  = '/content/drive/MyDrive/data'\n",
        "  sys.path.append('/content/drive/MyDrive/data/custom-functions')\n",
        "else:\n",
        "  basepath = '/home/harpreet/Insync/google_drive_shaannoor/data'\n",
        "  sys.path.append('/home/harpreet/Insync/google_drive_shaannoor/data/custom-functions')"
      ]
    },
    {
      "cell_type": "code",
      "execution_count": 4,
      "metadata": {
        "execution": {
          "iopub.execute_input": "2023-02-13T10:04:51.905627Z",
          "iopub.status.busy": "2023-02-13T10:04:51.905405Z",
          "iopub.status.idle": "2023-02-13T10:04:51.929389Z",
          "shell.execute_reply": "2023-02-13T10:04:51.928848Z",
          "shell.execute_reply.started": "2023-02-13T10:04:51.905601Z"
        },
        "id": "3gEKx0PXOTyC",
        "tags": [],
        "colab": {
          "base_uri": "https://localhost:8080/"
        },
        "outputId": "36ac599e-061e-40fc-f56a-98652760ae55"
      },
      "outputs": [
        {
          "output_type": "execute_result",
          "data": {
            "text/plain": [
              "['/content',\n",
              " '/env/python',\n",
              " '/usr/lib/python310.zip',\n",
              " '/usr/lib/python3.10',\n",
              " '/usr/lib/python3.10/lib-dynload',\n",
              " '',\n",
              " '/usr/local/lib/python3.10/dist-packages',\n",
              " '/usr/lib/python3/dist-packages',\n",
              " '/usr/local/lib/python3.10/dist-packages/IPython/extensions',\n",
              " '/root/.ipython',\n",
              " '/content/drive/MyDrive/data/custom-functions']"
            ]
          },
          "metadata": {},
          "execution_count": 4
        }
      ],
      "source": [
        "sys.path"
      ]
    },
    {
      "cell_type": "code",
      "execution_count": 15,
      "metadata": {
        "execution": {
          "iopub.execute_input": "2023-02-13T10:05:01.366854Z",
          "iopub.status.busy": "2023-02-13T10:05:01.366628Z",
          "iopub.status.idle": "2023-02-13T10:05:01.384661Z",
          "shell.execute_reply": "2023-02-13T10:05:01.383977Z",
          "shell.execute_reply.started": "2023-02-13T10:05:01.366829Z"
        },
        "id": "9DfsGy8Ze7y7",
        "tags": []
      },
      "outputs": [],
      "source": [
        "base_folder = Path(basepath)\n",
        "data_folder = base_folder/'datasets'\n",
        "model_folder = base_folder/'models/nlp_spring_2023/imdb'\n",
        "custom_functions = base_folder/'custom-functions'"
      ]
    },
    {
      "cell_type": "code",
      "execution_count": 16,
      "metadata": {
        "execution": {
          "iopub.execute_input": "2023-02-13T10:05:02.839112Z",
          "iopub.status.busy": "2023-02-13T10:05:02.838911Z",
          "iopub.status.idle": "2023-02-13T10:05:02.855905Z",
          "shell.execute_reply": "2023-02-13T10:05:02.855247Z",
          "shell.execute_reply.started": "2023-02-13T10:05:02.839088Z"
        },
        "tags": [],
        "id": "DCGNs72_Zfll"
      },
      "outputs": [],
      "source": [
        "model_folder.mkdir(exist_ok=True)"
      ]
    },
    {
      "cell_type": "code",
      "execution_count": 17,
      "metadata": {
        "execution": {
          "iopub.execute_input": "2023-02-13T10:05:12.513712Z",
          "iopub.status.busy": "2023-02-13T10:05:12.513488Z",
          "iopub.status.idle": "2023-02-13T10:05:14.451026Z",
          "shell.execute_reply": "2023-02-13T10:05:14.450319Z",
          "shell.execute_reply.started": "2023-02-13T10:05:12.513687Z"
        },
        "id": "QNqrVjfXBzz_",
        "tags": []
      },
      "outputs": [],
      "source": [
        "import custom_preprocessor_mod as cp\n",
        "from  featurizer import ManualFeatures\n",
        "from  plot_learning_curve import plot_learning_curve"
      ]
    },
    {
      "cell_type": "markdown",
      "metadata": {
        "id": "cXeG6ZQ4OVDj"
      },
      "source": [
        "# <font color ='pickle'>**Load dataset**"
      ]
    },
    {
      "cell_type": "markdown",
      "metadata": {
        "id": "VBCaXYoyOb3z"
      },
      "source": [
        "For this notebook, we will use IMDB movie review dataset. <br>\n",
        "LInk for complete dataset: http://ai.stanford.edu/~amaas/data/sentiment/aclImdb_v1.tar.gz.\n",
        "\n",
        "We downloaded the dataset in the previous lecture (notebook: Faster_tokenization_spacy_final.ipynb)\n",
        "\n",
        "We will now use the saved train.csv and test.csv file."
      ]
    },
    {
      "cell_type": "code",
      "execution_count": 18,
      "metadata": {
        "execution": {
          "iopub.execute_input": "2023-02-13T10:05:53.574128Z",
          "iopub.status.busy": "2023-02-13T10:05:53.574000Z",
          "iopub.status.idle": "2023-02-13T10:05:53.596705Z",
          "shell.execute_reply": "2023-02-13T10:05:53.596047Z",
          "shell.execute_reply.started": "2023-02-13T10:05:53.574116Z"
        },
        "id": "vt3b2mD67iaP",
        "tags": []
      },
      "outputs": [],
      "source": [
        "# location of train and test files\n",
        "train_file = data_folder / 'train.csv'\n",
        "test_file = data_folder / 'test.csv'"
      ]
    },
    {
      "cell_type": "code",
      "execution_count": 19,
      "metadata": {
        "execution": {
          "iopub.execute_input": "2023-02-13T10:05:54.749646Z",
          "iopub.status.busy": "2023-02-13T10:05:54.749502Z",
          "iopub.status.idle": "2023-02-13T10:05:55.138594Z",
          "shell.execute_reply": "2023-02-13T10:05:55.137937Z",
          "shell.execute_reply.started": "2023-02-13T10:05:54.749630Z"
        },
        "id": "JCVJNVV7Pw8L",
        "tags": []
      },
      "outputs": [],
      "source": [
        "# creating Pandas Dataframe\n",
        "train_data = pd.read_csv(train_file, index_col=0)\n",
        "test_data = pd.read_csv(test_file, index_col=0)"
      ]
    },
    {
      "cell_type": "code",
      "execution_count": 20,
      "metadata": {
        "execution": {
          "iopub.execute_input": "2023-02-13T10:05:56.138468Z",
          "iopub.status.busy": "2023-02-13T10:05:56.138264Z",
          "iopub.status.idle": "2023-02-13T10:05:56.159657Z",
          "shell.execute_reply": "2023-02-13T10:05:56.158933Z",
          "shell.execute_reply.started": "2023-02-13T10:05:56.138444Z"
        },
        "id": "RnR2Pe3F7iaQ",
        "tags": [],
        "colab": {
          "base_uri": "https://localhost:8080/"
        },
        "outputId": "f33a1185-5321-4313-d237-26fc15e1b22b"
      },
      "outputs": [
        {
          "output_type": "stream",
          "name": "stdout",
          "text": [
            "Shape of Training data set is : (25000, 2)\n",
            "Shape of Test data set is : (25000, 2)\n"
          ]
        }
      ],
      "source": [
        "# print shape of the datasets\n",
        "print(f'Shape of Training data set is : {train_data.shape}')\n",
        "print(f'Shape of Test data set is : {test_data.shape}')"
      ]
    },
    {
      "cell_type": "code",
      "execution_count": 21,
      "metadata": {
        "execution": {
          "iopub.execute_input": "2023-02-13T10:06:00.730475Z",
          "iopub.status.busy": "2023-02-13T10:06:00.730267Z",
          "iopub.status.idle": "2023-02-13T10:06:00.779333Z",
          "shell.execute_reply": "2023-02-13T10:06:00.778810Z",
          "shell.execute_reply.started": "2023-02-13T10:06:00.730459Z"
        },
        "id": "va-kIsiFfSwB",
        "tags": [],
        "colab": {
          "base_uri": "https://localhost:8080/",
          "height": 206
        },
        "outputId": "f00d3bc7-34d1-42d9-908b-371711edcb69"
      },
      "outputs": [
        {
          "output_type": "execute_result",
          "data": {
            "text/plain": [
              "                                             Reviews  Labels\n",
              "0  I think this movie would be more enjoyable if ...       1\n",
              "1  Timeless musical gem, with Gene Kelly in top f...       1\n",
              "2  I just found the IMDb and searched this film a...       1\n",
              "3  It's a short movie from David Lynch with just ...       1\n",
              "4  I dug out from my garage some old musicals and...       1"
            ],
            "text/html": [
              "\n",
              "  <div id=\"df-175e9e44-712f-4bc5-86b0-7b462192c7af\" class=\"colab-df-container\">\n",
              "    <div>\n",
              "<style scoped>\n",
              "    .dataframe tbody tr th:only-of-type {\n",
              "        vertical-align: middle;\n",
              "    }\n",
              "\n",
              "    .dataframe tbody tr th {\n",
              "        vertical-align: top;\n",
              "    }\n",
              "\n",
              "    .dataframe thead th {\n",
              "        text-align: right;\n",
              "    }\n",
              "</style>\n",
              "<table border=\"1\" class=\"dataframe\">\n",
              "  <thead>\n",
              "    <tr style=\"text-align: right;\">\n",
              "      <th></th>\n",
              "      <th>Reviews</th>\n",
              "      <th>Labels</th>\n",
              "    </tr>\n",
              "  </thead>\n",
              "  <tbody>\n",
              "    <tr>\n",
              "      <th>0</th>\n",
              "      <td>I think this movie would be more enjoyable if ...</td>\n",
              "      <td>1</td>\n",
              "    </tr>\n",
              "    <tr>\n",
              "      <th>1</th>\n",
              "      <td>Timeless musical gem, with Gene Kelly in top f...</td>\n",
              "      <td>1</td>\n",
              "    </tr>\n",
              "    <tr>\n",
              "      <th>2</th>\n",
              "      <td>I just found the IMDb and searched this film a...</td>\n",
              "      <td>1</td>\n",
              "    </tr>\n",
              "    <tr>\n",
              "      <th>3</th>\n",
              "      <td>It's a short movie from David Lynch with just ...</td>\n",
              "      <td>1</td>\n",
              "    </tr>\n",
              "    <tr>\n",
              "      <th>4</th>\n",
              "      <td>I dug out from my garage some old musicals and...</td>\n",
              "      <td>1</td>\n",
              "    </tr>\n",
              "  </tbody>\n",
              "</table>\n",
              "</div>\n",
              "    <div class=\"colab-df-buttons\">\n",
              "\n",
              "  <div class=\"colab-df-container\">\n",
              "    <button class=\"colab-df-convert\" onclick=\"convertToInteractive('df-175e9e44-712f-4bc5-86b0-7b462192c7af')\"\n",
              "            title=\"Convert this dataframe to an interactive table.\"\n",
              "            style=\"display:none;\">\n",
              "\n",
              "  <svg xmlns=\"http://www.w3.org/2000/svg\" height=\"24px\" viewBox=\"0 -960 960 960\">\n",
              "    <path d=\"M120-120v-720h720v720H120Zm60-500h600v-160H180v160Zm220 220h160v-160H400v160Zm0 220h160v-160H400v160ZM180-400h160v-160H180v160Zm440 0h160v-160H620v160ZM180-180h160v-160H180v160Zm440 0h160v-160H620v160Z\"/>\n",
              "  </svg>\n",
              "    </button>\n",
              "\n",
              "  <style>\n",
              "    .colab-df-container {\n",
              "      display:flex;\n",
              "      gap: 12px;\n",
              "    }\n",
              "\n",
              "    .colab-df-convert {\n",
              "      background-color: #E8F0FE;\n",
              "      border: none;\n",
              "      border-radius: 50%;\n",
              "      cursor: pointer;\n",
              "      display: none;\n",
              "      fill: #1967D2;\n",
              "      height: 32px;\n",
              "      padding: 0 0 0 0;\n",
              "      width: 32px;\n",
              "    }\n",
              "\n",
              "    .colab-df-convert:hover {\n",
              "      background-color: #E2EBFA;\n",
              "      box-shadow: 0px 1px 2px rgba(60, 64, 67, 0.3), 0px 1px 3px 1px rgba(60, 64, 67, 0.15);\n",
              "      fill: #174EA6;\n",
              "    }\n",
              "\n",
              "    .colab-df-buttons div {\n",
              "      margin-bottom: 4px;\n",
              "    }\n",
              "\n",
              "    [theme=dark] .colab-df-convert {\n",
              "      background-color: #3B4455;\n",
              "      fill: #D2E3FC;\n",
              "    }\n",
              "\n",
              "    [theme=dark] .colab-df-convert:hover {\n",
              "      background-color: #434B5C;\n",
              "      box-shadow: 0px 1px 3px 1px rgba(0, 0, 0, 0.15);\n",
              "      filter: drop-shadow(0px 1px 2px rgba(0, 0, 0, 0.3));\n",
              "      fill: #FFFFFF;\n",
              "    }\n",
              "  </style>\n",
              "\n",
              "    <script>\n",
              "      const buttonEl =\n",
              "        document.querySelector('#df-175e9e44-712f-4bc5-86b0-7b462192c7af button.colab-df-convert');\n",
              "      buttonEl.style.display =\n",
              "        google.colab.kernel.accessAllowed ? 'block' : 'none';\n",
              "\n",
              "      async function convertToInteractive(key) {\n",
              "        const element = document.querySelector('#df-175e9e44-712f-4bc5-86b0-7b462192c7af');\n",
              "        const dataTable =\n",
              "          await google.colab.kernel.invokeFunction('convertToInteractive',\n",
              "                                                    [key], {});\n",
              "        if (!dataTable) return;\n",
              "\n",
              "        const docLinkHtml = 'Like what you see? Visit the ' +\n",
              "          '<a target=\"_blank\" href=https://colab.research.google.com/notebooks/data_table.ipynb>data table notebook</a>'\n",
              "          + ' to learn more about interactive tables.';\n",
              "        element.innerHTML = '';\n",
              "        dataTable['output_type'] = 'display_data';\n",
              "        await google.colab.output.renderOutput(dataTable, element);\n",
              "        const docLink = document.createElement('div');\n",
              "        docLink.innerHTML = docLinkHtml;\n",
              "        element.appendChild(docLink);\n",
              "      }\n",
              "    </script>\n",
              "  </div>\n",
              "\n",
              "\n",
              "<div id=\"df-70eeaa03-f301-41f2-9547-e599f8642cb7\">\n",
              "  <button class=\"colab-df-quickchart\" onclick=\"quickchart('df-70eeaa03-f301-41f2-9547-e599f8642cb7')\"\n",
              "            title=\"Suggest charts.\"\n",
              "            style=\"display:none;\">\n",
              "\n",
              "<svg xmlns=\"http://www.w3.org/2000/svg\" height=\"24px\"viewBox=\"0 0 24 24\"\n",
              "     width=\"24px\">\n",
              "    <g>\n",
              "        <path d=\"M19 3H5c-1.1 0-2 .9-2 2v14c0 1.1.9 2 2 2h14c1.1 0 2-.9 2-2V5c0-1.1-.9-2-2-2zM9 17H7v-7h2v7zm4 0h-2V7h2v10zm4 0h-2v-4h2v4z\"/>\n",
              "    </g>\n",
              "</svg>\n",
              "  </button>\n",
              "\n",
              "<style>\n",
              "  .colab-df-quickchart {\n",
              "      --bg-color: #E8F0FE;\n",
              "      --fill-color: #1967D2;\n",
              "      --hover-bg-color: #E2EBFA;\n",
              "      --hover-fill-color: #174EA6;\n",
              "      --disabled-fill-color: #AAA;\n",
              "      --disabled-bg-color: #DDD;\n",
              "  }\n",
              "\n",
              "  [theme=dark] .colab-df-quickchart {\n",
              "      --bg-color: #3B4455;\n",
              "      --fill-color: #D2E3FC;\n",
              "      --hover-bg-color: #434B5C;\n",
              "      --hover-fill-color: #FFFFFF;\n",
              "      --disabled-bg-color: #3B4455;\n",
              "      --disabled-fill-color: #666;\n",
              "  }\n",
              "\n",
              "  .colab-df-quickchart {\n",
              "    background-color: var(--bg-color);\n",
              "    border: none;\n",
              "    border-radius: 50%;\n",
              "    cursor: pointer;\n",
              "    display: none;\n",
              "    fill: var(--fill-color);\n",
              "    height: 32px;\n",
              "    padding: 0;\n",
              "    width: 32px;\n",
              "  }\n",
              "\n",
              "  .colab-df-quickchart:hover {\n",
              "    background-color: var(--hover-bg-color);\n",
              "    box-shadow: 0 1px 2px rgba(60, 64, 67, 0.3), 0 1px 3px 1px rgba(60, 64, 67, 0.15);\n",
              "    fill: var(--button-hover-fill-color);\n",
              "  }\n",
              "\n",
              "  .colab-df-quickchart-complete:disabled,\n",
              "  .colab-df-quickchart-complete:disabled:hover {\n",
              "    background-color: var(--disabled-bg-color);\n",
              "    fill: var(--disabled-fill-color);\n",
              "    box-shadow: none;\n",
              "  }\n",
              "\n",
              "  .colab-df-spinner {\n",
              "    border: 2px solid var(--fill-color);\n",
              "    border-color: transparent;\n",
              "    border-bottom-color: var(--fill-color);\n",
              "    animation:\n",
              "      spin 1s steps(1) infinite;\n",
              "  }\n",
              "\n",
              "  @keyframes spin {\n",
              "    0% {\n",
              "      border-color: transparent;\n",
              "      border-bottom-color: var(--fill-color);\n",
              "      border-left-color: var(--fill-color);\n",
              "    }\n",
              "    20% {\n",
              "      border-color: transparent;\n",
              "      border-left-color: var(--fill-color);\n",
              "      border-top-color: var(--fill-color);\n",
              "    }\n",
              "    30% {\n",
              "      border-color: transparent;\n",
              "      border-left-color: var(--fill-color);\n",
              "      border-top-color: var(--fill-color);\n",
              "      border-right-color: var(--fill-color);\n",
              "    }\n",
              "    40% {\n",
              "      border-color: transparent;\n",
              "      border-right-color: var(--fill-color);\n",
              "      border-top-color: var(--fill-color);\n",
              "    }\n",
              "    60% {\n",
              "      border-color: transparent;\n",
              "      border-right-color: var(--fill-color);\n",
              "    }\n",
              "    80% {\n",
              "      border-color: transparent;\n",
              "      border-right-color: var(--fill-color);\n",
              "      border-bottom-color: var(--fill-color);\n",
              "    }\n",
              "    90% {\n",
              "      border-color: transparent;\n",
              "      border-bottom-color: var(--fill-color);\n",
              "    }\n",
              "  }\n",
              "</style>\n",
              "\n",
              "  <script>\n",
              "    async function quickchart(key) {\n",
              "      const quickchartButtonEl =\n",
              "        document.querySelector('#' + key + ' button');\n",
              "      quickchartButtonEl.disabled = true;  // To prevent multiple clicks.\n",
              "      quickchartButtonEl.classList.add('colab-df-spinner');\n",
              "      try {\n",
              "        const charts = await google.colab.kernel.invokeFunction(\n",
              "            'suggestCharts', [key], {});\n",
              "      } catch (error) {\n",
              "        console.error('Error during call to suggestCharts:', error);\n",
              "      }\n",
              "      quickchartButtonEl.classList.remove('colab-df-spinner');\n",
              "      quickchartButtonEl.classList.add('colab-df-quickchart-complete');\n",
              "    }\n",
              "    (() => {\n",
              "      let quickchartButtonEl =\n",
              "        document.querySelector('#df-70eeaa03-f301-41f2-9547-e599f8642cb7 button');\n",
              "      quickchartButtonEl.style.display =\n",
              "        google.colab.kernel.accessAllowed ? 'block' : 'none';\n",
              "    })();\n",
              "  </script>\n",
              "</div>\n",
              "    </div>\n",
              "  </div>\n"
            ]
          },
          "metadata": {},
          "execution_count": 21
        }
      ],
      "source": [
        "# Printing top 5 train records\n",
        "train_data.head()"
      ]
    },
    {
      "cell_type": "code",
      "execution_count": 22,
      "metadata": {
        "execution": {
          "iopub.execute_input": "2023-02-13T10:06:04.983055Z",
          "iopub.status.busy": "2023-02-13T10:06:04.982777Z",
          "iopub.status.idle": "2023-02-13T10:06:05.015541Z",
          "shell.execute_reply": "2023-02-13T10:06:05.014997Z",
          "shell.execute_reply.started": "2023-02-13T10:06:04.983036Z"
        },
        "id": "nd5KV5JHfS5I",
        "tags": [],
        "colab": {
          "base_uri": "https://localhost:8080/",
          "height": 206
        },
        "outputId": "4cd43e89-cba7-4d19-d62f-d85ddcbe8de7"
      },
      "outputs": [
        {
          "output_type": "execute_result",
          "data": {
            "text/plain": [
              "                                             Reviews  Labels\n",
              "0  I bought the DVD a long time ago and finally g...       1\n",
              "1  It was sad that COMMITTED lasted only two week...       1\n",
              "2  If I look hard enough, flaws can be found in t...       1\n",
              "3  This is the first feature film from Australian...       1\n",
              "4  Boogie Nights is full of surprises, nothing qu...       1"
            ],
            "text/html": [
              "\n",
              "  <div id=\"df-8518cf74-80db-4208-91c2-5b8f34be9878\" class=\"colab-df-container\">\n",
              "    <div>\n",
              "<style scoped>\n",
              "    .dataframe tbody tr th:only-of-type {\n",
              "        vertical-align: middle;\n",
              "    }\n",
              "\n",
              "    .dataframe tbody tr th {\n",
              "        vertical-align: top;\n",
              "    }\n",
              "\n",
              "    .dataframe thead th {\n",
              "        text-align: right;\n",
              "    }\n",
              "</style>\n",
              "<table border=\"1\" class=\"dataframe\">\n",
              "  <thead>\n",
              "    <tr style=\"text-align: right;\">\n",
              "      <th></th>\n",
              "      <th>Reviews</th>\n",
              "      <th>Labels</th>\n",
              "    </tr>\n",
              "  </thead>\n",
              "  <tbody>\n",
              "    <tr>\n",
              "      <th>0</th>\n",
              "      <td>I bought the DVD a long time ago and finally g...</td>\n",
              "      <td>1</td>\n",
              "    </tr>\n",
              "    <tr>\n",
              "      <th>1</th>\n",
              "      <td>It was sad that COMMITTED lasted only two week...</td>\n",
              "      <td>1</td>\n",
              "    </tr>\n",
              "    <tr>\n",
              "      <th>2</th>\n",
              "      <td>If I look hard enough, flaws can be found in t...</td>\n",
              "      <td>1</td>\n",
              "    </tr>\n",
              "    <tr>\n",
              "      <th>3</th>\n",
              "      <td>This is the first feature film from Australian...</td>\n",
              "      <td>1</td>\n",
              "    </tr>\n",
              "    <tr>\n",
              "      <th>4</th>\n",
              "      <td>Boogie Nights is full of surprises, nothing qu...</td>\n",
              "      <td>1</td>\n",
              "    </tr>\n",
              "  </tbody>\n",
              "</table>\n",
              "</div>\n",
              "    <div class=\"colab-df-buttons\">\n",
              "\n",
              "  <div class=\"colab-df-container\">\n",
              "    <button class=\"colab-df-convert\" onclick=\"convertToInteractive('df-8518cf74-80db-4208-91c2-5b8f34be9878')\"\n",
              "            title=\"Convert this dataframe to an interactive table.\"\n",
              "            style=\"display:none;\">\n",
              "\n",
              "  <svg xmlns=\"http://www.w3.org/2000/svg\" height=\"24px\" viewBox=\"0 -960 960 960\">\n",
              "    <path d=\"M120-120v-720h720v720H120Zm60-500h600v-160H180v160Zm220 220h160v-160H400v160Zm0 220h160v-160H400v160ZM180-400h160v-160H180v160Zm440 0h160v-160H620v160ZM180-180h160v-160H180v160Zm440 0h160v-160H620v160Z\"/>\n",
              "  </svg>\n",
              "    </button>\n",
              "\n",
              "  <style>\n",
              "    .colab-df-container {\n",
              "      display:flex;\n",
              "      gap: 12px;\n",
              "    }\n",
              "\n",
              "    .colab-df-convert {\n",
              "      background-color: #E8F0FE;\n",
              "      border: none;\n",
              "      border-radius: 50%;\n",
              "      cursor: pointer;\n",
              "      display: none;\n",
              "      fill: #1967D2;\n",
              "      height: 32px;\n",
              "      padding: 0 0 0 0;\n",
              "      width: 32px;\n",
              "    }\n",
              "\n",
              "    .colab-df-convert:hover {\n",
              "      background-color: #E2EBFA;\n",
              "      box-shadow: 0px 1px 2px rgba(60, 64, 67, 0.3), 0px 1px 3px 1px rgba(60, 64, 67, 0.15);\n",
              "      fill: #174EA6;\n",
              "    }\n",
              "\n",
              "    .colab-df-buttons div {\n",
              "      margin-bottom: 4px;\n",
              "    }\n",
              "\n",
              "    [theme=dark] .colab-df-convert {\n",
              "      background-color: #3B4455;\n",
              "      fill: #D2E3FC;\n",
              "    }\n",
              "\n",
              "    [theme=dark] .colab-df-convert:hover {\n",
              "      background-color: #434B5C;\n",
              "      box-shadow: 0px 1px 3px 1px rgba(0, 0, 0, 0.15);\n",
              "      filter: drop-shadow(0px 1px 2px rgba(0, 0, 0, 0.3));\n",
              "      fill: #FFFFFF;\n",
              "    }\n",
              "  </style>\n",
              "\n",
              "    <script>\n",
              "      const buttonEl =\n",
              "        document.querySelector('#df-8518cf74-80db-4208-91c2-5b8f34be9878 button.colab-df-convert');\n",
              "      buttonEl.style.display =\n",
              "        google.colab.kernel.accessAllowed ? 'block' : 'none';\n",
              "\n",
              "      async function convertToInteractive(key) {\n",
              "        const element = document.querySelector('#df-8518cf74-80db-4208-91c2-5b8f34be9878');\n",
              "        const dataTable =\n",
              "          await google.colab.kernel.invokeFunction('convertToInteractive',\n",
              "                                                    [key], {});\n",
              "        if (!dataTable) return;\n",
              "\n",
              "        const docLinkHtml = 'Like what you see? Visit the ' +\n",
              "          '<a target=\"_blank\" href=https://colab.research.google.com/notebooks/data_table.ipynb>data table notebook</a>'\n",
              "          + ' to learn more about interactive tables.';\n",
              "        element.innerHTML = '';\n",
              "        dataTable['output_type'] = 'display_data';\n",
              "        await google.colab.output.renderOutput(dataTable, element);\n",
              "        const docLink = document.createElement('div');\n",
              "        docLink.innerHTML = docLinkHtml;\n",
              "        element.appendChild(docLink);\n",
              "      }\n",
              "    </script>\n",
              "  </div>\n",
              "\n",
              "\n",
              "<div id=\"df-4635088d-edf4-4a7e-b47b-a9708b0109e4\">\n",
              "  <button class=\"colab-df-quickchart\" onclick=\"quickchart('df-4635088d-edf4-4a7e-b47b-a9708b0109e4')\"\n",
              "            title=\"Suggest charts.\"\n",
              "            style=\"display:none;\">\n",
              "\n",
              "<svg xmlns=\"http://www.w3.org/2000/svg\" height=\"24px\"viewBox=\"0 0 24 24\"\n",
              "     width=\"24px\">\n",
              "    <g>\n",
              "        <path d=\"M19 3H5c-1.1 0-2 .9-2 2v14c0 1.1.9 2 2 2h14c1.1 0 2-.9 2-2V5c0-1.1-.9-2-2-2zM9 17H7v-7h2v7zm4 0h-2V7h2v10zm4 0h-2v-4h2v4z\"/>\n",
              "    </g>\n",
              "</svg>\n",
              "  </button>\n",
              "\n",
              "<style>\n",
              "  .colab-df-quickchart {\n",
              "      --bg-color: #E8F0FE;\n",
              "      --fill-color: #1967D2;\n",
              "      --hover-bg-color: #E2EBFA;\n",
              "      --hover-fill-color: #174EA6;\n",
              "      --disabled-fill-color: #AAA;\n",
              "      --disabled-bg-color: #DDD;\n",
              "  }\n",
              "\n",
              "  [theme=dark] .colab-df-quickchart {\n",
              "      --bg-color: #3B4455;\n",
              "      --fill-color: #D2E3FC;\n",
              "      --hover-bg-color: #434B5C;\n",
              "      --hover-fill-color: #FFFFFF;\n",
              "      --disabled-bg-color: #3B4455;\n",
              "      --disabled-fill-color: #666;\n",
              "  }\n",
              "\n",
              "  .colab-df-quickchart {\n",
              "    background-color: var(--bg-color);\n",
              "    border: none;\n",
              "    border-radius: 50%;\n",
              "    cursor: pointer;\n",
              "    display: none;\n",
              "    fill: var(--fill-color);\n",
              "    height: 32px;\n",
              "    padding: 0;\n",
              "    width: 32px;\n",
              "  }\n",
              "\n",
              "  .colab-df-quickchart:hover {\n",
              "    background-color: var(--hover-bg-color);\n",
              "    box-shadow: 0 1px 2px rgba(60, 64, 67, 0.3), 0 1px 3px 1px rgba(60, 64, 67, 0.15);\n",
              "    fill: var(--button-hover-fill-color);\n",
              "  }\n",
              "\n",
              "  .colab-df-quickchart-complete:disabled,\n",
              "  .colab-df-quickchart-complete:disabled:hover {\n",
              "    background-color: var(--disabled-bg-color);\n",
              "    fill: var(--disabled-fill-color);\n",
              "    box-shadow: none;\n",
              "  }\n",
              "\n",
              "  .colab-df-spinner {\n",
              "    border: 2px solid var(--fill-color);\n",
              "    border-color: transparent;\n",
              "    border-bottom-color: var(--fill-color);\n",
              "    animation:\n",
              "      spin 1s steps(1) infinite;\n",
              "  }\n",
              "\n",
              "  @keyframes spin {\n",
              "    0% {\n",
              "      border-color: transparent;\n",
              "      border-bottom-color: var(--fill-color);\n",
              "      border-left-color: var(--fill-color);\n",
              "    }\n",
              "    20% {\n",
              "      border-color: transparent;\n",
              "      border-left-color: var(--fill-color);\n",
              "      border-top-color: var(--fill-color);\n",
              "    }\n",
              "    30% {\n",
              "      border-color: transparent;\n",
              "      border-left-color: var(--fill-color);\n",
              "      border-top-color: var(--fill-color);\n",
              "      border-right-color: var(--fill-color);\n",
              "    }\n",
              "    40% {\n",
              "      border-color: transparent;\n",
              "      border-right-color: var(--fill-color);\n",
              "      border-top-color: var(--fill-color);\n",
              "    }\n",
              "    60% {\n",
              "      border-color: transparent;\n",
              "      border-right-color: var(--fill-color);\n",
              "    }\n",
              "    80% {\n",
              "      border-color: transparent;\n",
              "      border-right-color: var(--fill-color);\n",
              "      border-bottom-color: var(--fill-color);\n",
              "    }\n",
              "    90% {\n",
              "      border-color: transparent;\n",
              "      border-bottom-color: var(--fill-color);\n",
              "    }\n",
              "  }\n",
              "</style>\n",
              "\n",
              "  <script>\n",
              "    async function quickchart(key) {\n",
              "      const quickchartButtonEl =\n",
              "        document.querySelector('#' + key + ' button');\n",
              "      quickchartButtonEl.disabled = true;  // To prevent multiple clicks.\n",
              "      quickchartButtonEl.classList.add('colab-df-spinner');\n",
              "      try {\n",
              "        const charts = await google.colab.kernel.invokeFunction(\n",
              "            'suggestCharts', [key], {});\n",
              "      } catch (error) {\n",
              "        console.error('Error during call to suggestCharts:', error);\n",
              "      }\n",
              "      quickchartButtonEl.classList.remove('colab-df-spinner');\n",
              "      quickchartButtonEl.classList.add('colab-df-quickchart-complete');\n",
              "    }\n",
              "    (() => {\n",
              "      let quickchartButtonEl =\n",
              "        document.querySelector('#df-4635088d-edf4-4a7e-b47b-a9708b0109e4 button');\n",
              "      quickchartButtonEl.style.display =\n",
              "        google.colab.kernel.accessAllowed ? 'block' : 'none';\n",
              "    })();\n",
              "  </script>\n",
              "</div>\n",
              "    </div>\n",
              "  </div>\n"
            ]
          },
          "metadata": {},
          "execution_count": 22
        }
      ],
      "source": [
        "# Printing top 5 test records\n",
        "test_data.head()"
      ]
    },
    {
      "cell_type": "markdown",
      "metadata": {
        "id": "vEKOr03Vx0C4"
      },
      "source": [
        "# <font color ='pickle'>**Create Subset of Data**"
      ]
    },
    {
      "cell_type": "code",
      "execution_count": 23,
      "metadata": {
        "execution": {
          "iopub.execute_input": "2023-02-13T10:06:36.626618Z",
          "iopub.status.busy": "2023-02-13T10:06:36.626382Z",
          "iopub.status.idle": "2023-02-13T10:06:36.668529Z",
          "shell.execute_reply": "2023-02-13T10:06:36.667868Z",
          "shell.execute_reply.started": "2023-02-13T10:06:36.626592Z"
        },
        "id": "R0bHgmAB7iaQ",
        "tags": []
      },
      "outputs": [],
      "source": [
        "train_smaller = train_data.sample(frac=0.1, replace=True, random_state=1)"
      ]
    },
    {
      "cell_type": "code",
      "execution_count": 24,
      "metadata": {
        "execution": {
          "iopub.execute_input": "2023-02-13T10:06:37.729529Z",
          "iopub.status.busy": "2023-02-13T10:06:37.729326Z",
          "iopub.status.idle": "2023-02-13T10:06:37.761611Z",
          "shell.execute_reply": "2023-02-13T10:06:37.761009Z",
          "shell.execute_reply.started": "2023-02-13T10:06:37.729506Z"
        },
        "id": "1xlLyOwv7iaQ",
        "tags": []
      },
      "outputs": [],
      "source": [
        "test_smaller = test_data.sample(frac=0.1, replace=True, random_state=1)"
      ]
    },
    {
      "cell_type": "markdown",
      "metadata": {
        "id": "HVGBwK11RtQI"
      },
      "source": [
        "# <font color ='pickle'>**Exploratory Data Analysis**"
      ]
    },
    {
      "cell_type": "code",
      "execution_count": 25,
      "metadata": {
        "colab": {
          "base_uri": "https://localhost:8080/"
        },
        "execution": {
          "iopub.execute_input": "2023-02-13T10:06:42.433731Z",
          "iopub.status.busy": "2023-02-13T10:06:42.433537Z",
          "iopub.status.idle": "2023-02-13T10:06:42.487087Z",
          "shell.execute_reply": "2023-02-13T10:06:42.486498Z",
          "shell.execute_reply.started": "2023-02-13T10:06:42.433714Z"
        },
        "id": "kZl-W7FmQKNn",
        "outputId": "d6efd6ba-c091-4182-da10-2bc64e2fc7f7",
        "tags": []
      },
      "outputs": [
        {
          "output_type": "stream",
          "name": "stdout",
          "text": [
            "<class 'pandas.core.frame.DataFrame'>\n",
            "Int64Index: 2500 entries, 235 to 21762\n",
            "Data columns (total 2 columns):\n",
            " #   Column   Non-Null Count  Dtype \n",
            "---  ------   --------------  ----- \n",
            " 0   Reviews  2500 non-null   object\n",
            " 1   Labels   2500 non-null   int64 \n",
            "dtypes: int64(1), object(1)\n",
            "memory usage: 58.6+ KB\n"
          ]
        }
      ],
      "source": [
        "# Printing basic info\n",
        "train_smaller.info()"
      ]
    },
    {
      "cell_type": "code",
      "execution_count": 26,
      "metadata": {
        "colab": {
          "base_uri": "https://localhost:8080/"
        },
        "execution": {
          "iopub.execute_input": "2023-02-13T10:06:43.695656Z",
          "iopub.status.busy": "2023-02-13T10:06:43.695459Z",
          "iopub.status.idle": "2023-02-13T10:06:43.738566Z",
          "shell.execute_reply": "2023-02-13T10:06:43.738053Z",
          "shell.execute_reply.started": "2023-02-13T10:06:43.695632Z"
        },
        "id": "fb8N0DxOS4ya",
        "outputId": "4deac194-12d3-4362-faba-cedba295f493",
        "tags": []
      },
      "outputs": [
        {
          "output_type": "execute_result",
          "data": {
            "text/plain": [
              "1    1286\n",
              "0    1214\n",
              "Name: Labels, dtype: int64"
            ]
          },
          "metadata": {},
          "execution_count": 26
        }
      ],
      "source": [
        "# Checking distribution of class labels for train dataset\n",
        "train_smaller['Labels'].value_counts()"
      ]
    },
    {
      "cell_type": "code",
      "execution_count": 27,
      "metadata": {
        "colab": {
          "base_uri": "https://localhost:8080/"
        },
        "execution": {
          "iopub.execute_input": "2023-02-13T10:06:48.031790Z",
          "iopub.status.busy": "2023-02-13T10:06:48.031628Z",
          "iopub.status.idle": "2023-02-13T10:06:48.073506Z",
          "shell.execute_reply": "2023-02-13T10:06:48.072985Z",
          "shell.execute_reply.started": "2023-02-13T10:06:48.031772Z"
        },
        "id": "1_JOgXnP7iaR",
        "outputId": "c254e2c6-f49e-4aef-821b-422efaddb2a4",
        "tags": []
      },
      "outputs": [
        {
          "output_type": "execute_result",
          "data": {
            "text/plain": [
              "1    1286\n",
              "0    1214\n",
              "Name: Labels, dtype: int64"
            ]
          },
          "metadata": {},
          "execution_count": 27
        }
      ],
      "source": [
        "# Checking distribution of class labels for test dataset\n",
        "test_smaller['Labels'].value_counts()"
      ]
    },
    {
      "cell_type": "markdown",
      "metadata": {
        "id": "sDcmzNupe2qU"
      },
      "source": [
        "As we can see our data is well balannced."
      ]
    },
    {
      "cell_type": "markdown",
      "metadata": {
        "id": "cYA5wfV4V_QW"
      },
      "source": [
        "# <font color ='pickle'>**Classification Pipeline**"
      ]
    },
    {
      "cell_type": "markdown",
      "metadata": {
        "id": "3zISsuAZYVmF"
      },
      "source": [
        "## <font color ='pickle'>**PreProcessing**"
      ]
    },
    {
      "cell_type": "code",
      "execution_count": 28,
      "metadata": {
        "colab": {
          "base_uri": "https://localhost:8080/"
        },
        "execution": {
          "iopub.execute_input": "2023-02-13T10:07:05.307484Z",
          "iopub.status.busy": "2023-02-13T10:07:05.307349Z",
          "iopub.status.idle": "2023-02-13T10:07:05.333957Z",
          "shell.execute_reply": "2023-02-13T10:07:05.333330Z",
          "shell.execute_reply.started": "2023-02-13T10:07:05.307470Z"
        },
        "id": "R-EJYrOMYZ4A",
        "outputId": "8cee0034-217a-4095-b466-f53611919a64",
        "tags": []
      },
      "outputs": [
        {
          "output_type": "stream",
          "name": "stdout",
          "text": [
            "X_train: (2500,) y_train: (2500,)\n",
            "X_test: (2500,) y_test: (2500,)\n"
          ]
        }
      ],
      "source": [
        "X_train = train_smaller['Reviews'].values\n",
        "X_test = test_smaller['Reviews'].values\n",
        "y_train = train_smaller['Labels'].values\n",
        "y_test = test_smaller['Labels'].values\n",
        "\n",
        "print(f'X_train: {X_train.shape} y_train: {y_train.shape}')\n",
        "print(f'X_test: {X_test.shape} y_test: {y_test.shape}')"
      ]
    },
    {
      "cell_type": "code",
      "execution_count": 29,
      "metadata": {
        "execution": {
          "iopub.execute_input": "2023-02-13T10:07:06.321397Z",
          "iopub.status.busy": "2023-02-13T10:07:06.321290Z",
          "iopub.status.idle": "2023-02-13T10:07:06.345940Z",
          "shell.execute_reply": "2023-02-13T10:07:06.345318Z",
          "shell.execute_reply.started": "2023-02-13T10:07:06.321385Z"
        },
        "id": "-Vt4WDlHyJ8T",
        "tags": []
      },
      "outputs": [],
      "source": [
        "cp.SpacyPreprocessor?"
      ]
    },
    {
      "cell_type": "code",
      "execution_count": 30,
      "metadata": {
        "execution": {
          "iopub.execute_input": "2023-02-13T10:07:13.598557Z",
          "iopub.status.busy": "2023-02-13T10:07:13.598427Z",
          "iopub.status.idle": "2023-02-13T10:07:20.896135Z",
          "shell.execute_reply": "2023-02-13T10:07:20.894695Z",
          "shell.execute_reply.started": "2023-02-13T10:07:13.598543Z"
        },
        "id": "v_TDN-HrAHP0",
        "tags": [],
        "colab": {
          "base_uri": "https://localhost:8080/"
        },
        "outputId": "92a830a7-c821-4fb3-b751-dbcae4ca833d"
      },
      "outputs": [
        {
          "output_type": "stream",
          "name": "stderr",
          "text": [
            "/content/drive/MyDrive/data/custom-functions/custom_preprocessor_mod.py:90: MarkupResemblesLocatorWarning: The input looks more like a filename than markup. You may want to open this file and pass the filehandle into Beautiful Soup.\n",
            "  soup = BeautifulSoup(text, \"html.parser\")\n"
          ]
        }
      ],
      "source": [
        "X_train_cleaned = cp.SpacyPreprocessor(model='en_core_web_sm').transform(X_train)"
      ]
    },
    {
      "cell_type": "code",
      "execution_count": 31,
      "metadata": {
        "execution": {
          "iopub.execute_input": "2023-02-13T10:07:45.030865Z",
          "iopub.status.busy": "2023-02-13T10:07:45.030738Z",
          "iopub.status.idle": "2023-02-13T10:07:45.055363Z",
          "shell.execute_reply": "2023-02-13T10:07:45.054796Z",
          "shell.execute_reply.started": "2023-02-13T10:07:45.030853Z"
        },
        "id": "u76KNV-xAa_8",
        "tags": []
      },
      "outputs": [],
      "source": [
        "# save this to a file\n",
        "file_X_train_cleaned_sparse_embed = data_folder / 'x_train_cleaned_sparse_embed.pkl'"
      ]
    },
    {
      "cell_type": "code",
      "execution_count": 32,
      "metadata": {
        "colab": {
          "base_uri": "https://localhost:8080/"
        },
        "execution": {
          "iopub.execute_input": "2023-02-13T10:07:47.378744Z",
          "iopub.status.busy": "2023-02-13T10:07:47.378533Z",
          "iopub.status.idle": "2023-02-13T10:07:47.429721Z",
          "shell.execute_reply": "2023-02-13T10:07:47.429099Z",
          "shell.execute_reply.started": "2023-02-13T10:07:47.378719Z"
        },
        "id": "h3drVuLSAr-O",
        "outputId": "90e3c05c-c54c-4c21-8478-42621f938d3c",
        "tags": []
      },
      "outputs": [
        {
          "output_type": "execute_result",
          "data": {
            "text/plain": [
              "['/content/drive/MyDrive/data/datasets/x_train_cleaned_sparse_embed.pkl']"
            ]
          },
          "metadata": {},
          "execution_count": 32
        }
      ],
      "source": [
        "joblib.dump(X_train_cleaned, file_X_train_cleaned_sparse_embed)"
      ]
    },
    {
      "cell_type": "code",
      "execution_count": 33,
      "metadata": {
        "execution": {
          "iopub.execute_input": "2023-02-13T10:07:51.211484Z",
          "iopub.status.busy": "2023-02-13T10:07:51.211329Z",
          "iopub.status.idle": "2023-02-13T10:07:58.113589Z",
          "shell.execute_reply": "2023-02-13T10:07:58.110457Z",
          "shell.execute_reply.started": "2023-02-13T10:07:51.211467Z"
        },
        "id": "KjUTT4zBA7T0",
        "tags": []
      },
      "outputs": [],
      "source": [
        "X_test_cleaned = cp.SpacyPreprocessor(model='en_core_web_sm').transform(X_test)"
      ]
    },
    {
      "cell_type": "code",
      "execution_count": 34,
      "metadata": {
        "execution": {
          "iopub.execute_input": "2023-02-13T10:08:05.457610Z",
          "iopub.status.busy": "2023-02-13T10:08:05.457495Z",
          "iopub.status.idle": "2023-02-13T10:08:05.479875Z",
          "shell.execute_reply": "2023-02-13T10:08:05.479381Z",
          "shell.execute_reply.started": "2023-02-13T10:08:05.457599Z"
        },
        "id": "eQ3sHaRSA7T0",
        "tags": []
      },
      "outputs": [],
      "source": [
        "# save  this to a file\n",
        "file_X_test_cleaned_sparse_embed = data_folder / 'x_test_cleaned_sparse_embed.pkl'"
      ]
    },
    {
      "cell_type": "code",
      "execution_count": 35,
      "metadata": {
        "colab": {
          "base_uri": "https://localhost:8080/"
        },
        "execution": {
          "iopub.execute_input": "2023-02-13T10:08:06.773131Z",
          "iopub.status.busy": "2023-02-13T10:08:06.772929Z",
          "iopub.status.idle": "2023-02-13T10:08:06.827485Z",
          "shell.execute_reply": "2023-02-13T10:08:06.826971Z",
          "shell.execute_reply.started": "2023-02-13T10:08:06.773106Z"
        },
        "id": "sAOO0VwUA7T0",
        "outputId": "01d052fb-8bce-431b-9747-a0c45cf5ba41",
        "tags": []
      },
      "outputs": [
        {
          "output_type": "execute_result",
          "data": {
            "text/plain": [
              "['/content/drive/MyDrive/data/datasets/x_test_cleaned_sparse_embed.pkl']"
            ]
          },
          "metadata": {},
          "execution_count": 35
        }
      ],
      "source": [
        "joblib.dump(X_test_cleaned, file_X_test_cleaned_sparse_embed)"
      ]
    },
    {
      "cell_type": "markdown",
      "metadata": {
        "id": "7m07RCyWb-_-"
      },
      "source": [
        "## <font color ='pickle'>**Pipeline 1: Data Preprocessing + Sparse Embeddings (TF-IDF) + ML Model**"
      ]
    },
    {
      "cell_type": "markdown",
      "metadata": {
        "id": "hwovYJoLxhRM"
      },
      "source": [
        "### <font color ='pickle'>**Create Pipeline**"
      ]
    },
    {
      "cell_type": "code",
      "execution_count": 36,
      "metadata": {
        "execution": {
          "iopub.execute_input": "2023-02-13T10:08:19.348884Z",
          "iopub.status.busy": "2023-02-13T10:08:19.348711Z",
          "iopub.status.idle": "2023-02-13T10:08:19.394140Z",
          "shell.execute_reply": "2023-02-13T10:08:19.393635Z",
          "shell.execute_reply.started": "2023-02-13T10:08:19.348866Z"
        },
        "id": "eFs9aC3deKAx",
        "tags": []
      },
      "outputs": [],
      "source": [
        "classifier_1 = Pipeline([\n",
        "    ('vectorizer', TfidfVectorizer(analyzer='word', token_pattern=r\"[\\S]+\")),\n",
        "    ('classifier', LogisticRegression(max_iter=10000)),\n",
        "                        ])"
      ]
    },
    {
      "cell_type": "markdown",
      "metadata": {
        "id": "gf6m31JZxhRM"
      },
      "source": [
        "### <font color ='pickle'>**Parameter Grid**"
      ]
    },
    {
      "cell_type": "code",
      "execution_count": 37,
      "metadata": {
        "execution": {
          "iopub.execute_input": "2023-02-13T10:08:31.693978Z",
          "iopub.status.busy": "2023-02-13T10:08:31.693746Z",
          "iopub.status.idle": "2023-02-13T10:08:31.735666Z",
          "shell.execute_reply": "2023-02-13T10:08:31.735090Z",
          "shell.execute_reply.started": "2023-02-13T10:08:31.693952Z"
        },
        "id": "Rj859icxkmvH",
        "tags": []
      },
      "outputs": [],
      "source": [
        "param_grid_classifier_1 = {'vectorizer__max_features': [100, 500, 1000, 2000, 5000],\n",
        "                            'classifier__C': [0.1, 1, 10, 100, 100000]\n",
        "                           }"
      ]
    },
    {
      "cell_type": "markdown",
      "metadata": {
        "execution": {
          "iopub.execute_input": "2022-02-14T23:23:08.590947Z",
          "iopub.status.busy": "2022-02-14T23:23:08.590808Z",
          "iopub.status.idle": "2022-02-14T23:23:08.593523Z",
          "shell.execute_reply": "2022-02-14T23:23:08.593065Z",
          "shell.execute_reply.started": "2022-02-14T23:23:08.590934Z"
        },
        "id": "giGqSBD2xhRN"
      },
      "source": [
        "### <font color ='pickle'>**Specify GridSearch**"
      ]
    },
    {
      "cell_type": "code",
      "execution_count": 38,
      "metadata": {
        "execution": {
          "iopub.execute_input": "2023-02-13T10:08:48.520597Z",
          "iopub.status.busy": "2023-02-13T10:08:48.520425Z",
          "iopub.status.idle": "2023-02-13T10:08:48.566339Z",
          "shell.execute_reply": "2023-02-13T10:08:48.565708Z",
          "shell.execute_reply.started": "2023-02-13T10:08:48.520579Z"
        },
        "id": "fOI19ImAkc4U",
        "tags": []
      },
      "outputs": [],
      "source": [
        "# We will now use Gridserach to find fine tune hyperparameters using cross validation\n",
        "# The advantage of using pipelines is that we can avoid data leakage\n",
        "# Since we have balanced data set, we will use default scoring method of accuracy\n",
        "# the typical value of cv used is 5. We are using 3, just for demonstration.\n",
        "\n",
        "grid_classifier_1 = GridSearchCV(estimator=classifier_1, param_grid=param_grid_classifier_1, cv = 3)"
      ]
    },
    {
      "cell_type": "markdown",
      "metadata": {
        "id": "FDhJwFZ3Zflq"
      },
      "source": [
        "### <font color ='pickle'>**Fit the model**"
      ]
    },
    {
      "cell_type": "code",
      "execution_count": 39,
      "metadata": {
        "colab": {
          "base_uri": "https://localhost:8080/",
          "height": 152
        },
        "execution": {
          "iopub.execute_input": "2023-02-13T10:09:00.406571Z",
          "iopub.status.busy": "2023-02-13T10:09:00.406337Z",
          "iopub.status.idle": "2023-02-13T10:09:09.708037Z",
          "shell.execute_reply": "2023-02-13T10:09:09.707677Z",
          "shell.execute_reply.started": "2023-02-13T10:09:00.406545Z"
        },
        "id": "nbRCGcGPlKVj",
        "outputId": "fe3ff07c-6a72-4ce8-ae34-178ded94294c",
        "tags": []
      },
      "outputs": [
        {
          "output_type": "execute_result",
          "data": {
            "text/plain": [
              "GridSearchCV(cv=3,\n",
              "             estimator=Pipeline(steps=[('vectorizer',\n",
              "                                        TfidfVectorizer(token_pattern='[\\\\S]+')),\n",
              "                                       ('classifier',\n",
              "                                        LogisticRegression(max_iter=10000))]),\n",
              "             param_grid={'classifier__C': [0.1, 1, 10, 100, 100000],\n",
              "                         'vectorizer__max_features': [100, 500, 1000, 2000,\n",
              "                                                      5000]})"
            ],
            "text/html": [
              "<style>#sk-container-id-1 {color: black;background-color: white;}#sk-container-id-1 pre{padding: 0;}#sk-container-id-1 div.sk-toggleable {background-color: white;}#sk-container-id-1 label.sk-toggleable__label {cursor: pointer;display: block;width: 100%;margin-bottom: 0;padding: 0.3em;box-sizing: border-box;text-align: center;}#sk-container-id-1 label.sk-toggleable__label-arrow:before {content: \"▸\";float: left;margin-right: 0.25em;color: #696969;}#sk-container-id-1 label.sk-toggleable__label-arrow:hover:before {color: black;}#sk-container-id-1 div.sk-estimator:hover label.sk-toggleable__label-arrow:before {color: black;}#sk-container-id-1 div.sk-toggleable__content {max-height: 0;max-width: 0;overflow: hidden;text-align: left;background-color: #f0f8ff;}#sk-container-id-1 div.sk-toggleable__content pre {margin: 0.2em;color: black;border-radius: 0.25em;background-color: #f0f8ff;}#sk-container-id-1 input.sk-toggleable__control:checked~div.sk-toggleable__content {max-height: 200px;max-width: 100%;overflow: auto;}#sk-container-id-1 input.sk-toggleable__control:checked~label.sk-toggleable__label-arrow:before {content: \"▾\";}#sk-container-id-1 div.sk-estimator input.sk-toggleable__control:checked~label.sk-toggleable__label {background-color: #d4ebff;}#sk-container-id-1 div.sk-label input.sk-toggleable__control:checked~label.sk-toggleable__label {background-color: #d4ebff;}#sk-container-id-1 input.sk-hidden--visually {border: 0;clip: rect(1px 1px 1px 1px);clip: rect(1px, 1px, 1px, 1px);height: 1px;margin: -1px;overflow: hidden;padding: 0;position: absolute;width: 1px;}#sk-container-id-1 div.sk-estimator {font-family: monospace;background-color: #f0f8ff;border: 1px dotted black;border-radius: 0.25em;box-sizing: border-box;margin-bottom: 0.5em;}#sk-container-id-1 div.sk-estimator:hover {background-color: #d4ebff;}#sk-container-id-1 div.sk-parallel-item::after {content: \"\";width: 100%;border-bottom: 1px solid gray;flex-grow: 1;}#sk-container-id-1 div.sk-label:hover label.sk-toggleable__label {background-color: #d4ebff;}#sk-container-id-1 div.sk-serial::before {content: \"\";position: absolute;border-left: 1px solid gray;box-sizing: border-box;top: 0;bottom: 0;left: 50%;z-index: 0;}#sk-container-id-1 div.sk-serial {display: flex;flex-direction: column;align-items: center;background-color: white;padding-right: 0.2em;padding-left: 0.2em;position: relative;}#sk-container-id-1 div.sk-item {position: relative;z-index: 1;}#sk-container-id-1 div.sk-parallel {display: flex;align-items: stretch;justify-content: center;background-color: white;position: relative;}#sk-container-id-1 div.sk-item::before, #sk-container-id-1 div.sk-parallel-item::before {content: \"\";position: absolute;border-left: 1px solid gray;box-sizing: border-box;top: 0;bottom: 0;left: 50%;z-index: -1;}#sk-container-id-1 div.sk-parallel-item {display: flex;flex-direction: column;z-index: 1;position: relative;background-color: white;}#sk-container-id-1 div.sk-parallel-item:first-child::after {align-self: flex-end;width: 50%;}#sk-container-id-1 div.sk-parallel-item:last-child::after {align-self: flex-start;width: 50%;}#sk-container-id-1 div.sk-parallel-item:only-child::after {width: 0;}#sk-container-id-1 div.sk-dashed-wrapped {border: 1px dashed gray;margin: 0 0.4em 0.5em 0.4em;box-sizing: border-box;padding-bottom: 0.4em;background-color: white;}#sk-container-id-1 div.sk-label label {font-family: monospace;font-weight: bold;display: inline-block;line-height: 1.2em;}#sk-container-id-1 div.sk-label-container {text-align: center;}#sk-container-id-1 div.sk-container {/* jupyter's `normalize.less` sets `[hidden] { display: none; }` but bootstrap.min.css set `[hidden] { display: none !important; }` so we also need the `!important` here to be able to override the default hidden behavior on the sphinx rendered scikit-learn.org. See: https://github.com/scikit-learn/scikit-learn/issues/21755 */display: inline-block !important;position: relative;}#sk-container-id-1 div.sk-text-repr-fallback {display: none;}</style><div id=\"sk-container-id-1\" class=\"sk-top-container\"><div class=\"sk-text-repr-fallback\"><pre>GridSearchCV(cv=3,\n",
              "             estimator=Pipeline(steps=[(&#x27;vectorizer&#x27;,\n",
              "                                        TfidfVectorizer(token_pattern=&#x27;[\\\\S]+&#x27;)),\n",
              "                                       (&#x27;classifier&#x27;,\n",
              "                                        LogisticRegression(max_iter=10000))]),\n",
              "             param_grid={&#x27;classifier__C&#x27;: [0.1, 1, 10, 100, 100000],\n",
              "                         &#x27;vectorizer__max_features&#x27;: [100, 500, 1000, 2000,\n",
              "                                                      5000]})</pre><b>In a Jupyter environment, please rerun this cell to show the HTML representation or trust the notebook. <br />On GitHub, the HTML representation is unable to render, please try loading this page with nbviewer.org.</b></div><div class=\"sk-container\" hidden><div class=\"sk-item sk-dashed-wrapped\"><div class=\"sk-label-container\"><div class=\"sk-label sk-toggleable\"><input class=\"sk-toggleable__control sk-hidden--visually\" id=\"sk-estimator-id-1\" type=\"checkbox\" ><label for=\"sk-estimator-id-1\" class=\"sk-toggleable__label sk-toggleable__label-arrow\">GridSearchCV</label><div class=\"sk-toggleable__content\"><pre>GridSearchCV(cv=3,\n",
              "             estimator=Pipeline(steps=[(&#x27;vectorizer&#x27;,\n",
              "                                        TfidfVectorizer(token_pattern=&#x27;[\\\\S]+&#x27;)),\n",
              "                                       (&#x27;classifier&#x27;,\n",
              "                                        LogisticRegression(max_iter=10000))]),\n",
              "             param_grid={&#x27;classifier__C&#x27;: [0.1, 1, 10, 100, 100000],\n",
              "                         &#x27;vectorizer__max_features&#x27;: [100, 500, 1000, 2000,\n",
              "                                                      5000]})</pre></div></div></div><div class=\"sk-parallel\"><div class=\"sk-parallel-item\"><div class=\"sk-item\"><div class=\"sk-label-container\"><div class=\"sk-label sk-toggleable\"><input class=\"sk-toggleable__control sk-hidden--visually\" id=\"sk-estimator-id-2\" type=\"checkbox\" ><label for=\"sk-estimator-id-2\" class=\"sk-toggleable__label sk-toggleable__label-arrow\">estimator: Pipeline</label><div class=\"sk-toggleable__content\"><pre>Pipeline(steps=[(&#x27;vectorizer&#x27;, TfidfVectorizer(token_pattern=&#x27;[\\\\S]+&#x27;)),\n",
              "                (&#x27;classifier&#x27;, LogisticRegression(max_iter=10000))])</pre></div></div></div><div class=\"sk-serial\"><div class=\"sk-item\"><div class=\"sk-serial\"><div class=\"sk-item\"><div class=\"sk-estimator sk-toggleable\"><input class=\"sk-toggleable__control sk-hidden--visually\" id=\"sk-estimator-id-3\" type=\"checkbox\" ><label for=\"sk-estimator-id-3\" class=\"sk-toggleable__label sk-toggleable__label-arrow\">TfidfVectorizer</label><div class=\"sk-toggleable__content\"><pre>TfidfVectorizer(token_pattern=&#x27;[\\\\S]+&#x27;)</pre></div></div></div><div class=\"sk-item\"><div class=\"sk-estimator sk-toggleable\"><input class=\"sk-toggleable__control sk-hidden--visually\" id=\"sk-estimator-id-4\" type=\"checkbox\" ><label for=\"sk-estimator-id-4\" class=\"sk-toggleable__label sk-toggleable__label-arrow\">LogisticRegression</label><div class=\"sk-toggleable__content\"><pre>LogisticRegression(max_iter=10000)</pre></div></div></div></div></div></div></div></div></div></div></div></div>"
            ]
          },
          "metadata": {},
          "execution_count": 39
        }
      ],
      "source": [
        "# Fit the model on training data\n",
        "X_train_cleaned_sparse_embed = joblib.load(file_X_train_cleaned_sparse_embed)\n",
        "grid_classifier_1.fit(X_train_cleaned_sparse_embed, y_train)"
      ]
    },
    {
      "cell_type": "markdown",
      "metadata": {
        "id": "wnz4o4c8Zflq"
      },
      "source": [
        "### <font color = 'pickle'>**Get Best Params**"
      ]
    },
    {
      "cell_type": "code",
      "execution_count": 40,
      "metadata": {
        "colab": {
          "base_uri": "https://localhost:8080/"
        },
        "execution": {
          "iopub.execute_input": "2023-02-13T10:09:23.448156Z",
          "iopub.status.busy": "2023-02-13T10:09:23.447926Z",
          "iopub.status.idle": "2023-02-13T10:09:23.472920Z",
          "shell.execute_reply": "2023-02-13T10:09:23.472259Z",
          "shell.execute_reply.started": "2023-02-13T10:09:23.448130Z"
        },
        "id": "pMMD5DZNADbB",
        "outputId": "2b359e25-e341-4776-f6c5-8cdc1f7b0310",
        "tags": []
      },
      "outputs": [
        {
          "output_type": "stream",
          "name": "stdout",
          "text": [
            "Best cross-validation score: 0.86\n",
            "\n",
            "Best parameters:  {'classifier__C': 10, 'vectorizer__max_features': 5000}\n",
            "\n",
            "Best estimator:  Pipeline(steps=[('vectorizer',\n",
            "                 TfidfVectorizer(max_features=5000, token_pattern='[\\\\S]+')),\n",
            "                ('classifier', LogisticRegression(C=10, max_iter=10000))])\n"
          ]
        }
      ],
      "source": [
        "print(f'Best cross-validation score: {grid_classifier_1.best_score_:.2f}')\n",
        "print(\"\\nBest parameters: \", grid_classifier_1.best_params_)\n",
        "print(\"\\nBest estimator: \", grid_classifier_1.best_estimator_)"
      ]
    },
    {
      "cell_type": "markdown",
      "metadata": {
        "id": "0iuYbneqEkN5"
      },
      "source": [
        "### <font color ='pickle'>**Save Model**"
      ]
    },
    {
      "cell_type": "code",
      "execution_count": 41,
      "metadata": {
        "execution": {
          "iopub.execute_input": "2023-02-13T10:09:40.971720Z",
          "iopub.status.busy": "2023-02-13T10:09:40.971494Z",
          "iopub.status.idle": "2023-02-13T10:09:41.012401Z",
          "shell.execute_reply": "2023-02-13T10:09:41.011820Z",
          "shell.execute_reply.started": "2023-02-13T10:09:40.971698Z"
        },
        "id": "7FN1rJ7g4-u3",
        "tags": []
      },
      "outputs": [],
      "source": [
        "file_best_estimator_pipeline1_round1 = model_folder / 'pipeline1_round1_best_estimator.pkl'\n",
        "file_complete_grid_pipeline1_round1 = model_folder / 'pipeline1_round1_complete_grid.pkl'"
      ]
    },
    {
      "cell_type": "code",
      "execution_count": 42,
      "metadata": {
        "colab": {
          "base_uri": "https://localhost:8080/"
        },
        "execution": {
          "iopub.execute_input": "2023-02-13T10:09:54.372499Z",
          "iopub.status.busy": "2023-02-13T10:09:54.372077Z",
          "iopub.status.idle": "2023-02-13T10:09:54.571469Z",
          "shell.execute_reply": "2023-02-13T10:09:54.570885Z",
          "shell.execute_reply.started": "2023-02-13T10:09:54.372479Z"
        },
        "id": "yJS2mfxu4-u3",
        "outputId": "f010b986-0ca8-466f-9160-fbd33dff2005",
        "tags": []
      },
      "outputs": [
        {
          "output_type": "execute_result",
          "data": {
            "text/plain": [
              "['/content/drive/MyDrive/data/models/nlp_spring_2023/imdb/pipeline1_round1_complete_grid.pkl']"
            ]
          },
          "metadata": {},
          "execution_count": 42
        }
      ],
      "source": [
        "joblib.dump(grid_classifier_1.best_estimator_, file_best_estimator_pipeline1_round1)\n",
        "joblib.dump(grid_classifier_1, file_complete_grid_pipeline1_round1)"
      ]
    },
    {
      "cell_type": "markdown",
      "metadata": {
        "id": "5AH5u0IEEqil"
      },
      "source": [
        "### <font color ='pickle'>**Load Saved Model**"
      ]
    },
    {
      "cell_type": "code",
      "execution_count": 43,
      "metadata": {
        "execution": {
          "iopub.execute_input": "2023-02-13T10:10:00.773808Z",
          "iopub.status.busy": "2023-02-13T10:10:00.773689Z",
          "iopub.status.idle": "2023-02-13T10:10:00.890414Z",
          "shell.execute_reply": "2023-02-13T10:10:00.889834Z",
          "shell.execute_reply.started": "2023-02-13T10:10:00.773796Z"
        },
        "id": "2383mlYv4-u4",
        "tags": []
      },
      "outputs": [],
      "source": [
        "# load the saved model\n",
        "best_estimator_pipeline1_round1 = joblib.load(file_best_estimator_pipeline1_round1)\n",
        "complete_grid_pipeline1_round1 = joblib.load(file_complete_grid_pipeline1_round1)"
      ]
    },
    {
      "cell_type": "markdown",
      "metadata": {
        "id": "nWuAFMcDDzIr"
      },
      "source": [
        "### <font color ='pickle'>**Plot Learning Curve**"
      ]
    },
    {
      "cell_type": "code",
      "execution_count": 44,
      "metadata": {
        "colab": {
          "base_uri": "https://localhost:8080/",
          "height": 349
        },
        "execution": {
          "iopub.execute_input": "2023-02-13T10:10:10.177504Z",
          "iopub.status.busy": "2023-02-13T10:10:10.177368Z",
          "iopub.status.idle": "2023-02-13T10:10:11.883482Z",
          "shell.execute_reply": "2023-02-13T10:10:11.882914Z",
          "shell.execute_reply.started": "2023-02-13T10:10:10.177490Z"
        },
        "id": "Xwks6ftYeXH_",
        "outputId": "13e587e9-62eb-4b25-8359-007ce1e4e605",
        "tags": []
      },
      "outputs": [
        {
          "output_type": "execute_result",
          "data": {
            "text/plain": [
              "<module 'matplotlib.pyplot' from '/usr/local/lib/python3.10/dist-packages/matplotlib/pyplot.py'>"
            ]
          },
          "metadata": {},
          "execution_count": 44
        },
        {
          "output_type": "display_data",
          "data": {
            "text/plain": [
              "<Figure size 2000x500 with 3 Axes>"
            ],
            "image/png": "[encoded data removed]"
          },
          "metadata": {}
        }
      ],
      "source": [
        "# plot learning curces\n",
        "plot_learning_curve(best_estimator_pipeline1_round1, 'Learning Curves',\n",
        "                    X_train_cleaned_sparse_embed, y_train, n_jobs=-1)"
      ]
    },
    {
      "cell_type": "markdown",
      "metadata": {
        "execution": {
          "iopub.execute_input": "2021-09-12T20:06:00.279963Z",
          "iopub.status.busy": "2021-09-12T20:06:00.279831Z",
          "iopub.status.idle": "2021-09-12T20:06:00.283105Z",
          "shell.execute_reply": "2021-09-12T20:06:00.282566Z",
          "shell.execute_reply.started": "2021-09-12T20:06:00.279950Z"
        },
        "id": "BX1ho_JB7iaT"
      },
      "source": [
        "<font color ='indianred'>**Observations**</font>\n",
        "<br>\n",
        "Clearly there is <font color ='indianred'>**overfitting**</font>. In case of overfitting we can improve results by\n",
        "\n",
        "1. Adding more data (training model on complete dataset)\n",
        "2. By hyperparameter tuning (reduce model complexity) of logistic regression and vectorizer.\n"
      ]
    },
    {
      "cell_type": "markdown",
      "metadata": {
        "id": "_6as-t90Zflr"
      },
      "source": [
        "### <font color = 'pickle'>**Check Cross Validation Score and Train Score**"
      ]
    },
    {
      "cell_type": "code",
      "execution_count": 45,
      "metadata": {
        "colab": {
          "base_uri": "https://localhost:8080/"
        },
        "execution": {
          "iopub.execute_input": "2023-02-13T10:10:29.007141Z",
          "iopub.status.busy": "2023-02-13T10:10:29.007019Z",
          "iopub.status.idle": "2023-02-13T10:10:29.139743Z",
          "shell.execute_reply": "2023-02-13T10:10:29.139024Z",
          "shell.execute_reply.started": "2023-02-13T10:10:29.007129Z"
        },
        "id": "AiQndbqS7iaS",
        "outputId": "b466c9f8-9d51-4593-afb0-a087d3c4dbfc",
        "tags": []
      },
      "outputs": [
        {
          "output_type": "stream",
          "name": "stdout",
          "text": [
            "0.9964\n",
            "0.8580031532996891\n"
          ]
        }
      ],
      "source": [
        "# let's check the train scores\n",
        "print(best_estimator_pipeline1_round1.score(X_train_cleaned_sparse_embed, y_train))\n",
        "\n",
        "# let's check the cross validation score\n",
        "print(complete_grid_pipeline1_round1.best_score_)"
      ]
    },
    {
      "cell_type": "markdown",
      "metadata": {
        "id": "oeM-o3ExUQuR"
      },
      "source": [
        "### <font color ='pickle'>**Evaluate model on test datset**"
      ]
    },
    {
      "cell_type": "code",
      "execution_count": 46,
      "metadata": {
        "execution": {
          "iopub.execute_input": "2023-02-13T10:10:56.729721Z",
          "iopub.status.busy": "2023-02-13T10:10:56.729600Z",
          "iopub.status.idle": "2023-02-13T10:10:56.753580Z",
          "shell.execute_reply": "2023-02-13T10:10:56.753131Z",
          "shell.execute_reply.started": "2023-02-13T10:10:56.729709Z"
        },
        "id": "xfqFSYq9wfrB",
        "tags": []
      },
      "outputs": [],
      "source": [
        "# Final Pipeline\n",
        "def final_pipeline(text):\n",
        "    # X_test_cleaned = cp.SpacyPreprocessor(model='en_core_web_sm').transform(text)\n",
        "    cleaned_text = joblib.load(file_X_test_cleaned_sparse_embed)\n",
        "    best_estimator_pipeline1_round1 = joblib.load(file_best_estimator_pipeline1_round1)\n",
        "    predictions = best_estimator_pipeline1_round1.predict(cleaned_text)\n",
        "    return predictions"
      ]
    },
    {
      "cell_type": "code",
      "execution_count": 47,
      "metadata": {
        "execution": {
          "iopub.execute_input": "2023-02-13T10:11:00.294569Z",
          "iopub.status.busy": "2023-02-13T10:11:00.294419Z",
          "iopub.status.idle": "2023-02-13T10:11:00.454045Z",
          "shell.execute_reply": "2023-02-13T10:11:00.453622Z",
          "shell.execute_reply.started": "2023-02-13T10:11:00.294552Z"
        },
        "id": "A431Wqqx7iaT",
        "tags": []
      },
      "outputs": [],
      "source": [
        "# predicted values for Test data set\n",
        "y_test_pred = final_pipeline(X_test)"
      ]
    },
    {
      "cell_type": "markdown",
      "metadata": {
        "id": "9NoxHpaef4Eq"
      },
      "source": [
        "### <font color ='pickle'>**Classification report for test dataset**"
      ]
    },
    {
      "cell_type": "markdown",
      "metadata": {
        "id": "qPiOc2rAh7yK"
      },
      "source": [
        "* As we have already seen, our dataset is well balanced. Hence we have used accuracy as our scoring method.\n",
        "* However, it is a good idea to also look at classification report which gives precision, recall, and f1-score for both labels and average score also."
      ]
    },
    {
      "cell_type": "code",
      "execution_count": 48,
      "metadata": {
        "colab": {
          "base_uri": "https://localhost:8080/"
        },
        "execution": {
          "iopub.execute_input": "2023-02-13T10:11:41.687711Z",
          "iopub.status.busy": "2023-02-13T10:11:41.687570Z",
          "iopub.status.idle": "2023-02-13T10:11:41.717945Z",
          "shell.execute_reply": "2023-02-13T10:11:41.717301Z",
          "shell.execute_reply.started": "2023-02-13T10:11:41.687697Z"
        },
        "id": "0cfz7Vh49p_e",
        "outputId": "827ad1bc-b977-4c2e-ee35-98e4d2e61859",
        "tags": []
      },
      "outputs": [
        {
          "output_type": "stream",
          "name": "stdout",
          "text": [
            "\n",
            "Test set classification report:\n",
            "\n",
            "               precision    recall  f1-score   support\n",
            "\n",
            "           0       0.84      0.82      0.83      1214\n",
            "           1       0.84      0.85      0.84      1286\n",
            "\n",
            "    accuracy                           0.84      2500\n",
            "   macro avg       0.84      0.84      0.84      2500\n",
            "weighted avg       0.84      0.84      0.84      2500\n",
            "\n"
          ]
        }
      ],
      "source": [
        "print('\\nTest set classification report:\\n\\n',\n",
        "      classification_report(y_test, y_test_pred))"
      ]
    },
    {
      "cell_type": "markdown",
      "metadata": {
        "execution": {
          "iopub.execute_input": "2022-02-14T23:44:53.341888Z",
          "iopub.status.busy": "2022-02-14T23:44:53.341748Z",
          "iopub.status.idle": "2022-02-14T23:44:53.344171Z",
          "shell.execute_reply": "2022-02-14T23:44:53.343822Z",
          "shell.execute_reply.started": "2022-02-14T23:44:53.341875Z"
        },
        "id": "PEobsDMcKuU4"
      },
      "source": [
        "## <font color ='pickle'>**Pipeline 2: Data Preprocessing + Manual Features + ML Model pipeline**"
      ]
    },
    {
      "cell_type": "markdown",
      "metadata": {
        "id": "aLMdOpUNxhRR"
      },
      "source": [
        "In this case we will extract following features and use these as the input to our logistic regression.\n",
        "  1. number of words\n",
        "  2. number of characters\n",
        "  3. number of characters without space\n",
        "  4. average word length\n",
        "  5. number of digits\n",
        "  6. number of numbers\n",
        "  7. number of nouns or propernouns\n",
        "  8. number of aux\n",
        "  9. number of verbs\n",
        "  10. number of adjectives\n",
        "  11. number of ner (entiites)"
      ]
    },
    {
      "cell_type": "markdown",
      "metadata": {
        "id": "FBMDq0x2D8wj"
      },
      "source": [
        "### <font color ='pickle'>**Generate Manual Features**"
      ]
    },
    {
      "cell_type": "code",
      "execution_count": 49,
      "metadata": {
        "execution": {
          "iopub.execute_input": "2023-02-13T10:11:51.596589Z",
          "iopub.status.busy": "2023-02-13T10:11:51.596363Z",
          "iopub.status.idle": "2023-02-13T10:11:51.622106Z",
          "shell.execute_reply": "2023-02-13T10:11:51.621758Z",
          "shell.execute_reply.started": "2023-02-13T10:11:51.596564Z"
        },
        "id": "wZ66MfFA4QKD",
        "tags": []
      },
      "outputs": [],
      "source": [
        "ManualFeatures?"
      ]
    },
    {
      "cell_type": "code",
      "execution_count": 50,
      "metadata": {
        "execution": {
          "iopub.execute_input": "2023-02-13T10:11:58.240088Z",
          "iopub.status.busy": "2023-02-13T10:11:58.239863Z",
          "iopub.status.idle": "2023-02-13T10:11:58.275811Z",
          "shell.execute_reply": "2023-02-13T10:11:58.275401Z",
          "shell.execute_reply.started": "2023-02-13T10:11:58.240063Z"
        },
        "id": "wFuM-GaLxhRR",
        "tags": []
      },
      "outputs": [],
      "source": [
        "featurizer = ManualFeatures(spacy_model='en_core_web_sm')"
      ]
    },
    {
      "cell_type": "code",
      "execution_count": 51,
      "metadata": {
        "execution": {
          "iopub.execute_input": "2023-02-13T10:12:02.188116Z",
          "iopub.status.busy": "2023-02-13T10:12:02.187999Z",
          "iopub.status.idle": "2023-02-13T10:12:35.509851Z",
          "shell.execute_reply": "2023-02-13T10:12:35.508938Z",
          "shell.execute_reply.started": "2023-02-13T10:12:02.188104Z"
        },
        "id": "OGRU8kQPxhRR",
        "tags": [],
        "colab": {
          "base_uri": "https://localhost:8080/"
        },
        "outputId": "896cad4f-ed45-4528-ff6c-085d6b6414cc"
      },
      "outputs": [
        {
          "output_type": "stream",
          "name": "stderr",
          "text": [
            "/content/drive/MyDrive/data/custom-functions/custom_preprocessor_mod.py:90: MarkupResemblesLocatorWarning: The input looks more like a filename than markup. You may want to open this file and pass the filehandle into Beautiful Soup.\n",
            "  soup = BeautifulSoup(text, \"html.parser\")\n"
          ]
        }
      ],
      "source": [
        "X_train_features, feature_names = featurizer.fit_transform(X_train)"
      ]
    },
    {
      "cell_type": "code",
      "execution_count": 52,
      "metadata": {
        "colab": {
          "base_uri": "https://localhost:8080/"
        },
        "execution": {
          "iopub.execute_input": "2023-02-13T10:12:35.551159Z",
          "iopub.status.busy": "2023-02-13T10:12:35.551078Z",
          "iopub.status.idle": "2023-02-13T10:12:35.574132Z",
          "shell.execute_reply": "2023-02-13T10:12:35.573822Z",
          "shell.execute_reply.started": "2023-02-13T10:12:35.551149Z"
        },
        "id": "C6N8pXAcxhRR",
        "outputId": "94c2ee21-02bd-467f-d681-fb55ce03344b",
        "tags": []
      },
      "outputs": [
        {
          "output_type": "execute_result",
          "data": {
            "text/plain": [
              "array([[2.83000000e+02, 1.47100000e+03, 1.18900000e+03, 4.18661972e+00,\n",
              "        5.00000000e+00, 3.00000000e+00, 1.70000000e+01, 6.70000000e+01,\n",
              "        1.70000000e+01, 2.50000000e+01, 2.80000000e+01],\n",
              "       [6.63000000e+02, 3.62100000e+03, 2.95900000e+03, 4.45632530e+00,\n",
              "        0.00000000e+00, 0.00000000e+00, 3.60000000e+01, 1.64000000e+02,\n",
              "        4.90000000e+01, 9.40000000e+01, 4.60000000e+01],\n",
              "       [2.90000000e+02, 1.50400000e+03, 1.21500000e+03, 4.17525773e+00,\n",
              "        2.00000000e+00, 2.00000000e+00, 1.10000000e+01, 5.40000000e+01,\n",
              "        3.40000000e+01, 3.40000000e+01, 2.40000000e+01]])"
            ]
          },
          "metadata": {},
          "execution_count": 52
        }
      ],
      "source": [
        "X_train_features[0:3]"
      ]
    },
    {
      "cell_type": "code",
      "execution_count": 53,
      "metadata": {
        "colab": {
          "base_uri": "https://localhost:8080/"
        },
        "execution": {
          "iopub.execute_input": "2023-02-13T04:14:49.853318Z",
          "iopub.status.busy": "2023-02-13T04:14:49.853176Z",
          "iopub.status.idle": "2023-02-13T04:14:49.873852Z",
          "shell.execute_reply": "2023-02-13T04:14:49.873616Z",
          "shell.execute_reply.started": "2023-02-13T04:14:49.853307Z"
        },
        "id": "jtCQ3BkixhRR",
        "outputId": "a6d628fc-aaea-443c-a91e-f1d44081c8b3",
        "tags": []
      },
      "outputs": [
        {
          "output_type": "execute_result",
          "data": {
            "text/plain": [
              "['count_words',\n",
              " 'count_characters',\n",
              " 'count_characters_no_space',\n",
              " 'avg_word_length',\n",
              " 'count_digits',\n",
              " 'count_numbers',\n",
              " 'noun_count',\n",
              " 'aux_count',\n",
              " 'verb_count',\n",
              " 'adj_count',\n",
              " 'ner']"
            ]
          },
          "metadata": {},
          "execution_count": 53
        }
      ],
      "source": [
        "feature_names"
      ]
    },
    {
      "cell_type": "markdown",
      "metadata": {
        "id": "c6lh674PEN1J"
      },
      "source": [
        "### <font color ='pickle'>**Create Pipeline**"
      ]
    },
    {
      "cell_type": "code",
      "execution_count": 54,
      "metadata": {
        "execution": {
          "iopub.execute_input": "2023-02-13T10:12:35.574931Z",
          "iopub.status.busy": "2023-02-13T10:12:35.574850Z",
          "iopub.status.idle": "2023-02-13T10:12:35.595217Z",
          "shell.execute_reply": "2023-02-13T10:12:35.594782Z",
          "shell.execute_reply.started": "2023-02-13T10:12:35.574921Z"
        },
        "id": "tFYSUr9txhRR",
        "tags": []
      },
      "outputs": [],
      "source": [
        "classifier_2 = Pipeline([\n",
        "    ('classifier', LogisticRegression(max_iter=10000)),\n",
        "                        ])"
      ]
    },
    {
      "cell_type": "markdown",
      "metadata": {
        "id": "dISATnfBxhRR"
      },
      "source": [
        "### <font color ='pickle'>**Parameter Grid**"
      ]
    },
    {
      "cell_type": "code",
      "execution_count": 55,
      "metadata": {
        "execution": {
          "iopub.execute_input": "2023-02-13T10:12:48.594250Z",
          "iopub.status.busy": "2023-02-13T10:12:48.594127Z",
          "iopub.status.idle": "2023-02-13T10:12:48.627150Z",
          "shell.execute_reply": "2023-02-13T10:12:48.626523Z",
          "shell.execute_reply.started": "2023-02-13T10:12:48.594238Z"
        },
        "id": "QTz8sWt6xhRR",
        "tags": []
      },
      "outputs": [],
      "source": [
        "# Ideally we can specify range of values for other parameters\n",
        "# If the search space is very large then we should use RandomSerachCV\n",
        "# or some other methods\n",
        "\n",
        "param_grid_classifier_2 = {'classifier__C': [0.01, 10, 1000, 100000]}"
      ]
    },
    {
      "cell_type": "markdown",
      "metadata": {
        "execution": {
          "iopub.execute_input": "2022-02-14T23:23:08.590947Z",
          "iopub.status.busy": "2022-02-14T23:23:08.590808Z",
          "iopub.status.idle": "2022-02-14T23:23:08.593523Z",
          "shell.execute_reply": "2022-02-14T23:23:08.593065Z",
          "shell.execute_reply.started": "2022-02-14T23:23:08.590934Z"
        },
        "id": "HYL8NrFrxhRS"
      },
      "source": [
        "### <font color ='pickle'>**Specify GridSearch**"
      ]
    },
    {
      "cell_type": "code",
      "execution_count": 56,
      "metadata": {
        "execution": {
          "iopub.execute_input": "2023-02-13T10:13:12.350489Z",
          "iopub.status.busy": "2023-02-13T10:13:12.350259Z",
          "iopub.status.idle": "2023-02-13T10:13:12.392556Z",
          "shell.execute_reply": "2023-02-13T10:13:12.391948Z",
          "shell.execute_reply.started": "2023-02-13T10:13:12.350463Z"
        },
        "id": "s_l4mnLZxhRS",
        "tags": []
      },
      "outputs": [],
      "source": [
        "# the typical value of cv used is 5. We are using 3, just for demonstration.\n",
        "\n",
        "grid_classifier_2 = GridSearchCV(estimator=classifier_2,\n",
        "                                 param_grid=param_grid_classifier_2,\n",
        "                                 cv=3)"
      ]
    },
    {
      "cell_type": "markdown",
      "metadata": {
        "id": "KYRqlUj1Zflu"
      },
      "source": [
        "### <font color ='pickle'>**Fit the Model**"
      ]
    },
    {
      "cell_type": "code",
      "execution_count": 57,
      "metadata": {
        "colab": {
          "base_uri": "https://localhost:8080/",
          "height": 118
        },
        "execution": {
          "iopub.execute_input": "2023-02-13T10:13:17.168325Z",
          "iopub.status.busy": "2023-02-13T10:13:17.168128Z",
          "iopub.status.idle": "2023-02-13T10:13:17.654844Z",
          "shell.execute_reply": "2023-02-13T10:13:17.654268Z",
          "shell.execute_reply.started": "2023-02-13T10:13:17.168303Z"
        },
        "id": "OtnkGMYxxhRS",
        "outputId": "4ff2e899-7356-4d07-bd9d-2372040e51ef",
        "tags": []
      },
      "outputs": [
        {
          "output_type": "execute_result",
          "data": {
            "text/plain": [
              "GridSearchCV(cv=3,\n",
              "             estimator=Pipeline(steps=[('classifier',\n",
              "                                        LogisticRegression(max_iter=10000))]),\n",
              "             param_grid={'classifier__C': [0.01, 10, 1000, 100000]})"
            ],
            "text/html": [
              "<style>#sk-container-id-2 {color: black;background-color: white;}#sk-container-id-2 pre{padding: 0;}#sk-container-id-2 div.sk-toggleable {background-color: white;}#sk-container-id-2 label.sk-toggleable__label {cursor: pointer;display: block;width: 100%;margin-bottom: 0;padding: 0.3em;box-sizing: border-box;text-align: center;}#sk-container-id-2 label.sk-toggleable__label-arrow:before {content: \"▸\";float: left;margin-right: 0.25em;color: #696969;}#sk-container-id-2 label.sk-toggleable__label-arrow:hover:before {color: black;}#sk-container-id-2 div.sk-estimator:hover label.sk-toggleable__label-arrow:before {color: black;}#sk-container-id-2 div.sk-toggleable__content {max-height: 0;max-width: 0;overflow: hidden;text-align: left;background-color: #f0f8ff;}#sk-container-id-2 div.sk-toggleable__content pre {margin: 0.2em;color: black;border-radius: 0.25em;background-color: #f0f8ff;}#sk-container-id-2 input.sk-toggleable__control:checked~div.sk-toggleable__content {max-height: 200px;max-width: 100%;overflow: auto;}#sk-container-id-2 input.sk-toggleable__control:checked~label.sk-toggleable__label-arrow:before {content: \"▾\";}#sk-container-id-2 div.sk-estimator input.sk-toggleable__control:checked~label.sk-toggleable__label {background-color: #d4ebff;}#sk-container-id-2 div.sk-label input.sk-toggleable__control:checked~label.sk-toggleable__label {background-color: #d4ebff;}#sk-container-id-2 input.sk-hidden--visually {border: 0;clip: rect(1px 1px 1px 1px);clip: rect(1px, 1px, 1px, 1px);height: 1px;margin: -1px;overflow: hidden;padding: 0;position: absolute;width: 1px;}#sk-container-id-2 div.sk-estimator {font-family: monospace;background-color: #f0f8ff;border: 1px dotted black;border-radius: 0.25em;box-sizing: border-box;margin-bottom: 0.5em;}#sk-container-id-2 div.sk-estimator:hover {background-color: #d4ebff;}#sk-container-id-2 div.sk-parallel-item::after {content: \"\";width: 100%;border-bottom: 1px solid gray;flex-grow: 1;}#sk-container-id-2 div.sk-label:hover label.sk-toggleable__label {background-color: #d4ebff;}#sk-container-id-2 div.sk-serial::before {content: \"\";position: absolute;border-left: 1px solid gray;box-sizing: border-box;top: 0;bottom: 0;left: 50%;z-index: 0;}#sk-container-id-2 div.sk-serial {display: flex;flex-direction: column;align-items: center;background-color: white;padding-right: 0.2em;padding-left: 0.2em;position: relative;}#sk-container-id-2 div.sk-item {position: relative;z-index: 1;}#sk-container-id-2 div.sk-parallel {display: flex;align-items: stretch;justify-content: center;background-color: white;position: relative;}#sk-container-id-2 div.sk-item::before, #sk-container-id-2 div.sk-parallel-item::before {content: \"\";position: absolute;border-left: 1px solid gray;box-sizing: border-box;top: 0;bottom: 0;left: 50%;z-index: -1;}#sk-container-id-2 div.sk-parallel-item {display: flex;flex-direction: column;z-index: 1;position: relative;background-color: white;}#sk-container-id-2 div.sk-parallel-item:first-child::after {align-self: flex-end;width: 50%;}#sk-container-id-2 div.sk-parallel-item:last-child::after {align-self: flex-start;width: 50%;}#sk-container-id-2 div.sk-parallel-item:only-child::after {width: 0;}#sk-container-id-2 div.sk-dashed-wrapped {border: 1px dashed gray;margin: 0 0.4em 0.5em 0.4em;box-sizing: border-box;padding-bottom: 0.4em;background-color: white;}#sk-container-id-2 div.sk-label label {font-family: monospace;font-weight: bold;display: inline-block;line-height: 1.2em;}#sk-container-id-2 div.sk-label-container {text-align: center;}#sk-container-id-2 div.sk-container {/* jupyter's `normalize.less` sets `[hidden] { display: none; }` but bootstrap.min.css set `[hidden] { display: none !important; }` so we also need the `!important` here to be able to override the default hidden behavior on the sphinx rendered scikit-learn.org. See: https://github.com/scikit-learn/scikit-learn/issues/21755 */display: inline-block !important;position: relative;}#sk-container-id-2 div.sk-text-repr-fallback {display: none;}</style><div id=\"sk-container-id-2\" class=\"sk-top-container\"><div class=\"sk-text-repr-fallback\"><pre>GridSearchCV(cv=3,\n",
              "             estimator=Pipeline(steps=[(&#x27;classifier&#x27;,\n",
              "                                        LogisticRegression(max_iter=10000))]),\n",
              "             param_grid={&#x27;classifier__C&#x27;: [0.01, 10, 1000, 100000]})</pre><b>In a Jupyter environment, please rerun this cell to show the HTML representation or trust the notebook. <br />On GitHub, the HTML representation is unable to render, please try loading this page with nbviewer.org.</b></div><div class=\"sk-container\" hidden><div class=\"sk-item sk-dashed-wrapped\"><div class=\"sk-label-container\"><div class=\"sk-label sk-toggleable\"><input class=\"sk-toggleable__control sk-hidden--visually\" id=\"sk-estimator-id-5\" type=\"checkbox\" ><label for=\"sk-estimator-id-5\" class=\"sk-toggleable__label sk-toggleable__label-arrow\">GridSearchCV</label><div class=\"sk-toggleable__content\"><pre>GridSearchCV(cv=3,\n",
              "             estimator=Pipeline(steps=[(&#x27;classifier&#x27;,\n",
              "                                        LogisticRegression(max_iter=10000))]),\n",
              "             param_grid={&#x27;classifier__C&#x27;: [0.01, 10, 1000, 100000]})</pre></div></div></div><div class=\"sk-parallel\"><div class=\"sk-parallel-item\"><div class=\"sk-item\"><div class=\"sk-label-container\"><div class=\"sk-label sk-toggleable\"><input class=\"sk-toggleable__control sk-hidden--visually\" id=\"sk-estimator-id-6\" type=\"checkbox\" ><label for=\"sk-estimator-id-6\" class=\"sk-toggleable__label sk-toggleable__label-arrow\">estimator: Pipeline</label><div class=\"sk-toggleable__content\"><pre>Pipeline(steps=[(&#x27;classifier&#x27;, LogisticRegression(max_iter=10000))])</pre></div></div></div><div class=\"sk-serial\"><div class=\"sk-item\"><div class=\"sk-serial\"><div class=\"sk-item\"><div class=\"sk-estimator sk-toggleable\"><input class=\"sk-toggleable__control sk-hidden--visually\" id=\"sk-estimator-id-7\" type=\"checkbox\" ><label for=\"sk-estimator-id-7\" class=\"sk-toggleable__label sk-toggleable__label-arrow\">LogisticRegression</label><div class=\"sk-toggleable__content\"><pre>LogisticRegression(max_iter=10000)</pre></div></div></div></div></div></div></div></div></div></div></div></div>"
            ]
          },
          "metadata": {},
          "execution_count": 57
        }
      ],
      "source": [
        "# Fit the model on training data\n",
        "grid_classifier_2.fit(X_train_features, y_train)"
      ]
    },
    {
      "cell_type": "markdown",
      "metadata": {
        "id": "t0HQqVY1Zflv"
      },
      "source": [
        "### <font color ='pickle'>**Get Best Params**"
      ]
    },
    {
      "cell_type": "code",
      "execution_count": 58,
      "metadata": {
        "colab": {
          "base_uri": "https://localhost:8080/"
        },
        "execution": {
          "iopub.execute_input": "2023-02-13T10:13:50.272231Z",
          "iopub.status.busy": "2023-02-13T10:13:50.272101Z",
          "iopub.status.idle": "2023-02-13T10:13:50.296994Z",
          "shell.execute_reply": "2023-02-13T10:13:50.296291Z",
          "shell.execute_reply.started": "2023-02-13T10:13:50.272215Z"
        },
        "id": "dIBlniBAxhRS",
        "outputId": "b53c5e83-2ac9-4fb6-b74c-1555f0cab0db",
        "tags": []
      },
      "outputs": [
        {
          "output_type": "stream",
          "name": "stdout",
          "text": [
            "Best cross-validation score: 0.60\n",
            "\n",
            "Best parameters:  {'classifier__C': 100000}\n",
            "\n",
            "Best estimator:  Pipeline(steps=[('classifier', LogisticRegression(C=100000, max_iter=10000))])\n"
          ]
        }
      ],
      "source": [
        "print(f'Best cross-validation score: {grid_classifier_2.best_score_:.2f}')\n",
        "print(\"\\nBest parameters: \", grid_classifier_2.best_params_)\n",
        "print(\"\\nBest estimator: \", grid_classifier_2.best_estimator_)"
      ]
    },
    {
      "cell_type": "markdown",
      "metadata": {
        "id": "AJL305oREV-B"
      },
      "source": [
        "### <font color ='pickle'>**Save Model**"
      ]
    },
    {
      "cell_type": "code",
      "execution_count": 59,
      "metadata": {
        "execution": {
          "iopub.execute_input": "2023-02-13T10:13:58.039890Z",
          "iopub.status.busy": "2023-02-13T10:13:58.039770Z",
          "iopub.status.idle": "2023-02-13T10:13:58.083274Z",
          "shell.execute_reply": "2023-02-13T10:13:58.082560Z",
          "shell.execute_reply.started": "2023-02-13T10:13:58.039879Z"
        },
        "tags": [],
        "id": "MMx1B3b8Zflv"
      },
      "outputs": [],
      "source": [
        "file_best_estimator_pipeline2_round1 = model_folder / 'pipeline2_round1_best_estimator.pkl'\n",
        "file_complete_grid_pipeline2_round1 = model_folder / 'pipeline2_round1_complete_grid.pkl'"
      ]
    },
    {
      "cell_type": "code",
      "execution_count": 60,
      "metadata": {
        "colab": {
          "base_uri": "https://localhost:8080/"
        },
        "execution": {
          "iopub.execute_input": "2023-02-13T10:14:07.427017Z",
          "iopub.status.busy": "2023-02-13T10:14:07.426847Z",
          "iopub.status.idle": "2023-02-13T10:14:07.477202Z",
          "shell.execute_reply": "2023-02-13T10:14:07.476701Z",
          "shell.execute_reply.started": "2023-02-13T10:14:07.426998Z"
        },
        "outputId": "ce04c1ee-3fb1-411d-8272-33668a9a6232",
        "tags": [],
        "id": "VBE5FQDvZflv"
      },
      "outputs": [
        {
          "output_type": "execute_result",
          "data": {
            "text/plain": [
              "['/content/drive/MyDrive/data/models/nlp_spring_2023/imdb/pipeline2_round1_complete_grid.pkl']"
            ]
          },
          "metadata": {},
          "execution_count": 60
        }
      ],
      "source": [
        "joblib.dump(grid_classifier_2.best_estimator_, file_best_estimator_pipeline2_round1)\n",
        "joblib.dump(grid_classifier_2, file_complete_grid_pipeline2_round1)"
      ]
    },
    {
      "cell_type": "markdown",
      "metadata": {
        "id": "M257PJxgEZk0"
      },
      "source": [
        "### <font color ='pickle'>**Load Saved Model**"
      ]
    },
    {
      "cell_type": "code",
      "execution_count": 61,
      "metadata": {
        "execution": {
          "iopub.execute_input": "2023-02-13T10:14:19.940097Z",
          "iopub.status.busy": "2023-02-13T10:14:19.939864Z",
          "iopub.status.idle": "2023-02-13T10:14:19.974623Z",
          "shell.execute_reply": "2023-02-13T10:14:19.973995Z",
          "shell.execute_reply.started": "2023-02-13T10:14:19.940071Z"
        },
        "tags": [],
        "id": "TOX5LUoGZflv"
      },
      "outputs": [],
      "source": [
        "# load the saved model\n",
        "best_estimator_pipeline2_round1 = joblib.load(file_best_estimator_pipeline2_round1)\n",
        "complete_grid_pipeline2_round1 = joblib.load(file_complete_grid_pipeline2_round1)"
      ]
    },
    {
      "cell_type": "markdown",
      "metadata": {
        "id": "jtb1JuyEEct2"
      },
      "source": [
        "### <font color ='pickle'>**Plot Learning Curve**"
      ]
    },
    {
      "cell_type": "code",
      "execution_count": 62,
      "metadata": {
        "colab": {
          "base_uri": "https://localhost:8080/",
          "height": 349
        },
        "execution": {
          "iopub.execute_input": "2023-02-13T10:14:27.936810Z",
          "iopub.status.busy": "2023-02-13T10:14:27.936639Z",
          "iopub.status.idle": "2023-02-13T10:14:28.595266Z",
          "shell.execute_reply": "2023-02-13T10:14:28.594901Z",
          "shell.execute_reply.started": "2023-02-13T10:14:27.936792Z"
        },
        "id": "TOtXICLZxhRS",
        "outputId": "1691e1e9-5a47-439d-fdb4-76a9fdf4b42f",
        "tags": []
      },
      "outputs": [
        {
          "output_type": "execute_result",
          "data": {
            "text/plain": [
              "<module 'matplotlib.pyplot' from '/usr/local/lib/python3.10/dist-packages/matplotlib/pyplot.py'>"
            ]
          },
          "metadata": {},
          "execution_count": 62
        },
        {
          "output_type": "display_data",
          "data": {
            "text/plain": [
              "<Figure size 2000x500 with 3 Axes>"
            ],
            "image/png": "[encoded data removed]"
          },
          "metadata": {}
        }
      ],
      "source": [
        "# plot learning curces\n",
        "plot_learning_curve(best_estimator_pipeline2_round1, 'Learning Curves',\n",
        "                    X_train_features, y_train, n_jobs=-1)"
      ]
    },
    {
      "cell_type": "markdown",
      "metadata": {
        "execution": {
          "iopub.execute_input": "2021-09-12T20:06:00.279963Z",
          "iopub.status.busy": "2021-09-12T20:06:00.279831Z",
          "iopub.status.idle": "2021-09-12T20:06:00.283105Z",
          "shell.execute_reply": "2021-09-12T20:06:00.282566Z",
          "shell.execute_reply.started": "2021-09-12T20:06:00.279950Z"
        },
        "id": "A5ACRFv4xhRS"
      },
      "source": [
        "<font color ='indianred'>**Observations** </font>\n",
        "<br>\n",
        "Clearly there is <font color ='indianred'> **underfitting** </font>. In case of underfitting we can improve results by\n",
        "\n",
        "1. By hyperparameter tuning (increase model complexity) of logistic regression.\n",
        "2. Add New features or Polynomial terms"
      ]
    },
    {
      "cell_type": "markdown",
      "metadata": {
        "id": "mwkrfWmaZflw"
      },
      "source": [
        "### <font color = 'pickle'>**Check Cross Validation Score and Train Score**"
      ]
    },
    {
      "cell_type": "code",
      "execution_count": 63,
      "metadata": {
        "colab": {
          "base_uri": "https://localhost:8080/"
        },
        "execution": {
          "iopub.execute_input": "2023-02-13T10:14:51.406185Z",
          "iopub.status.busy": "2023-02-13T10:14:51.406050Z",
          "iopub.status.idle": "2023-02-13T10:14:51.429869Z",
          "shell.execute_reply": "2023-02-13T10:14:51.429342Z",
          "shell.execute_reply.started": "2023-02-13T10:14:51.406174Z"
        },
        "outputId": "2feb3663-6ff9-4e27-cb06-8f6733df1ef2",
        "tags": [],
        "id": "9_wARA47Zflw"
      },
      "outputs": [
        {
          "output_type": "stream",
          "name": "stdout",
          "text": [
            "0.6184\n",
            "0.6023963542251433\n"
          ]
        }
      ],
      "source": [
        "# let's check the train scores\n",
        "print(best_estimator_pipeline2_round1.score(X_train_features, y_train))\n",
        "\n",
        "# let's check the cross validation score\n",
        "print(complete_grid_pipeline2_round1.best_score_)"
      ]
    },
    {
      "cell_type": "markdown",
      "metadata": {
        "id": "Z4RvKefsZflw"
      },
      "source": [
        "### <font color ='pickle'>**Evaluate model on test datset**"
      ]
    },
    {
      "cell_type": "code",
      "execution_count": 64,
      "metadata": {
        "execution": {
          "iopub.execute_input": "2023-02-13T10:15:03.594515Z",
          "iopub.status.busy": "2023-02-13T10:15:03.594343Z",
          "iopub.status.idle": "2023-02-13T10:15:03.636541Z",
          "shell.execute_reply": "2023-02-13T10:15:03.635923Z",
          "shell.execute_reply.started": "2023-02-13T10:15:03.594497Z"
        },
        "tags": [],
        "id": "2a5JbzduZflw"
      },
      "outputs": [],
      "source": [
        "# Final Pipeline\n",
        "def final_pipeline(text):\n",
        "    features, feature_names = featurizer.fit_transform(text)\n",
        "    best_estimator_pipeline2_round1 = joblib.load(file_best_estimator_pipeline2_round1)\n",
        "    predictions = best_estimator_pipeline2_round1.predict(features)\n",
        "    return predictions"
      ]
    },
    {
      "cell_type": "code",
      "execution_count": 65,
      "metadata": {
        "execution": {
          "iopub.execute_input": "2023-02-13T10:15:08.485036Z",
          "iopub.status.busy": "2023-02-13T10:15:08.484898Z",
          "iopub.status.idle": "2023-02-13T10:15:41.568396Z",
          "shell.execute_reply": "2023-02-13T10:15:41.567907Z",
          "shell.execute_reply.started": "2023-02-13T10:15:08.485022Z"
        },
        "tags": [],
        "id": "zW9NJCjzZflw",
        "colab": {
          "base_uri": "https://localhost:8080/"
        },
        "outputId": "fb0e50a8-e1f7-4c8d-e76f-09631ea9d974"
      },
      "outputs": [
        {
          "output_type": "stream",
          "name": "stderr",
          "text": [
            "/content/drive/MyDrive/data/custom-functions/custom_preprocessor_mod.py:90: MarkupResemblesLocatorWarning: The input looks more like a filename than markup. You may want to open this file and pass the filehandle into Beautiful Soup.\n",
            "  soup = BeautifulSoup(text, \"html.parser\")\n"
          ]
        }
      ],
      "source": [
        "# predicted values for Test data set\n",
        "y_test_pred = final_pipeline(X_test)"
      ]
    },
    {
      "cell_type": "markdown",
      "metadata": {
        "id": "9kyVd71oZflw"
      },
      "source": [
        "### <font color ='pickle'>**Classification report for test dataset**"
      ]
    },
    {
      "cell_type": "code",
      "execution_count": 66,
      "metadata": {
        "colab": {
          "base_uri": "https://localhost:8080/"
        },
        "execution": {
          "iopub.execute_input": "2023-02-13T10:15:41.604356Z",
          "iopub.status.busy": "2023-02-13T10:15:41.604282Z",
          "iopub.status.idle": "2023-02-13T10:15:41.625867Z",
          "shell.execute_reply": "2023-02-13T10:15:41.625629Z",
          "shell.execute_reply.started": "2023-02-13T10:15:41.604346Z"
        },
        "outputId": "b042cbc5-ec91-4c1c-ac0c-f0ad4116a3af",
        "tags": [],
        "id": "oxpNViyKZflw"
      },
      "outputs": [
        {
          "output_type": "stream",
          "name": "stdout",
          "text": [
            "\n",
            "Test set classification report:\n",
            "\n",
            "               precision    recall  f1-score   support\n",
            "\n",
            "           0       0.60      0.62      0.61      1214\n",
            "           1       0.63      0.61      0.62      1286\n",
            "\n",
            "    accuracy                           0.61      2500\n",
            "   macro avg       0.61      0.61      0.61      2500\n",
            "weighted avg       0.61      0.61      0.61      2500\n",
            "\n"
          ]
        }
      ],
      "source": [
        "print('\\nTest set classification report:\\n\\n',\n",
        "      classification_report(y_test, y_test_pred))"
      ]
    },
    {
      "cell_type": "markdown",
      "metadata": {
        "execution": {
          "iopub.execute_input": "2022-02-15T23:23:28.709458Z",
          "iopub.status.busy": "2022-02-15T23:23:28.709276Z",
          "iopub.status.idle": "2022-02-15T23:23:28.711931Z",
          "shell.execute_reply": "2022-02-15T23:23:28.711569Z",
          "shell.execute_reply.started": "2022-02-15T23:23:28.709443Z"
        },
        "id": "0AgjsJ6NxhRT"
      },
      "source": [
        "## <font color ='pickle'>**Pipeline 3: Combine Manual Features and TfID vectors**"
      ]
    },
    {
      "cell_type": "markdown",
      "metadata": {
        "id": "0gbZA8neIIWM"
      },
      "source": [
        "### <font  color ='pickle'>**Combine Manual Features and tfidf features**\n",
        "\n",
        "<font size = 4, color ='indianred'>**The approach described in this section is generic and can be used to combine any text with non-text related variables**."
      ]
    },
    {
      "cell_type": "code",
      "execution_count": 67,
      "metadata": {
        "execution": {
          "iopub.execute_input": "2023-02-13T10:16:23.881813Z",
          "iopub.status.busy": "2023-02-13T10:16:23.881685Z",
          "iopub.status.idle": "2023-02-13T10:16:23.907576Z",
          "shell.execute_reply": "2023-02-13T10:16:23.907273Z",
          "shell.execute_reply.started": "2023-02-13T10:16:23.881801Z"
        },
        "tags": [],
        "id": "5B0JJU_WZflx"
      },
      "outputs": [],
      "source": [
        "X_train_cleaned_sparse_embed = joblib.load(file_X_train_cleaned_sparse_embed)"
      ]
    },
    {
      "cell_type": "code",
      "execution_count": 68,
      "metadata": {
        "execution": {
          "iopub.execute_input": "2023-02-13T10:16:26.719758Z",
          "iopub.status.busy": "2023-02-13T10:16:26.719539Z",
          "iopub.status.idle": "2023-02-13T10:16:26.754436Z",
          "shell.execute_reply": "2023-02-13T10:16:26.754008Z",
          "shell.execute_reply.started": "2023-02-13T10:16:26.719732Z"
        },
        "id": "X7w3mxy6xhRT",
        "tags": []
      },
      "outputs": [],
      "source": [
        "X_train_final = pd.concat((pd.DataFrame(X_train_cleaned_sparse_embed, columns=['cleaned_text']),\n",
        "                           pd.DataFrame(X_train_features, columns=feature_names)), axis =1)"
      ]
    },
    {
      "cell_type": "code",
      "execution_count": 69,
      "metadata": {
        "colab": {
          "base_uri": "https://localhost:8080/",
          "height": 487
        },
        "execution": {
          "iopub.execute_input": "2023-02-13T10:16:27.977266Z",
          "iopub.status.busy": "2023-02-13T10:16:27.976887Z",
          "iopub.status.idle": "2023-02-13T10:16:28.027623Z",
          "shell.execute_reply": "2023-02-13T10:16:28.027239Z",
          "shell.execute_reply.started": "2023-02-13T10:16:27.977238Z"
        },
        "id": "8W1a77B2xhRT",
        "outputId": "5e7c2d10-8a67-4c63-ff45-9241508daf1f",
        "tags": []
      },
      "outputs": [
        {
          "output_type": "execute_result",
          "data": {
            "text/plain": [
              "                                        cleaned_text  count_words  \\\n",
              "0  typical cheerful colorful mgm musical early 50...        283.0   \n",
              "1  paul f. ryan length feature manage amazing ens...        663.0   \n",
              "2  think great viewer miss entirely fact obviousl...        290.0   \n",
              "3  film bad believe actually shoot people vote 10...        181.0   \n",
              "4  watch wonderful world disney abc night come co...        234.0   \n",
              "\n",
              "   count_characters  count_characters_no_space  avg_word_length  count_digits  \\\n",
              "0            1471.0                     1189.0         4.186620           5.0   \n",
              "1            3621.0                     2959.0         4.456325           0.0   \n",
              "2            1504.0                     1215.0         4.175258           2.0   \n",
              "3             929.0                      749.0         4.115385           8.0   \n",
              "4            1231.0                      998.0         4.246809           6.0   \n",
              "\n",
              "   count_numbers  noun_count  aux_count  verb_count  adj_count   ner  \n",
              "0            3.0        17.0       67.0        17.0       25.0  28.0  \n",
              "1            0.0        36.0      164.0        49.0       94.0  46.0  \n",
              "2            2.0        11.0       54.0        34.0       34.0  24.0  \n",
              "3            5.0         5.0       38.0        19.0       17.0  21.0  \n",
              "4            5.0        13.0       56.0        13.0       29.0  18.0  "
            ],
            "text/html": [
              "\n",
              "  <div id=\"df-255e9f57-7667-41cf-ac7c-f730c52f43a7\" class=\"colab-df-container\">\n",
              "    <div>\n",
              "<style scoped>\n",
              "    .dataframe tbody tr th:only-of-type {\n",
              "        vertical-align: middle;\n",
              "    }\n",
              "\n",
              "    .dataframe tbody tr th {\n",
              "        vertical-align: top;\n",
              "    }\n",
              "\n",
              "    .dataframe thead th {\n",
              "        text-align: right;\n",
              "    }\n",
              "</style>\n",
              "<table border=\"1\" class=\"dataframe\">\n",
              "  <thead>\n",
              "    <tr style=\"text-align: right;\">\n",
              "      <th></th>\n",
              "      <th>cleaned_text</th>\n",
              "      <th>count_words</th>\n",
              "      <th>count_characters</th>\n",
              "      <th>count_characters_no_space</th>\n",
              "      <th>avg_word_length</th>\n",
              "      <th>count_digits</th>\n",
              "      <th>count_numbers</th>\n",
              "      <th>noun_count</th>\n",
              "      <th>aux_count</th>\n",
              "      <th>verb_count</th>\n",
              "      <th>adj_count</th>\n",
              "      <th>ner</th>\n",
              "    </tr>\n",
              "  </thead>\n",
              "  <tbody>\n",
              "    <tr>\n",
              "      <th>0</th>\n",
              "      <td>typical cheerful colorful mgm musical early 50...</td>\n",
              "      <td>283.0</td>\n",
              "      <td>1471.0</td>\n",
              "      <td>1189.0</td>\n",
              "      <td>4.186620</td>\n",
              "      <td>5.0</td>\n",
              "      <td>3.0</td>\n",
              "      <td>17.0</td>\n",
              "      <td>67.0</td>\n",
              "      <td>17.0</td>\n",
              "      <td>25.0</td>\n",
              "      <td>28.0</td>\n",
              "    </tr>\n",
              "    <tr>\n",
              "      <th>1</th>\n",
              "      <td>paul f. ryan length feature manage amazing ens...</td>\n",
              "      <td>663.0</td>\n",
              "      <td>3621.0</td>\n",
              "      <td>2959.0</td>\n",
              "      <td>4.456325</td>\n",
              "      <td>0.0</td>\n",
              "      <td>0.0</td>\n",
              "      <td>36.0</td>\n",
              "      <td>164.0</td>\n",
              "      <td>49.0</td>\n",
              "      <td>94.0</td>\n",
              "      <td>46.0</td>\n",
              "    </tr>\n",
              "    <tr>\n",
              "      <th>2</th>\n",
              "      <td>think great viewer miss entirely fact obviousl...</td>\n",
              "      <td>290.0</td>\n",
              "      <td>1504.0</td>\n",
              "      <td>1215.0</td>\n",
              "      <td>4.175258</td>\n",
              "      <td>2.0</td>\n",
              "      <td>2.0</td>\n",
              "      <td>11.0</td>\n",
              "      <td>54.0</td>\n",
              "      <td>34.0</td>\n",
              "      <td>34.0</td>\n",
              "      <td>24.0</td>\n",
              "    </tr>\n",
              "    <tr>\n",
              "      <th>3</th>\n",
              "      <td>film bad believe actually shoot people vote 10...</td>\n",
              "      <td>181.0</td>\n",
              "      <td>929.0</td>\n",
              "      <td>749.0</td>\n",
              "      <td>4.115385</td>\n",
              "      <td>8.0</td>\n",
              "      <td>5.0</td>\n",
              "      <td>5.0</td>\n",
              "      <td>38.0</td>\n",
              "      <td>19.0</td>\n",
              "      <td>17.0</td>\n",
              "      <td>21.0</td>\n",
              "    </tr>\n",
              "    <tr>\n",
              "      <th>4</th>\n",
              "      <td>watch wonderful world disney abc night come co...</td>\n",
              "      <td>234.0</td>\n",
              "      <td>1231.0</td>\n",
              "      <td>998.0</td>\n",
              "      <td>4.246809</td>\n",
              "      <td>6.0</td>\n",
              "      <td>5.0</td>\n",
              "      <td>13.0</td>\n",
              "      <td>56.0</td>\n",
              "      <td>13.0</td>\n",
              "      <td>29.0</td>\n",
              "      <td>18.0</td>\n",
              "    </tr>\n",
              "  </tbody>\n",
              "</table>\n",
              "</div>\n",
              "    <div class=\"colab-df-buttons\">\n",
              "\n",
              "  <div class=\"colab-df-container\">\n",
              "    <button class=\"colab-df-convert\" onclick=\"convertToInteractive('df-255e9f57-7667-41cf-ac7c-f730c52f43a7')\"\n",
              "            title=\"Convert this dataframe to an interactive table.\"\n",
              "            style=\"display:none;\">\n",
              "\n",
              "  <svg xmlns=\"http://www.w3.org/2000/svg\" height=\"24px\" viewBox=\"0 -960 960 960\">\n",
              "    <path d=\"M120-120v-720h720v720H120Zm60-500h600v-160H180v160Zm220 220h160v-160H400v160Zm0 220h160v-160H400v160ZM180-400h160v-160H180v160Zm440 0h160v-160H620v160ZM180-180h160v-160H180v160Zm440 0h160v-160H620v160Z\"/>\n",
              "  </svg>\n",
              "    </button>\n",
              "\n",
              "  <style>\n",
              "    .colab-df-container {\n",
              "      display:flex;\n",
              "      gap: 12px;\n",
              "    }\n",
              "\n",
              "    .colab-df-convert {\n",
              "      background-color: #E8F0FE;\n",
              "      border: none;\n",
              "      border-radius: 50%;\n",
              "      cursor: pointer;\n",
              "      display: none;\n",
              "      fill: #1967D2;\n",
              "      height: 32px;\n",
              "      padding: 0 0 0 0;\n",
              "      width: 32px;\n",
              "    }\n",
              "\n",
              "    .colab-df-convert:hover {\n",
              "      background-color: #E2EBFA;\n",
              "      box-shadow: 0px 1px 2px rgba(60, 64, 67, 0.3), 0px 1px 3px 1px rgba(60, 64, 67, 0.15);\n",
              "      fill: #174EA6;\n",
              "    }\n",
              "\n",
              "    .colab-df-buttons div {\n",
              "      margin-bottom: 4px;\n",
              "    }\n",
              "\n",
              "    [theme=dark] .colab-df-convert {\n",
              "      background-color: #3B4455;\n",
              "      fill: #D2E3FC;\n",
              "    }\n",
              "\n",
              "    [theme=dark] .colab-df-convert:hover {\n",
              "      background-color: #434B5C;\n",
              "      box-shadow: 0px 1px 3px 1px rgba(0, 0, 0, 0.15);\n",
              "      filter: drop-shadow(0px 1px 2px rgba(0, 0, 0, 0.3));\n",
              "      fill: #FFFFFF;\n",
              "    }\n",
              "  </style>\n",
              "\n",
              "    <script>\n",
              "      const buttonEl =\n",
              "        document.querySelector('#df-255e9f57-7667-41cf-ac7c-f730c52f43a7 button.colab-df-convert');\n",
              "      buttonEl.style.display =\n",
              "        google.colab.kernel.accessAllowed ? 'block' : 'none';\n",
              "\n",
              "      async function convertToInteractive(key) {\n",
              "        const element = document.querySelector('#df-255e9f57-7667-41cf-ac7c-f730c52f43a7');\n",
              "        const dataTable =\n",
              "          await google.colab.kernel.invokeFunction('convertToInteractive',\n",
              "                                                    [key], {});\n",
              "        if (!dataTable) return;\n",
              "\n",
              "        const docLinkHtml = 'Like what you see? Visit the ' +\n",
              "          '<a target=\"_blank\" href=https://colab.research.google.com/notebooks/data_table.ipynb>data table notebook</a>'\n",
              "          + ' to learn more about interactive tables.';\n",
              "        element.innerHTML = '';\n",
              "        dataTable['output_type'] = 'display_data';\n",
              "        await google.colab.output.renderOutput(dataTable, element);\n",
              "        const docLink = document.createElement('div');\n",
              "        docLink.innerHTML = docLinkHtml;\n",
              "        element.appendChild(docLink);\n",
              "      }\n",
              "    </script>\n",
              "  </div>\n",
              "\n",
              "\n",
              "<div id=\"df-82ed9f7c-909f-4a69-8de5-8611afb75b0d\">\n",
              "  <button class=\"colab-df-quickchart\" onclick=\"quickchart('df-82ed9f7c-909f-4a69-8de5-8611afb75b0d')\"\n",
              "            title=\"Suggest charts.\"\n",
              "            style=\"display:none;\">\n",
              "\n",
              "<svg xmlns=\"http://www.w3.org/2000/svg\" height=\"24px\"viewBox=\"0 0 24 24\"\n",
              "     width=\"24px\">\n",
              "    <g>\n",
              "        <path d=\"M19 3H5c-1.1 0-2 .9-2 2v14c0 1.1.9 2 2 2h14c1.1 0 2-.9 2-2V5c0-1.1-.9-2-2-2zM9 17H7v-7h2v7zm4 0h-2V7h2v10zm4 0h-2v-4h2v4z\"/>\n",
              "    </g>\n",
              "</svg>\n",
              "  </button>\n",
              "\n",
              "<style>\n",
              "  .colab-df-quickchart {\n",
              "      --bg-color: #E8F0FE;\n",
              "      --fill-color: #1967D2;\n",
              "      --hover-bg-color: #E2EBFA;\n",
              "      --hover-fill-color: #174EA6;\n",
              "      --disabled-fill-color: #AAA;\n",
              "      --disabled-bg-color: #DDD;\n",
              "  }\n",
              "\n",
              "  [theme=dark] .colab-df-quickchart {\n",
              "      --bg-color: #3B4455;\n",
              "      --fill-color: #D2E3FC;\n",
              "      --hover-bg-color: #434B5C;\n",
              "      --hover-fill-color: #FFFFFF;\n",
              "      --disabled-bg-color: #3B4455;\n",
              "      --disabled-fill-color: #666;\n",
              "  }\n",
              "\n",
              "  .colab-df-quickchart {\n",
              "    background-color: var(--bg-color);\n",
              "    border: none;\n",
              "    border-radius: 50%;\n",
              "    cursor: pointer;\n",
              "    display: none;\n",
              "    fill: var(--fill-color);\n",
              "    height: 32px;\n",
              "    padding: 0;\n",
              "    width: 32px;\n",
              "  }\n",
              "\n",
              "  .colab-df-quickchart:hover {\n",
              "    background-color: var(--hover-bg-color);\n",
              "    box-shadow: 0 1px 2px rgba(60, 64, 67, 0.3), 0 1px 3px 1px rgba(60, 64, 67, 0.15);\n",
              "    fill: var(--button-hover-fill-color);\n",
              "  }\n",
              "\n",
              "  .colab-df-quickchart-complete:disabled,\n",
              "  .colab-df-quickchart-complete:disabled:hover {\n",
              "    background-color: var(--disabled-bg-color);\n",
              "    fill: var(--disabled-fill-color);\n",
              "    box-shadow: none;\n",
              "  }\n",
              "\n",
              "  .colab-df-spinner {\n",
              "    border: 2px solid var(--fill-color);\n",
              "    border-color: transparent;\n",
              "    border-bottom-color: var(--fill-color);\n",
              "    animation:\n",
              "      spin 1s steps(1) infinite;\n",
              "  }\n",
              "\n",
              "  @keyframes spin {\n",
              "    0% {\n",
              "      border-color: transparent;\n",
              "      border-bottom-color: var(--fill-color);\n",
              "      border-left-color: var(--fill-color);\n",
              "    }\n",
              "    20% {\n",
              "      border-color: transparent;\n",
              "      border-left-color: var(--fill-color);\n",
              "      border-top-color: var(--fill-color);\n",
              "    }\n",
              "    30% {\n",
              "      border-color: transparent;\n",
              "      border-left-color: var(--fill-color);\n",
              "      border-top-color: var(--fill-color);\n",
              "      border-right-color: var(--fill-color);\n",
              "    }\n",
              "    40% {\n",
              "      border-color: transparent;\n",
              "      border-right-color: var(--fill-color);\n",
              "      border-top-color: var(--fill-color);\n",
              "    }\n",
              "    60% {\n",
              "      border-color: transparent;\n",
              "      border-right-color: var(--fill-color);\n",
              "    }\n",
              "    80% {\n",
              "      border-color: transparent;\n",
              "      border-right-color: var(--fill-color);\n",
              "      border-bottom-color: var(--fill-color);\n",
              "    }\n",
              "    90% {\n",
              "      border-color: transparent;\n",
              "      border-bottom-color: var(--fill-color);\n",
              "    }\n",
              "  }\n",
              "</style>\n",
              "\n",
              "  <script>\n",
              "    async function quickchart(key) {\n",
              "      const quickchartButtonEl =\n",
              "        document.querySelector('#' + key + ' button');\n",
              "      quickchartButtonEl.disabled = true;  // To prevent multiple clicks.\n",
              "      quickchartButtonEl.classList.add('colab-df-spinner');\n",
              "      try {\n",
              "        const charts = await google.colab.kernel.invokeFunction(\n",
              "            'suggestCharts', [key], {});\n",
              "      } catch (error) {\n",
              "        console.error('Error during call to suggestCharts:', error);\n",
              "      }\n",
              "      quickchartButtonEl.classList.remove('colab-df-spinner');\n",
              "      quickchartButtonEl.classList.add('colab-df-quickchart-complete');\n",
              "    }\n",
              "    (() => {\n",
              "      let quickchartButtonEl =\n",
              "        document.querySelector('#df-82ed9f7c-909f-4a69-8de5-8611afb75b0d button');\n",
              "      quickchartButtonEl.style.display =\n",
              "        google.colab.kernel.accessAllowed ? 'block' : 'none';\n",
              "    })();\n",
              "  </script>\n",
              "</div>\n",
              "    </div>\n",
              "  </div>\n"
            ]
          },
          "metadata": {},
          "execution_count": 69
        }
      ],
      "source": [
        "X_train_final.head()"
      ]
    },
    {
      "cell_type": "code",
      "execution_count": 70,
      "metadata": {
        "colab": {
          "base_uri": "https://localhost:8080/"
        },
        "execution": {
          "iopub.execute_input": "2023-02-13T10:16:49.574841Z",
          "iopub.status.busy": "2023-02-13T10:16:49.574670Z",
          "iopub.status.idle": "2023-02-13T10:16:49.614229Z",
          "shell.execute_reply": "2023-02-13T10:16:49.613721Z",
          "shell.execute_reply.started": "2023-02-13T10:16:49.574824Z"
        },
        "id": "l4CNYRw7xhRU",
        "outputId": "6fff1e2c-ef77-4fa5-f990-ae5e9ead9fe9",
        "tags": []
      },
      "outputs": [
        {
          "output_type": "stream",
          "name": "stdout",
          "text": [
            "<class 'pandas.core.frame.DataFrame'>\n",
            "RangeIndex: 2500 entries, 0 to 2499\n",
            "Data columns (total 12 columns):\n",
            " #   Column                     Non-Null Count  Dtype  \n",
            "---  ------                     --------------  -----  \n",
            " 0   cleaned_text               2500 non-null   object \n",
            " 1   count_words                2500 non-null   float64\n",
            " 2   count_characters           2500 non-null   float64\n",
            " 3   count_characters_no_space  2500 non-null   float64\n",
            " 4   avg_word_length            2500 non-null   float64\n",
            " 5   count_digits               2500 non-null   float64\n",
            " 6   count_numbers              2500 non-null   float64\n",
            " 7   noun_count                 2500 non-null   float64\n",
            " 8   aux_count                  2500 non-null   float64\n",
            " 9   verb_count                 2500 non-null   float64\n",
            " 10  adj_count                  2500 non-null   float64\n",
            " 11  ner                        2500 non-null   float64\n",
            "dtypes: float64(11), object(1)\n",
            "memory usage: 234.5+ KB\n"
          ]
        }
      ],
      "source": [
        "X_train_final.info()"
      ]
    },
    {
      "cell_type": "code",
      "execution_count": 71,
      "metadata": {
        "execution": {
          "iopub.execute_input": "2023-02-13T10:16:53.352329Z",
          "iopub.status.busy": "2023-02-13T10:16:53.352089Z",
          "iopub.status.idle": "2023-02-13T10:16:53.385713Z",
          "shell.execute_reply": "2023-02-13T10:16:53.385297Z",
          "shell.execute_reply.started": "2023-02-13T10:16:53.352303Z"
        },
        "id": "sXdMTxgOxhRU",
        "tags": []
      },
      "outputs": [],
      "source": [
        "subset = X_train_final[0:10]"
      ]
    },
    {
      "cell_type": "code",
      "execution_count": 72,
      "metadata": {
        "colab": {
          "base_uri": "https://localhost:8080/"
        },
        "execution": {
          "iopub.execute_input": "2023-02-13T10:16:54.160253Z",
          "iopub.status.busy": "2023-02-13T10:16:54.160160Z",
          "iopub.status.idle": "2023-02-13T10:16:54.178607Z",
          "shell.execute_reply": "2023-02-13T10:16:54.178360Z",
          "shell.execute_reply.started": "2023-02-13T10:16:54.160243Z"
        },
        "id": "F_Ym5vRGxhRU",
        "outputId": "6d61048a-3ec7-45e8-b9c2-d27419ddc7ac",
        "tags": []
      },
      "outputs": [
        {
          "output_type": "execute_result",
          "data": {
            "text/plain": [
              "(10, 12)"
            ]
          },
          "metadata": {},
          "execution_count": 72
        }
      ],
      "source": [
        "subset.shape"
      ]
    },
    {
      "cell_type": "code",
      "execution_count": 73,
      "metadata": {
        "execution": {
          "iopub.execute_input": "2023-02-13T10:17:08.747877Z",
          "iopub.status.busy": "2023-02-13T10:17:08.747733Z",
          "iopub.status.idle": "2023-02-13T10:17:08.788502Z",
          "shell.execute_reply": "2023-02-13T10:17:08.787993Z",
          "shell.execute_reply.started": "2023-02-13T10:17:08.747866Z"
        },
        "id": "AeihIMXhxhRU",
        "tags": []
      },
      "outputs": [],
      "source": [
        "class SparseTransformer(TransformerMixin, BaseEstimator):\n",
        "    def __init__(self):\n",
        "        pass\n",
        "\n",
        "    def fit(self, X, y=None):\n",
        "        return self\n",
        "\n",
        "    def transform(self, X, y=None):\n",
        "        return csr_matrix(X)"
      ]
    },
    {
      "cell_type": "code",
      "execution_count": 74,
      "metadata": {
        "execution": {
          "iopub.execute_input": "2023-02-13T10:17:27.198690Z",
          "iopub.status.busy": "2023-02-13T10:17:27.198438Z",
          "iopub.status.idle": "2023-02-13T10:17:27.239718Z",
          "shell.execute_reply": "2023-02-13T10:17:27.239155Z",
          "shell.execute_reply.started": "2023-02-13T10:17:27.198659Z"
        },
        "id": "vHXIXeW7xhRU",
        "tags": []
      },
      "outputs": [],
      "source": [
        "sparse_features = Pipeline([('sparse', SparseTransformer()), ])\n",
        "vectorizer = Pipeline([('tfidf', TfidfVectorizer(max_features=5)), ])"
      ]
    },
    {
      "cell_type": "code",
      "execution_count": 75,
      "metadata": {
        "colab": {
          "base_uri": "https://localhost:8080/"
        },
        "execution": {
          "iopub.execute_input": "2023-02-13T10:17:28.777638Z",
          "iopub.status.busy": "2023-02-13T10:17:28.777435Z",
          "iopub.status.idle": "2023-02-13T10:17:28.808555Z",
          "shell.execute_reply": "2023-02-13T10:17:28.808167Z",
          "shell.execute_reply.started": "2023-02-13T10:17:28.777613Z"
        },
        "id": "IPVOS1qIxhRU",
        "outputId": "6077cdae-e355-491d-b677-da346f71c371",
        "tags": []
      },
      "outputs": [
        {
          "output_type": "execute_result",
          "data": {
            "text/plain": [
              "<10x11 sparse matrix of type '<class 'numpy.float64'>'\n",
              "\twith 104 stored elements in Compressed Sparse Row format>"
            ]
          },
          "metadata": {},
          "execution_count": 75
        }
      ],
      "source": [
        "sparse_features.fit_transform(subset.iloc[:, 1:])"
      ]
    },
    {
      "cell_type": "code",
      "execution_count": 76,
      "metadata": {
        "colab": {
          "base_uri": "https://localhost:8080/"
        },
        "execution": {
          "iopub.execute_input": "2023-02-13T10:17:49.257065Z",
          "iopub.status.busy": "2023-02-13T10:17:49.256894Z",
          "iopub.status.idle": "2023-02-13T10:17:49.302946Z",
          "shell.execute_reply": "2023-02-13T10:17:49.302464Z",
          "shell.execute_reply.started": "2023-02-13T10:17:49.257047Z"
        },
        "id": "GWbCpRIqxhRU",
        "outputId": "16c36409-e462-4816-ee41-80996fff9add",
        "tags": []
      },
      "outputs": [
        {
          "output_type": "execute_result",
          "data": {
            "text/plain": [
              "<10x5 sparse matrix of type '<class 'numpy.float64'>'\n",
              "\twith 29 stored elements in Compressed Sparse Row format>"
            ]
          },
          "metadata": {},
          "execution_count": 76
        }
      ],
      "source": [
        "vectorizer.fit_transform(subset.iloc[:, 0])"
      ]
    },
    {
      "cell_type": "code",
      "execution_count": 77,
      "metadata": {
        "execution": {
          "iopub.execute_input": "2023-02-13T10:17:57.882106Z",
          "iopub.status.busy": "2023-02-13T10:17:57.881906Z",
          "iopub.status.idle": "2023-02-13T10:17:57.913264Z",
          "shell.execute_reply": "2023-02-13T10:17:57.912698Z",
          "shell.execute_reply.started": "2023-02-13T10:17:57.882088Z"
        },
        "id": "H2Odh0u8xhRU",
        "tags": []
      },
      "outputs": [],
      "source": [
        "combined_features = ColumnTransformer(\n",
        " transformers=[\n",
        "     ('tfidf', vectorizer, 'cleaned_text'),\n",
        "      ], remainder=sparse_features\n",
        "     )"
      ]
    },
    {
      "cell_type": "code",
      "execution_count": 78,
      "metadata": {
        "execution": {
          "iopub.execute_input": "2023-02-13T10:17:59.604556Z",
          "iopub.status.busy": "2023-02-13T10:17:59.604412Z",
          "iopub.status.idle": "2023-02-13T10:17:59.648661Z",
          "shell.execute_reply": "2023-02-13T10:17:59.648155Z",
          "shell.execute_reply.started": "2023-02-13T10:17:59.604539Z"
        },
        "id": "uyqJW4-sxhRV",
        "tags": []
      },
      "outputs": [],
      "source": [
        "test = combined_features.fit_transform(subset)"
      ]
    },
    {
      "cell_type": "code",
      "execution_count": 79,
      "metadata": {
        "colab": {
          "base_uri": "https://localhost:8080/"
        },
        "execution": {
          "iopub.execute_input": "2023-02-13T10:18:01.392224Z",
          "iopub.status.busy": "2023-02-13T10:18:01.392002Z",
          "iopub.status.idle": "2023-02-13T10:18:01.435861Z",
          "shell.execute_reply": "2023-02-13T10:18:01.435468Z",
          "shell.execute_reply.started": "2023-02-13T10:18:01.392199Z"
        },
        "id": "L883QbcixhRV",
        "outputId": "fddf1baf-3f8c-4be7-a5bd-e6704cdcc291",
        "tags": []
      },
      "outputs": [
        {
          "output_type": "execute_result",
          "data": {
            "text/plain": [
              "dtype('float64')"
            ]
          },
          "metadata": {},
          "execution_count": 79
        }
      ],
      "source": [
        "test.dtype"
      ]
    },
    {
      "cell_type": "markdown",
      "metadata": {
        "id": "Z_D2vt1ZxhRV"
      },
      "source": [
        "### <font color ='pickle'>**Create Final Pipeline**"
      ]
    },
    {
      "cell_type": "code",
      "execution_count": 80,
      "metadata": {
        "execution": {
          "iopub.execute_input": "2023-02-13T10:18:48.602577Z",
          "iopub.status.busy": "2023-02-13T10:18:48.602057Z",
          "iopub.status.idle": "2023-02-13T10:18:48.644135Z",
          "shell.execute_reply": "2023-02-13T10:18:48.643632Z",
          "shell.execute_reply.started": "2023-02-13T10:18:48.602555Z"
        },
        "id": "ASyHfuHCxhRV",
        "tags": []
      },
      "outputs": [],
      "source": [
        "classifier_3 = Pipeline([('combined_features',  combined_features),\n",
        "                         ('classifier', LogisticRegression(max_iter=10000)),\n",
        "                        ])"
      ]
    },
    {
      "cell_type": "code",
      "execution_count": 81,
      "metadata": {
        "colab": {
          "base_uri": "https://localhost:8080/"
        },
        "execution": {
          "iopub.execute_input": "2023-02-13T10:18:50.096239Z",
          "iopub.status.busy": "2023-02-13T10:18:50.095867Z",
          "iopub.status.idle": "2023-02-13T10:18:50.118864Z",
          "shell.execute_reply": "2023-02-13T10:18:50.118534Z",
          "shell.execute_reply.started": "2023-02-13T10:18:50.096225Z"
        },
        "id": "xb6EjEvvxhRV",
        "outputId": "86bdcdab-d055-4abe-d17a-2967aafa6c65",
        "tags": []
      },
      "outputs": [
        {
          "output_type": "execute_result",
          "data": {
            "text/plain": [
              "dict_keys(['memory', 'steps', 'verbose', 'combined_features', 'classifier', 'combined_features__n_jobs', 'combined_features__remainder__memory', 'combined_features__remainder__steps', 'combined_features__remainder__verbose', 'combined_features__remainder__sparse', 'combined_features__remainder', 'combined_features__sparse_threshold', 'combined_features__transformer_weights', 'combined_features__transformers', 'combined_features__verbose', 'combined_features__verbose_feature_names_out', 'combined_features__tfidf', 'combined_features__tfidf__memory', 'combined_features__tfidf__steps', 'combined_features__tfidf__verbose', 'combined_features__tfidf__tfidf', 'combined_features__tfidf__tfidf__analyzer', 'combined_features__tfidf__tfidf__binary', 'combined_features__tfidf__tfidf__decode_error', 'combined_features__tfidf__tfidf__dtype', 'combined_features__tfidf__tfidf__encoding', 'combined_features__tfidf__tfidf__input', 'combined_features__tfidf__tfidf__lowercase', 'combined_features__tfidf__tfidf__max_df', 'combined_features__tfidf__tfidf__max_features', 'combined_features__tfidf__tfidf__min_df', 'combined_features__tfidf__tfidf__ngram_range', 'combined_features__tfidf__tfidf__norm', 'combined_features__tfidf__tfidf__preprocessor', 'combined_features__tfidf__tfidf__smooth_idf', 'combined_features__tfidf__tfidf__stop_words', 'combined_features__tfidf__tfidf__strip_accents', 'combined_features__tfidf__tfidf__sublinear_tf', 'combined_features__tfidf__tfidf__token_pattern', 'combined_features__tfidf__tfidf__tokenizer', 'combined_features__tfidf__tfidf__use_idf', 'combined_features__tfidf__tfidf__vocabulary', 'classifier__C', 'classifier__class_weight', 'classifier__dual', 'classifier__fit_intercept', 'classifier__intercept_scaling', 'classifier__l1_ratio', 'classifier__max_iter', 'classifier__multi_class', 'classifier__n_jobs', 'classifier__penalty', 'classifier__random_state', 'classifier__solver', 'classifier__tol', 'classifier__verbose', 'classifier__warm_start'])"
            ]
          },
          "metadata": {},
          "execution_count": 81
        }
      ],
      "source": [
        "classifier_3.get_params().keys()"
      ]
    },
    {
      "cell_type": "markdown",
      "metadata": {
        "id": "pZzGjs1SxhRV"
      },
      "source": [
        "### <font color ='pickle'>**Parameter Grid**"
      ]
    },
    {
      "cell_type": "code",
      "execution_count": 82,
      "metadata": {
        "execution": {
          "iopub.execute_input": "2023-02-13T10:20:12.089893Z",
          "iopub.status.busy": "2023-02-13T10:20:12.089765Z",
          "iopub.status.idle": "2023-02-13T10:20:12.113472Z",
          "shell.execute_reply": "2023-02-13T10:20:12.113114Z",
          "shell.execute_reply.started": "2023-02-13T10:20:12.089880Z"
        },
        "id": "lVu2xd8PxhRV",
        "tags": []
      },
      "outputs": [],
      "source": [
        "# We are exploring a small combination of parameters\n",
        "# If the search space is very large then we should use RandomSerachCV or some other methods\n",
        "\n",
        "param_grid_classifier_3 = {'combined_features__tfidf__tfidf__max_features': [500, 1000, 2000],\n",
        "                           'classifier__C': [0.1, 1, 10]\n",
        "                          }"
      ]
    },
    {
      "cell_type": "markdown",
      "metadata": {
        "execution": {
          "iopub.execute_input": "2022-02-14T23:23:08.590947Z",
          "iopub.status.busy": "2022-02-14T23:23:08.590808Z",
          "iopub.status.idle": "2022-02-14T23:23:08.593523Z",
          "shell.execute_reply": "2022-02-14T23:23:08.593065Z",
          "shell.execute_reply.started": "2022-02-14T23:23:08.590934Z"
        },
        "id": "TL8Rg-bfxhRV"
      },
      "source": [
        "### <font color ='pickle'>**Specify GridSearch**"
      ]
    },
    {
      "cell_type": "code",
      "execution_count": 83,
      "metadata": {
        "execution": {
          "iopub.execute_input": "2023-02-13T10:20:19.425841Z",
          "iopub.status.busy": "2023-02-13T10:20:19.425724Z",
          "iopub.status.idle": "2023-02-13T10:20:19.449455Z",
          "shell.execute_reply": "2023-02-13T10:20:19.449112Z",
          "shell.execute_reply.started": "2023-02-13T10:20:19.425831Z"
        },
        "id": "24HEVBVkxhRW",
        "tags": []
      },
      "outputs": [],
      "source": [
        "# We will now use Gridserach to find fine tune hyperparameters using cross validation\n",
        "# the typical value of cv used is 5. We are using 3, just for demonstration.\n",
        "\n",
        "grid_classifier_3 = GridSearchCV(estimator=classifier_3,\n",
        "                                 param_grid=param_grid_classifier_3,\n",
        "                                 cv=3)"
      ]
    },
    {
      "cell_type": "markdown",
      "metadata": {
        "id": "E7UahC-RZfly"
      },
      "source": [
        "### <font color ='pickle'>**Fit the Model**"
      ]
    },
    {
      "cell_type": "code",
      "execution_count": 84,
      "metadata": {
        "colab": {
          "base_uri": "https://localhost:8080/",
          "height": 218
        },
        "execution": {
          "iopub.execute_input": "2023-02-13T10:20:23.947874Z",
          "iopub.status.busy": "2023-02-13T10:20:23.947750Z",
          "iopub.status.idle": "2023-02-13T10:20:53.278291Z",
          "shell.execute_reply": "2023-02-13T10:20:53.277975Z",
          "shell.execute_reply.started": "2023-02-13T10:20:23.947861Z"
        },
        "id": "naxAORIHxhRW",
        "outputId": "9aff2469-4e39-42d3-94c3-614c00d4acd9",
        "tags": []
      },
      "outputs": [
        {
          "output_type": "execute_result",
          "data": {
            "text/plain": [
              "GridSearchCV(cv=3,\n",
              "             estimator=Pipeline(steps=[('combined_features',\n",
              "                                        ColumnTransformer(remainder=Pipeline(steps=[('sparse',\n",
              "                                                                                     SparseTransformer())]),\n",
              "                                                          transformers=[('tfidf',\n",
              "                                                                         Pipeline(steps=[('tfidf',\n",
              "                                                                                          TfidfVectorizer(max_features=5))]),\n",
              "                                                                         'cleaned_text')])),\n",
              "                                       ('classifier',\n",
              "                                        LogisticRegression(max_iter=10000))]),\n",
              "             param_grid={'classifier__C': [0.1, 1, 10],\n",
              "                         'combined_features__tfidf__tfidf__max_features': [500,\n",
              "                                                                           1000,\n",
              "                                                                           2000]})"
            ],
            "text/html": [
              "<style>#sk-container-id-3 {color: black;background-color: white;}#sk-container-id-3 pre{padding: 0;}#sk-container-id-3 div.sk-toggleable {background-color: white;}#sk-container-id-3 label.sk-toggleable__label {cursor: pointer;display: block;width: 100%;margin-bottom: 0;padding: 0.3em;box-sizing: border-box;text-align: center;}#sk-container-id-3 label.sk-toggleable__label-arrow:before {content: \"▸\";float: left;margin-right: 0.25em;color: #696969;}#sk-container-id-3 label.sk-toggleable__label-arrow:hover:before {color: black;}#sk-container-id-3 div.sk-estimator:hover label.sk-toggleable__label-arrow:before {color: black;}#sk-container-id-3 div.sk-toggleable__content {max-height: 0;max-width: 0;overflow: hidden;text-align: left;background-color: #f0f8ff;}#sk-container-id-3 div.sk-toggleable__content pre {margin: 0.2em;color: black;border-radius: 0.25em;background-color: #f0f8ff;}#sk-container-id-3 input.sk-toggleable__control:checked~div.sk-toggleable__content {max-height: 200px;max-width: 100%;overflow: auto;}#sk-container-id-3 input.sk-toggleable__control:checked~label.sk-toggleable__label-arrow:before {content: \"▾\";}#sk-container-id-3 div.sk-estimator input.sk-toggleable__control:checked~label.sk-toggleable__label {background-color: #d4ebff;}#sk-container-id-3 div.sk-label input.sk-toggleable__control:checked~label.sk-toggleable__label {background-color: #d4ebff;}#sk-container-id-3 input.sk-hidden--visually {border: 0;clip: rect(1px 1px 1px 1px);clip: rect(1px, 1px, 1px, 1px);height: 1px;margin: -1px;overflow: hidden;padding: 0;position: absolute;width: 1px;}#sk-container-id-3 div.sk-estimator {font-family: monospace;background-color: #f0f8ff;border: 1px dotted black;border-radius: 0.25em;box-sizing: border-box;margin-bottom: 0.5em;}#sk-container-id-3 div.sk-estimator:hover {background-color: #d4ebff;}#sk-container-id-3 div.sk-parallel-item::after {content: \"\";width: 100%;border-bottom: 1px solid gray;flex-grow: 1;}#sk-container-id-3 div.sk-label:hover label.sk-toggleable__label {background-color: #d4ebff;}#sk-container-id-3 div.sk-serial::before {content: \"\";position: absolute;border-left: 1px solid gray;box-sizing: border-box;top: 0;bottom: 0;left: 50%;z-index: 0;}#sk-container-id-3 div.sk-serial {display: flex;flex-direction: column;align-items: center;background-color: white;padding-right: 0.2em;padding-left: 0.2em;position: relative;}#sk-container-id-3 div.sk-item {position: relative;z-index: 1;}#sk-container-id-3 div.sk-parallel {display: flex;align-items: stretch;justify-content: center;background-color: white;position: relative;}#sk-container-id-3 div.sk-item::before, #sk-container-id-3 div.sk-parallel-item::before {content: \"\";position: absolute;border-left: 1px solid gray;box-sizing: border-box;top: 0;bottom: 0;left: 50%;z-index: -1;}#sk-container-id-3 div.sk-parallel-item {display: flex;flex-direction: column;z-index: 1;position: relative;background-color: white;}#sk-container-id-3 div.sk-parallel-item:first-child::after {align-self: flex-end;width: 50%;}#sk-container-id-3 div.sk-parallel-item:last-child::after {align-self: flex-start;width: 50%;}#sk-container-id-3 div.sk-parallel-item:only-child::after {width: 0;}#sk-container-id-3 div.sk-dashed-wrapped {border: 1px dashed gray;margin: 0 0.4em 0.5em 0.4em;box-sizing: border-box;padding-bottom: 0.4em;background-color: white;}#sk-container-id-3 div.sk-label label {font-family: monospace;font-weight: bold;display: inline-block;line-height: 1.2em;}#sk-container-id-3 div.sk-label-container {text-align: center;}#sk-container-id-3 div.sk-container {/* jupyter's `normalize.less` sets `[hidden] { display: none; }` but bootstrap.min.css set `[hidden] { display: none !important; }` so we also need the `!important` here to be able to override the default hidden behavior on the sphinx rendered scikit-learn.org. See: https://github.com/scikit-learn/scikit-learn/issues/21755 */display: inline-block !important;position: relative;}#sk-container-id-3 div.sk-text-repr-fallback {display: none;}</style><div id=\"sk-container-id-3\" class=\"sk-top-container\"><div class=\"sk-text-repr-fallback\"><pre>GridSearchCV(cv=3,\n",
              "             estimator=Pipeline(steps=[(&#x27;combined_features&#x27;,\n",
              "                                        ColumnTransformer(remainder=Pipeline(steps=[(&#x27;sparse&#x27;,\n",
              "                                                                                     SparseTransformer())]),\n",
              "                                                          transformers=[(&#x27;tfidf&#x27;,\n",
              "                                                                         Pipeline(steps=[(&#x27;tfidf&#x27;,\n",
              "                                                                                          TfidfVectorizer(max_features=5))]),\n",
              "                                                                         &#x27;cleaned_text&#x27;)])),\n",
              "                                       (&#x27;classifier&#x27;,\n",
              "                                        LogisticRegression(max_iter=10000))]),\n",
              "             param_grid={&#x27;classifier__C&#x27;: [0.1, 1, 10],\n",
              "                         &#x27;combined_features__tfidf__tfidf__max_features&#x27;: [500,\n",
              "                                                                           1000,\n",
              "                                                                           2000]})</pre><b>In a Jupyter environment, please rerun this cell to show the HTML representation or trust the notebook. <br />On GitHub, the HTML representation is unable to render, please try loading this page with nbviewer.org.</b></div><div class=\"sk-container\" hidden><div class=\"sk-item sk-dashed-wrapped\"><div class=\"sk-label-container\"><div class=\"sk-label sk-toggleable\"><input class=\"sk-toggleable__control sk-hidden--visually\" id=\"sk-estimator-id-8\" type=\"checkbox\" ><label for=\"sk-estimator-id-8\" class=\"sk-toggleable__label sk-toggleable__label-arrow\">GridSearchCV</label><div class=\"sk-toggleable__content\"><pre>GridSearchCV(cv=3,\n",
              "             estimator=Pipeline(steps=[(&#x27;combined_features&#x27;,\n",
              "                                        ColumnTransformer(remainder=Pipeline(steps=[(&#x27;sparse&#x27;,\n",
              "                                                                                     SparseTransformer())]),\n",
              "                                                          transformers=[(&#x27;tfidf&#x27;,\n",
              "                                                                         Pipeline(steps=[(&#x27;tfidf&#x27;,\n",
              "                                                                                          TfidfVectorizer(max_features=5))]),\n",
              "                                                                         &#x27;cleaned_text&#x27;)])),\n",
              "                                       (&#x27;classifier&#x27;,\n",
              "                                        LogisticRegression(max_iter=10000))]),\n",
              "             param_grid={&#x27;classifier__C&#x27;: [0.1, 1, 10],\n",
              "                         &#x27;combined_features__tfidf__tfidf__max_features&#x27;: [500,\n",
              "                                                                           1000,\n",
              "                                                                           2000]})</pre></div></div></div><div class=\"sk-parallel\"><div class=\"sk-parallel-item\"><div class=\"sk-item\"><div class=\"sk-label-container\"><div class=\"sk-label sk-toggleable\"><input class=\"sk-toggleable__control sk-hidden--visually\" id=\"sk-estimator-id-9\" type=\"checkbox\" ><label for=\"sk-estimator-id-9\" class=\"sk-toggleable__label sk-toggleable__label-arrow\">estimator: Pipeline</label><div class=\"sk-toggleable__content\"><pre>Pipeline(steps=[(&#x27;combined_features&#x27;,\n",
              "                 ColumnTransformer(remainder=Pipeline(steps=[(&#x27;sparse&#x27;,\n",
              "                                                              SparseTransformer())]),\n",
              "                                   transformers=[(&#x27;tfidf&#x27;,\n",
              "                                                  Pipeline(steps=[(&#x27;tfidf&#x27;,\n",
              "                                                                   TfidfVectorizer(max_features=5))]),\n",
              "                                                  &#x27;cleaned_text&#x27;)])),\n",
              "                (&#x27;classifier&#x27;, LogisticRegression(max_iter=10000))])</pre></div></div></div><div class=\"sk-serial\"><div class=\"sk-item\"><div class=\"sk-serial\"><div class=\"sk-item sk-dashed-wrapped\"><div class=\"sk-label-container\"><div class=\"sk-label sk-toggleable\"><input class=\"sk-toggleable__control sk-hidden--visually\" id=\"sk-estimator-id-10\" type=\"checkbox\" ><label for=\"sk-estimator-id-10\" class=\"sk-toggleable__label sk-toggleable__label-arrow\">combined_features: ColumnTransformer</label><div class=\"sk-toggleable__content\"><pre>ColumnTransformer(remainder=Pipeline(steps=[(&#x27;sparse&#x27;, SparseTransformer())]),\n",
              "                  transformers=[(&#x27;tfidf&#x27;,\n",
              "                                 Pipeline(steps=[(&#x27;tfidf&#x27;,\n",
              "                                                  TfidfVectorizer(max_features=5))]),\n",
              "                                 &#x27;cleaned_text&#x27;)])</pre></div></div></div><div class=\"sk-parallel\"><div class=\"sk-parallel-item\"><div class=\"sk-item\"><div class=\"sk-label-container\"><div class=\"sk-label sk-toggleable\"><input class=\"sk-toggleable__control sk-hidden--visually\" id=\"sk-estimator-id-11\" type=\"checkbox\" ><label for=\"sk-estimator-id-11\" class=\"sk-toggleable__label sk-toggleable__label-arrow\">tfidf</label><div class=\"sk-toggleable__content\"><pre>cleaned_text</pre></div></div></div><div class=\"sk-serial\"><div class=\"sk-item\"><div class=\"sk-serial\"><div class=\"sk-item\"><div class=\"sk-estimator sk-toggleable\"><input class=\"sk-toggleable__control sk-hidden--visually\" id=\"sk-estimator-id-12\" type=\"checkbox\" ><label for=\"sk-estimator-id-12\" class=\"sk-toggleable__label sk-toggleable__label-arrow\">TfidfVectorizer</label><div class=\"sk-toggleable__content\"><pre>TfidfVectorizer(max_features=5)</pre></div></div></div></div></div></div></div></div><div class=\"sk-parallel-item\"><div class=\"sk-item\"><div class=\"sk-label-container\"><div class=\"sk-label sk-toggleable\"><input class=\"sk-toggleable__control sk-hidden--visually\" id=\"sk-estimator-id-13\" type=\"checkbox\" ><label for=\"sk-estimator-id-13\" class=\"sk-toggleable__label sk-toggleable__label-arrow\">remainder</label><div class=\"sk-toggleable__content\"><pre>[&#x27;count_words&#x27;, &#x27;count_characters&#x27;, &#x27;count_characters_no_space&#x27;, &#x27;avg_word_length&#x27;, &#x27;count_digits&#x27;, &#x27;count_numbers&#x27;, &#x27;noun_count&#x27;, &#x27;aux_count&#x27;, &#x27;verb_count&#x27;, &#x27;adj_count&#x27;, &#x27;ner&#x27;]</pre></div></div></div><div class=\"sk-serial\"><div class=\"sk-item\"><div class=\"sk-serial\"><div class=\"sk-item\"><div class=\"sk-estimator sk-toggleable\"><input class=\"sk-toggleable__control sk-hidden--visually\" id=\"sk-estimator-id-14\" type=\"checkbox\" ><label for=\"sk-estimator-id-14\" class=\"sk-toggleable__label sk-toggleable__label-arrow\">SparseTransformer</label><div class=\"sk-toggleable__content\"><pre>SparseTransformer()</pre></div></div></div></div></div></div></div></div></div></div><div class=\"sk-item\"><div class=\"sk-estimator sk-toggleable\"><input class=\"sk-toggleable__control sk-hidden--visually\" id=\"sk-estimator-id-15\" type=\"checkbox\" ><label for=\"sk-estimator-id-15\" class=\"sk-toggleable__label sk-toggleable__label-arrow\">LogisticRegression</label><div class=\"sk-toggleable__content\"><pre>LogisticRegression(max_iter=10000)</pre></div></div></div></div></div></div></div></div></div></div></div></div>"
            ]
          },
          "metadata": {},
          "execution_count": 84
        }
      ],
      "source": [
        "# Fit the model on training data\n",
        "grid_classifier_3.fit(X_train_final, y_train)"
      ]
    },
    {
      "cell_type": "markdown",
      "metadata": {
        "id": "YVvKJ5KJZflz"
      },
      "source": [
        "### <font color ='pickle'>**Get Best Params**"
      ]
    },
    {
      "cell_type": "code",
      "execution_count": 85,
      "metadata": {
        "colab": {
          "base_uri": "https://localhost:8080/"
        },
        "execution": {
          "iopub.execute_input": "2023-02-13T10:20:53.306313Z",
          "iopub.status.busy": "2023-02-13T10:20:53.306242Z",
          "iopub.status.idle": "2023-02-13T10:20:53.331344Z",
          "shell.execute_reply": "2023-02-13T10:20:53.331090Z",
          "shell.execute_reply.started": "2023-02-13T10:20:53.306304Z"
        },
        "id": "oN5U80hExhRW",
        "outputId": "8860d8e0-3d19-4f80-f164-2590f6f9be4a",
        "tags": []
      },
      "outputs": [
        {
          "output_type": "stream",
          "name": "stdout",
          "text": [
            "Best cross-validation score: 0.84\n",
            "\n",
            "Best parameters:  {'classifier__C': 10, 'combined_features__tfidf__tfidf__max_features': 2000}\n",
            "\n",
            "Best estimator:  Pipeline(steps=[('combined_features',\n",
            "                 ColumnTransformer(remainder=Pipeline(steps=[('sparse',\n",
            "                                                              SparseTransformer())]),\n",
            "                                   transformers=[('tfidf',\n",
            "                                                  Pipeline(steps=[('tfidf',\n",
            "                                                                   TfidfVectorizer(max_features=2000))]),\n",
            "                                                  'cleaned_text')])),\n",
            "                ('classifier', LogisticRegression(C=10, max_iter=10000))])\n"
          ]
        }
      ],
      "source": [
        "print(\"Best cross-validation score: {:.2f}\".format(grid_classifier_3.best_score_))\n",
        "print(\"\\nBest parameters: \", grid_classifier_3.best_params_)\n",
        "print(\"\\nBest estimator: \", grid_classifier_3.best_estimator_)"
      ]
    },
    {
      "cell_type": "markdown",
      "metadata": {
        "id": "lHj4aRLkZflz"
      },
      "source": [
        "### <font color ='pickle'>**Save Model**"
      ]
    },
    {
      "cell_type": "code",
      "execution_count": 86,
      "metadata": {
        "execution": {
          "iopub.execute_input": "2023-02-13T10:20:53.332031Z",
          "iopub.status.busy": "2023-02-13T10:20:53.331955Z",
          "iopub.status.idle": "2023-02-13T10:20:53.350222Z",
          "shell.execute_reply": "2023-02-13T10:20:53.349966Z",
          "shell.execute_reply.started": "2023-02-13T10:20:53.332021Z"
        },
        "tags": [],
        "id": "Du1K0jfJZflz"
      },
      "outputs": [],
      "source": [
        "file_best_estimator_pipeline3_round1 = model_folder / 'pipeline3_round1_best_estimator.pkl'\n",
        "file_complete_grid_pipeline3_round1 = model_folder / 'pipeline3_round1_complete_grid.pkl'"
      ]
    },
    {
      "cell_type": "code",
      "execution_count": 87,
      "metadata": {
        "colab": {
          "base_uri": "https://localhost:8080/"
        },
        "execution": {
          "iopub.execute_input": "2023-02-13T10:20:53.350638Z",
          "iopub.status.busy": "2023-02-13T10:20:53.350569Z",
          "iopub.status.idle": "2023-02-13T10:20:53.481293Z",
          "shell.execute_reply": "2023-02-13T10:20:53.480968Z",
          "shell.execute_reply.started": "2023-02-13T10:20:53.350629Z"
        },
        "outputId": "19d8effe-e635-4261-e90b-dd7baf31de03",
        "tags": [],
        "id": "nUtxMTpGZflz"
      },
      "outputs": [
        {
          "output_type": "execute_result",
          "data": {
            "text/plain": [
              "['/content/drive/MyDrive/data/models/nlp_spring_2023/imdb/pipeline3_round1_complete_grid.pkl']"
            ]
          },
          "metadata": {},
          "execution_count": 87
        }
      ],
      "source": [
        "joblib.dump(grid_classifier_3.best_estimator_, file_best_estimator_pipeline3_round1)\n",
        "joblib.dump(grid_classifier_3, file_complete_grid_pipeline3_round1)"
      ]
    },
    {
      "cell_type": "markdown",
      "metadata": {
        "id": "90V3kRjBZflz"
      },
      "source": [
        "### <font color ='pickle'>**Load Saved Model**"
      ]
    },
    {
      "cell_type": "code",
      "execution_count": 88,
      "metadata": {
        "execution": {
          "iopub.execute_input": "2023-02-13T10:21:00.720622Z",
          "iopub.status.busy": "2023-02-13T10:21:00.720508Z",
          "iopub.status.idle": "2023-02-13T10:21:00.800720Z",
          "shell.execute_reply": "2023-02-13T10:21:00.800392Z",
          "shell.execute_reply.started": "2023-02-13T10:21:00.720611Z"
        },
        "tags": [],
        "id": "V2ZCd3iYZflz"
      },
      "outputs": [],
      "source": [
        "# load the saved model\n",
        "best_estimator_pipeline3_round1 = joblib.load(file_best_estimator_pipeline3_round1)\n",
        "complete_grid_pipeline3_round1 = joblib.load(file_complete_grid_pipeline3_round1)"
      ]
    },
    {
      "cell_type": "markdown",
      "metadata": {
        "id": "S8NP-FlJZflz"
      },
      "source": [
        "### <font color ='pickle'>**Plot Learning Curve**"
      ]
    },
    {
      "cell_type": "code",
      "execution_count": 89,
      "metadata": {
        "colab": {
          "base_uri": "https://localhost:8080/",
          "height": 349
        },
        "execution": {
          "iopub.execute_input": "2023-02-13T10:21:21.699022Z",
          "iopub.status.busy": "2023-02-13T10:21:21.698900Z",
          "iopub.status.idle": "2023-02-13T10:21:26.744107Z",
          "shell.execute_reply": "2023-02-13T10:21:26.743334Z",
          "shell.execute_reply.started": "2023-02-13T10:21:21.699011Z"
        },
        "outputId": "4ca6a679-ef5e-4e53-f74d-83e6a896e230",
        "tags": [],
        "id": "3C4dbX9pZflz"
      },
      "outputs": [
        {
          "output_type": "execute_result",
          "data": {
            "text/plain": [
              "<module 'matplotlib.pyplot' from '/usr/local/lib/python3.10/dist-packages/matplotlib/pyplot.py'>"
            ]
          },
          "metadata": {},
          "execution_count": 89
        },
        {
          "output_type": "display_data",
          "data": {
            "text/plain": [
              "<Figure size 2000x500 with 3 Axes>"
            ],
            "image/png": "[encoded data removed]"
          },
          "metadata": {}
        }
      ],
      "source": [
        "# plot learning curces\n",
        "plot_learning_curve(best_estimator_pipeline3_round1, 'Learning Curves',\n",
        "                    X_train_final, y_train, n_jobs=-1)"
      ]
    },
    {
      "cell_type": "markdown",
      "metadata": {
        "execution": {
          "iopub.execute_input": "2021-09-12T20:06:00.279963Z",
          "iopub.status.busy": "2021-09-12T20:06:00.279831Z",
          "iopub.status.idle": "2021-09-12T20:06:00.283105Z",
          "shell.execute_reply": "2021-09-12T20:06:00.282566Z",
          "shell.execute_reply.started": "2021-09-12T20:06:00.279950Z"
        },
        "id": "B5f8GAfyxhRX"
      },
      "source": [
        "<font color ='indianred'>**Observations**\n",
        "<br></font>\n",
        "Clearly there is <font color ='indianred'>**overfitting**</font>. In case of overfitting we can improve results by\n",
        "\n",
        "1. Adding more data (training model on complete dataset)\n",
        "2. By hyperparameter tuning (reduce model complexity) of logistic regression and vectorizer."
      ]
    },
    {
      "cell_type": "markdown",
      "metadata": {
        "id": "CTH0EEEAZflz"
      },
      "source": [
        "### <font color = 'pickle'>**Check Cross Validation Score and Train Score**"
      ]
    },
    {
      "cell_type": "code",
      "execution_count": 90,
      "metadata": {
        "colab": {
          "base_uri": "https://localhost:8080/"
        },
        "execution": {
          "iopub.execute_input": "2023-02-13T10:21:33.394326Z",
          "iopub.status.busy": "2023-02-13T10:21:33.394203Z",
          "iopub.status.idle": "2023-02-13T10:21:33.519459Z",
          "shell.execute_reply": "2023-02-13T10:21:33.518835Z",
          "shell.execute_reply.started": "2023-02-13T10:21:33.394314Z"
        },
        "outputId": "94bcb1a1-b843-4195-928f-ec2105125fd9",
        "tags": [],
        "id": "pys66dSeZfl0"
      },
      "outputs": [
        {
          "output_type": "stream",
          "name": "stdout",
          "text": [
            "0.9752\n",
            "0.8432025088212743\n"
          ]
        }
      ],
      "source": [
        "# let's check the train scores\n",
        "print(best_estimator_pipeline3_round1.score(X_train_final, y_train))\n",
        "\n",
        "# let's check the cross validation score\n",
        "print(complete_grid_pipeline3_round1.best_score_)"
      ]
    },
    {
      "cell_type": "markdown",
      "metadata": {
        "id": "lrUzDQ_0xhRY"
      },
      "source": [
        "### <font color ='pickle'>**Evaluate model on test datset**"
      ]
    },
    {
      "cell_type": "code",
      "execution_count": 91,
      "metadata": {
        "execution": {
          "iopub.execute_input": "2023-02-13T10:21:37.498906Z",
          "iopub.status.busy": "2023-02-13T10:21:37.498738Z",
          "iopub.status.idle": "2023-02-13T10:21:37.540800Z",
          "shell.execute_reply": "2023-02-13T10:21:37.540086Z",
          "shell.execute_reply.started": "2023-02-13T10:21:37.498894Z"
        },
        "tags": [],
        "colab": {
          "base_uri": "https://localhost:8080/"
        },
        "id": "buECuZxFZfl0",
        "outputId": "6d2c10b4-02b4-432c-d658-78216677eb4d"
      },
      "outputs": [
        {
          "output_type": "execute_result",
          "data": {
            "text/plain": [
              "(2500,)"
            ]
          },
          "metadata": {},
          "execution_count": 91
        }
      ],
      "source": [
        "X_test.shape"
      ]
    },
    {
      "cell_type": "code",
      "execution_count": 92,
      "metadata": {
        "execution": {
          "iopub.execute_input": "2023-02-13T10:21:59.053165Z",
          "iopub.status.busy": "2023-02-13T10:21:59.052994Z",
          "iopub.status.idle": "2023-02-13T10:21:59.095887Z",
          "shell.execute_reply": "2023-02-13T10:21:59.095152Z",
          "shell.execute_reply.started": "2023-02-13T10:21:59.053146Z"
        },
        "id": "rHYhi0-0xhRY",
        "tags": []
      },
      "outputs": [],
      "source": [
        "# Final Pipeline\n",
        "def final_pipeline(text):\n",
        "    # X_test_cleaned = cp.SpacyPreprocessor(model='en_core_web_sm').transform(text)\n",
        "    cleaned_text = joblib.load(file_X_test_cleaned_sparse_embed)\n",
        "    X_features, feature_names = featurizer.fit_transform(text)\n",
        "    X_final = pd.concat((pd.DataFrame(cleaned_text, columns=['cleaned_text']),\n",
        "                         pd.DataFrame(X_features, columns=feature_names)), axis=1)\n",
        "    best_estimator_pipeline3_round1 = joblib.load(file_best_estimator_pipeline3_round1)\n",
        "    predictions = best_estimator_pipeline3_round1.predict(X_final)\n",
        "    return predictions"
      ]
    },
    {
      "cell_type": "code",
      "execution_count": 93,
      "metadata": {
        "execution": {
          "iopub.execute_input": "2023-02-13T10:22:02.591418Z",
          "iopub.status.busy": "2023-02-13T10:22:02.591184Z",
          "iopub.status.idle": "2023-02-13T10:22:35.176107Z",
          "shell.execute_reply": "2023-02-13T10:22:35.175610Z",
          "shell.execute_reply.started": "2023-02-13T10:22:02.591392Z"
        },
        "id": "oUnqhze8xhRZ",
        "tags": [],
        "colab": {
          "base_uri": "https://localhost:8080/"
        },
        "outputId": "e79beb31-9e71-4804-d2a8-3dd899353eca"
      },
      "outputs": [
        {
          "output_type": "stream",
          "name": "stderr",
          "text": [
            "/content/drive/MyDrive/data/custom-functions/custom_preprocessor_mod.py:90: MarkupResemblesLocatorWarning: The input looks more like a filename than markup. You may want to open this file and pass the filehandle into Beautiful Soup.\n",
            "  soup = BeautifulSoup(text, \"html.parser\")\n"
          ]
        }
      ],
      "source": [
        "# predicted values for Test data set\n",
        "y_test_pred = final_pipeline(X_test)"
      ]
    },
    {
      "cell_type": "markdown",
      "metadata": {
        "id": "ezm9KO1TxhRZ"
      },
      "source": [
        "### <font color ='pickle'>**Classification report for test dataset**"
      ]
    },
    {
      "cell_type": "code",
      "execution_count": 94,
      "metadata": {
        "colab": {
          "base_uri": "https://localhost:8080/"
        },
        "execution": {
          "iopub.execute_input": "2023-02-13T10:22:35.213185Z",
          "iopub.status.busy": "2023-02-13T10:22:35.213004Z",
          "iopub.status.idle": "2023-02-13T10:22:35.236129Z",
          "shell.execute_reply": "2023-02-13T10:22:35.235801Z",
          "shell.execute_reply.started": "2023-02-13T10:22:35.213172Z"
        },
        "id": "EcuyniqsxhRZ",
        "outputId": "27bf9e67-938d-4730-dc53-3a9b77c577d7",
        "tags": []
      },
      "outputs": [
        {
          "output_type": "stream",
          "name": "stdout",
          "text": [
            "\n",
            "Test set classification report:\n",
            "\n",
            "               precision    recall  f1-score   support\n",
            "\n",
            "           0       0.83      0.81      0.82      1214\n",
            "           1       0.82      0.85      0.84      1286\n",
            "\n",
            "    accuracy                           0.83      2500\n",
            "   macro avg       0.83      0.83      0.83      2500\n",
            "weighted avg       0.83      0.83      0.83      2500\n",
            "\n"
          ]
        }
      ],
      "source": [
        "print('\\nTest set classification report:\\n\\n', classification_report(y_test, y_test_pred ))"
      ]
    }
  ],
  "metadata": {
    "colab": {
      "provenance": [],
      "toc_visible": true
    },
    "kernelspec": {
      "display_name": "Python 3 (ipykernel)",
      "language": "python",
      "name": "python3"
    },
    "language_info": {
      "codemirror_mode": {
        "name": "ipython",
        "version": 3
      },
      "file_extension": ".py",
      "mimetype": "text/x-python",
      "name": "python",
      "nbconvert_exporter": "python",
      "pygments_lexer": "ipython3",
      "version": "3.10.9"
    },
    "toc-autonumbering": false
  },
  "nbformat": 4,
  "nbformat_minor": 0
}